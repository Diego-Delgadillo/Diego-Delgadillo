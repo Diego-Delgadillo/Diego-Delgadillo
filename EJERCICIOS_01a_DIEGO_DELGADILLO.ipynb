{
  "cells": [
    {
      "cell_type": "markdown",
      "metadata": {
        "id": "view-in-github",
        "colab_type": "text"
      },
      "source": [
        "<a href=\"https://colab.research.google.com/github/Diego-Delgadillo/Diego-Delgadillo/blob/main/EJERCICIOS_01a_DIEGO_DELGADILLO.ipynb\" target=\"_parent\"><img src=\"https://colab.research.google.com/assets/colab-badge.svg\" alt=\"Open In Colab\"/></a>"
      ]
    },
    {
      "cell_type": "markdown",
      "metadata": {
        "id": "_09u9kttO4_u"
      },
      "source": [
        "#**EJERCICIOS01a - DIEGO RICARDO DELGADILLO GÓMEZ =D**"
      ]
    },
    {
      "cell_type": "markdown",
      "metadata": {
        "id": "lYRqhUS3yHP0"
      },
      "source": [
        "# 1. Escribe un programa en Python que pida al usuario su nombre y edad. Muestra un mensaje que diga: \"Hola [Nombre], tienes [Edad] años\""
      ]
    },
    {
      "cell_type": "code",
      "execution_count": null,
      "metadata": {
        "colab": {
          "base_uri": "https://localhost:8080/"
        },
        "id": "OGpHgR2wx4Sz",
        "outputId": "905e27cb-5f44-4d0d-d61e-51f39df33393"
      },
      "outputs": [
        {
          "name": "stdout",
          "output_type": "stream",
          "text": [
            "Ingresa tu nombre ->diego\n",
            "Ingresa tu edad ->199\n",
            "Hola \u001b[34m diego \u001b[0m tienes\u001b[33m 199 \u001b[0maños =D\n"
          ]
        }
      ],
      "source": [
        "#solicita entrada de nombre\n",
        "name = str(input(\"Ingresa tu nombre ->\"))\n",
        "#solicita entrada de edad\n",
        "age = str(input(\"Ingresa tu edad ->\"))\n",
        "print(\"Hola \\x1b[34m\", name, \"\\x1b[0m tienes\\x1b[33m\", age, \"\\x1b[0maños =D\")"
      ]
    },
    {
      "cell_type": "markdown",
      "metadata": {
        "id": "Lwjfk0-z0VAk"
      },
      "source": [
        "##2. Escribe un programa en Python que calcule el área de un rectángulo. Pide al usuario que ingrese la longitud y el ancho del rectángulo, luego calcula y muestra el área"
      ]
    },
    {
      "cell_type": "code",
      "execution_count": null,
      "metadata": {
        "colab": {
          "base_uri": "https://localhost:8080/"
        },
        "id": "Yei4IRNd0YDL",
        "outputId": "3d54ade3-1c4d-46dd-dfc2-cc294ee222df"
      },
      "outputs": [
        {
          "name": "stdout",
          "output_type": "stream",
          "text": [
            "Ingresa la longitud del rectangulo ->10\n",
            "Ingresa el ancho del rectangulo ->5\n",
            "El area del rectangulo es -> \u001b[33m 50.0 \u001b[0m\n"
          ]
        }
      ],
      "source": [
        "#Solicita entrada de longitud\n",
        "longitud = float(input(\"Ingresa la longitud del rectangulo ->\"))\n",
        "#Solicita entrada de ancho\n",
        "ancho = float(input(\"Ingresa el ancho del rectangulo ->\"))\n",
        "#Calcula el area del rectangulo\n",
        "area = longitud * ancho\n",
        "print(\"El area del rectangulo es -> \\x1b[33m\", area, \"\\x1b[0m\")"
      ]
    },
    {
      "cell_type": "markdown",
      "metadata": {
        "id": "ID9DmAkX0Sgj"
      },
      "source": []
    },
    {
      "cell_type": "markdown",
      "metadata": {
        "id": "hCWtBhM21Ivb"
      },
      "source": [
        "##3. Escribe un programa en Python que convierta una temperatura de Celsius a Fahrenheit. Pide al usuario que ingrese la temperatura en Celsius y muestra la temperatura equivalente en Fahrenheit"
      ]
    },
    {
      "cell_type": "code",
      "execution_count": null,
      "metadata": {
        "colab": {
          "base_uri": "https://localhost:8080/"
        },
        "id": "eqN5ZBda15TD",
        "outputId": "16c38381-b2b6-4807-87ce-cf6d73b6a667"
      },
      "outputs": [
        {
          "name": "stdout",
          "output_type": "stream",
          "text": [
            "Ingresa la temperatura en °C ->20\n",
            "La temperatura en °F es -> \u001b[33m 68.0 \u001b[0m\n"
          ]
        }
      ],
      "source": [
        "#Solicita entrada de temperatura °C\n",
        "celsius = float(input(\"Ingresa la temperatura en °C ->\"))\n",
        "#Calcula la temperatura en °F\n",
        "fahrenheit = (celsius * 9/5) + 32\n",
        "print(\"La temperatura en °F es -> \\x1b[33m\", fahrenheit, \"\\x1b[0m\")"
      ]
    },
    {
      "cell_type": "markdown",
      "metadata": {
        "id": "YImiQaR-2bXV"
      },
      "source": [
        "##4. Escribe un programa en Python que calcule la suma de todos los números desde 1 hasta un número dado. Pide al usuario que ingrese un número y muestre el resultado de la suma"
      ]
    },
    {
      "cell_type": "code",
      "execution_count": null,
      "metadata": {
        "colab": {
          "base_uri": "https://localhost:8080/"
        },
        "id": "ODDikorD2OMH",
        "outputId": "7776a9e8-1125-4e0f-d3f8-2b2f15c36ce8"
      },
      "outputs": [
        {
          "name": "stdout",
          "output_type": "stream",
          "text": [
            "Ingresa un número ->De\n",
            "\n",
            "Ingrese un número entero!\n",
            "\n",
            "Ingresa un número ->23\n",
            "\n",
            "La suma de los elementos desde 0 hasta 23 es -> 276\n"
          ]
        }
      ],
      "source": [
        "#Solicita entrada del número\n",
        "#Nota: se coloco un filtro para evitar que el usuario ingrese solo un numero entero\n",
        "suma = 0\n",
        "\n",
        "while True:\n",
        "  try:\n",
        "    n = int(input(\"Ingresa un número ->\"))\n",
        "    break\n",
        "  except ValueError:\n",
        "          print(\"\\nIngrese un número entero!\\n\")\n",
        "\n",
        "#Con un bucle for realizo una sumatoria\n",
        "for i in range (0,n+1):\n",
        "  suma = suma + i\n",
        "\n",
        "#Muestra la sumatoria\n",
        "print(f\"\\nLa suma de los elementos desde 0 hasta {n} es -> {suma}\")"
      ]
    },
    {
      "cell_type": "markdown",
      "metadata": {
        "id": "tXrncSfz4shT"
      },
      "source": [
        "##5. Escribe un programa en Python que verifique si un número entero dado es una potencia de dos utilizando operaciones a nivel de bits"
      ]
    },
    {
      "cell_type": "code",
      "execution_count": null,
      "metadata": {
        "colab": {
          "base_uri": "https://localhost:8080/"
        },
        "id": "N_chRt503lXu",
        "outputId": "b5183218-12a8-4578-84ab-db490c8222a9"
      },
      "outputs": [
        {
          "output_type": "stream",
          "name": "stdout",
          "text": [
            "Ingresa un número -> 3\n",
            "El numero 3 no es potencia de dos!\n"
          ]
        }
      ],
      "source": [
        "#Solicita entrada de numero entero\n",
        "\n",
        "while True:\n",
        "  try:\n",
        "    n = int(input(\"Ingresa un número -> \"))\n",
        "    break\n",
        "  except ValueError:\n",
        "          print(\"\\nIngresa un número entero!\\n\")\n",
        "\n",
        "#Encontramos si es potencia de dde dos o binario\n",
        "a = (n & n-1)\n",
        "\n",
        "if a ==0:\n",
        "   print(f\"\\x1b[34m El numero {n} es potencia de dos!\\x1b[0m\")\n",
        "else:\n",
        "  print(f\"El numero {n} no es potencia de dos!\")"
      ]
    },
    {
      "cell_type": "markdown",
      "metadata": {
        "id": "jmv-ArRvQj6w"
      },
      "source": [
        "##6. Escribe un programa en Python que encuentre el número más grande entre dos enteros sin utilizar el operador de comparación (mayor que, menor que)"
      ]
    },
    {
      "cell_type": "code",
      "execution_count": null,
      "metadata": {
        "colab": {
          "base_uri": "https://localhost:8080/"
        },
        "id": "ESAyXtSTNfp9",
        "outputId": "4cf1629e-552b-446b-bdf3-4a50b0ac39d5"
      },
      "outputs": [
        {
          "output_type": "stream",
          "name": "stdout",
          "text": [
            "Ingresa el primer número -> 2\n",
            "\n",
            "Ingresa el segundo número ->6\n",
            "False True\n",
            "\n",
            "El número mayor es -> \u001b[33m 6 \u001b[0m\n"
          ]
        }
      ],
      "source": [
        "#Solicita el numero 1\n",
        "while True:\n",
        "     try:\n",
        "         n1 = int(input(f\"Ingresa el primer número -> \"))\n",
        "         break\n",
        "     except ValueError:\n",
        "         print(\"fIngresa un número entero!\\n\")\n",
        "\n",
        "#Solicita el segundo numero\n",
        "while True:\n",
        "      try:\n",
        "        n2 = int((input(f\"\\nIngresa el segundo número ->\")))\n",
        "        break\n",
        "      except ValueError:\n",
        "        print(f\"\\nIngresa un número entero!\")\n",
        "\n",
        "#Utilizamos la técnica de convertir una tipo de dato a otro (cast) para convertir en este caso de el cociente de ambos números a un bool\n",
        "#si la división de n1/n2 despues de operar devuelve 1 si n1 > n2 y devuelve cero si n1 < n2\n",
        "#si la división de n2/n1 despues de operar devuelve 1 si n2 > n1 y devuelve cero si n2 < n1\n",
        "\n",
        "resultado = n1 * (bool(int(n1/n2))) + n2 * (bool(int(n2/n1)))\n",
        "\n",
        "#Estas lineas son para comprobar lo descrito arriba\n",
        "r1 = (bool(int(n1/n2)))\n",
        "r2 = (bool(int(n2/n1)))\n",
        "print(f\"{r1} {r2}\")\n",
        "\n",
        "print(f\"\\nEl número mayor es -> \\x1b[33m {resultado} \\x1b[0m\")"
      ]
    },
    {
      "cell_type": "markdown",
      "source": [
        "##7. Escribe un programa en Python que pida al usuario que ingrese una frase y cuente la cantidad de vocales en la frase. Mostrar la cantidad de vocales"
      ],
      "metadata": {
        "id": "Er94B4Zmpch8"
      }
    },
    {
      "cell_type": "code",
      "source": [
        "#Solicita entra de cadena\n",
        "palabra = (input(\"Ingresa una frase -> \"))\n",
        "print(f\"{palabra}\")\n",
        "\n",
        "contador = 0\n",
        "\n",
        "#Bucle para analizar cada letra de la cadena\n",
        "for letras in palabra:\n",
        "  #Convierte las letras a minusculas y analiza si está en la cadena de minusculas\n",
        "  if letras.lower() in \"aeiouáéíóú\":\n",
        "    contador += 1\n",
        "\n",
        "print(f\"\\nLa palabra \\x1b[33m{palabra}\\x1b[0m tiene -> \\x1b[34m{contador}\\x1b[0m vocales\")\n",
        "print(type(letras))"
      ],
      "metadata": {
        "id": "mOkLkmEzfq7V",
        "colab": {
          "base_uri": "https://localhost:8080/"
        },
        "outputId": "013e55a8-21b7-4656-e9ab-df6024e4c5e7"
      },
      "execution_count": null,
      "outputs": [
        {
          "output_type": "stream",
          "name": "stdout",
          "text": [
            "Ingresa una frase -> hola\n",
            "hola\n",
            "\n",
            "La palabra \u001b[33mhola\u001b[0m tiene -> \u001b[34m2\u001b[0m vocales\n",
            "<class 'str'>\n"
          ]
        }
      ]
    },
    {
      "cell_type": "markdown",
      "source": [
        "##8. Programa que indique si al ingresar un número entero positivo N, este es par o impar (tomar en consideración la restricción de que solo permita ingresar un número entero y positivo, estarestricción debe de incluirse en los ejercicios donde sea necesaria)"
      ],
      "metadata": {
        "id": "wpf67e-f6yoL"
      }
    },
    {
      "cell_type": "code",
      "source": [
        "#Creamos una funcion para ver si un núnero es par o no\n",
        "def par(n):\n",
        "   if ((n % 2)== 0):return True\n",
        "   else: return False\n",
        "#Utilizamos un filtro para almacenar el número\n",
        "\n",
        "while True:\n",
        "  try:\n",
        "    n = int(input(\"Ingresa un número entero -> \"))\n",
        "    break\n",
        "  except ValueError:\n",
        "    print(\"\\nIngresa un número entero positivo!\")\n",
        "\n",
        "#llamo a la funcion\n",
        "if par(n):\n",
        "  print(f\"El numero \\x1b[33m{n}\\x1b[0m \\x1b[32m es par =D\\x1b[0m\")\n",
        "else:\n",
        "  print(f\"El numero \\x1b[33m{n}\\x1b[0m \\x1b[31m no es par =(\\x1b[0m\")"
      ],
      "metadata": {
        "colab": {
          "base_uri": "https://localhost:8080/"
        },
        "id": "srk2gl4C2j0W",
        "outputId": "f834abc9-de63-4edd-f006-b501d3bb3829"
      },
      "execution_count": null,
      "outputs": [
        {
          "output_type": "stream",
          "name": "stdout",
          "text": [
            "Ingresa un número entero -> 7\n",
            "El numero \u001b[33m7\u001b[0m \u001b[31m no es par =(\u001b[0m\n"
          ]
        }
      ]
    },
    {
      "cell_type": "markdown",
      "source": [
        "##9. Programa que muestre la tabla de multiplicar de un número entero positivo N dado por el usuario(mostrar la tabla del 1 al 10 con un formato adecuado de tabla), almacenar los datos como un diccionario, donde se tenga el número a multiplicar y el resultado"
      ],
      "metadata": {
        "id": "SU2-uwHB_OXq"
      }
    },
    {
      "cell_type": "markdown",
      "source": [],
      "metadata": {
        "id": "4qqGXE4Svj-Y"
      }
    },
    {
      "cell_type": "code",
      "source": [
        "#Utilizamos un filtro para almacenar el número\n",
        "\n",
        "while True:\n",
        "  try:\n",
        "    n = int(input(\"Ingresa un número entero -> \"))\n",
        "    break\n",
        "  except ValueError:\n",
        "    print(\"\\nIngresa un número entero positivo!\")\n",
        "\n",
        "print(f\"\\nEsta es la tabla del número \\x1b[33m{n}\\x1b[0m \\n\")\n",
        "\n",
        "\n",
        "#Creamo un diccionario vacío\n",
        "tabla= {}\n",
        "\n",
        "#Ajustamos la cantidad de valores y keys de nuestro diccionario\n",
        "keys = list(range(11))\n",
        "values = list(range(11))\n",
        "\n",
        "#Creamos un bucle para almacenar cada uno de los datos\n",
        "for i in range(len(keys)):\n",
        "\n",
        "  #Da el formato para imprimir\n",
        "  keys[i] = (f\"{n} * {i} ->\")\n",
        "  #Asigna en la posicion i y realiza la operación de multiplicacion\n",
        "  values[i]= i*n\n",
        "  #En la key \"i\" asigna los valores\n",
        "  tabla[keys[i]] = values[i]\n",
        "\n",
        "#Imprime los valores de la tabla\n",
        "for i, x in tabla.items():\n",
        "  print(i,x)"
      ],
      "metadata": {
        "colab": {
          "base_uri": "https://localhost:8080/"
        },
        "id": "vw3YRynE9gFC",
        "outputId": "6d9a3a33-63a5-40ca-d50b-782e25735e64"
      },
      "execution_count": null,
      "outputs": [
        {
          "output_type": "stream",
          "name": "stdout",
          "text": [
            "Ingresa un número entero -> 90\n",
            "\n",
            "Esta es la tabla del número \u001b[33m90\u001b[0m \n",
            "\n",
            "90 * 0 -> 0\n",
            "90 * 1 -> 90\n",
            "90 * 2 -> 180\n",
            "90 * 3 -> 270\n",
            "90 * 4 -> 360\n",
            "90 * 5 -> 450\n",
            "90 * 6 -> 540\n",
            "90 * 7 -> 630\n",
            "90 * 8 -> 720\n",
            "90 * 9 -> 810\n",
            "90 * 10 -> 900\n"
          ]
        }
      ]
    },
    {
      "cell_type": "markdown",
      "source": [
        "##10. Programa que indique si al ingresar un año como un número entero positivo N mayor a cero, estesea o no bisiesto. Un año es bisiesto si es múltiplo de 4, exceptuando los múltiplos de 100, que sólo son bisiestos cuando son múltiplos además de 400, por ejemplo, el año 1900 no fue bisiesto, pero el año 2000 si lo es"
      ],
      "metadata": {
        "id": "AhJJvU7wvlqA"
      }
    },
    {
      "cell_type": "code",
      "source": [
        "#Filtro para ingresar solamente números enteros\n",
        "\n",
        "while True:\n",
        "    try:\n",
        "      n = int(input(\"Ingresa un número entero -> \"))\n",
        "      if(n == 0):\n",
        "        print(f\"Ingresa un número mayor a cero!\")\n",
        "        continue\n",
        "      break\n",
        "    except ValueError:\n",
        "      print(f\"\\nIngresa un número entero!\")\n",
        "\n",
        "\n",
        "#Determinamos si es un año bisiesto:\n",
        "\n",
        "\"\"\"\n",
        "def bisiesto(n):\n",
        "  #Evalúa la condición para ver si es un año bisiesto o no\n",
        "  if(n % 400 == 0) or (n % 4 == 0 and n % 100 != 0):\n",
        "    return f\"El año \\x1b[32m {n} \\x1b[0m sí es un año bisiesto!\"\n",
        "  else:\n",
        "    return f\"El año \\x1b[31m{n}\\x1b[0m no es un año bisiesto!\"\n",
        "\"\"\"\n",
        "\n",
        "def bisiesto(n):\n",
        "    if (n % 400 == 0) or (n % 4 == 0 and n % 100 != 0):\n",
        "        print(f\"El año \\x1b[32m{n}\\x1b[0m sí es un año bisiesto!\")\n",
        "        return 1\n",
        "    else:\n",
        "        print(f\"El año \\x1b[31m{n}\\x1b[0m no es un año bisiesto!\")\n",
        "        return 0\n",
        "\n",
        "#Llamo a la función\n",
        "bisiesto(n)\n"
      ],
      "metadata": {
        "id": "pRgRIX-qCV7C",
        "colab": {
          "base_uri": "https://localhost:8080/"
        },
        "outputId": "cd792293-ed53-4b37-a304-2f4980b58488"
      },
      "execution_count": null,
      "outputs": [
        {
          "output_type": "stream",
          "name": "stdout",
          "text": [
            "Ingresa un número entero -> 0\n",
            "Ingresa un número mayor a cero!\n",
            "Ingresa un número entero -> lol\n",
            "\n",
            "Ingresa un número entero!\n",
            "Ingresa un número entero -> didiid\n",
            "\n",
            "Ingresa un número entero!\n",
            "Ingresa un número entero -> 2\n",
            "El año \u001b[31m2\u001b[0m no es un año bisiesto!\n"
          ]
        },
        {
          "output_type": "execute_result",
          "data": {
            "text/plain": [
              "0"
            ]
          },
          "metadata": {},
          "execution_count": 64
        }
      ]
    },
    {
      "cell_type": "markdown",
      "source": [
        "##11. Escribir un programa que pida al usuario un número entero y muestre en pantalla un triángulo como el siguiente (número ingresado 5):\n",
        "###1\n",
        "###3 1\n",
        "###5 3 1\n",
        "###7 5 3 1\n",
        "###9 7 5 3 1"
      ],
      "metadata": {
        "id": "MegFpmfd34TJ"
      }
    },
    {
      "cell_type": "code",
      "source": [
        "#Utilizamos un filtro para ingresar solo numeros enteros\n",
        "while True:\n",
        "    try:\n",
        "      n = int(input(\"Ingresa un número entero -> \"))\n",
        "      if(n == 0):\n",
        "        print(f\"\\nIngresa un número mayor a cero!\\n\")\n",
        "        continue\n",
        "      break\n",
        "    except ValueError:\n",
        "      print(f\"\\nIngresa un número entero!\")\n",
        "\n",
        "print(\"\\n\")\n",
        "\n",
        "#Creamos una nueva lista\n",
        "lista = []\n",
        "\n",
        "#Creamos un ciclo for para rellenar la lista\n",
        "\n",
        "#Comienza en 1, hasta *2  y aumenta en un paso de 2\n",
        "for i in range(1,n*2,2):\n",
        "  lista.append(i)\n",
        "  lista.reverse()\n",
        "  print(lista)\n",
        "  lista.reverse()\n",
        "\n"
      ],
      "metadata": {
        "id": "X2mCamzjw_93",
        "colab": {
          "base_uri": "https://localhost:8080/"
        },
        "outputId": "b7722bec-bed0-4ad6-9f10-d1f88a066f4f"
      },
      "execution_count": null,
      "outputs": [
        {
          "output_type": "stream",
          "name": "stdout",
          "text": [
            "Ingresa un número entero -> 5\n",
            "\n",
            "\n",
            "[1]\n",
            "[3, 1]\n",
            "[5, 3, 1]\n",
            "[7, 5, 3, 1]\n",
            "[9, 7, 5, 3, 1]\n"
          ]
        }
      ]
    },
    {
      "cell_type": "markdown",
      "source": [
        "##12. Programa que permita el ingreso de un número entero positivo, en el intervalo de 0 a 1,000,000, y representarlo como la suma de sus unidades, decenas, centenas..., esto es, si se ingresa el valor de 1942 este debe de ser igual a: 1942 = 1000 + 900 + 40 + 2"
      ],
      "metadata": {
        "id": "7KlrYUcwkGOu"
      }
    },
    {
      "cell_type": "code",
      "source": [
        "#Creamos un filtro para ingresar dentro del intervalo\n",
        "while True:\n",
        "    try:\n",
        "      n = int(input(\"Ingresa un número entero en el intervalo [0,1000000] -> \"))\n",
        "      if(n < 0 or n > 1000000):\n",
        "        print(f\"\\nIngresa un número dentro del intervalo!\\n\")\n",
        "        continue\n",
        "      break\n",
        "    except ValueError:\n",
        "      print(f\"\\nIngresa un número entero!\")\n",
        "\n",
        "#Creamos una función para hacer las descomposición\n",
        "def descomponer(n):\n",
        "\n",
        "  #convierto a lista\n",
        "  numeroString  = str(n)\n",
        "  largo = len(numeroString)\n",
        "\n",
        "  #creo lista para descomponer\n",
        "  suma = []\n",
        "\n",
        "  for i,digito in enumerate(numeroString):\n",
        "    if digito != '0':\n",
        "      valor = int(digito) * (10 ** (largo - i - 1))\n",
        "      suma.append(str(valor))\n",
        "\n",
        "  #imprime la cadena\n",
        "  print(f\"{n} = {' + '.join(suma)}\")\n",
        "\n",
        "#Llamo a la función y paso el argumento\n",
        "descomponer(n)\n",
        "\n",
        "\n"
      ],
      "metadata": {
        "id": "B2hof1cu5F-Z",
        "colab": {
          "base_uri": "https://localhost:8080/"
        },
        "outputId": "c1ae0900-2160-48ad-96b5-38873fbacfbd"
      },
      "execution_count": null,
      "outputs": [
        {
          "output_type": "stream",
          "name": "stdout",
          "text": [
            "Ingresa un número entero en el intervalo [0,1000000] -> 1987\n",
            "1987 = 1000 + 900 + 80 + 7\n"
          ]
        }
      ]
    },
    {
      "cell_type": "markdown",
      "source": [
        "##13. Programa que permita ingresar un intervalo mediante dos números enteros y positivos [a,b] y que obtenga tanto la suma como el producto de todos los números intermedios, incluyendo a & b (el programa debe verificar que el intervalo ingresado sea válido)"
      ],
      "metadata": {
        "id": "_wfs6OSZr0R_"
      }
    },
    {
      "cell_type": "code",
      "source": [
        "#creamos un filtro para ingresar los números\n",
        "\n",
        "while True:\n",
        "  try:\n",
        "    n1 = int(input(\"\\x1b[33mIngresa el intervalo menor \\x1b[0m -> \"))\n",
        "    if n1 < 0: continue\n",
        "    break\n",
        "\n",
        "  except ValueError:\n",
        "    print(\"\\n\\x1b[31m Ingresa un número entero positivo!\\n\\x1b[0m\")\n",
        "\n",
        "\n",
        "while True:\n",
        "  try:\n",
        "\n",
        "    n2= int(input(f\"\\n\\x1b[33mIngresa el intervalo mayor \\x1b[0m -> \"))\n",
        "    if n2 < 0 or n2 < n1: continue\n",
        "    break\n",
        "\n",
        "  except ValueError:\n",
        "    print(\"\\n\\x1b[31mIngresa un número entero positivo\\n\\x1b[0m\")\n",
        "\n",
        "#Ahora calculamos la suma de cada uno de los elementos\n",
        "suma = 0; mult = 1\n",
        "#creo una lista para la suma\n",
        "for i in range(n1,n2+1):\n",
        "  suma += i\n",
        "  mult *= i\n",
        "\n",
        "print(f\"\\nLa suma es -> \\x1b[34m{suma}\\x1b[0m\")\n",
        "print(f\"\\nLa multiplicación es -> \\x1b[34m{mult}\\x1b[0m\")"
      ],
      "metadata": {
        "colab": {
          "base_uri": "https://localhost:8080/"
        },
        "id": "6RQX-qCvonha",
        "outputId": "fce2f825-06c2-4270-cf30-a7cc1549c88e"
      },
      "execution_count": null,
      "outputs": [
        {
          "output_type": "stream",
          "name": "stdout",
          "text": [
            "\u001b[33mIngresa el intervalo menor \u001b[0m -> 76\n",
            "\n",
            "\u001b[33mIngresa el intervalo mayor \u001b[0m -> 65\n",
            "\n",
            "\u001b[33mIngresa el intervalo mayor \u001b[0m -> 73\n",
            "\n",
            "\u001b[33mIngresa el intervalo mayor \u001b[0m -> 79\n",
            "\n",
            "La suma es -> \u001b[34m310\u001b[0m\n",
            "\n",
            "La multiplicación es -> \u001b[34m36060024\u001b[0m\n"
          ]
        }
      ]
    },
    {
      "cell_type": "markdown",
      "source": [
        "##14. Escribe un programa en Python que determine si un número ingresado por el usuario es un número primo. Pide al usuario que ingrese un número y muestra un mensaje indicando si es primo o no. Utiliza operaciones a nivel de bits para mejorar la eficiencia en la verificación"
      ],
      "metadata": {
        "id": "MF7xuetmyktD"
      }
    },
    {
      "cell_type": "code",
      "source": [
        "#Utilizamos un filtro para ingresar números enteros mayores\n",
        "while True:\n",
        "  try:\n",
        "    n = int(input(\"\\x1b[1;33m\"+\"Ingresa un número entero -> \"))\n",
        "    break\n",
        "  except ValueError:\n",
        "    print(f\"\\nIngresa un número entero!\")\n",
        "\n",
        "\n",
        "#De forma tradicional\n",
        "def primo(n):\n",
        "  if(n <= 2): return False\n",
        "\n",
        "  #Divide los número entre (n-1) y comprueba si el residuo es diferente de cero es primo\n",
        "  for i in range(2,n):\n",
        "    if ((n % i) == 0):\n",
        "      print(\"No es primo\", n, \"es divisor\")\n",
        "      return False\n",
        "    print(f\"{n} Es primo!\")\n",
        "    return True\n",
        "\n",
        "primo(n)\n",
        "\"\"\"\n",
        "#De forma a nivel de bits\n",
        "def primo2(n):\n",
        "  if(n <= 2): return False\n",
        "\n",
        "  for i in range(2,n):\n",
        "    if (((n<<i)-1) == 0):\n",
        "      print(\"No es primo\", n, \"es divisor\")\n",
        "      return False\n",
        "    print(f\"{n} Es primo!\")\n",
        "    return True\n",
        "\n",
        "primo2(2)\"\"\""
      ],
      "metadata": {
        "id": "1-GYh2P6sBfE",
        "colab": {
          "base_uri": "https://localhost:8080/",
          "height": 122
        },
        "outputId": "95ce089b-7057-4910-dddf-2d58a988829e"
      },
      "execution_count": null,
      "outputs": [
        {
          "name": "stdout",
          "output_type": "stream",
          "text": [
            "\u001b[1;33mIngresa un número entero -> d\n",
            "\n",
            "Ingresa un número entero!\n",
            "\u001b[1;33mIngresa un número entero -> 2\n"
          ]
        },
        {
          "output_type": "execute_result",
          "data": {
            "text/plain": [
              "'\\n#De forma a nivel de bits\\ndef primo2(n):\\n  if(n <= 2): return False\\n\\n  for i in range(2,n):\\n    if (((n<<i)-1) == 0):\\n      print(\"No es primo\", n, \"es divisor\")\\n      return False\\n    print(f\"{n} Es primo!\")\\n    return True\\n\\nprimo2(2)'"
            ],
            "application/vnd.google.colaboratory.intrinsic+json": {
              "type": "string"
            }
          },
          "metadata": {},
          "execution_count": 41
        }
      ]
    },
    {
      "cell_type": "code",
      "source": [
        "print(bin(3))\n",
        "print(bin(10))\n",
        "print(bin(3 | 10))\n",
        "\n",
        "print(f\"\\n\",bin(2))\n",
        "print(bin(5))\n",
        "\n",
        "n1 = int(input(f\"Ingresa el primer número ->\"))\n",
        "n2 = int(input(f\"Ingresa el número ->\"))\n",
        "r = n1/n2\n",
        "m = n1 - r*n2\n",
        "print(m)\n",
        "\n",
        "((n<<2)-1)\n",
        "\n",
        "\n",
        "\n",
        "\n",
        "\n",
        "#https://youtu.be/JRh_r_zyltk\n",
        "\n",
        "#hallamos numero primo su"
      ],
      "metadata": {
        "colab": {
          "base_uri": "https://localhost:8080/"
        },
        "id": "6vRl7IZeHwc2",
        "outputId": "551cd86d-f4ec-45e2-fb7b-d9fe04b1e06e"
      },
      "execution_count": null,
      "outputs": [
        {
          "output_type": "stream",
          "name": "stdout",
          "text": [
            "0b11\n",
            "0b1010\n",
            "0b1011\n",
            "\n",
            " 0b10\n",
            "0b101\n",
            "Ingresa el primer número ->2\n",
            "Ingresa el número ->4\n",
            "0.0\n"
          ]
        }
      ]
    },
    {
      "cell_type": "code",
      "source": [
        "print(bin(33))\n",
        "print(f\"Aqui tenemos un ejemplo de como usar operadores bitwise en lugar de division\")\n",
        "n = int(input(\"Ingresa un número -> \"))\n",
        "r1 = 1024 % n\n",
        "r2 = n & 1024\n",
        "\n",
        "print(f\"Utilizando la tecnica de modulo {r1}\")\n",
        "print(f\"Utilizando la tecnica de and {r2}\")"
      ],
      "metadata": {
        "colab": {
          "base_uri": "https://localhost:8080/"
        },
        "id": "3AOCK2RaDiJt",
        "outputId": "e4eb7969-9a7c-474e-c08b-af0d120892a5"
      },
      "execution_count": null,
      "outputs": [
        {
          "output_type": "stream",
          "name": "stdout",
          "text": [
            "0b100001\n",
            "Aqui tenemos un ejemplo de como usar operadores bitwise en lugar de division\n",
            "Ingresa un número -> 7\n",
            "Utilizando la tecnica de modulo 2\n",
            "Utilizando la tecnica de and 0\n"
          ]
        }
      ]
    },
    {
      "cell_type": "code",
      "source": [
        "\n",
        "n = int(input(f\"Ingresa un número -> \"))\n",
        "\n",
        "def primo1(n):\n",
        "\treturn ((1 << ((n >> 1) & 31)))\n",
        "\n",
        "print(primo1(n))"
      ],
      "metadata": {
        "colab": {
          "base_uri": "https://localhost:8080/"
        },
        "id": "dLyhpkIvHWJG",
        "outputId": "9a73a587-1a37-4edf-c9f2-fa86b3a31029"
      },
      "execution_count": null,
      "outputs": [
        {
          "output_type": "stream",
          "name": "stdout",
          "text": [
            "Ingresa un número -> 8\n",
            "16\n"
          ]
        }
      ]
    },
    {
      "cell_type": "code",
      "source": [
        "#solicita un número\n",
        "n = int(input(\"Ingresa un número entero -> \"))\n",
        "\n",
        "def esPrimo(n):\n",
        "  if(n < 1): return False\n",
        "\n",
        "  if((n & (n+1)) == 0):\n",
        "    print(f\"El número {n} no es primo\")\n",
        "    return False\n",
        "  else:\n",
        "    print(f\"El número {n} es primo\")\n",
        "    return True\n",
        "\n",
        "\n",
        "print(esPrimo(n))\n",
        "\n",
        "\n",
        "\n",
        "\n",
        "\n",
        "\n",
        "\n"
      ],
      "metadata": {
        "colab": {
          "base_uri": "https://localhost:8080/"
        },
        "id": "ZPIYsF-nKiec",
        "outputId": "d96e5bee-2e72-40f4-846a-c989fd026957"
      },
      "execution_count": null,
      "outputs": [
        {
          "output_type": "stream",
          "name": "stdout",
          "text": [
            "Ingresa un número entero -> 6\n",
            "El número 6 es primo\n",
            "True\n"
          ]
        }
      ]
    },
    {
      "cell_type": "markdown",
      "source": [
        "##15. Desarrollar un programa que le permita al usuario ingresar un par de números enteros positivos y mostrar las operaciones de suma, resta y multiplicación en binario."
      ],
      "metadata": {
        "id": "aRKDXVylBEq8"
      }
    },
    {
      "cell_type": "code",
      "source": [
        "#Creamos un filtro para ingresar numero enteros positivos\n",
        "while True:\n",
        "  try:\n",
        "    n1 = int(input(\"\\x1b[33mIngresa el primer número\\x1b[0m -> \"))\n",
        "    if n1 < 0: continue\n",
        "    break\n",
        "  except ValueError:\n",
        "    print(\"\\nIngresa un número entero positivo!\")\n",
        "\n",
        "while True:\n",
        "  try:\n",
        "    n2 = int(input(\"\\x1b[33mIngresa el segundo número\\x1b[0m -> \"))\n",
        "    if n2 < 0: continue\n",
        "    break\n",
        "  except ValueError:\n",
        "    print(\"\\nIngresa un número entero positivo!\")\n",
        "\n",
        "#Suma\n",
        "print(f\"\\n\\x1b[36mSuma: {n1} + {n2} = {n1+n2}\\x1b[0m\\n\",bin(n1),\" + \\n\",bin(n2),\"\\n----------\\n=\",bin(n1+n1),\"\\n\\n\")\n",
        "\n",
        "#Resta\n",
        "print(f\"\\n\\x1b[34mResta: {n1} - {n2} = {n1-n2}\\x1b[0m\\n\",bin(n1),\" - \\n\",bin(n2),\"\\n----------\\n=\",bin(n1-n1),\"\\n\\n\")\n",
        "\n",
        "#Multiplicación\n",
        "print(f\"\\n\\x1b[32mMultiplicación: {n1} X {n2} = {n1*n2}\\x1b[0m\\n\",bin(n1),\" X \\n\",bin(n2),\"\\n----------\\n=\",bin(n1*n1),\"\\n\\n\")"
      ],
      "metadata": {
        "id": "wUPaCQnrStrx",
        "colab": {
          "base_uri": "https://localhost:8080/"
        },
        "outputId": "a2cc1c25-646b-42f1-ddb3-cb05ac4dd37a"
      },
      "execution_count": null,
      "outputs": [
        {
          "output_type": "stream",
          "name": "stdout",
          "text": [
            "\u001b[33mIngresa el primer número\u001b[0m -> 10\n",
            "\u001b[33mIngresa el segundo número\u001b[0m -> 5\n",
            "\n",
            "\u001b[36mSuma: 10 + 5 = 15\u001b[0m\n",
            " 0b1010  + \n",
            " 0b101 \n",
            "----------\n",
            "= 0b10100 \n",
            "\n",
            "\n",
            "\n",
            "\u001b[34mResta: 10 - 5 = 5\u001b[0m\n",
            " 0b1010  - \n",
            " 0b101 \n",
            "----------\n",
            "= 0b0 \n",
            "\n",
            "\n",
            "\n",
            "\u001b[32mMultiplicación: 10 X 5 = 50\u001b[0m\n",
            " 0b1010  X \n",
            " 0b101 \n",
            "----------\n",
            "= 0b1100100 \n",
            "\n",
            "\n"
          ]
        }
      ]
    },
    {
      "cell_type": "markdown",
      "source": [
        "##16. Programa que permita invertir un número entero positivo ingresado por el usuario, esto es que si se ingresa N = 5243, el programa debe mostrar 3425"
      ],
      "metadata": {
        "id": "gXJTPWUp2FQy"
      }
    },
    {
      "cell_type": "code",
      "source": [
        "#Filtro para enteros positivos\n",
        "while True:\n",
        "  try:\n",
        "    n = int(input(\"\\x1b[32mIngresa un número entero -> \\x1b[0m\"))\n",
        "    if(n <= 0): continue\n",
        "    break\n",
        "\n",
        "  except ValueError:\n",
        "    print(f\"\\n\\x1b[31mIngresa un número entero positivo! \\x1b[0m\")\n",
        "\n",
        "#Convierto el número a una cadena de caracteres\n",
        "cadena = str(n)\n",
        "\n",
        "#Creo funcion para invertir\n",
        "def invertir(cadena):\n",
        "  #Regresa la cadena recorriendo con un paso de \"-1\" es decir al revés\n",
        "  return cadena[::-1]\n",
        "\n",
        "\n",
        "#Invierte el orden y lo imprime\n",
        "print(f\"\\nNúmero ingresado -> \\x1b[34m{n}\\x1b[0m\")\n",
        "print(f\"\\nNúmero invertido -> \\x1b[33m\",invertir(cadena),\"\\x1b[0m\")"
      ],
      "metadata": {
        "colab": {
          "base_uri": "https://localhost:8080/"
        },
        "id": "tkPt2zhNsAX-",
        "outputId": "6f3b802a-76fa-47e1-a1c4-c7ed31c1baa0"
      },
      "execution_count": null,
      "outputs": [
        {
          "output_type": "stream",
          "name": "stdout",
          "text": [
            "\u001b[32mIngresa un número entero -> \u001b[0m12345\n",
            "\n",
            "Número ingresado -> \u001b[34m12345\u001b[0m\n",
            "\n",
            "Número invertido -> \u001b[33m 54321 \u001b[0m\n"
          ]
        }
      ]
    },
    {
      "cell_type": "markdown",
      "source": [
        "##17. Programa que permita sumar los dígitos de un número entero positivo ingresado por el usuario, esto es si se ingresa N = 1521, el resultado a mostrar es: Suma = 1 + 5 + 2 + 1 = 9"
      ],
      "metadata": {
        "id": "GXBbvhBGD2GR"
      }
    },
    {
      "cell_type": "code",
      "source": [
        "#Filtro para ingesar Enteros positivos:\n",
        "while True:\n",
        "  try:\n",
        "    n = int(input(\"\\x1b[32mIngresa un número entero positivo -> \\x1b[0m\"))\n",
        "    if n <= 0: continue\n",
        "    break\n",
        "\n",
        "  except ValueError:\n",
        "    print(\"\\n\\x1b[31mIngresa un elemento válido!\\x1b[0m\\n\")\n",
        "\n",
        "suma = 0\n",
        "\n",
        "#Convierto a cadena y a lista \"n\"\n",
        "cadena = str(n)\n",
        "lista1 = list(cadena)\n",
        "#Ahora separamos la cadena en varios elementos\n",
        "lista2 = [a for a in lista1]\n",
        "\n",
        "\n",
        "print(f\"\\n\\x1b[33mLa cadena descompuesta es -> \\x1b[0m{lista2}\\n\")\n",
        "\n",
        "#Ahora sumamos cada elemento de lista2\n",
        "for i in range(0,len(lista2)):\n",
        "  numero = int(lista2[i])\n",
        "  suma += numero\n",
        "\n",
        "print(f\"\\n\\x1b[34mLa suma de los elementos de la cadena es -> \\x1b[0m{suma}\")"
      ],
      "metadata": {
        "colab": {
          "base_uri": "https://localhost:8080/"
        },
        "id": "nAKoJFpE2dH2",
        "outputId": "f7766bb5-f880-40f2-90d7-9212864da723"
      },
      "execution_count": null,
      "outputs": [
        {
          "output_type": "stream",
          "name": "stdout",
          "text": [
            "\u001b[32mIngresa un número entero positivo -> \u001b[0m98563\n",
            "\n",
            "\u001b[33mLa cadena descompuesta es -> \u001b[0m['9', '8', '5', '6', '3']\n",
            "\n",
            "\n",
            "\u001b[34mLa suma de los elementos de la cadena es -> \u001b[0m31\n"
          ]
        }
      ]
    },
    {
      "cell_type": "markdown",
      "source": [
        "##18. Generar un programa del juego de adivinanzas, en el que la computadora generará un número aleatorio entre 0 y 10 y le dará pistas al usuario como si es mayor o menor otorgarle solamente 5 oportunidades al usuario de adivinar"
      ],
      "metadata": {
        "id": "o_Um7G9HOTyw"
      }
    },
    {
      "cell_type": "code",
      "source": [
        "from random import *\n",
        "intentos = 0\n",
        "\n",
        "#Generamos el número aleatorio\n",
        "aleatorio = (randint(0,10))\n",
        "\n",
        "while(n != aleatorio or intentos >= 5):\n",
        "  #Solicita número\n",
        "  n = int(input(\"\\x1b[33mIngresa un número -> \\x1b[0m\"))\n",
        "\n",
        "  intentos += 1\n",
        "\n",
        "  #Mensaje al ganar\n",
        "  if(n == aleatorio): print(f\"\\n\\x1b[32mGanaste en: {intentos} intentos\\x1b[0m, el número es \\x1b[34m{aleatorio}\\x1b[0m\")\n",
        "  else:\n",
        "    #Pistas para el usuario\n",
        "    if(n > aleatorio): print(f\"\\nEl número es menor!\\n\")\n",
        "    else: print(f\"\\nEl número es mayor!\\n\")\n",
        "\n",
        "    #Mensaje de intentar\n",
        "    print(f\"\\n\\x1b[31mInténtalo de nuevo!  Intentos ->\\x1b[0m {intentos}\\n\")"
      ],
      "metadata": {
        "colab": {
          "base_uri": "https://localhost:8080/"
        },
        "id": "47_eonVjG7ST",
        "outputId": "9423c128-de99-4302-ee23-05ce90484aff"
      },
      "execution_count": null,
      "outputs": [
        {
          "output_type": "stream",
          "name": "stdout",
          "text": [
            "\u001b[33mIngresa un número -> \u001b[0m2\n",
            "\n",
            "El número es mayor!\n",
            "\n",
            "\n",
            "\u001b[31mInténtalo de nuevo!  Intentos ->\u001b[0m 1\n",
            "\n",
            "\u001b[33mIngresa un número -> \u001b[0m6\n",
            "\n",
            "El número es mayor!\n",
            "\n",
            "\n",
            "\u001b[31mInténtalo de nuevo!  Intentos ->\u001b[0m 2\n",
            "\n",
            "\u001b[33mIngresa un número -> \u001b[0m8\n",
            "\n",
            "\u001b[32mGanaste en: 3 intentos\u001b[0m, el número es \u001b[34m8\u001b[0m\n"
          ]
        }
      ]
    },
    {
      "cell_type": "markdown",
      "source": [
        "##19. Escribir un programa que almacene en una lista las letras del abecedario, elimine de la lista las letras que ocupen las posiciones múltiplos de n, donde n es un número entero positivo entre 1 y 9 ingresado por el usuario y muestre en pantalla ambas listas, la original y la resultante"
      ],
      "metadata": {
        "id": "9qDjNO8MYGrd"
      }
    },
    {
      "cell_type": "code",
      "source": [],
      "metadata": {
        "id": "crWMrF76Py-C"
      },
      "execution_count": null,
      "outputs": []
    }
  ],
  "metadata": {
    "colab": {
      "provenance": [],
      "authorship_tag": "ABX9TyMbYW/xThGG5hDRAVH1OlvJ",
      "include_colab_link": true
    },
    "kernelspec": {
      "display_name": "Python 3",
      "name": "python3"
    },
    "language_info": {
      "name": "python"
    }
  },
  "nbformat": 4,
  "nbformat_minor": 0
}