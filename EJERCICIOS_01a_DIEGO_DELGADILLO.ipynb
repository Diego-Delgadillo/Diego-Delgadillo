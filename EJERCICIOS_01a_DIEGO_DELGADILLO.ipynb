{
  "cells": [
    {
      "cell_type": "markdown",
      "metadata": {
        "id": "view-in-github",
        "colab_type": "text"
      },
      "source": [
        "<a href=\"https://colab.research.google.com/github/Diego-Delgadillo/Diego-Delgadillo/blob/main/EJERCICIOS_01a_DIEGO_DELGADILLO.ipynb\" target=\"_parent\"><img src=\"https://colab.research.google.com/assets/colab-badge.svg\" alt=\"Open In Colab\"/></a>"
      ]
    },
    {
      "cell_type": "markdown",
      "metadata": {
        "id": "_09u9kttO4_u"
      },
      "source": [
        "#**EJERCICIOS**"
      ]
    },
    {
      "cell_type": "markdown",
      "metadata": {
        "id": "lYRqhUS3yHP0"
      },
      "source": [
        "# 1. Escribe un programa en Python que pida al usuario su nombre y edad. Muestra un mensaje que diga: \"Hola [Nombre], tienes [Edad] años\""
      ]
    },
    {
      "cell_type": "code",
      "execution_count": null,
      "metadata": {
        "colab": {
          "base_uri": "https://localhost:8080/"
        },
        "id": "OGpHgR2wx4Sz",
        "outputId": "905e27cb-5f44-4d0d-d61e-51f39df33393"
      },
      "outputs": [
        {
          "name": "stdout",
          "output_type": "stream",
          "text": [
            "Ingresa tu nombre ->diego\n",
            "Ingresa tu edad ->199\n",
            "Hola \u001b[34m diego \u001b[0m tienes\u001b[33m 199 \u001b[0maños =D\n"
          ]
        }
      ],
      "source": [
        "#solicita entrada de nombre\n",
        "name = str(input(\"Ingresa tu nombre ->\"))\n",
        "#solicita entrada de edad\n",
        "age = str(input(\"Ingresa tu edad ->\"))\n",
        "print(\"Hola \\x1b[34m\", name, \"\\x1b[0m tienes\\x1b[33m\", age, \"\\x1b[0maños =D\")"
      ]
    },
    {
      "cell_type": "markdown",
      "metadata": {
        "id": "Lwjfk0-z0VAk"
      },
      "source": [
        "##2. Escribe un programa en Python que calcule el área de un rectángulo. Pide al usuario que ingrese la longitud y el ancho del rectángulo, luego calcula y muestra el área"
      ]
    },
    {
      "cell_type": "code",
      "execution_count": null,
      "metadata": {
        "colab": {
          "base_uri": "https://localhost:8080/"
        },
        "id": "Yei4IRNd0YDL",
        "outputId": "3d54ade3-1c4d-46dd-dfc2-cc294ee222df"
      },
      "outputs": [
        {
          "name": "stdout",
          "output_type": "stream",
          "text": [
            "Ingresa la longitud del rectangulo ->10\n",
            "Ingresa el ancho del rectangulo ->5\n",
            "El area del rectangulo es -> \u001b[33m 50.0 \u001b[0m\n"
          ]
        }
      ],
      "source": [
        "#Solicita entrada de longitud\n",
        "longitud = float(input(\"Ingresa la longitud del rectangulo ->\"))\n",
        "#Solicita entrada de ancho\n",
        "ancho = float(input(\"Ingresa el ancho del rectangulo ->\"))\n",
        "#Calcula el area del rectangulo\n",
        "area = longitud * ancho\n",
        "print(\"El area del rectangulo es -> \\x1b[33m\", area, \"\\x1b[0m\")"
      ]
    },
    {
      "cell_type": "markdown",
      "metadata": {
        "id": "ID9DmAkX0Sgj"
      },
      "source": []
    },
    {
      "cell_type": "markdown",
      "metadata": {
        "id": "hCWtBhM21Ivb"
      },
      "source": [
        "##3. Escribe un programa en Python que convierta una temperatura de Celsius a Fahrenheit. Pide al usuario que ingrese la temperatura en Celsius y muestra la temperatura equivalente en Fahrenheit"
      ]
    },
    {
      "cell_type": "code",
      "execution_count": null,
      "metadata": {
        "colab": {
          "base_uri": "https://localhost:8080/"
        },
        "id": "eqN5ZBda15TD",
        "outputId": "16c38381-b2b6-4807-87ce-cf6d73b6a667"
      },
      "outputs": [
        {
          "name": "stdout",
          "output_type": "stream",
          "text": [
            "Ingresa la temperatura en °C ->20\n",
            "La temperatura en °F es -> \u001b[33m 68.0 \u001b[0m\n"
          ]
        }
      ],
      "source": [
        "#Solicita entrada de temperatura °C\n",
        "celsius = float(input(\"Ingresa la temperatura en °C ->\"))\n",
        "#Calcula la temperatura en °F\n",
        "fahrenheit = (celsius * 9/5) + 32\n",
        "print(\"La temperatura en °F es -> \\x1b[33m\", fahrenheit, \"\\x1b[0m\")"
      ]
    },
    {
      "cell_type": "markdown",
      "metadata": {
        "id": "YImiQaR-2bXV"
      },
      "source": [
        "##4. Escribe un programa en Python que calcule la suma de todos los números desde 1 hasta un número dado. Pide al usuario que ingrese un número y muestre el resultado de la suma"
      ]
    },
    {
      "cell_type": "code",
      "execution_count": null,
      "metadata": {
        "colab": {
          "base_uri": "https://localhost:8080/"
        },
        "id": "ODDikorD2OMH",
        "outputId": "7776a9e8-1125-4e0f-d3f8-2b2f15c36ce8"
      },
      "outputs": [
        {
          "name": "stdout",
          "output_type": "stream",
          "text": [
            "Ingresa un número ->De\n",
            "\n",
            "Ingrese un número entero!\n",
            "\n",
            "Ingresa un número ->23\n",
            "\n",
            "La suma de los elementos desde 0 hasta 23 es -> 276\n"
          ]
        }
      ],
      "source": [
        "#Solicita entrada del número\n",
        "#Nota: se coloco un filtro para evitar que el usuario ingrese solo un numero entero\n",
        "suma = 0\n",
        "\n",
        "while True:\n",
        "  try:\n",
        "    n = int(input(\"Ingresa un número ->\"))\n",
        "    break\n",
        "  except ValueError:\n",
        "          print(\"\\nIngrese un número entero!\\n\")\n",
        "\n",
        "#Con un bucle for realizo una sumatoria\n",
        "for i in range (0,n+1):\n",
        "  suma = suma + i\n",
        "\n",
        "#Muestra la sumatoria\n",
        "print(f\"\\nLa suma de los elementos desde 0 hasta {n} es -> {suma}\")"
      ]
    },
    {
      "cell_type": "markdown",
      "metadata": {
        "id": "tXrncSfz4shT"
      },
      "source": [
        "##5. Escribe un programa en Python que verifique si un número entero dado es una potencia de dos utilizando operaciones a nivel de bits"
      ]
    },
    {
      "cell_type": "code",
      "execution_count": 9,
      "metadata": {
        "colab": {
          "base_uri": "https://localhost:8080/"
        },
        "id": "N_chRt503lXu",
        "outputId": "b5183218-12a8-4578-84ab-db490c8222a9"
      },
      "outputs": [
        {
          "output_type": "stream",
          "name": "stdout",
          "text": [
            "Ingresa un número -> 3\n",
            "El numero 3 no es potencia de dos!\n"
          ]
        }
      ],
      "source": [
        "#Solicita entrada de numero entero\n",
        "\n",
        "while True:\n",
        "  try:\n",
        "    n = int(input(\"Ingresa un número -> \"))\n",
        "    break\n",
        "  except ValueError:\n",
        "          print(\"\\nIngresa un número entero!\\n\")\n",
        "\n",
        "#Encontramos si es potencia de dde dos o binario\n",
        "a = (n & n-1)\n",
        "\n",
        "if a ==0:\n",
        "   print(f\"\\x1b[34m El numero {n} es potencia de dos!\\x1b[0m\")\n",
        "else:\n",
        "  print(f\"El numero {n} no es potencia de dos!\")"
      ]
    },
    {
      "cell_type": "markdown",
      "metadata": {
        "id": "jmv-ArRvQj6w"
      },
      "source": [
        "##6. Escribe un programa en Python que encuentre el número más grande entre dos enteros sin utilizar el operador de comparación (mayor que, menor que)"
      ]
    },
    {
      "cell_type": "code",
      "execution_count": 8,
      "metadata": {
        "colab": {
          "base_uri": "https://localhost:8080/"
        },
        "id": "ESAyXtSTNfp9",
        "outputId": "4cf1629e-552b-446b-bdf3-4a50b0ac39d5"
      },
      "outputs": [
        {
          "output_type": "stream",
          "name": "stdout",
          "text": [
            "Ingresa el primer número -> 2\n",
            "\n",
            "Ingresa el segundo número ->6\n",
            "False True\n",
            "\n",
            "El número mayor es -> \u001b[33m 6 \u001b[0m\n"
          ]
        }
      ],
      "source": [
        "#Solicita el numero 1\n",
        "while True:\n",
        "     try:\n",
        "         n1 = int(input(f\"Ingresa el primer número -> \"))\n",
        "         break\n",
        "     except ValueError:\n",
        "         print(\"fIngresa un número entero!\\n\")\n",
        "\n",
        "#Solicita el segundo numero\n",
        "while True:\n",
        "      try:\n",
        "        n2 = int((input(f\"\\nIngresa el segundo número ->\")))\n",
        "        break\n",
        "      except ValueError:\n",
        "        print(f\"\\nIngresa un número entero!\")\n",
        "\n",
        "#Utilizamos la técnica de convertir una tipo de dato a otro (cast) para convertir en este caso de el cociente de ambos números a un bool\n",
        "#si la división de n1/n2 despues de operar devuelve 1 si n1 > n2 y devuelve cero si n1 < n2\n",
        "#si la división de n2/n1 despues de operar devuelve 1 si n2 > n1 y devuelve cero si n2 < n1\n",
        "\n",
        "resultado = n1 * (bool(int(n1/n2))) + n2 * (bool(int(n2/n1)))\n",
        "\n",
        "#Estas lineas son para comprobar lo descrito arriba\n",
        "r1 = (bool(int(n1/n2)))\n",
        "r2 = (bool(int(n2/n1)))\n",
        "print(f\"{r1} {r2}\")\n",
        "\n",
        "print(f\"\\nEl número mayor es -> \\x1b[33m {resultado} \\x1b[0m\")"
      ]
    },
    {
      "cell_type": "markdown",
      "source": [
        "##7. Escribe un programa en Python que pida al usuario que ingrese una frase y cuente la cantidad de\n",
        "vocales en la frase. Mostrar la cantidad de vocales"
      ],
      "metadata": {
        "id": "Er94B4Zmpch8"
      }
    },
    {
      "cell_type": "code",
      "source": [],
      "metadata": {
        "id": "mOkLkmEzfq7V"
      },
      "execution_count": null,
      "outputs": []
    }
  ],
  "metadata": {
    "colab": {
      "provenance": [],
      "authorship_tag": "ABX9TyOPEgO5nzUNqP4KbQCjW7yE",
      "include_colab_link": true
    },
    "kernelspec": {
      "display_name": "Python 3",
      "name": "python3"
    },
    "language_info": {
      "name": "python"
    }
  },
  "nbformat": 4,
  "nbformat_minor": 0
}