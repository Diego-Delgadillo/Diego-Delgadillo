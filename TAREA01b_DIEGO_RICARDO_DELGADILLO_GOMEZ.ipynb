{
  "nbformat": 4,
  "nbformat_minor": 0,
  "metadata": {
    "colab": {
      "provenance": [],
      "authorship_tag": "ABX9TyNgTcsxzbT3wxAvjy07KqSL",
      "include_colab_link": true
    },
    "kernelspec": {
      "name": "python3",
      "display_name": "Python 3"
    },
    "language_info": {
      "name": "python"
    }
  },
  "cells": [
    {
      "cell_type": "markdown",
      "metadata": {
        "id": "view-in-github",
        "colab_type": "text"
      },
      "source": [
        "<a href=\"https://colab.research.google.com/github/Diego-Delgadillo/Diego-Delgadillo/blob/main/TAREA01b_DIEGO_RICARDO_DELGADILLO_GOMEZ.ipynb\" target=\"_parent\"><img src=\"https://colab.research.google.com/assets/colab-badge.svg\" alt=\"Open In Colab\"/></a>"
      ]
    },
    {
      "cell_type": "markdown",
      "source": [
        "#Ejercicio 21"
      ],
      "metadata": {
        "id": "TYyVhtOobLU9"
      }
    },
    {
      "cell_type": "markdown",
      "source": [
        "##Programa que calcule la doble factorial (n!!) de un número entero positivo"
      ],
      "metadata": {
        "id": "C7ALVvjPT0pW"
      }
    },
    {
      "cell_type": "code",
      "execution_count": null,
      "metadata": {
        "id": "O3cEtqUlWHx6",
        "colab": {
          "base_uri": "https://localhost:8080/"
        },
        "outputId": "013370d4-965b-4f94-e992-13e9beabd357"
      },
      "outputs": [
        {
          "output_type": "stream",
          "name": "stdout",
          "text": [
            "\u001b[33mIngrese un número entero positivo -> \u001b[0m8\n",
            "\n",
            "El doble factorial de 8 es -> \u001b[34m384\u001b[0m\n"
          ]
        }
      ],
      "source": [
        "#Filtro para ingresar entero positivo\n",
        "while True:\n",
        "  try:\n",
        "    n = int(input(f\"\\x1b[33mIngrese un número entero positivo -> \\x1b[0m\"))\n",
        "    if(n < 0):continue\n",
        "    break\n",
        "\n",
        "  except ValueError:\n",
        "    print(f\"\\n\\x1b[31mIngrese una entrada válida!\\x1b[0m\\n\")\n",
        "\n",
        "\n",
        "#Creamos una funcion para hallar el doble factoriall de un número\n",
        "def dobleFactorial(n):\n",
        "  dobleFact = 1\n",
        "  #Encontramos si el número es par o impar\n",
        "  if(n == 1): print(f\"\\nEl doble factorial de {n} es {1}\")\n",
        "\n",
        "  else:\n",
        "   if(n % 2 == 0):\n",
        "    for i in range(1, n + 1):\n",
        "      if(i % 2 == 0):\n",
        "        dobleFact *= i\n",
        "    print(f\"\\nEl doble factorial de {n} es -> \\x1b[34m{dobleFact}\\x1b[0m\")\n",
        "\n",
        "   else:\n",
        "    if(n % 2 != 0):\n",
        "      for i in range(1, n + 1):\n",
        "        if(i % 2 != 0):\n",
        "          dobleFact *= i\n",
        "    print(f\"\\nEl doble factorial de {n} es -> \\x1b[34m{dobleFact}\\x1b[0m\")\n",
        "\n",
        "#Mando a llamar a la función\n",
        "dobleFactorial(n)"
      ]
    },
    {
      "cell_type": "markdown",
      "source": [
        "# Ejercicio 22"
      ],
      "metadata": {
        "id": "JBLfY-PLR8AF"
      }
    },
    {
      "cell_type": "markdown",
      "source": [
        "##Programa que permita calcular el dígito de control del código de barras EAN-8, las instrucciones"
      ],
      "metadata": {
        "id": "eOQQHCDtR1e8"
      }
    },
    {
      "cell_type": "code",
      "source": [
        "#Primero el usuario ingresa el código a generar\n",
        "n = list(input(f\"\\x1b[33mIngrese el código a generar de 8 dígitos-> \\x1b[0m\"))\n",
        "\n",
        "#Sumamos los números que tienen posición impar\n",
        "impar = 0\n",
        "for i in range(0, len(n), 2):\n",
        "  impar += int(n[i])\n",
        "\n",
        "#Sumamos los números con posición par\n",
        "par = 0\n",
        "for i in range(1, len(n), 2):\n",
        "  par += int(n[i])\n",
        "\n",
        "#multiplico por 3\n",
        "par *= 3\n",
        "\n",
        "print(f\"\\nSuma de impares -> \\x1b[32m{impar}\\x1b[0m\")\n",
        "\n",
        "print(f\"\\nSuma de pares por 3 -> \\x1b[32m{par}\\x1b[0m\")\n",
        "\n",
        "#Sumamos los resultados\n",
        "suma = par + impar\n",
        "print(f\"\\nSuma de ambos-> \\x1b[32m{suma}\\x1b[0m\")\n",
        "\n",
        "#obtengo módulo de 10\n",
        "modulo = suma % 10\n",
        "print(f\"\\nModulo de 10 con suma-> \\x1b[32m{modulo}\\x1b[0m\")\n",
        "\n",
        "#Dígito de control\n",
        "control = 10 - modulo\n",
        "print(f\"\\nDígito de control-> \\x1b[32m{control}\\x1b[0m\")\n",
        "\n",
        "#Convertimos a entero la lista\n",
        "codigo = int ( '' .join( map ( str ,n)))\n",
        "print(f\"\\nEL código resultante es -> \\x1b[34m{codigo} {control}\\x1b[0m\")"
      ],
      "metadata": {
        "id": "hRaWRT-xWZY0",
        "colab": {
          "base_uri": "https://localhost:8080/"
        },
        "outputId": "4512d518-902e-4773-81e9-2c792ec3fd56"
      },
      "execution_count": null,
      "outputs": [
        {
          "output_type": "stream",
          "name": "stdout",
          "text": [
            "\u001b[33mIngrese el código a generar de 8 dígitos-> \u001b[0m12345678\n",
            "\n",
            "Suma de impares -> \u001b[32m16\u001b[0m\n",
            "\n",
            "Suma de pares por 3 -> \u001b[32m60\u001b[0m\n",
            "\n",
            "Suma de ambos-> \u001b[32m76\u001b[0m\n",
            "\n",
            "Modulo de 10 con suma-> \u001b[32m6\u001b[0m\n",
            "\n",
            "Dígito de control-> \u001b[32m4\u001b[0m\n",
            "\n",
            "EL código resultante es -> \u001b[34m12345678 4\u001b[0m\n"
          ]
        }
      ]
    },
    {
      "cell_type": "markdown",
      "source": [
        "# Ejercicio 23"
      ],
      "metadata": {
        "id": "n8DOtAiCxllo"
      }
    },
    {
      "cell_type": "markdown",
      "source": [
        "##23. Programa que permita Imprimir los N números de la Serie de Padovan, donde N es un número entero positivo que el usuario debe ingresar para obtener los valores de la serie"
      ],
      "metadata": {
        "id": "Jp1KWCRjxkUY"
      }
    },
    {
      "cell_type": "code",
      "source": [
        "#Creamos una función para obtener la serie\n",
        "def padovan():\n",
        "  #filtro para ingresar entero postivo\n",
        "  while True:\n",
        "    try:\n",
        "      n = int(input(f\"\\x1b[33mIngrese un número entero positivo -> \\x1b[0m\"))\n",
        "      if(n <= 0):continue\n",
        "      break\n",
        "\n",
        "    except ValueError:\n",
        "      print(f\"\\n\\x1b[31mIngrese una entrada válida!\\x1b[0m\\n\")\n",
        "\n",
        "  #Definimos los primeros términos\n",
        "  Sucesionpadovan = [1,1,1]\n",
        "\n",
        "  #Generamos la serie, de modo que:\n",
        "  for i in range(0,n):\n",
        "    padovan = Sucesionpadovan[i] + Sucesionpadovan[i+1]\n",
        "    Sucesionpadovan.append(padovan)\n",
        "  return Sucesionpadovan\n",
        "\n",
        "#llamo a la función\n",
        "print(f\"\\nLa serie de padovan es \\x1b[34m{padovan()}\\x1b[0m\")"
      ],
      "metadata": {
        "colab": {
          "base_uri": "https://localhost:8080/"
        },
        "id": "nW6_sZlZp1NR",
        "outputId": "c295b371-442f-4536-c0a7-f9c869a5693c"
      },
      "execution_count": null,
      "outputs": [
        {
          "output_type": "stream",
          "name": "stdout",
          "text": [
            "\u001b[33mIngrese un número entero positivo -> \u001b[0m9\n",
            "\n",
            "La serie de padovan es \u001b[34m[1, 1, 1, 2, 2, 3, 4, 5, 7, 9, 12, 16]\u001b[0m\n"
          ]
        }
      ]
    },
    {
      "cell_type": "markdown",
      "source": [
        "#Ejercicio 24"
      ],
      "metadata": {
        "id": "gPVjGc9S3LJK"
      }
    },
    {
      "cell_type": "markdown",
      "source": [
        "##Programa que permita obtener una cantidad N de números pseudoaleatorios (donde N es un número entero, mayor a 0) utilizando para ello el método/algoritmo de generación de números congruencial. En el siguiente documento se encuentra información junto con ejemplos para probar el algoritmo, mostrar la tabla de cómo se van generando y guardar los números generados en una lista"
      ],
      "metadata": {
        "id": "JD02mXR43RWc"
      }
    },
    {
      "cell_type": "code",
      "source": [
        "#Solicitamos que el usuario ingrese los parámetros\n",
        "\n",
        "#Filtro para ingresar enteros positivos\n",
        "while True:\n",
        "  try:\n",
        "    a = int(input(f\"\\n\\x1b[33mIngrese el valor de a -> \\x1b[0m\"))\n",
        "    b = int(input(f\"\\n\\x1b[33mIngrese el valor de b -> \\x1b[0m\"))\n",
        "    m = int(input(f\"\\n\\x1b[33mIngrese el valor de m -> \\x1b[0m\"))\n",
        "    N = int(input(f\"\\n\\x1b[33mIngrese la cantidad de elementos a obtener -> \\x1b[0m\"))\n",
        "    if(a < 0 or b < 0 or m < 0 or N < 0):continue\n",
        "    break\n",
        "\n",
        "  except ValueError:\n",
        "    print(f\"\\n\\x1b[31mIngrese una entrada válida!\\x1b[0m\\n\")\n",
        "\n",
        "#Incializo contador en cero:\n",
        "n = 0\n",
        "xn=N\n",
        "numeros = []\n",
        "\n",
        "print(f\"\\n\\x1b[34mn   xn    xn+1  un=xn/b \\x1b[0m\")\n",
        "\n",
        "#Creo bucle para iterar\n",
        "for i in range(0,N):\n",
        "  #condición para le primer valor de xn\n",
        "\n",
        "  if(i == 0):\n",
        "    un = xn/m\n",
        "    print(f\"\\n{i+1}  {N}   {xn}     {un:.4f}\")\n",
        "    n += 1\n",
        "    numeros.append(xn)\n",
        "    continue\n",
        "\n",
        "  #Hallamos xn\n",
        "  xn = (a * xn + b) % m\n",
        "  un = xn/m\n",
        "  n += 1\n",
        "\n",
        "  numeros.append(xn)\n",
        "  #imprime el formato\n",
        "  print(f\"\\n{i+1}   {xn}   {numeros[i]}     {un:.4f}\")\n",
        "  #guarda en una lista los números\n"
      ],
      "metadata": {
        "id": "eUAYwr4_zELG",
        "colab": {
          "base_uri": "https://localhost:8080/"
        },
        "outputId": "457f4cee-cab6-4ca9-bdcc-67cb09cb77ac"
      },
      "execution_count": null,
      "outputs": [
        {
          "output_type": "stream",
          "name": "stdout",
          "text": [
            "\n",
            "\u001b[33mIngrese el valor de a -> \u001b[0m5\n",
            "\n",
            "\u001b[33mIngrese el valor de b -> \u001b[0m0\n",
            "\n",
            "\u001b[33mIngrese el valor de m -> \u001b[0m13\n",
            "\n",
            "\u001b[33mIngrese la cantidad de elementos a obtener -> \u001b[0m5\n",
            "\n",
            "\u001b[34mn   xn    xn+1  un=xn/b \u001b[0m\n",
            "\n",
            "1  5   5     0.3846\n",
            "\n",
            "2   12   12     0.9231\n",
            "\n",
            "3   8   8     0.6154\n",
            "\n",
            "4   1   1     0.0769\n",
            "\n",
            "5   5   5     0.3846\n"
          ]
        }
      ]
    },
    {
      "cell_type": "markdown",
      "source": [],
      "metadata": {
        "id": "0zYPVknvAlCh"
      }
    },
    {
      "cell_type": "markdown",
      "source": [
        "#Ejercicio 25"
      ],
      "metadata": {
        "id": "y_tcm9kpAmWI"
      }
    },
    {
      "cell_type": "markdown",
      "source": [
        "##Programa que obtenga el Máximo Común Divisor (MCD) y el mínimo común múltiplo (mcm) de un par de números enteros positivos. (Existe un algoritmo ya establecido para este caso, se le conoce como algoritmo de Euclídes)"
      ],
      "metadata": {
        "id": "_Oov4kfaAp14"
      }
    },
    {
      "cell_type": "code",
      "source": [
        "from ctypes import resize\n",
        "#Creamos un filtro para ingresar enteros positivos\n",
        "while True:\n",
        "  try:\n",
        "    n1 = int(input(f\"\\n\\x1b[33mIngrese el primer número entero positivo -> \\x1b[0m\"))\n",
        "    if(n1 < 0):continue\n",
        "    n2 = int(input(f\"\\n\\x1b[33mIngrese el segundo número entero positivo -> \\x1b[0m\"))\n",
        "    if(n2 < 0):continue\n",
        "    break\n",
        "\n",
        "  except ValueError:\n",
        "    print(f\"\\n\\x1b[31mIngrese una entrada válida!\\x1b[0m\")\n",
        "\n",
        "#Creamos una función para hallar mcd\n",
        "def mcd(n1, n2):\n",
        "  #Definimos el residuos\n",
        "  residuo = 0\n",
        "  #mientras n2 sea mayor a cero\n",
        "  while(n2 > 0):\n",
        "    #asigna el valor de residuo a n2\n",
        "    residuo = n2\n",
        "    #Encontramos el módulo de n1 con n2\n",
        "    n2 = n1 % n2\n",
        "    #Asigna n1 a residuo\n",
        "    n1 = residuo\n",
        "    #Regresa n2\n",
        "  return n1\n",
        "\n",
        "#para mcm\n",
        "def mcm(n1, n2):\n",
        "  #regresa el valor de dividir n1 entre el mcd por n2\n",
        "  return (n1 / mcd(n1, n2)) * n2\n",
        "\n",
        "#imprime y manda a llamar funciones\n",
        "print(f\"\\nEl MCD de {n1} y {n2} es -> \\x1b[34m{mcd(n1, n2)}\\x1b[0m\")\n",
        "print(f\"\\nEl MCM de {n1} y {n2} es -> \\x1b[34m{mcm(n1,n2)}\\x1b[0m\")"
      ],
      "metadata": {
        "colab": {
          "base_uri": "https://localhost:8080/"
        },
        "id": "VFLMrxGIWpXG",
        "outputId": "1766abca-b111-4258-9689-b957767d48d7"
      },
      "execution_count": null,
      "outputs": [
        {
          "output_type": "stream",
          "name": "stdout",
          "text": [
            "\n",
            "\u001b[33mIngrese el primer número entero positivo -> \u001b[0m30\n",
            "\n",
            "\u001b[33mIngrese el segundo número entero positivo -> \u001b[0m5\n",
            "\n",
            "El MCD de 30 y 5 es -> \u001b[34m5\u001b[0m\n",
            "\n",
            "El MCM de 30 y 5 es -> \u001b[34m30.0\u001b[0m\n"
          ]
        }
      ]
    },
    {
      "cell_type": "markdown",
      "source": [
        "#Ejercicio 26"
      ],
      "metadata": {
        "id": "GvJ9qSW_qRwP"
      }
    },
    {
      "cell_type": "markdown",
      "source": [
        "##Programa que permita obtener la lista de números narcisistas que existan en un intervalo dado por el usuario [a,b] (verificar que el intervalo sea válido con números enteros y positivos)"
      ],
      "metadata": {
        "id": "CyInz1anqTQK"
      }
    },
    {
      "cell_type": "code",
      "source": [
        "#Entrada en intervalo adecuado\n",
        "while True:\n",
        "  try:\n",
        "    a = int(input(f\"\\n\\x1b[33mIngresa el intervalo menor -> \\x1b[0m\"))\n",
        "    if(a < 0):continue\n",
        "    b = int(input(f\"\\n\\x1b[33mIngresa el intervalo mayor -> \\x1b[0m\"))\n",
        "    if(b < a or b < 0):b = int(input(f\"\\n\\x1b[33mIngresa el intervalo mayor -> \\x1b[0m\"))\n",
        "\n",
        "    break\n",
        "  except ValueError:\n",
        "    print(f\"\\n\\x1b[31mIngresa una entrada válida!\\x1b[0m\")\n",
        "\n",
        "#Generamos lista de números narcisistas\n",
        "def narcisistas(n1,n2):\n",
        "  print(f\"\\n\\x1b[34mLos números narcisistas son: \\x1b[0m\\n\")\n",
        "\n",
        "  #creo ciclo\n",
        "  for i in range(n1,n2+1):\n",
        "    #Encontramos longitud de i\n",
        "    m = len(str(i))\n",
        "    suma = 0\n",
        "    #Iteramos en los caracteres de i\n",
        "    for digitos in str(i):\n",
        "      #La suma es igual a los digitos elevados a m\n",
        "      suma += int(digitos)**m\n",
        "      #si es igual a lo imprime\n",
        "    if suma==i:\n",
        "      print(i)\n",
        "\n",
        "narcisistas(a,b)"
      ],
      "metadata": {
        "colab": {
          "base_uri": "https://localhost:8080/"
        },
        "id": "RQQQkpWFlB4r",
        "outputId": "c9d21ad2-987d-4554-c1cb-026556f1a148"
      },
      "execution_count": null,
      "outputs": [
        {
          "output_type": "stream",
          "name": "stdout",
          "text": [
            "\n",
            "\u001b[33mIngresa el intervalo menor -> \u001b[0m5\n",
            "\n",
            "\u001b[33mIngresa el intervalo mayor -> \u001b[0m100000\n",
            "\n",
            "\u001b[34mLos números narcisistas son: \u001b[0m\n",
            "\n",
            "5\n",
            "6\n",
            "7\n",
            "8\n",
            "9\n",
            "153\n",
            "370\n",
            "371\n",
            "407\n",
            "1634\n",
            "8208\n",
            "9474\n",
            "54748\n",
            "92727\n",
            "93084\n"
          ]
        }
      ]
    },
    {
      "cell_type": "code",
      "source": [],
      "metadata": {
        "id": "RUNO7OdXxBa6"
      },
      "execution_count": null,
      "outputs": []
    },
    {
      "cell_type": "markdown",
      "source": [
        "#Ejercicio 27"
      ],
      "metadata": {
        "id": "NSRXag7bC97U"
      }
    },
    {
      "cell_type": "markdown",
      "source": [
        "##Programa que al recibir un número entero positivo N, permita obtener la lista de número de Keith"
      ],
      "metadata": {
        "id": "PIziscfrDG2l"
      }
    },
    {
      "cell_type": "code",
      "source": [
        "#Realizamos el filtro para ingresar entero positivo\n",
        "def filtroNumero():\n",
        "  while True:\n",
        "    try:\n",
        "      n = int(input(f\"\\n\\x1b[33mIngrese un número entero positivo -> \\x1b[0m\"))\n",
        "      if(n <= 0):continue\n",
        "      break\n",
        "\n",
        "    except ValueError:\n",
        "      print(f\"\\n\\x1b[31mIngrese una entrada valida!\\x1b[0m\")\n",
        "\n",
        "  return n\n",
        "\n",
        "#Obtenemos los digitos mediante esta funcion\n",
        "def encontrarDigitos(numero):\n",
        "  digitos = []\n",
        "\n",
        "  #Separa digitos\n",
        "  while numero > 0:\n",
        "    digitos.append(numero % 10)\n",
        "    numero //=  10\n",
        "\n",
        "  #ordena\n",
        "  digitos.reverse()\n",
        "\n",
        "  return digitos\n",
        "\n",
        "\n",
        "#Funcion para encontrar números keith\n",
        "def keith(numero):\n",
        "  #Mando a llamar a la funcion de digitos\n",
        "  digitos = encontrarDigitos(numero)\n",
        "  #Almaceno cantidad de digitos\n",
        "  ndigitos = len(digitos)\n",
        "\n",
        "  #Generamos numeros\n",
        "  while digitos[-1] < numero:\n",
        "    #Recorre desde el final\n",
        "    k = -ndigitos\n",
        "    suma = 0\n",
        "\n",
        "    while k < 0:\n",
        "      suma += digitos[k]\n",
        "      #Aumento contador\n",
        "      k += 1\n",
        "    digitos.append((suma))\n",
        "\n",
        "  #Indica si el número ingresado es o no no. de keith\n",
        "  if digitos[-1] == numero:\n",
        "    print(f\"\\n\\x1b[32mEl número ingresado es ún número de Keith! ya que ->\\x1b[0m\\n\")\n",
        "    print(f\"\\x1b[34mLa lista con números de Keith es: \\n\\x1b[0m\")\n",
        "\n",
        "  else:\n",
        "    print(f\"\\n\\x1b[31mEl número ingresado no es ún número de Keith! ya que ->\\x1b[0m\\n\")\n",
        "    print(f\"\\x1b[34mLa lista con números de Keith es: \\n\\x1b[0m\")\n",
        "\n",
        "\n",
        "  return digitos\n",
        "\n",
        "print(keith(filtroNumero()))"
      ],
      "metadata": {
        "colab": {
          "base_uri": "https://localhost:8080/"
        },
        "id": "XDk5F7WZ2mCz",
        "outputId": "ff03fa17-f92b-4be3-eeff-9cd479a21725"
      },
      "execution_count": null,
      "outputs": [
        {
          "output_type": "stream",
          "name": "stdout",
          "text": [
            "\n",
            "\u001b[33mIngrese un número entero positivo -> \u001b[0mfsdfsdf\n",
            "\n",
            "\u001b[31mIngrese una entrada valida!\u001b[0m\n",
            "\n",
            "\u001b[33mIngrese un número entero positivo -> \u001b[0msfsfd\n",
            "\n",
            "\u001b[31mIngrese una entrada valida!\u001b[0m\n",
            "\n",
            "\u001b[33mIngrese un número entero positivo -> \u001b[0m-89\n",
            "\n",
            "\u001b[33mIngrese un número entero positivo -> \u001b[0m75\n",
            "\n",
            "\u001b[32mEl número ingresado es ún número de Keith! ya que ->\u001b[0m\n",
            "\n",
            "\u001b[34mLa lista con números de Keith es: \n",
            "\u001b[0m\n",
            "[7, 5, 12, 17, 29, 46, 75]\n"
          ]
        }
      ]
    },
    {
      "cell_type": "markdown",
      "source": [
        "# Ejercicio 28"
      ],
      "metadata": {
        "id": "6NaxNRIdCQx8"
      }
    },
    {
      "cell_type": "markdown",
      "source": [
        "##Programa que al ingresar un número entero positivo en un intervalo de 1 a 3999, muestre su representación en números romanos"
      ],
      "metadata": {
        "id": "A9HmQ2y4CE9Z"
      }
    },
    {
      "cell_type": "code",
      "source": [
        "#Realizamos el filtro para ingresar entero positivo\n",
        "def filtroNumero():\n",
        "  while True:\n",
        "    try:\n",
        "      n = int(input(f\"\\n\\x1b[33mIngrese un número entero positivo en el intervalo (1,3999) -> \\x1b[0m\"))\n",
        "      if(n <= 0 or n > 3999):continue\n",
        "      break\n",
        "\n",
        "    except ValueError:\n",
        "      print(f\"\\n\\x1b[31mIngrese una entrada valida!\\x1b[0m\")\n",
        "\n",
        "  return n\n",
        "\n",
        "#Creamos funcion para generar numeros\n",
        "def romanos(numero):\n",
        "    #Declaro valores y símbolos\n",
        "    valores = [1000, 900, 500, 400, 100, 90, 50, 40, 10, 9, 5, 4, 1]\n",
        "    simbolos = [\"M\", \"CM\", \"D\", \"CD\", \"C\", \"XC\", \"L\", \"XL\", \"X\", \"IX\", \"V\", \"IV\", \"I\"]\n",
        "    resultado = \"\"\n",
        "    i = 0\n",
        "\n",
        "    #Bucel para detectar minetra el numero sea mayor a cero\n",
        "    while numero > 0:\n",
        "        #Realizo divison entera entre los valores\n",
        "        div = numero // valores[i]\n",
        "        #Obtengo el el módulo entre ello para separar digitos\n",
        "        numero = numero % valores[i]\n",
        "        #Agrego a resultado el valor de div por simbolos\n",
        "        resultado += simbolos[i] * div\n",
        "        #Aumento contador\n",
        "        i += 1\n",
        "\n",
        "    return resultado\n",
        "\n",
        "\n",
        "print(f\"\\nEl número romano correspondiente es: \\x1b[34m{romanos(filtroNumero())}\\x1b[0m\")"
      ],
      "metadata": {
        "colab": {
          "base_uri": "https://localhost:8080/"
        },
        "id": "8uEG2XNhWDQu",
        "outputId": "6da0955e-35e0-4b25-946b-c34112fd06df"
      },
      "execution_count": null,
      "outputs": [
        {
          "output_type": "stream",
          "name": "stdout",
          "text": [
            "\n",
            "\u001b[33mIngrese un número entero positivo en el intervalo (1,3999) -> \u001b[0m100\n",
            "\n",
            "El número romano correspondiente es: \u001b[34mC\u001b[0m\n"
          ]
        }
      ]
    },
    {
      "cell_type": "markdown",
      "source": [],
      "metadata": {
        "id": "XmabwUS6gtu-"
      }
    },
    {
      "cell_type": "markdown",
      "source": [
        "# Ejercicio 29"
      ],
      "metadata": {
        "id": "VJDAcauzgxU-"
      }
    },
    {
      "cell_type": "markdown",
      "source": [
        "##Desarrollar un programa que muestre la serie de números de Pell que el usuario solicite hasta un total de N (número entero positivo ingresado por el usuario)"
      ],
      "metadata": {
        "id": "l2idcGVxgza-"
      }
    },
    {
      "cell_type": "code",
      "source": [
        "#Creamos función para el filtro de números ingresados\n",
        "def filtroNumero():\n",
        "  while True:\n",
        "    try:\n",
        "      n = int(input(f\"\\n\\x1b[33mIngrese un número entero positivo -> \\x1b[0m\"))\n",
        "      if(n <= 0):continue\n",
        "      break\n",
        "\n",
        "    except ValueError:\n",
        "      print(f\"\\n\\x1b[31mIngrese una entrada valida!\\x1b[0m\")\n",
        "\n",
        "  return n\n",
        "\n",
        "#función para encontrar números de Pell\n",
        "def pell(n):\n",
        "\n",
        "  #Creamos funcion para el numerador\n",
        "  def numerador(n):\n",
        "    num = [1,1]\n",
        "    for i in range(2,n):\n",
        "      num.append((2*num[i-1] + num[i-2]))\n",
        "\n",
        "    return num\n",
        "\n",
        "  #Creamos funcion para el denominador\n",
        "  def denominador(n):\n",
        "    den = [0,1]\n",
        "    for i in range(2,n):\n",
        "      den.append(2*den[i-1] + den[i-2])\n",
        "\n",
        "    return den\n",
        "\n",
        "  #Llamamos a las funciones\n",
        "  num = numerador(n)\n",
        "  den = denominador(n)\n",
        "\n",
        "  sucesionPell = []\n",
        "\n",
        "  #Bucle para crear sucesion\n",
        "  for i in range(1,n):\n",
        "    #Agrega a la lista con el formato\n",
        "    sucesionPell.append(f\"{num[i]}/{den[i]}\")\n",
        "\n",
        "  return sucesionPell\n",
        "\n",
        "print(f\"\\nLa sucesión de Pell es -> \\x1b[34m {pell(filtroNumero())} \\x1b[0m\")"
      ],
      "metadata": {
        "colab": {
          "base_uri": "https://localhost:8080/"
        },
        "id": "lX9QlDLcfPaQ",
        "outputId": "b296a16b-c2b3-4cc8-8c59-90d9f5b28c45"
      },
      "execution_count": null,
      "outputs": [
        {
          "output_type": "stream",
          "name": "stdout",
          "text": [
            "\n",
            "\u001b[33mIngrese un número entero positivo -> \u001b[0m10\n",
            "\n",
            "La sucesión de Pell es -> \u001b[34m ['1/1', '3/2', '7/5', '17/12', '41/29', '99/70', '239/169', '577/408', '1393/985'] \u001b[0m\n"
          ]
        }
      ]
    },
    {
      "cell_type": "markdown",
      "source": [
        "# Ejercicio 30"
      ],
      "metadata": {
        "id": "EusrMi062EfN"
      }
    },
    {
      "cell_type": "markdown",
      "source": [
        "##Desarrollar un programa que permita el cálculo del valor de π/4 por medio de una fracción continua,el usuario ingresará el total N de fracciones a calcular como un número entero positivo Fracción continua"
      ],
      "metadata": {
        "id": "C-_XySH72IZj"
      }
    },
    {
      "cell_type": "code",
      "source": [
        "#Creamos funcion para el filtro de números\n",
        "def filtroNumero():\n",
        "  while True:\n",
        "    try:\n",
        "      n = int(input(f\"\\n\\x1b[33mIngrese un número entero positivo -> \\x1b[0m\"))\n",
        "      if(n <= 0):continue\n",
        "      break\n",
        "\n",
        "    except ValueError:\n",
        "      print(f\"\\n\\x1b[31mIngrese una entrada valida!\\x1b[0m\")\n",
        "\n",
        "  return n\n",
        "\n",
        "#Creamos funcion para generar sucesiones\n",
        "def sucesiones(numero):\n",
        "  #Encontramos números primos ya que son la base de la sucesion\n",
        "  primos = []\n",
        "  for i in range(2, numero + 1):  # Empezamos desde 2, ya que 1 no es primo\n",
        "        es_primo = True  # Suponemos que i es primo\n",
        "        for j in range(2, i):  # Verificamos divisibilidad desde 2 hasta i-1\n",
        "            if i % j == 0:  # Si i es divisible por j, no es primo\n",
        "                es_primo = False\n",
        "                break\n",
        "        if es_primo:  # Si es primo, lo agregamos a la lista\n",
        "            primos.append(i)\n",
        "\n",
        "  #Calculamos la sucesión:\n",
        "  sucesion = 0\n",
        "  for i in range(0,n):\n",
        "    sucesion += primos[i]\n",
        "\n",
        "\n",
        "\n",
        "\n",
        "sucesiones(10)"
      ],
      "metadata": {
        "id": "Bpg6cBVgyEuJ",
        "colab": {
          "base_uri": "https://localhost:8080/"
        },
        "outputId": "d08dac7e-cd98-4a15-f354-91dda4f271f9"
      },
      "execution_count": null,
      "outputs": [
        {
          "output_type": "stream",
          "name": "stdout",
          "text": [
            "[3, 4, 6, 7, 8, 9]\n"
          ]
        }
      ]
    },
    {
      "cell_type": "code",
      "source": [
        "#Creamos funcion para el filtro de números\n",
        "def filtroNumero():\n",
        "  while True:\n",
        "    try:\n",
        "      n = int(input(f\"\\n\\x1b[33mIngrese un número entero positivo -> \\x1b[0m\"))\n",
        "      if(n <= 0):continue\n",
        "      break\n",
        "\n",
        "    except ValueError:\n",
        "      print(f\"\\n\\x1b[31mIngrese una entrada valida!\\x1b[0m\")\n",
        "\n",
        "  return n\n",
        "\n",
        "def sucesiones(numeo):\n",
        "  #Declaramos las variables\n",
        "  denominador = 0; resultado = 0; constante = -1; contador = 0\n",
        "  for i in range(1,n):\n",
        "    #Calculamos la constatne que se suma al cociente\n",
        "    constante += 2\n",
        "    #Al contador le sumamos la constante\n",
        "    contador += constante\n",
        "\n",
        "  #Luego, asignamos el valor del denominador desded el incio\n",
        "  denominador = constante + (contador / (contador + constante + 2))\n",
        "\n",
        "  #sumando la última parte del cociente, previamente calculada\n",
        "  for j in range(n-1,1,-1):\n",
        "    contador -= constante\n",
        "    constante -= 2\n",
        "    denominador = constante + (contador / denominador)\n",
        "\n",
        "  #asignamos el valor del denominador al resultado\n",
        "  resultado = 1 / denominador\n",
        "\n",
        "  return resultado\n",
        "\n",
        "print(f\"\\n\\x1b[34mLas aproximación a π/4 es -> \\x1b[0m\")\n",
        "print(f\"\\n{sucesiones(filtroNumero())}\")"
      ],
      "metadata": {
        "id": "iwLxBBbh652-",
        "colab": {
          "base_uri": "https://localhost:8080/"
        },
        "outputId": "c6fd9ad6-1e2b-4393-8db1-6daef6c3e013"
      },
      "execution_count": 7,
      "outputs": [
        {
          "output_type": "stream",
          "name": "stdout",
          "text": [
            "\n",
            "\u001b[34mLas aproximación a π/4 es -> \u001b[0m\n",
            "\n",
            "\u001b[33mIngrese un número entero positivo -> \u001b[0m78\n",
            "\n",
            "0.7853982853980324\n"
          ]
        }
      ]
    },
    {
      "cell_type": "markdown",
      "source": [
        "#Ejercicio 31\n"
      ],
      "metadata": {
        "id": "KU63vBwx_MQd"
      }
    },
    {
      "cell_type": "markdown",
      "source": [
        "##Desarrollar un programa que muestre al usuario si un número entero positivo ingresado por él es un número feliz, en caso de serlo mostrar el por qué se trata de uno de ellos (mostrar la relación de recurrencia para su cálculo)"
      ],
      "metadata": {
        "id": "q71dejy4_QRO"
      }
    },
    {
      "cell_type": "code",
      "source": [
        "#Filtro para ingresar número\n",
        "def filtroNumero():\n",
        "  while True:\n",
        "    try:\n",
        "      n = int(input(f\"\\n\\x1b[33mIngrese un número entero positivo -> \\x1b[0m\"))\n",
        "      if(n <= 0):continue\n",
        "      break\n",
        "\n",
        "    except ValueError:\n",
        "      print(f\"\\n\\x1b[31mIngrese una entrada valida!\\x1b[0m\")\n",
        "\n",
        "  return n\n",
        "\n",
        "#Definimos funcion para comprobar is\n",
        "\n",
        "\n"
      ],
      "metadata": {
        "id": "mB3uSggkzXa-"
      },
      "execution_count": null,
      "outputs": []
    }
  ]
}