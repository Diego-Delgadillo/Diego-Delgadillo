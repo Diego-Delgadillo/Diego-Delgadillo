{
  "nbformat": 4,
  "nbformat_minor": 0,
  "metadata": {
    "colab": {
      "provenance": [],
      "authorship_tag": "ABX9TyOuXONabfxSJuqNUzxbqDdj",
      "include_colab_link": true
    },
    "kernelspec": {
      "name": "python3",
      "display_name": "Python 3"
    },
    "language_info": {
      "name": "python"
    }
  },
  "cells": [
    {
      "cell_type": "markdown",
      "metadata": {
        "id": "view-in-github",
        "colab_type": "text"
      },
      "source": [
        "<a href=\"https://colab.research.google.com/github/Diego-Delgadillo/Diego-Delgadillo/blob/main/TAREA01b_DIEGO_RICARDO_DELGADILLO_GOMEZ.ipynb\" target=\"_parent\"><img src=\"https://colab.research.google.com/assets/colab-badge.svg\" alt=\"Open In Colab\"/></a>"
      ]
    },
    {
      "cell_type": "markdown",
      "source": [
        "##TAREA01b-DIEGO RICARDO DELGADILLO GOMEZ\n",
        "##*pd: Gracias por sus clases profe,lo queremos!*"
      ],
      "metadata": {
        "id": "9pu7yjBSuuHy"
      }
    },
    {
      "cell_type": "markdown",
      "source": [
        "#Ejercicio 21"
      ],
      "metadata": {
        "id": "TYyVhtOobLU9"
      }
    },
    {
      "cell_type": "markdown",
      "source": [
        "##Programa que calcule la doble factorial (n!!) de un número entero positivo"
      ],
      "metadata": {
        "id": "C7ALVvjPT0pW"
      }
    },
    {
      "cell_type": "code",
      "execution_count": null,
      "metadata": {
        "id": "O3cEtqUlWHx6",
        "colab": {
          "base_uri": "https://localhost:8080/"
        },
        "outputId": "013370d4-965b-4f94-e992-13e9beabd357"
      },
      "outputs": [
        {
          "output_type": "stream",
          "name": "stdout",
          "text": [
            "\u001b[33mIngrese un número entero positivo -> \u001b[0m8\n",
            "\n",
            "El doble factorial de 8 es -> \u001b[34m384\u001b[0m\n"
          ]
        }
      ],
      "source": [
        "#Filtro para ingresar entero positivo\n",
        "while True:\n",
        "  try:\n",
        "    n = int(input(f\"\\x1b[33mIngrese un número entero positivo -> \\x1b[0m\"))\n",
        "    if(n < 0):continue\n",
        "    break\n",
        "\n",
        "  except ValueError:\n",
        "    print(f\"\\n\\x1b[31mIngrese una entrada válida!\\x1b[0m\\n\")\n",
        "\n",
        "\n",
        "#Creamos una funcion para hallar el doble factoriall de un número\n",
        "def dobleFactorial(n):\n",
        "  dobleFact = 1\n",
        "  #Encontramos si el número es par o impar\n",
        "  if(n == 1): print(f\"\\nEl doble factorial de {n} es {1}\")\n",
        "\n",
        "  else:\n",
        "   if(n % 2 == 0):\n",
        "    for i in range(1, n + 1):\n",
        "      if(i % 2 == 0):\n",
        "        dobleFact *= i\n",
        "    print(f\"\\nEl doble factorial de {n} es -> \\x1b[34m{dobleFact}\\x1b[0m\")\n",
        "\n",
        "   else:\n",
        "    if(n % 2 != 0):\n",
        "      for i in range(1, n + 1):\n",
        "        if(i % 2 != 0):\n",
        "          dobleFact *= i\n",
        "    print(f\"\\nEl doble factorial de {n} es -> \\x1b[34m{dobleFact}\\x1b[0m\")\n",
        "\n",
        "#Mando a llamar a la función\n",
        "dobleFactorial(n)"
      ]
    },
    {
      "cell_type": "markdown",
      "source": [
        "# Ejercicio 22"
      ],
      "metadata": {
        "id": "JBLfY-PLR8AF"
      }
    },
    {
      "cell_type": "markdown",
      "source": [
        "##Programa que permita calcular el dígito de control del código de barras EAN-8, las instrucciones"
      ],
      "metadata": {
        "id": "eOQQHCDtR1e8"
      }
    },
    {
      "cell_type": "code",
      "source": [
        "#Primero el usuario ingresa el código a generar\n",
        "n = list(input(f\"\\x1b[33mIngrese el código a generar de 8 dígitos-> \\x1b[0m\"))\n",
        "\n",
        "#Sumamos los números que tienen posición impar\n",
        "impar = 0\n",
        "for i in range(0, len(n), 2):\n",
        "  impar += int(n[i])\n",
        "\n",
        "#Sumamos los números con posición par\n",
        "par = 0\n",
        "for i in range(1, len(n), 2):\n",
        "  par += int(n[i])\n",
        "\n",
        "#multiplico por 3\n",
        "par *= 3\n",
        "\n",
        "print(f\"\\nSuma de impares -> \\x1b[32m{impar}\\x1b[0m\")\n",
        "\n",
        "print(f\"\\nSuma de pares por 3 -> \\x1b[32m{par}\\x1b[0m\")\n",
        "\n",
        "#Sumamos los resultados\n",
        "suma = par + impar\n",
        "print(f\"\\nSuma de ambos-> \\x1b[32m{suma}\\x1b[0m\")\n",
        "\n",
        "#obtengo módulo de 10\n",
        "modulo = suma % 10\n",
        "print(f\"\\nModulo de 10 con suma-> \\x1b[32m{modulo}\\x1b[0m\")\n",
        "\n",
        "#Dígito de control\n",
        "control = 10 - modulo\n",
        "print(f\"\\nDígito de control-> \\x1b[32m{control}\\x1b[0m\")\n",
        "\n",
        "#Convertimos a entero la lista\n",
        "codigo = int ( '' .join( map ( str ,n)))\n",
        "print(f\"\\nEL código resultante es -> \\x1b[34m{codigo} {control}\\x1b[0m\")"
      ],
      "metadata": {
        "id": "hRaWRT-xWZY0",
        "colab": {
          "base_uri": "https://localhost:8080/"
        },
        "outputId": "4512d518-902e-4773-81e9-2c792ec3fd56"
      },
      "execution_count": null,
      "outputs": [
        {
          "output_type": "stream",
          "name": "stdout",
          "text": [
            "\u001b[33mIngrese el código a generar de 8 dígitos-> \u001b[0m12345678\n",
            "\n",
            "Suma de impares -> \u001b[32m16\u001b[0m\n",
            "\n",
            "Suma de pares por 3 -> \u001b[32m60\u001b[0m\n",
            "\n",
            "Suma de ambos-> \u001b[32m76\u001b[0m\n",
            "\n",
            "Modulo de 10 con suma-> \u001b[32m6\u001b[0m\n",
            "\n",
            "Dígito de control-> \u001b[32m4\u001b[0m\n",
            "\n",
            "EL código resultante es -> \u001b[34m12345678 4\u001b[0m\n"
          ]
        }
      ]
    },
    {
      "cell_type": "markdown",
      "source": [
        "# Ejercicio 23"
      ],
      "metadata": {
        "id": "n8DOtAiCxllo"
      }
    },
    {
      "cell_type": "markdown",
      "source": [
        "##23. Programa que permita Imprimir los N números de la Serie de Padovan, donde N es un número entero positivo que el usuario debe ingresar para obtener los valores de la serie"
      ],
      "metadata": {
        "id": "Jp1KWCRjxkUY"
      }
    },
    {
      "cell_type": "code",
      "source": [
        "#Creamos una función para obtener la serie\n",
        "def padovan():\n",
        "  #filtro para ingresar entero postivo\n",
        "  while True:\n",
        "    try:\n",
        "      n = int(input(f\"\\x1b[33mIngrese un número entero positivo -> \\x1b[0m\"))\n",
        "      if(n <= 0):continue\n",
        "      break\n",
        "\n",
        "    except ValueError:\n",
        "      print(f\"\\n\\x1b[31mIngrese una entrada válida!\\x1b[0m\\n\")\n",
        "\n",
        "  #Definimos los primeros términos\n",
        "  Sucesionpadovan = [1,1,1]\n",
        "\n",
        "  #Generamos la serie, de modo que:\n",
        "  for i in range(0,n):\n",
        "    padovan = Sucesionpadovan[i] + Sucesionpadovan[i+1]\n",
        "    Sucesionpadovan.append(padovan)\n",
        "  return Sucesionpadovan\n",
        "\n",
        "#llamo a la función\n",
        "print(f\"\\nLa serie de padovan es \\x1b[34m{padovan()}\\x1b[0m\")"
      ],
      "metadata": {
        "colab": {
          "base_uri": "https://localhost:8080/"
        },
        "id": "nW6_sZlZp1NR",
        "outputId": "c295b371-442f-4536-c0a7-f9c869a5693c"
      },
      "execution_count": null,
      "outputs": [
        {
          "output_type": "stream",
          "name": "stdout",
          "text": [
            "\u001b[33mIngrese un número entero positivo -> \u001b[0m9\n",
            "\n",
            "La serie de padovan es \u001b[34m[1, 1, 1, 2, 2, 3, 4, 5, 7, 9, 12, 16]\u001b[0m\n"
          ]
        }
      ]
    },
    {
      "cell_type": "markdown",
      "source": [
        "#Ejercicio 24"
      ],
      "metadata": {
        "id": "gPVjGc9S3LJK"
      }
    },
    {
      "cell_type": "markdown",
      "source": [
        "##Programa que permita obtener una cantidad N de números pseudoaleatorios (donde N es un número entero, mayor a 0) utilizando para ello el método/algoritmo de generación de números congruencial. En el siguiente documento se encuentra información junto con ejemplos para probar el algoritmo, mostrar la tabla de cómo se van generando y guardar los números generados en una lista"
      ],
      "metadata": {
        "id": "JD02mXR43RWc"
      }
    },
    {
      "cell_type": "code",
      "source": [
        "#Solicitamos que el usuario ingrese los parámetros\n",
        "\n",
        "#Filtro para ingresar enteros positivos\n",
        "while True:\n",
        "  try:\n",
        "    a = int(input(f\"\\n\\x1b[33mIngrese el valor de a -> \\x1b[0m\"))\n",
        "    b = int(input(f\"\\n\\x1b[33mIngrese el valor de b -> \\x1b[0m\"))\n",
        "    m = int(input(f\"\\n\\x1b[33mIngrese el valor de m -> \\x1b[0m\"))\n",
        "    N = int(input(f\"\\n\\x1b[33mIngrese la cantidad de elementos a obtener -> \\x1b[0m\"))\n",
        "    if(a < 0 or b < 0 or m < 0 or N < 0):continue\n",
        "    break\n",
        "\n",
        "  except ValueError:\n",
        "    print(f\"\\n\\x1b[31mIngrese una entrada válida!\\x1b[0m\\n\")\n",
        "\n",
        "#Incializo contador en cero:\n",
        "n = 0\n",
        "xn=N\n",
        "numeros = []\n",
        "\n",
        "print(f\"\\n\\x1b[34mn   xn    xn+1  un=xn/b \\x1b[0m\")\n",
        "\n",
        "#Creo bucle para iterar\n",
        "for i in range(0,N):\n",
        "  #condición para le primer valor de xn\n",
        "\n",
        "  if(i == 0):\n",
        "    un = xn/m\n",
        "    print(f\"\\n{i+1}  {N}   {xn}     {un:.4f}\")\n",
        "    n += 1\n",
        "    numeros.append(xn)\n",
        "    continue\n",
        "\n",
        "  #Hallamos xn\n",
        "  xn = (a * xn + b) % m\n",
        "  un = xn/m\n",
        "  n += 1\n",
        "\n",
        "  numeros.append(xn)\n",
        "  #imprime el formato\n",
        "  print(f\"\\n{i+1}   {xn}   {numeros[i]}     {un:.4f}\")\n",
        "  #guarda en una lista los números\n"
      ],
      "metadata": {
        "id": "eUAYwr4_zELG",
        "colab": {
          "base_uri": "https://localhost:8080/"
        },
        "outputId": "457f4cee-cab6-4ca9-bdcc-67cb09cb77ac"
      },
      "execution_count": null,
      "outputs": [
        {
          "output_type": "stream",
          "name": "stdout",
          "text": [
            "\n",
            "\u001b[33mIngrese el valor de a -> \u001b[0m5\n",
            "\n",
            "\u001b[33mIngrese el valor de b -> \u001b[0m0\n",
            "\n",
            "\u001b[33mIngrese el valor de m -> \u001b[0m13\n",
            "\n",
            "\u001b[33mIngrese la cantidad de elementos a obtener -> \u001b[0m5\n",
            "\n",
            "\u001b[34mn   xn    xn+1  un=xn/b \u001b[0m\n",
            "\n",
            "1  5   5     0.3846\n",
            "\n",
            "2   12   12     0.9231\n",
            "\n",
            "3   8   8     0.6154\n",
            "\n",
            "4   1   1     0.0769\n",
            "\n",
            "5   5   5     0.3846\n"
          ]
        }
      ]
    },
    {
      "cell_type": "markdown",
      "source": [],
      "metadata": {
        "id": "0zYPVknvAlCh"
      }
    },
    {
      "cell_type": "markdown",
      "source": [
        "#Ejercicio 25"
      ],
      "metadata": {
        "id": "y_tcm9kpAmWI"
      }
    },
    {
      "cell_type": "markdown",
      "source": [
        "##Programa que obtenga el Máximo Común Divisor (MCD) y el mínimo común múltiplo (mcm) de un par de números enteros positivos. (Existe un algoritmo ya establecido para este caso, se le conoce como algoritmo de Euclídes)"
      ],
      "metadata": {
        "id": "_Oov4kfaAp14"
      }
    },
    {
      "cell_type": "code",
      "source": [
        "from ctypes import resize\n",
        "#Creamos un filtro para ingresar enteros positivos\n",
        "while True:\n",
        "  try:\n",
        "    n1 = int(input(f\"\\n\\x1b[33mIngrese el primer número entero positivo -> \\x1b[0m\"))\n",
        "    if(n1 < 0):continue\n",
        "    n2 = int(input(f\"\\n\\x1b[33mIngrese el segundo número entero positivo -> \\x1b[0m\"))\n",
        "    if(n2 < 0):continue\n",
        "    break\n",
        "\n",
        "  except ValueError:\n",
        "    print(f\"\\n\\x1b[31mIngrese una entrada válida!\\x1b[0m\")\n",
        "\n",
        "#Creamos una función para hallar mcd\n",
        "def mcd(n1, n2):\n",
        "  #Definimos el residuos\n",
        "  residuo = 0\n",
        "  #mientras n2 sea mayor a cero\n",
        "  while(n2 > 0):\n",
        "    #asigna el valor de residuo a n2\n",
        "    residuo = n2\n",
        "    #Encontramos el módulo de n1 con n2\n",
        "    n2 = n1 % n2\n",
        "    #Asigna n1 a residuo\n",
        "    n1 = residuo\n",
        "    #Regresa n2\n",
        "  return n1\n",
        "\n",
        "#para mcm\n",
        "def mcm(n1, n2):\n",
        "  #regresa el valor de dividir n1 entre el mcd por n2\n",
        "  return (n1 / mcd(n1, n2)) * n2\n",
        "\n",
        "#imprime y manda a llamar funciones\n",
        "print(f\"\\nEl MCD de {n1} y {n2} es -> \\x1b[34m{mcd(n1, n2)}\\x1b[0m\")\n",
        "print(f\"\\nEl MCM de {n1} y {n2} es -> \\x1b[34m{mcm(n1,n2)}\\x1b[0m\")"
      ],
      "metadata": {
        "colab": {
          "base_uri": "https://localhost:8080/"
        },
        "id": "VFLMrxGIWpXG",
        "outputId": "1766abca-b111-4258-9689-b957767d48d7"
      },
      "execution_count": null,
      "outputs": [
        {
          "output_type": "stream",
          "name": "stdout",
          "text": [
            "\n",
            "\u001b[33mIngrese el primer número entero positivo -> \u001b[0m30\n",
            "\n",
            "\u001b[33mIngrese el segundo número entero positivo -> \u001b[0m5\n",
            "\n",
            "El MCD de 30 y 5 es -> \u001b[34m5\u001b[0m\n",
            "\n",
            "El MCM de 30 y 5 es -> \u001b[34m30.0\u001b[0m\n"
          ]
        }
      ]
    },
    {
      "cell_type": "markdown",
      "source": [
        "#Ejercicio 26"
      ],
      "metadata": {
        "id": "GvJ9qSW_qRwP"
      }
    },
    {
      "cell_type": "markdown",
      "source": [
        "##Programa que permita obtener la lista de números narcisistas que existan en un intervalo dado por el usuario [a,b] (verificar que el intervalo sea válido con números enteros y positivos)"
      ],
      "metadata": {
        "id": "CyInz1anqTQK"
      }
    },
    {
      "cell_type": "code",
      "source": [
        "#Entrada en intervalo adecuado\n",
        "while True:\n",
        "  try:\n",
        "    a = int(input(f\"\\n\\x1b[33mIngresa el intervalo menor -> \\x1b[0m\"))\n",
        "    if(a < 0):continue\n",
        "    b = int(input(f\"\\n\\x1b[33mIngresa el intervalo mayor -> \\x1b[0m\"))\n",
        "    if(b < a or b < 0):b = int(input(f\"\\n\\x1b[33mIngresa el intervalo mayor -> \\x1b[0m\"))\n",
        "\n",
        "    break\n",
        "  except ValueError:\n",
        "    print(f\"\\n\\x1b[31mIngresa una entrada válida!\\x1b[0m\")\n",
        "\n",
        "#Generamos lista de números narcisistas\n",
        "def narcisistas(n1,n2):\n",
        "  print(f\"\\n\\x1b[34mLos números narcisistas son: \\x1b[0m\\n\")\n",
        "\n",
        "  #creo ciclo\n",
        "  for i in range(n1,n2+1):\n",
        "    #Encontramos longitud de i\n",
        "    m = len(str(i))\n",
        "    suma = 0\n",
        "    #Iteramos en los caracteres de i\n",
        "    for digitos in str(i):\n",
        "      #La suma es igual a los digitos elevados a m\n",
        "      suma += int(digitos)**m\n",
        "      #si es igual a lo imprime\n",
        "    if suma==i:\n",
        "      print(i)\n",
        "\n",
        "narcisistas(a,b)"
      ],
      "metadata": {
        "colab": {
          "base_uri": "https://localhost:8080/"
        },
        "id": "RQQQkpWFlB4r",
        "outputId": "c9d21ad2-987d-4554-c1cb-026556f1a148"
      },
      "execution_count": null,
      "outputs": [
        {
          "output_type": "stream",
          "name": "stdout",
          "text": [
            "\n",
            "\u001b[33mIngresa el intervalo menor -> \u001b[0m5\n",
            "\n",
            "\u001b[33mIngresa el intervalo mayor -> \u001b[0m100000\n",
            "\n",
            "\u001b[34mLos números narcisistas son: \u001b[0m\n",
            "\n",
            "5\n",
            "6\n",
            "7\n",
            "8\n",
            "9\n",
            "153\n",
            "370\n",
            "371\n",
            "407\n",
            "1634\n",
            "8208\n",
            "9474\n",
            "54748\n",
            "92727\n",
            "93084\n"
          ]
        }
      ]
    },
    {
      "cell_type": "code",
      "source": [],
      "metadata": {
        "id": "RUNO7OdXxBa6"
      },
      "execution_count": null,
      "outputs": []
    },
    {
      "cell_type": "markdown",
      "source": [
        "#Ejercicio 27"
      ],
      "metadata": {
        "id": "NSRXag7bC97U"
      }
    },
    {
      "cell_type": "markdown",
      "source": [
        "##Programa que al recibir un número entero positivo N, permita obtener la lista de número de Keith"
      ],
      "metadata": {
        "id": "PIziscfrDG2l"
      }
    },
    {
      "cell_type": "code",
      "source": [
        "#Realizamos el filtro para ingresar entero positivo\n",
        "def filtroNumero():\n",
        "  while True:\n",
        "    try:\n",
        "      n = int(input(f\"\\n\\x1b[33mIngrese un número entero positivo -> \\x1b[0m\"))\n",
        "      if(n <= 0):continue\n",
        "      break\n",
        "\n",
        "    except ValueError:\n",
        "      print(f\"\\n\\x1b[31mIngrese una entrada valida!\\x1b[0m\")\n",
        "\n",
        "  return n\n",
        "\n",
        "#Obtenemos los digitos mediante esta funcion\n",
        "def encontrarDigitos(numero):\n",
        "  digitos = []\n",
        "\n",
        "  #Separa digitos\n",
        "  while numero > 0:\n",
        "    digitos.append(numero % 10)\n",
        "    numero //=  10\n",
        "\n",
        "  #ordena\n",
        "  digitos.reverse()\n",
        "\n",
        "  return digitos\n",
        "\n",
        "\n",
        "#Funcion para encontrar números keith\n",
        "def keith(numero):\n",
        "  #Mando a llamar a la funcion de digitos\n",
        "  digitos = encontrarDigitos(numero)\n",
        "  #Almaceno cantidad de digitos\n",
        "  ndigitos = len(digitos)\n",
        "\n",
        "  #Generamos numeros\n",
        "  while digitos[-1] < numero:\n",
        "    #Recorre desde el final\n",
        "    k = -ndigitos\n",
        "    suma = 0\n",
        "\n",
        "    while k < 0:\n",
        "      suma += digitos[k]\n",
        "      #Aumento contador\n",
        "      k += 1\n",
        "    digitos.append((suma))\n",
        "\n",
        "  #Indica si el número ingresado es o no no. de keith\n",
        "  if digitos[-1] == numero:\n",
        "    print(f\"\\n\\x1b[32mEl número ingresado es ún número de Keith! ya que ->\\x1b[0m\\n\")\n",
        "    print(f\"\\x1b[34mLa lista con números de Keith es: \\n\\x1b[0m\")\n",
        "\n",
        "  else:\n",
        "    print(f\"\\n\\x1b[31mEl número ingresado no es ún número de Keith! ya que ->\\x1b[0m\\n\")\n",
        "    print(f\"\\x1b[34mLa lista con números de Keith es: \\n\\x1b[0m\")\n",
        "\n",
        "\n",
        "  return digitos\n",
        "\n",
        "print(keith(filtroNumero()))"
      ],
      "metadata": {
        "colab": {
          "base_uri": "https://localhost:8080/"
        },
        "id": "XDk5F7WZ2mCz",
        "outputId": "ff03fa17-f92b-4be3-eeff-9cd479a21725"
      },
      "execution_count": null,
      "outputs": [
        {
          "output_type": "stream",
          "name": "stdout",
          "text": [
            "\n",
            "\u001b[33mIngrese un número entero positivo -> \u001b[0mfsdfsdf\n",
            "\n",
            "\u001b[31mIngrese una entrada valida!\u001b[0m\n",
            "\n",
            "\u001b[33mIngrese un número entero positivo -> \u001b[0msfsfd\n",
            "\n",
            "\u001b[31mIngrese una entrada valida!\u001b[0m\n",
            "\n",
            "\u001b[33mIngrese un número entero positivo -> \u001b[0m-89\n",
            "\n",
            "\u001b[33mIngrese un número entero positivo -> \u001b[0m75\n",
            "\n",
            "\u001b[32mEl número ingresado es ún número de Keith! ya que ->\u001b[0m\n",
            "\n",
            "\u001b[34mLa lista con números de Keith es: \n",
            "\u001b[0m\n",
            "[7, 5, 12, 17, 29, 46, 75]\n"
          ]
        }
      ]
    },
    {
      "cell_type": "markdown",
      "source": [
        "# Ejercicio 28"
      ],
      "metadata": {
        "id": "6NaxNRIdCQx8"
      }
    },
    {
      "cell_type": "markdown",
      "source": [
        "##Programa que al ingresar un número entero positivo en un intervalo de 1 a 3999, muestre su representación en números romanos"
      ],
      "metadata": {
        "id": "A9HmQ2y4CE9Z"
      }
    },
    {
      "cell_type": "code",
      "source": [
        "#Realizamos el filtro para ingresar entero positivo\n",
        "def filtroNumero():\n",
        "  while True:\n",
        "    try:\n",
        "      n = int(input(f\"\\n\\x1b[33mIngrese un número entero positivo en el intervalo (1,3999) -> \\x1b[0m\"))\n",
        "      if(n <= 0 or n > 3999):continue\n",
        "      break\n",
        "\n",
        "    except ValueError:\n",
        "      print(f\"\\n\\x1b[31mIngrese una entrada valida!\\x1b[0m\")\n",
        "\n",
        "  return n\n",
        "\n",
        "#Creamos funcion para generar numeros\n",
        "def romanos(numero):\n",
        "    #Declaro valores y símbolos\n",
        "    valores = [1000, 900, 500, 400, 100, 90, 50, 40, 10, 9, 5, 4, 1]\n",
        "    simbolos = [\"M\", \"CM\", \"D\", \"CD\", \"C\", \"XC\", \"L\", \"XL\", \"X\", \"IX\", \"V\", \"IV\", \"I\"]\n",
        "    resultado = \"\"\n",
        "    i = 0\n",
        "\n",
        "    #Bucel para detectar minetra el numero sea mayor a cero\n",
        "    while numero > 0:\n",
        "        #Realizo divison entera entre los valores\n",
        "        div = numero // valores[i]\n",
        "        #Obtengo el el módulo entre ello para separar digitos\n",
        "        numero = numero % valores[i]\n",
        "        #Agrego a resultado el valor de div por simbolos\n",
        "        resultado += simbolos[i] * div\n",
        "        #Aumento contador\n",
        "        i += 1\n",
        "\n",
        "    return resultado\n",
        "\n",
        "\n",
        "print(f\"\\nEl número romano correspondiente es: \\x1b[34m{romanos(filtroNumero())}\\x1b[0m\")"
      ],
      "metadata": {
        "colab": {
          "base_uri": "https://localhost:8080/"
        },
        "id": "8uEG2XNhWDQu",
        "outputId": "6da0955e-35e0-4b25-946b-c34112fd06df"
      },
      "execution_count": null,
      "outputs": [
        {
          "output_type": "stream",
          "name": "stdout",
          "text": [
            "\n",
            "\u001b[33mIngrese un número entero positivo en el intervalo (1,3999) -> \u001b[0m100\n",
            "\n",
            "El número romano correspondiente es: \u001b[34mC\u001b[0m\n"
          ]
        }
      ]
    },
    {
      "cell_type": "markdown",
      "source": [],
      "metadata": {
        "id": "XmabwUS6gtu-"
      }
    },
    {
      "cell_type": "markdown",
      "source": [
        "# Ejercicio 29"
      ],
      "metadata": {
        "id": "VJDAcauzgxU-"
      }
    },
    {
      "cell_type": "markdown",
      "source": [
        "##Desarrollar un programa que muestre la serie de números de Pell que el usuario solicite hasta un total de N (número entero positivo ingresado por el usuario)"
      ],
      "metadata": {
        "id": "l2idcGVxgza-"
      }
    },
    {
      "cell_type": "code",
      "source": [
        "#Creamos función para el filtro de números ingresados\n",
        "def filtroNumero():\n",
        "  while True:\n",
        "    try:\n",
        "      n = int(input(f\"\\n\\x1b[33mIngrese un número entero positivo -> \\x1b[0m\"))\n",
        "      if(n <= 0):continue\n",
        "      break\n",
        "\n",
        "    except ValueError:\n",
        "      print(f\"\\n\\x1b[31mIngrese una entrada valida!\\x1b[0m\")\n",
        "\n",
        "  return n\n",
        "\n",
        "#función para encontrar números de Pell\n",
        "def pell(n):\n",
        "\n",
        "  #Creamos funcion para el numerador\n",
        "  def numerador(n):\n",
        "    num = [1,1]\n",
        "    for i in range(2,n):\n",
        "      num.append((2*num[i-1] + num[i-2]))\n",
        "\n",
        "    return num\n",
        "\n",
        "  #Creamos funcion para el denominador\n",
        "  def denominador(n):\n",
        "    den = [0,1]\n",
        "    for i in range(2,n):\n",
        "      den.append(2*den[i-1] + den[i-2])\n",
        "\n",
        "    return den\n",
        "\n",
        "  #Llamamos a las funciones\n",
        "  num = numerador(n)\n",
        "  den = denominador(n)\n",
        "\n",
        "  sucesionPell = []\n",
        "\n",
        "  #Bucle para crear sucesion\n",
        "  for i in range(1,n):\n",
        "    #Agrega a la lista con el formato\n",
        "    sucesionPell.append(f\"{num[i]}/{den[i]}\")\n",
        "\n",
        "  return sucesionPell\n",
        "\n",
        "print(f\"\\nLa sucesión de Pell es -> \\x1b[34m {pell(filtroNumero())} \\x1b[0m\")"
      ],
      "metadata": {
        "colab": {
          "base_uri": "https://localhost:8080/"
        },
        "id": "lX9QlDLcfPaQ",
        "outputId": "b296a16b-c2b3-4cc8-8c59-90d9f5b28c45"
      },
      "execution_count": null,
      "outputs": [
        {
          "output_type": "stream",
          "name": "stdout",
          "text": [
            "\n",
            "\u001b[33mIngrese un número entero positivo -> \u001b[0m10\n",
            "\n",
            "La sucesión de Pell es -> \u001b[34m ['1/1', '3/2', '7/5', '17/12', '41/29', '99/70', '239/169', '577/408', '1393/985'] \u001b[0m\n"
          ]
        }
      ]
    },
    {
      "cell_type": "markdown",
      "source": [
        "# Ejercicio 30"
      ],
      "metadata": {
        "id": "EusrMi062EfN"
      }
    },
    {
      "cell_type": "markdown",
      "source": [
        "##Desarrollar un programa que permita el cálculo del valor de π/4 por medio de una fracción continua,el usuario ingresará el total N de fracciones a calcular como un número entero positivo Fracción continua"
      ],
      "metadata": {
        "id": "C-_XySH72IZj"
      }
    },
    {
      "cell_type": "code",
      "source": [
        "#Creamos funcion para el filtro de números\n",
        "def filtroNumero():\n",
        "  while True:\n",
        "    try:\n",
        "      n = int(input(f\"\\n\\x1b[33mIngrese un número entero positivo -> \\x1b[0m\"))\n",
        "      if(n <= 0):continue\n",
        "      break\n",
        "\n",
        "    except ValueError:\n",
        "      print(f\"\\n\\x1b[31mIngrese una entrada valida!\\x1b[0m\")\n",
        "\n",
        "  return n\n",
        "\n",
        "#Creamos funcion para generar sucesiones\n",
        "def sucesiones(numero):\n",
        "  #Encontramos números primos ya que son la base de la sucesion\n",
        "  primos = []\n",
        "  for i in range(2, numero + 1):  # Empezamos desde 2, ya que 1 no es primo\n",
        "        es_primo = True  # Suponemos que i es primo\n",
        "        for j in range(2, i):  # Verificamos divisibilidad desde 2 hasta i-1\n",
        "            if i % j == 0:  # Si i es divisible por j, no es primo\n",
        "                es_primo = False\n",
        "                break\n",
        "        if es_primo:  # Si es primo, lo agregamos a la lista\n",
        "            primos.append(i)\n",
        "\n",
        "  #Calculamos la sucesión:\n",
        "  sucesion = 0\n",
        "  for i in range(0,n):\n",
        "    sucesion += primos[i]\n",
        "\n",
        "\n",
        "\n",
        "\n",
        "sucesiones(10)"
      ],
      "metadata": {
        "id": "Bpg6cBVgyEuJ",
        "colab": {
          "base_uri": "https://localhost:8080/"
        },
        "outputId": "d08dac7e-cd98-4a15-f354-91dda4f271f9"
      },
      "execution_count": null,
      "outputs": [
        {
          "output_type": "stream",
          "name": "stdout",
          "text": [
            "[3, 4, 6, 7, 8, 9]\n"
          ]
        }
      ]
    },
    {
      "cell_type": "code",
      "source": [
        "#Creamos funcion para el filtro de números\n",
        "def filtroNumero():\n",
        "  while True:\n",
        "    try:\n",
        "      n = int(input(f\"\\n\\x1b[33mIngrese un número entero positivo -> \\x1b[0m\"))\n",
        "      if(n <= 0):continue\n",
        "      break\n",
        "\n",
        "    except ValueError:\n",
        "      print(f\"\\n\\x1b[31mIngrese una entrada valida!\\x1b[0m\")\n",
        "\n",
        "  return n\n",
        "\n",
        "def sucesiones(numeo):\n",
        "  #Declaramos las variables\n",
        "  denominador = 0; resultado = 0; constante = -1; contador = 0\n",
        "  for i in range(1,n):\n",
        "    #Calculamos la constatne que se suma al cociente\n",
        "    constante += 2\n",
        "    #Al contador le sumamos la constante\n",
        "    contador += constante\n",
        "\n",
        "  #Luego, asignamos el valor del denominador desded el incio\n",
        "  denominador = constante + (contador / (contador + constante + 2))\n",
        "\n",
        "  #sumando la última parte del cociente, previamente calculada\n",
        "  for j in range(n-1,1,-1):\n",
        "    contador -= constante\n",
        "    constante -= 2\n",
        "    denominador = constante + (contador / denominador)\n",
        "\n",
        "  #asignamos el valor del denominador al resultado\n",
        "  resultado = 1 / denominador\n",
        "\n",
        "  return resultado\n",
        "\n",
        "print(f\"\\n\\x1b[34mLas aproximación a π/4 es -> \\x1b[0m\")\n",
        "print(f\"\\n{sucesiones(filtroNumero())}\")"
      ],
      "metadata": {
        "id": "iwLxBBbh652-",
        "colab": {
          "base_uri": "https://localhost:8080/"
        },
        "outputId": "c6fd9ad6-1e2b-4393-8db1-6daef6c3e013"
      },
      "execution_count": null,
      "outputs": [
        {
          "output_type": "stream",
          "name": "stdout",
          "text": [
            "\n",
            "\u001b[34mLas aproximación a π/4 es -> \u001b[0m\n",
            "\n",
            "\u001b[33mIngrese un número entero positivo -> \u001b[0m78\n",
            "\n",
            "0.7853982853980324\n"
          ]
        }
      ]
    },
    {
      "cell_type": "markdown",
      "source": [
        "#Ejercicio 31\n"
      ],
      "metadata": {
        "id": "KU63vBwx_MQd"
      }
    },
    {
      "cell_type": "markdown",
      "source": [
        "##Desarrollar un programa que muestre al usuario si un número entero positivo ingresado por él es un número feliz, en caso de serlo mostrar el por qué se trata de uno de ellos (mostrar la relación de recurrencia para su cálculo)"
      ],
      "metadata": {
        "id": "q71dejy4_QRO"
      }
    },
    {
      "cell_type": "code",
      "source": [
        "#Filtro para ingresar número\n",
        "def filtroNumero():\n",
        "  while True:\n",
        "    try:\n",
        "      n = int(input(f\"\\n\\x1b[33mIngrese un número entero positivo -> \\x1b[0m\"))\n",
        "      if(n <= 0):continue\n",
        "      break\n",
        "\n",
        "    except ValueError:\n",
        "      print(f\"\\n\\x1b[31mIngrese una entrada valida!\\x1b[0m\")\n",
        "\n",
        "  return n\n",
        "\n",
        "#Funcion para descomponer en digitos\n",
        "def separar(numero):\n",
        "  #Separamos el número ingresado\n",
        "  digitos1 = []\n",
        "\n",
        "  #Separa digitos\n",
        "  while numero > 0:\n",
        "    digitos1.append(numero % 10)\n",
        "    numero //=  10\n",
        "\n",
        "  #ordena\n",
        "  digitos1.reverse()\n",
        "  return digitos1\n",
        "\n",
        "\n",
        "#Definimos funcion para comprobar si es n feliz\n",
        "n = 7\n",
        "def nFeliz(numero):\n",
        "\n",
        "  n = numero\n",
        "  suma = 0\n",
        "  historial = []\n",
        "\n",
        "  while suma != 1:\n",
        "    #llamamos a la funncion descomponer\n",
        "    digitos = separar(numero)\n",
        "\n",
        "    #utilizamos la funcion sum\n",
        "    suma = sum(digito**2 for digito in digitos)\n",
        "\n",
        "    if suma in historial:\n",
        "      print(f\"\\n\\x1b[31mEl número {n} no es un número feliz!\\x1b[0m\")\n",
        "      return False\n",
        "    historial.append(suma)\n",
        "\n",
        "    numero = suma\n",
        "\n",
        "  print(f\"\\n\\x1b[32mEl número {n} es un número feliz!\\x1b[0m\")\n",
        "  return True\n",
        "\n",
        "nFeliz(filtroNumero())"
      ],
      "metadata": {
        "colab": {
          "base_uri": "https://localhost:8080/"
        },
        "id": "zikMBYxyBGDW",
        "outputId": "1e196cc2-1957-4df6-f41b-9142f0f1009c"
      },
      "execution_count": null,
      "outputs": [
        {
          "output_type": "stream",
          "name": "stdout",
          "text": [
            "\n",
            "\u001b[33mIngrese un número entero positivo -> \u001b[0m10\n",
            "\n",
            "\u001b[32mEl número 10 es un número feliz!\u001b[0m\n"
          ]
        },
        {
          "output_type": "execute_result",
          "data": {
            "text/plain": [
              "True"
            ]
          },
          "metadata": {},
          "execution_count": 40
        }
      ]
    },
    {
      "cell_type": "markdown",
      "source": [
        "#Ejercicio 32"
      ],
      "metadata": {
        "id": "BIIj9PgQO7A5"
      }
    },
    {
      "cell_type": "markdown",
      "source": [
        "##Desarrollar un programa que calcule los N números de Catalan, donde N es un número entero positivo ingresado por el usuario"
      ],
      "metadata": {
        "id": "tvzE-VYhO_GS"
      }
    },
    {
      "cell_type": "code",
      "source": [
        "#Filtro para ingresar número\n",
        "def filtroNumero():\n",
        "  while True:\n",
        "    try:\n",
        "      n = int(input(f\"\\n\\x1b[33mIngrese un número entero positivo -> \\x1b[0m\"))\n",
        "      if(n <= 0):continue\n",
        "      break\n",
        "\n",
        "    except ValueError:\n",
        "      print(f\"\\n\\x1b[31mIngrese una entrada valida!\\x1b[0m\")\n",
        "\n",
        "  return n\n",
        "\n",
        "#Creamos una función para calcular los números\n",
        "def catalan(numero):\n",
        "  #Creamos lista para almacenar\n",
        "  numeros = [1]\n",
        "  #Excpeción si es ingresado 0\n",
        "  if numero == 0: return 1\n",
        "\n",
        "  #Utilizamos los numeros de catalan por recursion\n",
        "  for i in range(1,numero):\n",
        "    numeros.append((2 * (2 * i - 1)) / (i + 1) * numeros[i - 1])\n",
        "\n",
        "  #Imprime y regresa lista con numeros\n",
        "  print(f\"\\n\\x1b[34mLos números de Catalán hasta {n} son: \\n\\x1b[0m\")\n",
        "  return numeros\n",
        "\n",
        "#LLamamos a las funciones\n",
        "catalan(filtroNumero())"
      ],
      "metadata": {
        "colab": {
          "base_uri": "https://localhost:8080/"
        },
        "id": "AGSyu9ESFptt",
        "outputId": "675128cc-4e2e-4b65-de46-05785d22aedc"
      },
      "execution_count": null,
      "outputs": [
        {
          "output_type": "stream",
          "name": "stdout",
          "text": [
            "\n",
            "\u001b[33mIngrese un número entero positivo -> \u001b[0m10\n",
            "\n",
            "\u001b[34mLos números de Catalán hasta 7 son: \n",
            "\u001b[0m\n"
          ]
        },
        {
          "output_type": "execute_result",
          "data": {
            "text/plain": [
              "[1, 1.0, 2.0, 5.0, 14.0, 42.0, 132.0, 429.0, 1430.0, 4862.0]"
            ]
          },
          "metadata": {},
          "execution_count": 51
        }
      ]
    },
    {
      "cell_type": "markdown",
      "source": [
        "#Ejercicio 33"
      ],
      "metadata": {
        "id": "ffiBWlDlS9AJ"
      }
    },
    {
      "cell_type": "markdown",
      "source": [
        "##Programa que permita obtener los números primos inferiores a un número entero positivo N proporcionado por el usuario, en donde N es un número entero positivo, el cual ingresa el usuario,esto es si N = 20, el programa debe desplegar la lista 2,3,5,7,11,13,17,19. El programa debe seguir el algoritmo propuesto por el matemático S.P. Sundaram:"
      ],
      "metadata": {
        "id": "I91XAefYTAP7"
      }
    },
    {
      "cell_type": "code",
      "source": [
        "#Creamos filtro para ingresar números\n",
        "def filtroNumero():\n",
        "  while True:\n",
        "    try:\n",
        "      n = int(input(f\"\\n\\x1b[33mIngrese un número entero positivo -> \\x1b[0m\"))\n",
        "      if(n <= 0):continue\n",
        "      break\n",
        "\n",
        "    except ValueError:\n",
        "      print(f\"\\n\\x1b[31mIngrese una entrada valida!\\x1b[0m\")\n",
        "\n",
        "  return n\n",
        "\n",
        "#Funcion para encontrar numeros primos\n",
        "def primos(numero):\n",
        "  #Creamos lista con numeros desde 1 hasta n\n",
        "  numeros1 = [a for a in range(1,numero+1)]\n",
        "  #Lista final con n primos\n",
        "  numeros2 = []\n",
        "\n",
        "  #Creamos dos bucles for anidados\n",
        "  for i in range(1,numero):\n",
        "    for j in range(1,numero):\n",
        "\n",
        "      #valor que se va a remover\n",
        "      remover = i + j + 2 * (i * j)\n",
        "\n",
        "      #verificamos si remover está en la lista antes de eliminarlo\n",
        "      if remover <= numero and remover in numeros1:\n",
        "        numeros1.remove(remover)\n",
        "\n",
        "  #finalmente los numeros restantes los multiplicamos por 2 y sumamos 1\n",
        "  #utilizamos comprension de listas\n",
        "\n",
        "  #Realiza la operacion con la condicion que a sea menor o igual a n+1 * 2\n",
        "  numeros2 = [(2 * a) + 1 for a in numeros1 if (2 * a) + 1 <= (numero+1)]\n",
        "\n",
        "  #imprime y regresa la lista\n",
        "  print(f\"\\n\\x1b[34mLos números primos inferiores a {numero} son:\\x1b[0m\\n\")\n",
        "  return numeros2\n",
        "\n",
        "#llamamos a las funciones\n",
        "primos(filtroNumero())"
      ],
      "metadata": {
        "colab": {
          "base_uri": "https://localhost:8080/"
        },
        "id": "4XBrAfK-RUCH",
        "outputId": "65f309c8-abd2-4d49-cefb-4f2809a4e3cd"
      },
      "execution_count": null,
      "outputs": [
        {
          "output_type": "stream",
          "name": "stdout",
          "text": [
            "\n",
            "\u001b[33mIngrese un número entero positivo -> \u001b[0m20\n",
            "\n",
            "\u001b[34mLos números primos inferiores a 20 son:\u001b[0m\n",
            "\n"
          ]
        },
        {
          "output_type": "execute_result",
          "data": {
            "text/plain": [
              "[3, 5, 7, 11, 13, 17, 19]"
            ]
          },
          "metadata": {},
          "execution_count": 90
        }
      ]
    },
    {
      "cell_type": "markdown",
      "source": [
        "#Ejercicio 34"
      ],
      "metadata": {
        "id": "IGdfXLYwkrRz"
      }
    },
    {
      "cell_type": "markdown",
      "source": [
        "##Generar un programa que permita ingresar una frase y posteriormente, solicite al usuario si desea ordenarla de forma ya sea alfabética directa o inversa y mostrarla"
      ],
      "metadata": {
        "id": "AbhhsyNrkteE"
      }
    },
    {
      "cell_type": "code",
      "source": [
        "def ordenarFrase():\n",
        "  #ingresa frase el usuario\n",
        "  frase = str(input(f\"\\n\\x1b[32mIngresa una frase -> \\x1b[0m\"))\n",
        "\n",
        "  #Ingresa opcion para ordenar\n",
        "  print(f\"\\n\\x1b[33mIngresa una opción para ordenar: \\n\\n1. Alfabética directa\\n2. Alfabética inversa\\x1b[0m\\n\")\n",
        "\n",
        "  #Manejamos las expeciones si ingresa otra cosa o n fuera de rango\n",
        "  while True:\n",
        "      try:\n",
        "        opc = int(input())\n",
        "        if(opc < 1 or opc > 2):\n",
        "          print(f\"\\x1b[31m\\nIngresa '1' o '2' \\x1b[0m\")\n",
        "          continue\n",
        "        break\n",
        "\n",
        "      except ValueError:\n",
        "        print(f\"\\n\\x1b[31mIngrese una entrada valida!\\x1b[0m\")\n",
        "\n",
        "  #Convertimos la frase a una lista\n",
        "  fraseOrdenada = list(frase)\n",
        "\n",
        "  if opc == 1:\n",
        "    #ordena alfabeticamente directa\n",
        "    fraseOrdenada.sort()\n",
        "\n",
        "    #Convertimos la lista a string\n",
        "    separador = \" \"\n",
        "    letra = map(str, fraseOrdenada) # Convert each element into a string first\n",
        "    fraseOrdenadaString = separador.join(letra)\n",
        "    print(f\"\\n\\x1b[34mLa frase ordenada es -> \\x1b[0m{str(fraseOrdenadaString)}\\n\")\n",
        "\n",
        "  else:\n",
        "    #ordena alfabeticamente inversa\n",
        "    fraseOrdenada.sort(reverse=True)\n",
        "\n",
        "    #Convertimos la lista a string\n",
        "    separador = \" \"\n",
        "    letra = map(str, fraseOrdenada) # Convert each element into a string first\n",
        "    fraseOrdenadaString = separador.join(letra)\n",
        "    print(f\"\\n\\x1b[34mLa frase ordenada es -> \\x1b[0m{str(fraseOrdenadaString)}\\n\")\n",
        "\n",
        "#LLamamos a la funcion\n",
        "ordenarFrase()"
      ],
      "metadata": {
        "colab": {
          "base_uri": "https://localhost:8080/"
        },
        "id": "BoPh3MBRWbXB",
        "outputId": "901db61a-af6e-4494-e514-807605cb436e"
      },
      "execution_count": null,
      "outputs": [
        {
          "output_type": "stream",
          "name": "stdout",
          "text": [
            "\n",
            "\u001b[32mIngresa una frase -> \u001b[0mhola\n",
            "\n",
            "\u001b[33mIngresa una opción para ordenar: \n",
            "\n",
            "1. Alfabética directa\n",
            "2. Alfabética inversa\u001b[0m\n",
            "\n",
            "2\n",
            "\n",
            "\u001b[34mLa frase ordenada es -> \u001b[0mo l h a\n",
            "\n"
          ]
        }
      ]
    },
    {
      "cell_type": "markdown",
      "source": [
        "#Ejercicio 35"
      ],
      "metadata": {
        "id": "RoCLVGMosHU9"
      }
    },
    {
      "cell_type": "markdown",
      "source": [
        "##Desarrollar un programa que permita ingresar una frase solo texto y espacios de no más de 100caracteres y que imprima la frase en cada línea eliminando los espacios, de la siguiente forma:\n",
        "###La frase que se ingreso tiene menos de cien caracteres\n",
        "###La frase que se ingreso tiene menos de cien\n",
        "###La frase que se ingreso tiene menos de\n",
        "###La frase que se ingreso tiene menos\n",
        "###La frase que se ingreso tiene\n",
        "###La frase que se ingreso\n",
        "###La frase que se\n",
        "###La frase que\n",
        "###La frase\n",
        "###La"
      ],
      "metadata": {
        "id": "ofhccFcxsLGC"
      }
    },
    {
      "cell_type": "code",
      "source": [
        "#ingresa frase el usuario\n",
        "\n",
        "n = 0\n",
        "while n < 100:\n",
        "  frase = str(input(f\"\\n\\x1b[33mIngresa una frase de no más de 100 caracteres -> \\x1b[0m\"))\n",
        "  n = len(frase)\n",
        "  print(n)\n",
        "\n",
        "  if(n > 100):print(f\"\\n\\x1b[31mIngresa una frase con menos caracteres!\\x1b[31m\")\n",
        "  else:break\n",
        "\n",
        "#Separamos la frase en palabras\n",
        "#utilizamos la funcion split()\n",
        "palabras = frase.split()\n",
        "\n",
        "#bucle que inicia desde n elementso hasta 0 y decrementa\n",
        "for i in range(len(palabras),0,-1):\n",
        "  #utilizamos la funcion join para unir las palabras\n",
        "  print(\"\\x1b[34m \\x1b[0m\".join(palabras[:i]))\n"
      ],
      "metadata": {
        "colab": {
          "base_uri": "https://localhost:8080/"
        },
        "id": "_ljQgUTZlH8g",
        "outputId": "6d50d4ea-9592-4102-f609-e093201a7298"
      },
      "execution_count": null,
      "outputs": [
        {
          "output_type": "stream",
          "name": "stdout",
          "text": [
            "\n",
            "\u001b[33mIngresa una frase de no más de 100 caracteres -> \u001b[0mhola mi nombre es diego\n",
            "23\n",
            "['hola', 'mi', 'nombre', 'es', 'diego']\n",
            "hola\u001b[34m \u001b[0mmi\u001b[34m \u001b[0mnombre\u001b[34m \u001b[0mes\u001b[34m \u001b[0mdiego\n",
            "hola\u001b[34m \u001b[0mmi\u001b[34m \u001b[0mnombre\u001b[34m \u001b[0mes\n",
            "hola\u001b[34m \u001b[0mmi\u001b[34m \u001b[0mnombre\n",
            "hola\u001b[34m \u001b[0mmi\n",
            "hola\n"
          ]
        }
      ]
    },
    {
      "cell_type": "markdown",
      "source": [
        "#Ejercicio 36"
      ],
      "metadata": {
        "id": "4yZVFUkKy5Gw"
      }
    },
    {
      "cell_type": "markdown",
      "source": [
        "##Desarrollar un programa que permita ingresar cualquier tipo de texto y que cuente la frecuencia deaparición de cada letra del alfabeto latino, esto el número de cuántas a, b, c, d, ...hay en el texto ingresado"
      ],
      "metadata": {
        "id": "ziU5Aia6y1qk"
      }
    },
    {
      "cell_type": "code",
      "source": [
        "#solicita el texto\n",
        "texto = str(input(f\"\\n\\x1b[33mIngresa un texto -> \\x1b[0m\"))\n",
        "\n",
        "#convertimos el texto a una lista\n",
        "listaTexto = list(texto)\n",
        "\n",
        "#comprension de listas con letras de acuerdo al codigo ascci\n",
        "abcedario = [chr(a) for a in range(97,123)]\n",
        "abcedario[14] = chr(241)\n",
        "print(abcedario)\n",
        "\n",
        "\n",
        "#Forma alternativa\n",
        "\n",
        "\n",
        "\n"
      ],
      "metadata": {
        "colab": {
          "base_uri": "https://localhost:8080/"
        },
        "id": "6PD5UTZMssmP",
        "outputId": "9f2a77da-03c8-4321-83d6-816a6456be6e"
      },
      "execution_count": null,
      "outputs": [
        {
          "output_type": "stream",
          "name": "stdout",
          "text": [
            "\n",
            "\u001b[33mIngresa un texto -> \u001b[0md\n",
            "['a', 'b', 'c', 'd', 'e', 'f', 'g', 'h', 'i', 'j', 'k', 'l', 'm', 'n', 'ñ', 'p', 'q', 'r', 's', 't', 'u', 'v', 'w', 'x', 'y', 'z']\n"
          ]
        }
      ]
    },
    {
      "cell_type": "code",
      "source": [
        "#solicita el texto\n",
        "texto = str(input(f\"\\n\\x1b[33mIngresa un texto -> \\x1b[0m\"))\n",
        "\n",
        "#convertimos el texto a una lista\n",
        "listaTexto = list(texto)\n",
        "\n",
        "#creamos un diccionaro\n",
        "cuentaCaracteres = {}\n",
        "caracteresValidos = \"abcdefghijklmnñopqrstuvwxyz\"\n",
        "\n",
        "#Bucle que va de 'a' hasta 'z' en ascci; NOTA! - Perdón profe solo no cuenta la letra 'ñ' T_T\n",
        "for i in range(97,123):\n",
        "  #convierte ascci a letra\n",
        "  c = (chr(i))\n",
        "  #Inicia la cuenta\n",
        "  cuentaCaracteres[c] = 0\n",
        "\n",
        "#Por cada linea en el texto\n",
        "for linea in texto:\n",
        "  #convierte linea en palabras\n",
        "  palabras = linea.split(\" \")\n",
        "\n",
        "  #Palabras en caracteres\n",
        "  for palabra in palabras:\n",
        "    chars = list(palabra)\n",
        "\n",
        "    #caracter en caracteres\n",
        "    for c in chars:\n",
        "\n",
        "      #utilizo metodo 'isalpha()' para ver si esta en abcedario\n",
        "      if c.isalpha():\n",
        "        #si es mayuscula pasa a minuscula\n",
        "        if c.isupper():\n",
        "          c= c.lower()\n",
        "        #si se encuntra c en caracters validos aumenta la cuenta\n",
        "        if c in caracteresValidos:\n",
        "          cuentaCaracteres[c] += 1\n",
        "\n",
        "#Imprime con formato de lista así bien chido hehe\n",
        "print(f'\\n\\x1b[34m{\":\":<2} {\"Letra\":<2} {\":\":<2} {\"Cantidad\":<5} {\":\":<2}\\n\\x1b[0m')\n",
        "for k,v in cuentaCaracteres.items():\n",
        "    print(f'{\":\":<2} {k:^6} {\":\":<4} {v:<6} {\":\":>2}')"
      ],
      "metadata": {
        "id": "E7o10zuozT-w",
        "colab": {
          "base_uri": "https://localhost:8080/"
        },
        "outputId": "c7d4093f-4208-4c59-f3eb-7819a44929be"
      },
      "execution_count": null,
      "outputs": [
        {
          "output_type": "stream",
          "name": "stdout",
          "text": [
            "\n",
            "\u001b[33mIngresa un texto -> \u001b[0mErase una vez un perro llamado resistol se cayo y se pego\n",
            "\n",
            "\u001b[34m:  Letra :  Cantidad : \n",
            "\u001b[0m\n",
            ":    a    :    5       :\n",
            ":    b    :    0       :\n",
            ":    c    :    1       :\n",
            ":    d    :    1       :\n",
            ":    e    :    8       :\n",
            ":    f    :    0       :\n",
            ":    g    :    1       :\n",
            ":    h    :    0       :\n",
            ":    i    :    1       :\n",
            ":    j    :    0       :\n",
            ":    k    :    0       :\n",
            ":    l    :    3       :\n",
            ":    m    :    1       :\n",
            ":    n    :    2       :\n",
            ":    o    :    5       :\n",
            ":    p    :    2       :\n",
            ":    q    :    0       :\n",
            ":    r    :    4       :\n",
            ":    s    :    5       :\n",
            ":    t    :    1       :\n",
            ":    u    :    2       :\n",
            ":    v    :    1       :\n",
            ":    w    :    0       :\n",
            ":    x    :    0       :\n",
            ":    y    :    2       :\n",
            ":    z    :    1       :\n"
          ]
        }
      ]
    },
    {
      "cell_type": "markdown",
      "source": [
        "#Ejercicio 37"
      ],
      "metadata": {
        "id": "cwuTWN2QafpC"
      }
    },
    {
      "cell_type": "markdown",
      "source": [
        "##Desarrollar un programa que permita ingresar cualquier tipo de texto y que lo encripte utilizando para ello la Encriptación o Cifrado César, por lo que se debe también solicitar cuántas posiciones se debe mover en el alfabeto para realizar la encriptación"
      ],
      "metadata": {
        "id": "OWKNrambai-Z"
      }
    },
    {
      "cell_type": "code",
      "source": [
        "#Usuario ingresa un texto\n",
        "texto = str(input(\"\\n\\x1b[33mIngresa el texto a encriptar -> \\x1b[0m\"))\n",
        "#Ingresa posiciones\n",
        "while True:\n",
        "      try:\n",
        "        n = int(input(f\"\\n\\x1b[33mIngresa la cantidad de posiciones a mover -> \\x1b[0m\"))\n",
        "        if(n <= 0):\n",
        "          print(f\"\\x1b[31m\\nIngresa '1' o '2' \\x1b[0m\")\n",
        "          continue\n",
        "        break\n",
        "\n",
        "      except ValueError:\n",
        "        print(f\"\\n\\x1b[31mIngrese una entrada valida!\\x1b[0m\")\n",
        "\n",
        "#creo lista de abcedario\n",
        "abcedario = [chr(a) for a in range(97,123)]\n",
        "#añado la letra 'ñ'\n",
        "abcedario[14] = chr(241)\n",
        "abcedarioDesplazado = [''] * len(abcedario)\n",
        "\n",
        "\n",
        "#Convierto a lista el texto\n",
        "textoMinusculas = texto.lower()\n",
        "listaTexto = list(textoMinusculas)\n",
        "\n",
        "#desplazo letras\n",
        "for i in range(0,len(abcedario)):\n",
        "  #Checamos que este dentro del rango de la lista con el modulo\n",
        "  posicionNueva = (i + n) % len(abcedario)\n",
        "  abcedarioDesplazado[i] = abcedario[posicionNueva]\n",
        "\n",
        "#Desplazamos las letras del texto en funcion del nuevo abcedario\n",
        "\n",
        "textoDesplazado = []\n",
        "for letra in listaTexto:\n",
        "    if letra in abcedario:  # Si la letra está en el abcedario\n",
        "        indice = abcedario.index(letra)  # Obtenemos su índice\n",
        "        textoDesplazado.append(abcedarioDesplazado[indice])  # La reemplazamos con la letra desplazada\n",
        "    else:\n",
        "        textoDesplazado.append(letra)  # Si no está en el abecedario (espacios, signos), la dejamos igual\n",
        "\n",
        "# Unimos la lista en un string y mostramos el resultado\n",
        "textoDesplazado = ''.join(textoDesplazado)\n",
        "print(f\"\\n\\x1b[34mTexto original: \\x1b[0m \\n{texto}\\n\")\n",
        "print(f\"\\n\\x1b[34mTexto desplazado: \\n \\x1b[0m {textoDesplazado}\")"
      ],
      "metadata": {
        "colab": {
          "base_uri": "https://localhost:8080/"
        },
        "id": "i0wZwOfhXlFt",
        "outputId": "b9bad422-cb4d-4b6c-c628-972ef775a53b"
      },
      "execution_count": null,
      "outputs": [
        {
          "output_type": "stream",
          "name": "stdout",
          "text": [
            "\n",
            "\u001b[33mIngresa el texto a encriptar -> \u001b[0mABCDEFGHIJKLMNÑOPQRSTUVWXYZ\n",
            "\n",
            "\u001b[33mIngresa la cantidad de posiciones a mover -> \u001b[0m6\n",
            "\n",
            "\u001b[34mTexto original: \u001b[0m \n",
            "ABCDEFGHIJKLMNÑOPQRSTUVWXYZ\n",
            "\n",
            "\n",
            "\u001b[34mTexto desplazado: \n",
            " \u001b[0m ghijklmnñpqrstuovwxyzabcdef\n"
          ]
        }
      ]
    },
    {
      "cell_type": "markdown",
      "source": [
        "#Ejercicio 38"
      ],
      "metadata": {
        "id": "7ovMZZ3Tlkad"
      }
    },
    {
      "cell_type": "markdown",
      "source": [
        "##Desarrollar un programa que permita ingresar una palabra o frase y verificar si se trata de un palíndromo o no"
      ],
      "metadata": {
        "id": "zltRC75blmw5"
      }
    },
    {
      "cell_type": "code",
      "source": [
        "#Creamos funcion para capturar datos\n",
        "def ingresar_datos():\n",
        "  while True:\n",
        "    entrada = input(\"\\x1b[33mIngrese su palabra o frase a analizar: \\x1b[0m\")\n",
        "    if entrada.isdigit():  # Verifico que no sea un número\n",
        "      print(\"Ingrese solo texto o palabra por favor\")\n",
        "      continue\n",
        "    else:\n",
        "        return entrada\n",
        "\n",
        "\n",
        "#Creamos funcion para saber si es palindromo\n",
        "def es_palindromo(texto):\n",
        "  texto = texto.lower()  # Pasamos a minúsculas\n",
        "  texto = texto.replace(\" \", \"\")  # Quitamos espacios\n",
        "\n",
        "  # Invertimos la cadena para comparar ambas\n",
        "  texto_invertido = texto[::-1]  # Invertimos la cadena usando slicing\n",
        "\n",
        "  if texto == texto_invertido:\n",
        "    print(f\"\\n\\x1b[32mEl texto ingresado es palíndromo\\x1b[0m\")\n",
        "  else:\n",
        "    print(f\"\\n\\x1b[31mEl texto ingresado no es palíndromo\\x1b[31m\")\n",
        "\n",
        "#LLamamos a las funciones\n",
        "contenido = ingresar_datos()\n",
        "es_palindromo(contenido)"
      ],
      "metadata": {
        "colab": {
          "base_uri": "https://localhost:8080/"
        },
        "id": "7l8T3T9_dM0e",
        "outputId": "19ec6be8-5310-4613-f4f0-a69604a04259"
      },
      "execution_count": null,
      "outputs": [
        {
          "output_type": "stream",
          "name": "stdout",
          "text": [
            "\u001b[33mIngrese su palabra o frase a analizar: \u001b[0mana\n",
            "\n",
            "\u001b[32mEl texto anaingresado es palíndromo\u001b[0m\n"
          ]
        }
      ]
    },
    {
      "cell_type": "markdown",
      "source": [
        "#Ejercicio 39"
      ],
      "metadata": {
        "id": "guSE1ylwl-jZ"
      }
    },
    {
      "cell_type": "markdown",
      "source": [
        "##Desarrollar un programa que permita el ingreso de números por parte del usuario (dejar que ingrese un número indefinido de números y en cada uno de ellos preguntar si se desea agregar más o ya es el último a agregar), guardarlos en una lista y mostrar en pantalla, el número de datos ingresados,el promedio, la mediana, la moda y la desviación estándar de los datos"
      ],
      "metadata": {
        "id": "dgLrbD-RmA4R"
      }
    },
    {
      "cell_type": "code",
      "source": [
        "#Creo funcion para almacenar numeros\n",
        "def ingresar_numeros():\n",
        "    numeros = []\n",
        "    while True:\n",
        "        try:\n",
        "            numero = float(input(\"\\x1b[33mIngrese un número: \\x1b[0m\"))\n",
        "            numeros.append(numero)\n",
        "\n",
        "            continuar = input(f\"\\n¿Desea agregar más números? (s/n): \").strip().lower()\n",
        "            if continuar != 's':\n",
        "                break\n",
        "        #Arroja mensaje de error\n",
        "        except ValueError:\n",
        "            print(\"\\nPor favor, ingresa un número válido\\n\")\n",
        "    return numeros\n",
        "\n",
        "#funcion para calcular el promedio\n",
        "def promedio(numeros):\n",
        "    return sum(numeros) / len(numeros)\n",
        "\n",
        "#Funcion para encontrar la mediana\n",
        "def mediana(numeros):\n",
        "  #ordena los numeros\n",
        "    numeros_ordenados = sorted(numeros)\n",
        "    n = len(numeros_ordenados)\n",
        "    if n % 2 == 1:\n",
        "        return numeros_ordenados[n // 2]\n",
        "    else:\n",
        "        return (numeros_ordenados[n // 2 - 1] + numeros_ordenados[n // 2]) / 2\n",
        "\n",
        "#Funcion para encontrar la moda\n",
        "def moda(numeros):\n",
        "  #creo diccionario para las frecuencias\n",
        "    frecuencias = {}\n",
        "    for numero in numeros:\n",
        "        if numero in frecuencias:\n",
        "            frecuencias[numero] += 1\n",
        "        else:\n",
        "            frecuencias[numero] = 1\n",
        "\n",
        "    max_frecuencia = max(frecuencias.values())\n",
        "    modas = [numero for numero, frecuencia in frecuencias.items() if frecuencia == max_frecuencia]\n",
        "\n",
        "    #Imprime mensaje cuando los datos son unicos\n",
        "    if len(modas) == len(numeros):\n",
        "        return \"No hay moda (todos los números son únicos)\"\n",
        "    else:\n",
        "        return modas\n",
        "\n",
        "#Funcion para la desviacion estandar\n",
        "def desviacionEstandar(numeros):\n",
        "    promedio = promedio(numeros)\n",
        "    suma_cuadrados = sum((x - promedio) ** 2 for x in numeros)\n",
        "    varianza = suma_cuadrados / len(numeros)\n",
        "    return varianza ** 0.5  # Raíz cuadrada de la varianza\n",
        "\n",
        "#Funcion principal\n",
        "def main():\n",
        "    numeros = ingresar_numeros()\n",
        "\n",
        "    if not numeros:\n",
        "        print(\"\\x1b[31mNo se ingresaron números!\\x1b[0m\")\n",
        "        return\n",
        "\n",
        "    print(\"\\nResultados:\\n\")\n",
        "    print(f\"\\n\\x1b[33mNúmero de datos ingresados: \\x1b[0m{len(numeros)}\")\n",
        "    print(f\"\\n\\x1b[33mPromedio: \\x1b[0m{calcular_promedio(numeros)}\")\n",
        "    print(f\"\\n\\x1b[33mMediana: \\x1b[0m{calcular_mediana(numeros)}\")\n",
        "    print(f\"\\n\\x1b[33mModa: \\x1b[0m{calcular_moda(numeros)}\")\n",
        "    print(f\"\\n\\x1b[33mDesviación estándar: \\x1b[0m{calcular_desviacion_estandar(numeros)}\")\n",
        "\n",
        "if __name__ == \"__main__\":\n",
        "    main()"
      ],
      "metadata": {
        "id": "oLKC2Fl_pFqV",
        "colab": {
          "base_uri": "https://localhost:8080/"
        },
        "outputId": "b2255a2b-3b25-45fe-9bff-c30ceaf3ea74"
      },
      "execution_count": null,
      "outputs": [
        {
          "output_type": "stream",
          "name": "stdout",
          "text": [
            "\u001b[33mIngrese un número: \u001b[0m2\n",
            "\n",
            "¿Desea agregar más números? (s/n): 4\n",
            "\n",
            "Resultados:\n",
            "\n",
            "\n",
            "\u001b[33mNúmero de datos ingresados: \u001b[0m1\n",
            "\n",
            "\u001b[33mPromedio: \u001b[0m2.0\n",
            "\n",
            "\u001b[33mMediana: \u001b[0m2.0\n",
            "\n",
            "\u001b[33mModa: \u001b[0mNo hay moda (todos los números son únicos)\n",
            "\n",
            "\u001b[33mDesviación estándar: \u001b[0m0.0\n"
          ]
        }
      ]
    },
    {
      "cell_type": "markdown",
      "source": [
        "#Ejercicio 40"
      ],
      "metadata": {
        "id": "hnOkTRKtsDrD"
      }
    },
    {
      "cell_type": "markdown",
      "source": [
        "##Generar una pequeña calculadora de números complejos que le permita al usuario seleccionar si realizar operaciones con un par de números complejos o un solo número complejo. En el caso de un solo número complejo, la calculadora permitirá mostrar tanto la parte real, como la compleja, el valor absoluto o módulo y la fase. En el caso de que se permita ingresar un par de números complejos, estos podrán o sumarse, restarse, multiplicarse, dividirse o realizar el producto escalar. (Notar que en este ejercicio es necesario el uso de una instrucción switch, encontrar la forma de sustituir dicha instrucción, pues en Python no se dispone de ella)"
      ],
      "metadata": {
        "id": "mBAK4S6GsGTj"
      }
    },
    {
      "cell_type": "code",
      "source": [
        "import math\n",
        "\n",
        "class NumeroComplejo:\n",
        "    def __init__(self, real, imaginario):\n",
        "        self.real = real\n",
        "        self.imaginario = imaginario\n",
        "\n",
        "    def __str__(self):\n",
        "        return f\"{self.real} + {self.imaginario}i\"\n",
        "\n",
        "    # Método para sumar\n",
        "    def __add__(self, otro):\n",
        "        return NumeroComplejo(self.real + otro.real, self.imaginario + otro.imaginario)\n",
        "\n",
        "    # Método para restar\n",
        "    def __sub__(self, otro):\n",
        "        return NumeroComplejo(self.real - otro.real, self.imaginario - otro.imaginario)\n",
        "\n",
        "    # Método para multiplicar\n",
        "    def __mul__(self, otro):\n",
        "        real = self.real * otro.real - self.imaginario * otro.imaginario\n",
        "        imaginario = self.real * otro.imaginario + self.imaginario * otro.real\n",
        "        return NumeroComplejo(real, imaginario)\n",
        "\n",
        "    # Método para dividir\n",
        "    def __truediv__(self, otro):\n",
        "        denominador = otro.real**2 + otro.imaginario**2\n",
        "        real = (self.real * otro.real + self.imaginario * otro.imaginario) / denominador\n",
        "        imaginario = (self.imaginario * otro.real - self.real * otro.imaginario) / denominador\n",
        "        return NumeroComplejo(real, imaginario)\n",
        "\n",
        "    # Método para obtener el módulo o valor absoluto\n",
        "    def __abs__(self):\n",
        "        return math.sqrt(self.real**2 + self.imaginario**2)\n",
        "\n",
        "    # Método para obtener la fase del número complejo\n",
        "    def fase(self):\n",
        "        return math.atan2(self.imaginario, self.real)\n",
        "\n",
        "    # Método para el producto escalar de dos números complejos\n",
        "    def producto_escalar(self, otro):\n",
        "        return self.real * otro.real + self.imaginario * otro.imaginario\n",
        "\n",
        "    # Método para mostrar la forma polar del número complejo\n",
        "    def polar(self):\n",
        "        return f\"({abs(self)}, {self.fase()})\"\n",
        "\n",
        "    # Método para mostrar la parte real e imaginaria\n",
        "    def mostrar_parte_real_imaginaria(self):\n",
        "        print(f\"Parte real: {self.real}\")\n",
        "        print(f\"Parte imaginaria: {self.imaginario}\")\n",
        "\n",
        "    # Método para operar con uno o dos números complejos\n",
        "    @staticmethod\n",
        "    def operar():\n",
        "        print(f\"\\n\\x1b[33m¿Desea operar con un solo número complejo o con dos?\\x1b[0m\")\n",
        "        opcion = input(\"\\nIngrese '1' para un número o '2' para dos números: \").strip()\n",
        "\n",
        "        if opcion == '1':\n",
        "            real = float(input(\"Ingrese la parte real: \"))\n",
        "            imaginario = float(input(\"Ingrese la parte imaginaria: \"))\n",
        "            complejo = NumeroComplejo(real, imaginario)\n",
        "\n",
        "            print(\"\\nOperaciones disponibles para un número complejo:\\n\")\n",
        "            print(\"1. Mostrar parte real e imaginaria\")\n",
        "            print(\"2. Calcular módulo (valor absoluto)\")\n",
        "            print(\"3. Calcular fase\")\n",
        "            print(\"4. Mostrar forma polar\")\n",
        "            operacion = input(\"\\n\\x1b[34mSeleccione una operación (1-4): \\x1b[0m\").strip()\n",
        "\n",
        "            if operacion == '1':\n",
        "                complejo.mostrar_parte_real_imaginaria()\n",
        "            elif operacion == '2':\n",
        "                print(f\"Módulo: {abs(complejo)}\")\n",
        "            elif operacion == '3':\n",
        "                print(f\"Fase: {complejo.fase()} radianes\")\n",
        "            elif operacion == '4':\n",
        "                print(f\"Forma polar: {complejo.polar()}\")\n",
        "            else:\n",
        "                print(\"Opción no válida.\")\n",
        "\n",
        "        elif opcion == '2':\n",
        "            print(\"Ingrese el primer número complejo:\")\n",
        "            real1 = float(input(\"Parte real: \"))\n",
        "            imaginario1 = float(input(\"Parte imaginaria: \"))\n",
        "            complejo1 = NumeroComplejo(real1, imaginario1)\n",
        "\n",
        "            print(\"\\n\\x1b[33mIngrese el segundo número complejo:\\x1b[0m\")\n",
        "            real2 = float(input(\"Parte real: \"))\n",
        "            imaginario2 = float(input(\"Parte imaginaria: \"))\n",
        "            complejo2 = NumeroComplejo(real2, imaginario2)\n",
        "\n",
        "            print(\"\\nOperaciones disponibles para dos números complejos:\")\n",
        "            print(\"1. Sumar\")\n",
        "            print(\"2. Restar\")\n",
        "            print(\"3. Multiplicar\")\n",
        "            print(\"4. Dividir\")\n",
        "            print(\"5. Producto escalar\")\n",
        "            operacion = input(\"\\n\\x1b[33mSeleccione una operación (1-5): \\x1b[0m\").strip()\n",
        "\n",
        "            if operacion == '1':\n",
        "                resultado = complejo1 + complejo2\n",
        "                print(f\"Suma: {resultado}\")\n",
        "            elif operacion == '2':\n",
        "                resultado = complejo1 - complejo2\n",
        "                print(f\"Resta: {resultado}\")\n",
        "            elif operacion == '3':\n",
        "                resultado = complejo1 * complejo2\n",
        "                print(f\"Multiplicación: {resultado}\")\n",
        "            elif operacion == '4':\n",
        "                resultado = complejo1 / complejo2\n",
        "                print(f\"División: {resultado}\")\n",
        "            elif operacion == '5':\n",
        "                resultado = complejo1.producto_escalar(complejo2)\n",
        "                print(f\"Producto escalar: {resultado}\")\n",
        "            else:\n",
        "                print(\"Opción no válida!\")\n",
        "\n",
        "        else:\n",
        "            print(\"Opción no válida!\")\n",
        "\n",
        "\n",
        "# Ejecutar el programa\n",
        "if __name__ == \"__main__\":\n",
        "    NumeroComplejo.operar()"
      ],
      "metadata": {
        "colab": {
          "base_uri": "https://localhost:8080/"
        },
        "id": "CaLpA_qer57i",
        "outputId": "6a60eec4-62a7-46f9-d312-0bd1063e3e46"
      },
      "execution_count": null,
      "outputs": [
        {
          "output_type": "stream",
          "name": "stdout",
          "text": [
            "\n",
            "\u001b[33m¿Desea operar con un solo número complejo o con dos?\u001b[0m\n",
            "\n",
            "Ingrese '1' para un número o '2' para dos números: 1\n",
            "Ingrese la parte real: 3\n",
            "Ingrese la parte imaginaria: 5\n",
            "\n",
            "Operaciones disponibles para un número complejo:\n",
            "\n",
            "1. Mostrar parte real e imaginaria\n",
            "2. Calcular módulo (valor absoluto)\n",
            "3. Calcular fase\n",
            "4. Mostrar forma polar\n",
            "\n",
            "\u001b[34mSeleccione una operación (1-4): \u001b[0m4\n",
            "Forma polar: (5.830951894845301, 1.0303768265243125)\n"
          ]
        }
      ]
    }
  ]
}