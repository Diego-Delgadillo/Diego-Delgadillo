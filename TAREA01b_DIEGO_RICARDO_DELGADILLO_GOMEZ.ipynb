{
  "nbformat": 4,
  "nbformat_minor": 0,
  "metadata": {
    "colab": {
      "provenance": [],
      "toc_visible": true,
      "authorship_tag": "ABX9TyNpMPKWKcRMuQzh6/dP3oBA",
      "include_colab_link": true
    },
    "kernelspec": {
      "name": "python3",
      "display_name": "Python 3"
    },
    "language_info": {
      "name": "python"
    }
  },
  "cells": [
    {
      "cell_type": "markdown",
      "metadata": {
        "id": "view-in-github",
        "colab_type": "text"
      },
      "source": [
        "<a href=\"https://colab.research.google.com/github/Diego-Delgadillo/Diego-Delgadillo/blob/main/TAREA01b_DIEGO_RICARDO_DELGADILLO_GOMEZ.ipynb\" target=\"_parent\"><img src=\"https://colab.research.google.com/assets/colab-badge.svg\" alt=\"Open In Colab\"/></a>"
      ]
    },
    {
      "cell_type": "markdown",
      "source": [
        "#Ejercicio 21"
      ],
      "metadata": {
        "id": "TYyVhtOobLU9"
      }
    },
    {
      "cell_type": "markdown",
      "source": [
        "##Programa que calcule la doble factorial (n!!) de un número entero positivo"
      ],
      "metadata": {
        "id": "C7ALVvjPT0pW"
      }
    },
    {
      "cell_type": "code",
      "execution_count": null,
      "metadata": {
        "id": "O3cEtqUlWHx6",
        "colab": {
          "base_uri": "https://localhost:8080/"
        },
        "outputId": "013370d4-965b-4f94-e992-13e9beabd357"
      },
      "outputs": [
        {
          "output_type": "stream",
          "name": "stdout",
          "text": [
            "\u001b[33mIngrese un número entero positivo -> \u001b[0m8\n",
            "\n",
            "El doble factorial de 8 es -> \u001b[34m384\u001b[0m\n"
          ]
        }
      ],
      "source": [
        "#Filtro para ingresar entero positivo\n",
        "while True:\n",
        "  try:\n",
        "    n = int(input(f\"\\x1b[33mIngrese un número entero positivo -> \\x1b[0m\"))\n",
        "    if(n < 0):continue\n",
        "    break\n",
        "\n",
        "  except ValueError:\n",
        "    print(f\"\\n\\x1b[31mIngrese una entrada válida!\\x1b[0m\\n\")\n",
        "\n",
        "\n",
        "#Creamos una funcion para hallar el doble factoriall de un número\n",
        "def dobleFactorial(n):\n",
        "  dobleFact = 1\n",
        "  #Encontramos si el número es par o impar\n",
        "  if(n == 1): print(f\"\\nEl doble factorial de {n} es {1}\")\n",
        "\n",
        "  else:\n",
        "   if(n % 2 == 0):\n",
        "    for i in range(1, n + 1):\n",
        "      if(i % 2 == 0):\n",
        "        dobleFact *= i\n",
        "    print(f\"\\nEl doble factorial de {n} es -> \\x1b[34m{dobleFact}\\x1b[0m\")\n",
        "\n",
        "   else:\n",
        "    if(n % 2 != 0):\n",
        "      for i in range(1, n + 1):\n",
        "        if(i % 2 != 0):\n",
        "          dobleFact *= i\n",
        "    print(f\"\\nEl doble factorial de {n} es -> \\x1b[34m{dobleFact}\\x1b[0m\")\n",
        "\n",
        "#Mando a llamar a la función\n",
        "dobleFactorial(n)"
      ]
    },
    {
      "cell_type": "markdown",
      "source": [
        "# Ejercicio 22"
      ],
      "metadata": {
        "id": "JBLfY-PLR8AF"
      }
    },
    {
      "cell_type": "markdown",
      "source": [
        "##Programa que permita calcular el dígito de control del código de barras EAN-8, las instrucciones"
      ],
      "metadata": {
        "id": "eOQQHCDtR1e8"
      }
    },
    {
      "cell_type": "code",
      "source": [
        "#Primero el usuario ingresa el código a generar\n",
        "n = list(input(f\"\\x1b[33mIngrese el código a generar de 8 dígitos-> \\x1b[0m\"))\n",
        "\n",
        "#Sumamos los números que tienen posición impar\n",
        "impar = 0\n",
        "for i in range(0, len(n), 2):\n",
        "  impar += int(n[i])\n",
        "\n",
        "#Sumamos los números con posición par\n",
        "par = 0\n",
        "for i in range(1, len(n), 2):\n",
        "  par += int(n[i])\n",
        "\n",
        "#multiplico por 3\n",
        "par *= 3\n",
        "\n",
        "print(f\"\\nSuma de impares -> \\x1b[32m{impar}\\x1b[0m\")\n",
        "\n",
        "print(f\"\\nSuma de pares por 3 -> \\x1b[32m{par}\\x1b[0m\")\n",
        "\n",
        "#Sumamos los resultados\n",
        "suma = par + impar\n",
        "print(f\"\\nSuma de ambos-> \\x1b[32m{suma}\\x1b[0m\")\n",
        "\n",
        "#obtengo módulo de 10\n",
        "modulo = suma % 10\n",
        "print(f\"\\nModulo de 10 con suma-> \\x1b[32m{modulo}\\x1b[0m\")\n",
        "\n",
        "#Dígito de control\n",
        "control = 10 - modulo\n",
        "print(f\"\\nDígito de control-> \\x1b[32m{control}\\x1b[0m\")\n",
        "\n",
        "#Convertimos a entero la lista\n",
        "codigo = int ( '' .join( map ( str ,n)))\n",
        "print(f\"\\nEL código resultante es -> \\x1b[34m{codigo} {control}\\x1b[0m\")"
      ],
      "metadata": {
        "id": "hRaWRT-xWZY0",
        "colab": {
          "base_uri": "https://localhost:8080/"
        },
        "outputId": "4512d518-902e-4773-81e9-2c792ec3fd56"
      },
      "execution_count": null,
      "outputs": [
        {
          "output_type": "stream",
          "name": "stdout",
          "text": [
            "\u001b[33mIngrese el código a generar de 8 dígitos-> \u001b[0m12345678\n",
            "\n",
            "Suma de impares -> \u001b[32m16\u001b[0m\n",
            "\n",
            "Suma de pares por 3 -> \u001b[32m60\u001b[0m\n",
            "\n",
            "Suma de ambos-> \u001b[32m76\u001b[0m\n",
            "\n",
            "Modulo de 10 con suma-> \u001b[32m6\u001b[0m\n",
            "\n",
            "Dígito de control-> \u001b[32m4\u001b[0m\n",
            "\n",
            "EL código resultante es -> \u001b[34m12345678 4\u001b[0m\n"
          ]
        }
      ]
    },
    {
      "cell_type": "markdown",
      "source": [
        "# Ejercicio 23"
      ],
      "metadata": {
        "id": "n8DOtAiCxllo"
      }
    },
    {
      "cell_type": "markdown",
      "source": [
        "##23. Programa que permita Imprimir los N números de la Serie de Padovan, donde N es un número entero positivo que el usuario debe ingresar para obtener los valores de la serie"
      ],
      "metadata": {
        "id": "Jp1KWCRjxkUY"
      }
    },
    {
      "cell_type": "code",
      "source": [
        "#Creamos una función para obtener la serie\n",
        "def padovan():\n",
        "  #filtro para ingresar entero postivo\n",
        "  while True:\n",
        "    try:\n",
        "      n = int(input(f\"\\x1b[33mIngrese un número entero positivo -> \\x1b[0m\"))\n",
        "      if(n <= 0):continue\n",
        "      break\n",
        "\n",
        "    except ValueError:\n",
        "      print(f\"\\n\\x1b[31mIngrese una entrada válida!\\x1b[0m\\n\")\n",
        "\n",
        "  #Definimos los primeros términos\n",
        "  Sucesionpadovan = [1,1,1]\n",
        "\n",
        "  #Generamos la serie, de modo que:\n",
        "  for i in range(0,n):\n",
        "    padovan = Sucesionpadovan[i] + Sucesionpadovan[i+1]\n",
        "    Sucesionpadovan.append(padovan)\n",
        "  return Sucesionpadovan\n",
        "\n",
        "#llamo a la función\n",
        "print(f\"\\nLa serie de padovan es \\x1b[34m{padovan()}\\x1b[0m\")"
      ],
      "metadata": {
        "colab": {
          "base_uri": "https://localhost:8080/"
        },
        "id": "nW6_sZlZp1NR",
        "outputId": "c295b371-442f-4536-c0a7-f9c869a5693c"
      },
      "execution_count": null,
      "outputs": [
        {
          "output_type": "stream",
          "name": "stdout",
          "text": [
            "\u001b[33mIngrese un número entero positivo -> \u001b[0m9\n",
            "\n",
            "La serie de padovan es \u001b[34m[1, 1, 1, 2, 2, 3, 4, 5, 7, 9, 12, 16]\u001b[0m\n"
          ]
        }
      ]
    },
    {
      "cell_type": "markdown",
      "source": [
        "#Ejercicio 24"
      ],
      "metadata": {
        "id": "gPVjGc9S3LJK"
      }
    },
    {
      "cell_type": "markdown",
      "source": [
        "##Programa que permita obtener una cantidad N de números pseudoaleatorios (donde N es un número entero, mayor a 0) utilizando para ello el método/algoritmo de generación de números congruencial. En el siguiente documento se encuentra información junto con ejemplos para probar el algoritmo, mostrar la tabla de cómo se van generando y guardar los números generados en una lista"
      ],
      "metadata": {
        "id": "JD02mXR43RWc"
      }
    },
    {
      "cell_type": "code",
      "source": [
        "#Solicitamos que el usuario ingrese los parámetros\n",
        "\n",
        "#Filtro para ingresar enteros positivos\n",
        "while True:\n",
        "  try:\n",
        "    a = int(input(f\"\\n\\x1b[33mIngrese el valor de a -> \\x1b[0m\"))\n",
        "    b = int(input(f\"\\n\\x1b[33mIngrese el valor de b -> \\x1b[0m\"))\n",
        "    m = int(input(f\"\\n\\x1b[33mIngrese el valor de m -> \\x1b[0m\"))\n",
        "    N = int(input(f\"\\n\\x1b[33mIngrese la cantidad de elementos a obtener -> \\x1b[0m\"))\n",
        "    if(a < 0 or b < 0 or m < 0 or N < 0):continue\n",
        "    break\n",
        "\n",
        "  except ValueError:\n",
        "    print(f\"\\n\\x1b[31mIngrese una entrada válida!\\x1b[0m\\n\")\n",
        "\n",
        "#Incializo contador en cero:\n",
        "n = 0\n",
        "xn=N\n",
        "numeros = []\n",
        "\n",
        "print(f\"\\n\\x1b[34mn   xn    xn+1  un=xn/b \\x1b[0m\")\n",
        "\n",
        "#Creo bucle para iterar\n",
        "for i in range(0,N):\n",
        "  #condición para le primer valor de xn\n",
        "\n",
        "  if(i == 0):\n",
        "    un = xn/m\n",
        "    print(f\"\\n{i+1}  {N}   {xn}     {un:.4f}\")\n",
        "    n += 1\n",
        "    numeros.append(xn)\n",
        "    continue\n",
        "\n",
        "  #Hallamos xn\n",
        "  xn = (a * xn + b) % m\n",
        "  un = xn/m\n",
        "  n += 1\n",
        "\n",
        "  numeros.append(xn)\n",
        "  #imprime el formato\n",
        "  print(f\"\\n{i+1}   {xn}   {numeros[i]}     {un:.4f}\")\n",
        "  #guarda en una lista los números\n"
      ],
      "metadata": {
        "id": "eUAYwr4_zELG",
        "colab": {
          "base_uri": "https://localhost:8080/"
        },
        "outputId": "457f4cee-cab6-4ca9-bdcc-67cb09cb77ac"
      },
      "execution_count": null,
      "outputs": [
        {
          "output_type": "stream",
          "name": "stdout",
          "text": [
            "\n",
            "\u001b[33mIngrese el valor de a -> \u001b[0m5\n",
            "\n",
            "\u001b[33mIngrese el valor de b -> \u001b[0m0\n",
            "\n",
            "\u001b[33mIngrese el valor de m -> \u001b[0m13\n",
            "\n",
            "\u001b[33mIngrese la cantidad de elementos a obtener -> \u001b[0m5\n",
            "\n",
            "\u001b[34mn   xn    xn+1  un=xn/b \u001b[0m\n",
            "\n",
            "1  5   5     0.3846\n",
            "\n",
            "2   12   12     0.9231\n",
            "\n",
            "3   8   8     0.6154\n",
            "\n",
            "4   1   1     0.0769\n",
            "\n",
            "5   5   5     0.3846\n"
          ]
        }
      ]
    },
    {
      "cell_type": "markdown",
      "source": [],
      "metadata": {
        "id": "0zYPVknvAlCh"
      }
    },
    {
      "cell_type": "markdown",
      "source": [
        "#Ejercicio 25"
      ],
      "metadata": {
        "id": "y_tcm9kpAmWI"
      }
    },
    {
      "cell_type": "markdown",
      "source": [
        "##Programa que obtenga el Máximo Común Divisor (MCD) y el mínimo común múltiplo (mcm) de un par de números enteros positivos. (Existe un algoritmo ya establecido para este caso, se le conoce como algoritmo de Euclídes)"
      ],
      "metadata": {
        "id": "_Oov4kfaAp14"
      }
    },
    {
      "cell_type": "code",
      "source": [
        "from ctypes import resize\n",
        "#Creamos un filtro para ingresar enteros positivos\n",
        "while True:\n",
        "  try:\n",
        "    n1 = int(input(f\"\\n\\x1b[33mIngrese el primer número entero positivo -> \\x1b[0m\"))\n",
        "    if(n1 < 0):continue\n",
        "    n2 = int(input(f\"\\n\\x1b[33mIngrese el segundo número entero positivo -> \\x1b[0m\"))\n",
        "    if(n2 < 0):continue\n",
        "    break\n",
        "\n",
        "  except ValueError:\n",
        "    print(f\"\\n\\x1b[31mIngrese una entrada válida!\\x1b[0m\")\n",
        "\n",
        "#Creamos una función para hallar mcd\n",
        "def mcd(n1, n2):\n",
        "  #Definimos el residuos\n",
        "  residuo = 0\n",
        "  #mientras n2 sea mayor a cero\n",
        "  while(n2 > 0):\n",
        "    #asigna el valor de residuo a n2\n",
        "    residuo = n2\n",
        "    #Encontramos el módulo de n1 con n2\n",
        "    n2 = n1 % n2\n",
        "    #Asigna n1 a residuo\n",
        "    n1 = residuo\n",
        "    #Regresa n2\n",
        "  return n1\n",
        "\n",
        "#para mcm\n",
        "def mcm(n1, n2):\n",
        "  #regresa el valor de dividir n1 entre el mcd por n2\n",
        "  return (n1 / mcd(n1, n2)) * n2\n",
        "\n",
        "#imprime y manda a llamar funciones\n",
        "print(f\"\\nEl MCD de {n1} y {n2} es -> \\x1b[34m{mcd(n1, n2)}\\x1b[0m\")\n",
        "print(f\"\\nEl MCM de {n1} y {n2} es -> \\x1b[34m{mcm(n1,n2)}\\x1b[0m\")"
      ],
      "metadata": {
        "colab": {
          "base_uri": "https://localhost:8080/"
        },
        "id": "VFLMrxGIWpXG",
        "outputId": "1766abca-b111-4258-9689-b957767d48d7"
      },
      "execution_count": null,
      "outputs": [
        {
          "output_type": "stream",
          "name": "stdout",
          "text": [
            "\n",
            "\u001b[33mIngrese el primer número entero positivo -> \u001b[0m30\n",
            "\n",
            "\u001b[33mIngrese el segundo número entero positivo -> \u001b[0m5\n",
            "\n",
            "El MCD de 30 y 5 es -> \u001b[34m5\u001b[0m\n",
            "\n",
            "El MCM de 30 y 5 es -> \u001b[34m30.0\u001b[0m\n"
          ]
        }
      ]
    },
    {
      "cell_type": "markdown",
      "source": [
        "#Ejercicio 26"
      ],
      "metadata": {
        "id": "GvJ9qSW_qRwP"
      }
    },
    {
      "cell_type": "markdown",
      "source": [
        "##Programa que permita obtener la lista de números narcisistas que existan en un intervalo dado por el usuario [a,b] (verificar que el intervalo sea válido con números enteros y positivos)"
      ],
      "metadata": {
        "id": "CyInz1anqTQK"
      }
    },
    {
      "cell_type": "code",
      "source": [
        "#Entrada en intervalo adecuado\n",
        "while True:\n",
        "  try:\n",
        "    a = int(input(f\"\\n\\x1b[33mIngresa el intervalo menor -> \\x1b[0m\"))\n",
        "    if(a < 0):continue\n",
        "    b = int(input(f\"\\n\\x1b[33mIngresa el intervalo mayor -> \\x1b[0m\"))\n",
        "    if(b < a or b < 0):b = int(input(f\"\\n\\x1b[33mIngresa el intervalo mayor -> \\x1b[0m\"))\n",
        "\n",
        "    break\n",
        "  except ValueError:\n",
        "    print(f\"\\n\\x1b[31mIngresa una entrada válida!\\x1b[0m\")\n",
        "\n",
        "#Generamos lista de números narcisistas\n",
        "def narcisistas(n1,n2):\n",
        "  print(f\"\\n\\x1b[34mLos números narcisistas son: \\x1b[0m\\n\")\n",
        "\n",
        "  #creo ciclo\n",
        "  for i in range(n1,n2+1):\n",
        "    #Encontramos longitud de i\n",
        "    m = len(str(i))\n",
        "    suma = 0\n",
        "    #Iteramos en los caracteres de i\n",
        "    for digitos in str(i):\n",
        "      #La suma es igual a los digitos elevados a m\n",
        "      suma += int(digitos)**m\n",
        "      #si es igual a lo imprime\n",
        "    if suma==i:\n",
        "      print(i)\n",
        "\n",
        "narcisistas(a,b)"
      ],
      "metadata": {
        "colab": {
          "base_uri": "https://localhost:8080/"
        },
        "id": "RQQQkpWFlB4r",
        "outputId": "b4f63499-80f1-43f4-926d-d8c74e686fa7"
      },
      "execution_count": null,
      "outputs": [
        {
          "output_type": "stream",
          "name": "stdout",
          "text": [
            "\n",
            "\u001b[33mIngresa el intervalo menor -> \u001b[0m0\n",
            "\n",
            "\u001b[33mIngresa el intervalo mayor -> \u001b[0m50000\n",
            "\n",
            "\u001b[34mLos números narcisistas son: \u001b[0m\n",
            "\n",
            "0\n",
            "1\n",
            "2\n",
            "3\n",
            "4\n",
            "5\n",
            "6\n",
            "7\n",
            "8\n",
            "9\n",
            "153\n",
            "370\n",
            "371\n",
            "407\n",
            "1634\n",
            "8208\n",
            "9474\n"
          ]
        }
      ]
    },
    {
      "cell_type": "code",
      "source": [],
      "metadata": {
        "id": "RUNO7OdXxBa6"
      },
      "execution_count": null,
      "outputs": []
    },
    {
      "cell_type": "markdown",
      "source": [
        "#Ejercicio 27"
      ],
      "metadata": {
        "id": "NSRXag7bC97U"
      }
    },
    {
      "cell_type": "markdown",
      "source": [
        "##Programa que al recibir un número entero positivo N, permita obtener la lista de número de Keith"
      ],
      "metadata": {
        "id": "PIziscfrDG2l"
      }
    },
    {
      "cell_type": "code",
      "source": [],
      "metadata": {
        "id": "QVmIWr8wA8Rk"
      },
      "execution_count": null,
      "outputs": []
    }
  ]
}