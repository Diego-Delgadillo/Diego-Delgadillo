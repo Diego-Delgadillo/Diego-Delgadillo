{
  "nbformat": 4,
  "nbformat_minor": 0,
  "metadata": {
    "colab": {
      "provenance": [],
      "authorship_tag": "ABX9TyNEQ6R553Tk6s4Vxva35SGP",
      "include_colab_link": true
    },
    "kernelspec": {
      "name": "python3",
      "display_name": "Python 3"
    },
    "language_info": {
      "name": "python"
    }
  },
  "cells": [
    {
      "cell_type": "markdown",
      "metadata": {
        "id": "view-in-github",
        "colab_type": "text"
      },
      "source": [
        "<a href=\"https://colab.research.google.com/github/Diego-Delgadillo/Diego-Delgadillo/blob/main/PROGRAMACION_AVANZADA.ipynb\" target=\"_parent\"><img src=\"https://colab.research.google.com/assets/colab-badge.svg\" alt=\"Open In Colab\"/></a>"
      ]
    },
    {
      "cell_type": "markdown",
      "source": [],
      "metadata": {
        "id": "vEEWKBoMO_Ho"
      }
    },
    {
      "cell_type": "markdown",
      "source": [
        "# **# Programación avanzada**\n",
        "\n",
        "\n",
        "\n",
        "*   Parcial 1\n",
        "\n",
        "  **Tareas 100%**\n",
        "\n",
        "* Parcial II\n",
        "\n",
        "  **Tareas 100%**\n",
        "\n",
        "* Parcial III\n",
        "\n",
        "  **Proyecto 100%**\n"
      ],
      "metadata": {
        "id": "BTYQrqyQPANa"
      }
    },
    {
      "cell_type": "code",
      "source": [
        "#Colab se ejecuta en un servidor Linux\n",
        "# !ls -> nos da el directorio del servidor linux\n",
        "!ls"
      ],
      "metadata": {
        "colab": {
          "base_uri": "https://localhost:8080/"
        },
        "id": "pkuBSJvKQJox",
        "outputId": "d4148693-7fc8-460d-8f52-d039e3af00a8"
      },
      "execution_count": null,
      "outputs": [
        {
          "output_type": "stream",
          "name": "stdout",
          "text": [
            "sample_data\n"
          ]
        }
      ]
    },
    {
      "cell_type": "code",
      "source": [
        "!python --version"
      ],
      "metadata": {
        "colab": {
          "base_uri": "https://localhost:8080/"
        },
        "id": "uP4qoN3hQ0pI",
        "outputId": "1540319c-a2a8-4de7-a5e6-bad5cedb3268"
      },
      "execution_count": null,
      "outputs": [
        {
          "output_type": "stream",
          "name": "stdout",
          "text": [
            "Python 3.11.11\n"
          ]
        }
      ]
    },
    {
      "cell_type": "markdown",
      "source": [
        "# **Clase/sesión 14/02/2025**"
      ],
      "metadata": {
        "id": "TjN7y_lIVNbg"
      }
    },
    {
      "cell_type": "code",
      "source": [
        "#Python es un lenguaje"
      ],
      "metadata": {
        "id": "fHN1NUlJVqDm"
      },
      "execution_count": null,
      "outputs": []
    }
  ]
}