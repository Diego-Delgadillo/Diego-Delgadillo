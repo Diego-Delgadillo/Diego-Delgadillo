{
  "nbformat": 4,
  "nbformat_minor": 0,
  "metadata": {
    "colab": {
      "provenance": [],
      "authorship_tag": "ABX9TyMrZ+aggZqurU3xISmgbNyZ",
      "include_colab_link": true
    },
    "kernelspec": {
      "name": "python3",
      "display_name": "Python 3"
    },
    "language_info": {
      "name": "python"
    }
  },
  "cells": [
    {
      "cell_type": "markdown",
      "metadata": {
        "id": "view-in-github",
        "colab_type": "text"
      },
      "source": [
        "<a href=\"https://colab.research.google.com/github/Diego-Delgadillo/Diego-Delgadillo/blob/main/PROGRAMACION_AVANZADA.ipynb\" target=\"_parent\"><img src=\"https://colab.research.google.com/assets/colab-badge.svg\" alt=\"Open In Colab\"/></a>"
      ]
    },
    {
      "cell_type": "markdown",
      "source": [],
      "metadata": {
        "id": "vEEWKBoMO_Ho"
      }
    },
    {
      "cell_type": "markdown",
      "source": [
        "# **# Programación avanzada**\n",
        "\n",
        "\n",
        "\n",
        "*   Parcial 1\n",
        "\n",
        "  **Tareas 100%**\n",
        "\n",
        "* Parcial II\n",
        "\n",
        "  **Tareas 100%**\n",
        "\n",
        "* Parcial III\n",
        "\n",
        "  **Proyecto 100%**\n"
      ],
      "metadata": {
        "id": "BTYQrqyQPANa"
      }
    },
    {
      "cell_type": "code",
      "source": [
        "#Colab se ejecuta en un servidor Linux\n",
        "# !ls -> nos da el directorio del servidor linux\n",
        "!ls"
      ],
      "metadata": {
        "colab": {
          "base_uri": "https://localhost:8080/"
        },
        "id": "pkuBSJvKQJox",
        "outputId": "d4148693-7fc8-460d-8f52-d039e3af00a8"
      },
      "execution_count": null,
      "outputs": [
        {
          "output_type": "stream",
          "name": "stdout",
          "text": [
            "sample_data\n"
          ]
        }
      ]
    },
    {
      "cell_type": "code",
      "source": [
        "!python --version"
      ],
      "metadata": {
        "colab": {
          "base_uri": "https://localhost:8080/"
        },
        "id": "uP4qoN3hQ0pI",
        "outputId": "1540319c-a2a8-4de7-a5e6-bad5cedb3268"
      },
      "execution_count": null,
      "outputs": [
        {
          "output_type": "stream",
          "name": "stdout",
          "text": [
            "Python 3.11.11\n"
          ]
        }
      ]
    },
    {
      "cell_type": "markdown",
      "source": [
        "# **Clase/sesión 14/02/2025**"
      ],
      "metadata": {
        "id": "TjN7y_lIVNbg"
      }
    },
    {
      "cell_type": "code",
      "source": [
        "#Python es un lenguaje de programación debilmente tipado\n",
        "\n",
        "buleano = True  #1 bit\n",
        "entero = 69     #69 bits\n",
        "doble = 3.14159   #64 bits\n"
      ],
      "metadata": {
        "id": "fHN1NUlJVqDm"
      },
      "execution_count": null,
      "outputs": []
    },
    {
      "cell_type": "code",
      "source": [
        "#Conversión de datos\n",
        "#bool() int() float() str()\n",
        "cadena = str(entero)\n",
        "print(cadena)\n",
        "print(type(cadena))\n"
      ],
      "metadata": {
        "colab": {
          "base_uri": "https://localhost:8080/"
        },
        "id": "HJqu9ChcWaQi",
        "outputId": "296fe9a6-f5e9-468b-9984-b963fcfe05f2"
      },
      "execution_count": null,
      "outputs": [
        {
          "output_type": "stream",
          "name": "stdout",
          "text": [
            "3\n",
            "<class 'str'>\n"
          ]
        }
      ]
    },
    {
      "cell_type": "code",
      "source": [
        "#Convertir a partir de enteros a digitos binarios\n",
        "binario = bin(7)\n",
        "print(binario)"
      ],
      "metadata": {
        "colab": {
          "base_uri": "https://localhost:8080/"
        },
        "id": "pfna67X0Wokf",
        "outputId": "37070a47-89f6-49d8-8714-40611bae6920"
      },
      "execution_count": null,
      "outputs": [
        {
          "output_type": "stream",
          "name": "stdout",
          "text": [
            "0b111\n"
          ]
        }
      ]
    },
    {
      "cell_type": "code",
      "source": [
        "#Octal\n",
        "octal = oct(7)\n",
        "print(octal)"
      ],
      "metadata": {
        "colab": {
          "base_uri": "https://localhost:8080/"
        },
        "id": "3zOVdLNQXziH",
        "outputId": "79ddb961-fc6a-43c3-db57-d80be538ccbd"
      },
      "execution_count": null,
      "outputs": [
        {
          "output_type": "stream",
          "name": "stdout",
          "text": [
            "0o7\n"
          ]
        }
      ]
    },
    {
      "cell_type": "code",
      "source": [
        "#hexadecimal\n",
        "hexadecimal = hex(15)\n",
        "print(hexadecimal)"
      ],
      "metadata": {
        "colab": {
          "base_uri": "https://localhost:8080/"
        },
        "id": "1W130_qPYCpQ",
        "outputId": "8ddd6dc9-43a1-4468-ef28-1f3b7ca86559"
      },
      "execution_count": null,
      "outputs": [
        {
          "output_type": "stream",
          "name": "stdout",
          "text": [
            "0xf\n"
          ]
        }
      ]
    },
    {
      "cell_type": "code",
      "source": [
        "print(24)\n",
        "print(bin(24))\n",
        "print(oct(24))\n",
        "print(hex(24))"
      ],
      "metadata": {
        "colab": {
          "base_uri": "https://localhost:8080/"
        },
        "id": "qDF_N1KKYbz9",
        "outputId": "d0b2e460-6c21-4ee5-f3bc-e600982d0f32"
      },
      "execution_count": null,
      "outputs": [
        {
          "output_type": "stream",
          "name": "stdout",
          "text": [
            "24\n",
            "0b11000\n",
            "0o30\n",
            "0x18\n"
          ]
        }
      ]
    },
    {
      "cell_type": "code",
      "source": [
        "print(type(bin(24)))\n",
        "print(type(oct(24)))\n",
        "print(type(hex(24)))"
      ],
      "metadata": {
        "colab": {
          "base_uri": "https://localhost:8080/"
        },
        "id": "5ynMSKwHZG8x",
        "outputId": "b2ee5a24-83ec-4225-b494-7abede546733"
      },
      "execution_count": null,
      "outputs": [
        {
          "output_type": "stream",
          "name": "stdout",
          "text": [
            "<class 'str'>\n",
            "<class 'str'>\n",
            "<class 'str'>\n"
          ]
        }
      ]
    },
    {
      "cell_type": "code",
      "source": [
        "#Esto nos da tambien que numero es\n",
        "print(int('0b1000110101',2))\n",
        "print(int('0x21FA', 16))"
      ],
      "metadata": {
        "colab": {
          "base_uri": "https://localhost:8080/"
        },
        "id": "aUurhh5hZdD0",
        "outputId": "425a6e15-cce0-47bf-da07-df672b37b984"
      },
      "execution_count": null,
      "outputs": [
        {
          "output_type": "stream",
          "name": "stdout",
          "text": [
            "565\n",
            "8698\n"
          ]
        }
      ]
    },
    {
      "cell_type": "code",
      "source": [
        " print(bin(255))\n",
        " print(2**8)"
      ],
      "metadata": {
        "colab": {
          "base_uri": "https://localhost:8080/"
        },
        "id": "oR41rOT6ZahL",
        "outputId": "0ec2815b-903f-47a9-e158-862bee779bec"
      },
      "execution_count": null,
      "outputs": [
        {
          "output_type": "stream",
          "name": "stdout",
          "text": [
            "0b11111111\n",
            "256\n"
          ]
        }
      ]
    },
    {
      "cell_type": "code",
      "source": [
        "#Código ASCII\n",
        "#UTilizamos chr() -> Para convertir de int a str\n",
        "#Utilizamos ord() -> Para convertir de str a int\n",
        "print(chr(69))\n",
        "print(ord('@'))"
      ],
      "metadata": {
        "colab": {
          "base_uri": "https://localhost:8080/"
        },
        "id": "qU11jJHGc4zr",
        "outputId": "015d1a47-0b64-4961-ce68-214f3a2da004"
      },
      "execution_count": null,
      "outputs": [
        {
          "output_type": "stream",
          "name": "stdout",
          "text": [
            "E\n",
            "64\n"
          ]
        }
      ]
    },
    {
      "cell_type": "code",
      "source": [
        "#Para imprimir\n",
        "print('Hola Mundo', end = ' ')\n",
        "print('=D')"
      ],
      "metadata": {
        "colab": {
          "base_uri": "https://localhost:8080/"
        },
        "id": "mnw7A9mEfvoX",
        "outputId": "62459ca5-db21-4af3-ab14-8c8fd64069ad"
      },
      "execution_count": null,
      "outputs": [
        {
          "output_type": "stream",
          "name": "stdout",
          "text": [
            "Hola Mundo =D\n"
          ]
        }
      ]
    },
    {
      "cell_type": "code",
      "source": [
        "#UNICODE\n",
        "print(\"\\u0277\")\n",
        "print(\"\\U0001F63E\")"
      ],
      "metadata": {
        "colab": {
          "base_uri": "https://localhost:8080/"
        },
        "id": "D9jZVkXqgaOP",
        "outputId": "38f4506b-ba66-4afc-b012-041b6a08ddcf"
      },
      "execution_count": null,
      "outputs": [
        {
          "output_type": "stream",
          "name": "stdout",
          "text": [
            "ɷ\n",
            "😾\n"
          ]
        }
      ]
    },
    {
      "cell_type": "code",
      "source": [
        "#Secuencias de escape\n",
        "print(\"\\x1b[31m Los mismo pero en rojo \\x1b[0m\")\n",
        "print(\"\\x1b[32m Los mismo pero en verde \\x1b[0m\")\n",
        "print(\"\\x1b[33m Los mismo pero en amarillo \\x1b[0m\")\n",
        "print(\"\\x1b[34m Los mismo pero enazul \\x1b[0m\")\n",
        "print(\"\\x1b[35m Los mismo pero en morado \\x1b[0m\")\n",
        "print(\"\\x1b[36m Los mismo pero en cian \\x1b[0m\")"
      ],
      "metadata": {
        "id": "U4W_PAQVghRU",
        "colab": {
          "base_uri": "https://localhost:8080/"
        },
        "outputId": "dfc7991b-264f-4251-c0ab-a2be56d62f5f"
      },
      "execution_count": 9,
      "outputs": [
        {
          "output_type": "stream",
          "name": "stdout",
          "text": [
            "\u001b[31m Los mismo pero en rojo \u001b[0m\n",
            "\u001b[32m Los mismo pero en verde \u001b[0m\n",
            "\u001b[33m Los mismo pero en amarillo \u001b[0m\n",
            "\u001b[34m Los mismo pero enazul \u001b[0m\n",
            "\u001b[35m Los mismo pero en morado \u001b[0m\n",
            "\u001b[36m Los mismo pero en cian \u001b[0m\n"
          ]
        }
      ]
    },
    {
      "cell_type": "code",
      "source": [
        "#Fondo de letra de color\n",
        "#Usa el color en rgb\n",
        "print(\"\\x1b[48;2;100;155;255m Los mismo pero en amarillo \\x1b[0m\")"
      ],
      "metadata": {
        "colab": {
          "base_uri": "https://localhost:8080/"
        },
        "id": "sgJhPDfJU8nB",
        "outputId": "a7f0cad6-ae40-443f-b676-3e37cf2e495a"
      },
      "execution_count": 11,
      "outputs": [
        {
          "output_type": "stream",
          "name": "stdout",
          "text": [
            "\u001b[48;2;100;155;255m Los mismo pero en amarillo \u001b[0m\n"
          ]
        }
      ]
    },
    {
      "cell_type": "code",
      "source": [
        "print(\"\")"
      ],
      "metadata": {
        "id": "0u8qPUlHVk1S"
      },
      "execution_count": null,
      "outputs": []
    }
  ]
}