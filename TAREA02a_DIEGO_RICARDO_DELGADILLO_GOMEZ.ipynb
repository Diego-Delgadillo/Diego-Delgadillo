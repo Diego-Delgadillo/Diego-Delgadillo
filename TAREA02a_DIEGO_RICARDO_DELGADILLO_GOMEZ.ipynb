{
  "nbformat": 4,
  "nbformat_minor": 0,
  "metadata": {
    "colab": {
      "provenance": [],
      "authorship_tag": "ABX9TyOXtw3yBacrDYSrgz6AgDhY",
      "include_colab_link": true
    },
    "kernelspec": {
      "name": "python3",
      "display_name": "Python 3"
    },
    "language_info": {
      "name": "python"
    }
  },
  "cells": [
    {
      "cell_type": "markdown",
      "metadata": {
        "id": "view-in-github",
        "colab_type": "text"
      },
      "source": [
        "<a href=\"https://colab.research.google.com/github/Diego-Delgadillo/Diego-Delgadillo/blob/main/TAREA02a_DIEGO_RICARDO_DELGADILLO_GOMEZ.ipynb\" target=\"_parent\"><img src=\"https://colab.research.google.com/assets/colab-badge.svg\" alt=\"Open In Colab\"/></a>"
      ]
    },
    {
      "cell_type": "markdown",
      "source": [
        "##TAREA02a-DIEGO RICARDO DELGADILLO GOMEZ\n",
        "##*pd: Gracias por sus clases profe,lo queremos!*"
      ],
      "metadata": {
        "id": "khAMbJfUovl0"
      }
    },
    {
      "cell_type": "markdown",
      "source": [
        "#Ejercicio 41\n",
        "\n",
        "###Generar el programa que permita mostrar el desarrollo del binomio de Newton mediante la forma:\n",
        "$(a+b)^{n} = \\sum_{r=0}^{n} \\binom{n}{r} a^{n-r}b^{r}$"
      ],
      "metadata": {
        "id": "_Edi946zo2C0"
      }
    },
    {
      "cell_type": "markdown",
      "source": [
        "\n"
      ],
      "metadata": {
        "id": "QkXJrRtXo9Cj"
      }
    },
    {
      "cell_type": "code",
      "source": [
        "#Generamos filtro para generar números\n",
        "def IngresaNumero():\n",
        "  #Filtro para ingresar entero positivo\n",
        "  while True:\n",
        "    try:\n",
        "      n = int(input(f\"\\x1b[33mIngrese un número entero positivo -> \\x1b[0m\"))\n",
        "      if(n < 0 or n > 15):continue\n",
        "      break\n",
        "\n",
        "    except ValueError:\n",
        "      print(f\"\\n\\x1b[31mIngrese una entrada válida!\\x1b[0m\\n\")\n",
        "  return n\n",
        "\n",
        "#Función que genera el binomio :D\n",
        "def  binomioNewton(n):\n",
        "  print(f\"\\n\\x1b[34mEl binomio de Newton para {n} elementos es ->\\x1b[0m\\n\")\n",
        "\n",
        "  r = 0;i = 1;j = 1; k = 1;exponente = 0\n",
        "\n",
        "    #creamos bucle\n",
        "  for r in range(0,n+1):\n",
        "\n",
        "\n",
        "    #declaro variables para factoriales\n",
        "    fac = 1; fac2 = 1; fac3 = 1\n",
        "\n",
        "    #Factorial n!\n",
        "    for i in range(1,n+1): fac*= i; i+=1\n",
        "\n",
        "    exponente = n - r\n",
        "\n",
        "\n",
        "    #factorial (n-r)!\n",
        "    for j in range(1,exponente+1):fac2*=j; j+=1\n",
        "    #factorial r!\n",
        "    for k in range(1,r+1):fac3*=k; k+=1\n",
        "\n",
        "    coeficientes = fac//(fac2*fac3)\n",
        "\n",
        "    #para imprimir\n",
        "    if(r==0):\n",
        "      print(f\"\\x1b[33m(a+b)^{n} = \\x1b[0m\",end=\" \")\n",
        "\n",
        "    if((n-r) != 0):\n",
        "      if((n-r)==1):\n",
        "        print(f\"\\x1b[33m{coeficientes} a\\x1b[0m\",end=\" \")\n",
        "      else:\n",
        "        print(f\"\\x1b[33m{coeficientes} a^{(n-r)}\\x1b[0m\",end=\" \")\n",
        "      if(r != 0):\n",
        "        if(r==1):\n",
        "          print(f\"\\x1b[33m b \\x1b[0m\",end=\" \")\n",
        "        else:\n",
        "          print(f\"\\x1b[33mb^{r}\\x1b[0m\",end=\" \")\n",
        "    else:\n",
        "      print(f\"\\x1b[33m{coeficientes} b^{r}\\x1b[0m\",end=\" \")\n",
        "      continue\n",
        "    print(f\" + \",end=\" \")\n",
        "\n",
        "\n",
        "#LLamamos a la funcion\n",
        "binomioNewton(4)"
      ],
      "metadata": {
        "id": "bH8fdwzHu1mY",
        "colab": {
          "base_uri": "https://localhost:8080/"
        },
        "outputId": "25078d69-07b3-4368-bd36-680b08108dfd"
      },
      "execution_count": null,
      "outputs": [
        {
          "output_type": "stream",
          "name": "stdout",
          "text": [
            "\n",
            "\u001b[34mEl binomio de Newton para 4 elementos es ->\u001b[0m\n",
            "\n",
            "\u001b[33m(a+b)^4 = \u001b[0m \u001b[33m1 a^4\u001b[0m  +  \u001b[33m4 a^3\u001b[0m \u001b[33m b \u001b[0m  +  \u001b[33m6 a^2\u001b[0m \u001b[33mb^2\u001b[0m  +  \u001b[33m4 a\u001b[0m \u001b[33mb^3\u001b[0m  +  \u001b[33m1 b^4\u001b[0m "
          ]
        }
      ]
    },
    {
      "cell_type": "markdown",
      "source": [
        "# Ejercicio 42\n",
        "\n",
        "##Escribe un programa en Python que verifique si una cadena dada es una dirección de correo electrónico válida. Pide al usuario que ingrese una dirección de correo electrónico y muestra un mensaje indicando si es válida o no"
      ],
      "metadata": {
        "id": "BeHa0yY25ojy"
      }
    },
    {
      "cell_type": "code",
      "execution_count": null,
      "metadata": {
        "id": "SHcC8xj3ojkN",
        "colab": {
          "base_uri": "https://localhost:8080/"
        },
        "outputId": "b3b50878-5e2e-4b3e-fe51-db08e315c708"
      },
      "outputs": [
        {
          "output_type": "stream",
          "name": "stdout",
          "text": [
            "\u001b[33mIngrese una dirección de correo electrónico -> \u001b[0mddelgadillog2300@alumno.ipn.mx\n",
            "\n",
            "\u001b[32mLa dirección de correo \u001b[0m ddelgadillog2300@alumno.ipn.mx \u001b[32mes válida\u001b[0m\n",
            "\n"
          ]
        }
      ],
      "source": [
        "#importamos el modulo de expresiones regulares (RegEx)\n",
        "import re\n",
        "\n",
        "'''\n",
        "Sabemos que el correo electrónico puede tener lo siguiente:\n",
        "\n",
        "-prefijo de usuario despues del arroba peude lleva letras maysucualas o minusculas y números, cracteres como puntos o guiones\n",
        "-debe contener el arroba @ que indica la dirección\n",
        "-dominio de la organización, solo contiene letras\n",
        "-la extension del dominio va despues del punto y puede contener letras\n",
        "'''\n",
        "#creamos funcion para validar\n",
        "def validarEmail(direccion):\n",
        "  #regresa verdadero si cumple con los requisitos\n",
        "  #[a-zA-Z] bnusca las letras minusculas o mayusculas\n",
        "  #\\b\t\tConsidera si los caracteres especificados están al inicio o final de la cadena\n",
        "  #busca numero dentro del intervalo 0-9\n",
        "  return bool (re.match(r'\\b[A-Za-z0-9.%+-]+@[A-Za-z0-9.-]+\\.[A-Z|a-z]{2,}\\b',direccion))\n",
        "\n",
        "#print(validarEmail(\"drdg2005@gmail.com\"))\n",
        "\n",
        "\n",
        "\n",
        "#Solicito el correo\n",
        "correo = str(input(f\"\\x1b[33mIngrese una dirección de correo electrónico -> \\x1b[0m\"))\n",
        "#llamo a la funcion\n",
        "if(validarEmail(correo)):\n",
        "  print(f\"\\n\\x1b[32mLa dirección de correo \\x1b[0m {correo} \\x1b[32mes válida\\x1b[0m\\n\")\n",
        "else:\n",
        "  print(f\"\\n\\x1b[31mLa dirección de correo\\x1b[0m {correo} \\x1b[31mno es válida válida!\\x1b[0m\\n\")"
      ]
    },
    {
      "cell_type": "markdown",
      "source": [
        "#Ejercicio 43\n",
        "\n",
        "##Generar un programa que permita al usuario ingresar una lista de entre 2 y 6 números enteros y mostrar todas las posibles permutaciones de la lista"
      ],
      "metadata": {
        "id": "OaTgAu77EGwV"
      }
    },
    {
      "cell_type": "code",
      "source": [
        "#Solicita listas\n",
        "\n",
        "def ingresoListas():\n",
        "  #defino listas\n",
        "  lista1 = []; lista2 = []\n",
        "\n",
        "  #Filtro para ingresar números enteros\n",
        "  while True:\n",
        "     try:\n",
        "         n1=int(input(f\"\\n\\x1b[32m¿Cuántos números desea ingresar a la lista(2-6)? -> \\x1b[0m\"))\n",
        "         if(n1 < 2 or n1 > 6): print(f\"\\n\\x1b[31mIngresa un número en el intrevalo (2-6) !\\x1b[0m\\n\");continue\n",
        "         break\n",
        "     except ValueError:\n",
        "         print(f\"\\n\\x1b[31mIngresa un número entero!\\x1b[0m\\n\")\n",
        "\n",
        "  #almacena\n",
        "  for x in range(0,n1):\n",
        "    lista1.append(int(input(f\"\\x1b[33mIngrese el elemento {x+1} -> \\x1b[0m\")))\n",
        "\n",
        "  #imprimo listas\n",
        "  print(f\"\\n\\x1b[34mLa lista es -> \\x1b[0m{lista1}\\n \\n\\x1b[34mLas posibles combinaciones son:\\n\\x1b[0m\")\n",
        "  return lista1\n",
        "\n",
        "#funcion para permutar lista\n",
        "def permutar(lista):\n",
        "  #Caso base: si la lista de entrada está vacía regresa otra lista vacía\n",
        "  if(len(lista) == 0):\n",
        "    return []\n",
        "\n",
        "  #si la lista tiene al menos un elemento\n",
        "  if(len(lista) == 1):\n",
        "    return [lista]\n",
        "\n",
        "  #declaro lista para permutar\n",
        "  permutaciones = []\n",
        "\n",
        "  #itera en de acuerdo  a n elementos en lista\n",
        "  for i in range(len(lista)):\n",
        "    #selecciona un elemento 'm' del indice 'i'\n",
        "    m = lista[i]\n",
        "    #Creamos nueva lista con todos los elemento menos 'm'\n",
        "    listatmp = lista[:i] + lista[i+1:]\n",
        "    #recursivamente llamamos a la funcion\n",
        "    for j in permutar(listatmp):\n",
        "      #añadimos 'm' al inicio de cada permutacion en 'p' y añdimos a 'permutaciones'\n",
        "      permutaciones.append([m] + j)\n",
        "\n",
        "  #imprime permutaciones\n",
        "  #print(f\"\\n\\x1b[32mLas posibles combinaciones de la lista {lista} son:\\n{permutaciones}\\x1b[0m\")\n",
        "\n",
        "  return permutaciones\n",
        "\n",
        "#llamo a funciones\n",
        "permutar(ingresoListas())"
      ],
      "metadata": {
        "colab": {
          "base_uri": "https://localhost:8080/"
        },
        "id": "QNdHxm_RBCSB",
        "outputId": "7b2600f1-8e95-4528-9fcb-c66a4a43409f"
      },
      "execution_count": 16,
      "outputs": [
        {
          "output_type": "stream",
          "name": "stdout",
          "text": [
            "\n",
            "\u001b[32m¿Cuántos números desea ingresar a la lista(2-6)? -> \u001b[0m3\n",
            "\u001b[33mIngrese el elemento 1 -> \u001b[0m1\n",
            "\u001b[33mIngrese el elemento 2 -> \u001b[0m2\n",
            "\u001b[33mIngrese el elemento 3 -> \u001b[0m3\n",
            "\n",
            "\u001b[34mLa lista es -> \u001b[0m[1, 2, 3]\n",
            " \n",
            "\u001b[34mLas posibles combinaciones son:\n",
            "\u001b[0m\n"
          ]
        },
        {
          "output_type": "execute_result",
          "data": {
            "text/plain": [
              "[[1, 2, 3], [1, 3, 2], [2, 1, 3], [2, 3, 1], [3, 1, 2], [3, 2, 1]]"
            ]
          },
          "metadata": {},
          "execution_count": 16
        }
      ]
    },
    {
      "cell_type": "markdown",
      "source": [
        "#Ejercicio 44\n",
        "\n",
        "##El domingo de Pascua es el primer domingo después de la primera luna llena posterior al equinoccio de primavera y se determina mediante el siguiente cálculo:\n",
        "\n",
        "```\n",
        "A = año módulo 19\n",
        "B = año módulo 4\n",
        "C = año módulo 7\n",
        "D = (19 * A + 24) módulo 30\n",
        "E = (2 * B + 4 * C + 6 * D + 5) módulo 7\n",
        "N = (22 + D + E)\n",
        "```\n",
        "\n",
        "##Donde N indica el número de día del mes de marzo (si N es igual o menor a 31) o abril (si es mayor que 31). Construir un programa que determine las fechas del domingo de Pascua desde 1900 hasta el año actual y las guarde en una lista con el nombre pascuaLista.\n"
      ],
      "metadata": {
        "id": "YsRrFZ10DCmF"
      }
    },
    {
      "cell_type": "code",
      "source": [],
      "metadata": {
        "id": "WGF0k34BDyec"
      },
      "execution_count": null,
      "outputs": []
    }
  ]
}