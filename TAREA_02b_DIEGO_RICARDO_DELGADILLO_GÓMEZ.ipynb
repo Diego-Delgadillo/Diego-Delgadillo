{
  "nbformat": 4,
  "nbformat_minor": 0,
  "metadata": {
    "colab": {
      "provenance": [],
      "authorship_tag": "ABX9TyOQMvOh4Yda9R1DxoKIlSeb",
      "include_colab_link": true
    },
    "kernelspec": {
      "name": "python3",
      "display_name": "Python 3"
    },
    "language_info": {
      "name": "python"
    }
  },
  "cells": [
    {
      "cell_type": "markdown",
      "metadata": {
        "id": "view-in-github",
        "colab_type": "text"
      },
      "source": [
        "<a href=\"https://colab.research.google.com/github/Diego-Delgadillo/Diego-Delgadillo/blob/main/TAREA_02b_DIEGO_RICARDO_DELGADILLO_G%C3%93MEZ.ipynb\" target=\"_parent\"><img src=\"https://colab.research.google.com/assets/colab-badge.svg\" alt=\"Open In Colab\"/></a>"
      ]
    },
    {
      "cell_type": "markdown",
      "source": [
        "#TAREA_02b_DIEGO_RICARDO_DELGADILLO_GÓMEZ\n",
        "#**Gracias por sus clases profe, lo queremos :D**"
      ],
      "metadata": {
        "id": "oCPbKOM4TBce"
      }
    },
    {
      "cell_type": "markdown",
      "source": [
        "#Ejercicio 61\n",
        "##Generar un programa de Python que efectué el algoritmo de Chudnovsy para el cálculo rápido de las cifras de pi. Solicitar al usuario un número entero positivo mayor o igual a 1 de cifras a calcular."
      ],
      "metadata": {
        "id": "wzmxby1CTMZn"
      }
    },
    {
      "cell_type": "code",
      "execution_count": 32,
      "metadata": {
        "colab": {
          "base_uri": "https://localhost:8080/"
        },
        "id": "nXKKQ4bwSUp_",
        "outputId": "8595239a-f826-48f6-f7c4-ec9d99e00f0c"
      },
      "outputs": [
        {
          "output_type": "stream",
          "name": "stdout",
          "text": [
            "\n",
            "\u001b[32mIngrese un número entero positivo -> \u001b[0m7\n",
            "\n",
            "\u001b[34mLa aproximación de π es -> \u001b[0m3.1415926535897936\n"
          ]
        }
      ],
      "source": [
        "import math\n",
        "\n",
        "#creamos una funcion para pedir n elementos\n",
        "def ingresoN():\n",
        "  while True:\n",
        "    try:\n",
        "      n = int(input(f\"\\n\\x1b[32mIngrese un número entero positivo -> \\x1b[0m\"))\n",
        "      if(n <= 0): print(f\"\\n\\x1b[31mIngrese una entrada válida!\\x1b[0m\"); continue\n",
        "      break\n",
        "\n",
        "    except ValueError:\n",
        "      print(f\"\\n\\x1b[31mIngrese una entrada válida!\\x1b[0m\")\n",
        "\n",
        "  return n\n",
        "\n",
        "#funcion para aproximacion al número 'pi'\n",
        "def chudnovsy(n):\n",
        "  #declaro variables\n",
        "  aprox = 0\n",
        "  sum = 0\n",
        "\n",
        "  #bucle para sumar\n",
        "  for i in range(n):\n",
        "    sum+=  ((-1)**i * (math.factorial(6*i)) * (13591409 + 545140134*i)) / ((math.factorial(3*i)) * (math.factorial(i)**3) * (640320**(3*i + 3/2)))\n",
        "\n",
        "  #finalmente calculo la aproximacion\n",
        "  aprox = sum*12\n",
        "  aprox = 1/aprox\n",
        "\n",
        "  print(f\"\\n\\x1b[34mLa aproximación de π es -> \\x1b[0m{aprox}\")\n",
        "\n",
        "#llamando a las funciones\n",
        "chudnovsy(ingresoN())"
      ]
    },
    {
      "cell_type": "markdown",
      "source": [
        "#Ejercicio 62\n",
        "##Generar un programa de Python que incluya funciones para restringir el ingreso de datos del usuario; las funciones restringirán el ingreso de números enteros, flotantes en un intervalo [a,b], cadenas de texto con solamente letras, números caracteres especiales o combinaciones de las mismas."
      ],
      "metadata": {
        "id": "AZ3fhfGdYyau"
      }
    },
    {
      "cell_type": "code",
      "source": [],
      "metadata": {
        "id": "ycTYd5WIWJxe"
      },
      "execution_count": null,
      "outputs": []
    }
  ]
}