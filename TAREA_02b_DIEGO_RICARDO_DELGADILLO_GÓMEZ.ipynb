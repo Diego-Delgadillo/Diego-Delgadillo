{
  "cells": [
    {
      "cell_type": "markdown",
      "metadata": {
        "id": "view-in-github",
        "colab_type": "text"
      },
      "source": [
        "<a href=\"https://colab.research.google.com/github/Diego-Delgadillo/Diego-Delgadillo/blob/main/TAREA_02b_DIEGO_RICARDO_DELGADILLO_G%C3%93MEZ.ipynb\" target=\"_parent\"><img src=\"https://colab.research.google.com/assets/colab-badge.svg\" alt=\"Open In Colab\"/></a>"
      ]
    },
    {
      "cell_type": "markdown",
      "metadata": {
        "id": "oCPbKOM4TBce"
      },
      "source": [
        "#TAREA_02b_DIEGO_RICARDO_DELGADILLO_GÓMEZ\n",
        "#**Gracias por sus clases profe, lo queremos :D**"
      ]
    },
    {
      "cell_type": "markdown",
      "metadata": {
        "id": "wzmxby1CTMZn"
      },
      "source": [
        "#Ejercicio 61\n",
        "##Generar un programa de Python que efectué el algoritmo de Chudnovsy para el cálculo rápido de las cifras de pi. Solicitar al usuario un número entero positivo mayor o igual a 1 de cifras a calcular."
      ]
    },
    {
      "cell_type": "code",
      "execution_count": null,
      "metadata": {
        "colab": {
          "base_uri": "https://localhost:8080/"
        },
        "id": "nXKKQ4bwSUp_",
        "outputId": "8595239a-f826-48f6-f7c4-ec9d99e00f0c"
      },
      "outputs": [
        {
          "name": "stdout",
          "output_type": "stream",
          "text": [
            "\n",
            "\u001b[32mIngrese un número entero positivo -> \u001b[0m7\n",
            "\n",
            "\u001b[34mLa aproximación de π es -> \u001b[0m3.1415926535897936\n"
          ]
        }
      ],
      "source": [
        "import math\n",
        "\n",
        "#creamos una funcion para pedir n elementos\n",
        "def ingresoN():\n",
        "  while True:\n",
        "    try:\n",
        "      n = int(input(f\"\\n\\x1b[32mIngrese un número entero positivo -> \\x1b[0m\"))\n",
        "      if(n <= 0): print(f\"\\n\\x1b[31mIngrese una entrada válida!\\x1b[0m\"); continue\n",
        "      break\n",
        "\n",
        "    except ValueError:\n",
        "      print(f\"\\n\\x1b[31mIngrese una entrada válida!\\x1b[0m\")\n",
        "\n",
        "  return n\n",
        "\n",
        "#funcion para aproximacion al número 'pi'\n",
        "def chudnovsy(n):\n",
        "  #declaro variables\n",
        "  aprox = 0\n",
        "  sum = 0\n",
        "\n",
        "  #bucle para sumar\n",
        "  for i in range(n):\n",
        "    sum+=  ((-1)**i * (math.factorial(6*i)) * (13591409 + 545140134*i)) / ((math.factorial(3*i)) * (math.factorial(i)**3) * (640320**(3*i + 3/2)))\n",
        "\n",
        "  #finalmente calculo la aproximacion\n",
        "  aprox = sum*12\n",
        "  aprox = 1/aprox\n",
        "\n",
        "  print(f\"\\n\\x1b[34mLa aproximación de π es -> \\x1b[0m{aprox}\")\n",
        "\n",
        "#llamando a las funciones\n",
        "chudnovsy(ingresoN())"
      ]
    },
    {
      "cell_type": "markdown",
      "metadata": {
        "id": "AZ3fhfGdYyau"
      },
      "source": [
        "#Ejercicio 62\n",
        "##Generar un programa de Python que incluya funciones para restringir el ingreso de datos del usuario; las funciones restringirán el ingreso de números enteros, flotantes en un intervalo [a,b], cadenas de texto con solamente letras, números caracteres especiales o combinaciones de las mismas."
      ]
    },
    {
      "cell_type": "code",
      "execution_count": null,
      "metadata": {
        "colab": {
          "base_uri": "https://localhost:8080/",
          "height": 695
        },
        "id": "ycTYd5WIWJxe",
        "outputId": "0f2e2f52-8627-47b7-b01e-be04e8980877"
      },
      "outputs": [
        {
          "name": "stdout",
          "output_type": "stream",
          "text": [
            "\n",
            "\u001b[32mIngrese un número entero -> \u001b[0m8.6\n",
            "\n",
            "\u001b[31mIngrese una entrada válida!\u001b[0m\n",
            "\n",
            "\u001b[32mIngrese un número entero -> \u001b[0m9\n",
            "\n",
            "\u001b[33mEntrada válida\u001b[0m\n",
            "\n",
            "\u001b[32mIngrese un número decimal (a) -> \u001b[0m5.6\n",
            "\n",
            "\u001b[33mEntrada válida\u001b[0m\n",
            "\n",
            "\u001b[32mIngrese un número decimal (b) -> \u001b[0m3.1\n",
            "\n",
            "\u001b[31mIngrese una entrada válida! (b mayor que a)\u001b[0m\n",
            "\n",
            "\u001b[32mIngrese un número decimal (b) -> \u001b[0m6.9\n",
            "\n",
            "\u001b[33mEntrada válida\u001b[0m\n",
            "\n",
            "\u001b[32mIngrese una cadena de texto -> \u001b[0mhola8)\n",
            "\n",
            "\u001b[31mEntrada no válida!\u001b[0m\n",
            "\n",
            "\u001b[32mIngrese una cadena de texto -> \u001b[0mholis\n",
            "\n",
            "\u001b[33mEntrada válida\u001b[0m\n",
            "\n",
            "\u001b[32mIngrese una cadena de texto con numero y/o caracteres especiales-> \u001b[0mjijia\n",
            "['j', 'i', 'j', 'i', 'a']\n",
            "\n",
            "\u001b[31mEntrada no válida!\u001b[0m\n",
            "\n",
            "\u001b[32mIngrese una cadena de texto con numero y/o caracteres especiales-> \u001b[0m0$1\n",
            "['0', '$', '1']\n",
            "\n",
            "\u001b[33mEntrada válida\u001b[0m\n"
          ]
        },
        {
          "data": {
            "application/vnd.google.colaboratory.intrinsic+json": {
              "type": "string"
            },
            "text/plain": [
              "'0$1'"
            ]
          },
          "execution_count": 20,
          "metadata": {},
          "output_type": "execute_result"
        }
      ],
      "source": [
        "#creamos funciones\n",
        "\n",
        "def enteros():\n",
        "  while True:\n",
        "    try:\n",
        "      a = int(input(f\"\\n\\x1b[32mIngrese un número entero -> \\x1b[0m\"))\n",
        "      break\n",
        "\n",
        "    except ValueError:\n",
        "      print(f\"\\n\\x1b[31mIngrese una entrada válida!\\x1b[0m\")\n",
        "\n",
        "  print(f\"\\n\\x1b[33mEntrada válida\\x1b[0m\")\n",
        "  return a\n",
        "\n",
        "#----------------------------------------------------------------------------\n",
        "def flotantes():\n",
        "  while True:\n",
        "    try:\n",
        "      a = float(input(f\"\\n\\x1b[32mIngrese un número decimal (a) -> \\x1b[0m\"))\n",
        "      if(a <= 0): print(f\"\\n\\x1b[31mIngrese una entrada válida!\\x1b[0m\"); continue\n",
        "      break\n",
        "\n",
        "    except ValueError:\n",
        "      print(f\"\\n\\x1b[31mIngrese una entrada válida!\\x1b[0m\")\n",
        "\n",
        "  print(f\"\\n\\x1b[33mEntrada válida\\x1b[0m\")\n",
        "\n",
        "  while True:\n",
        "    try:\n",
        "      b = float(input(f\"\\n\\x1b[32mIngrese un número decimal (b) -> \\x1b[0m\"))\n",
        "      if(b <= 0 or b < a): print(f\"\\n\\x1b[31mIngrese una entrada válida! (b mayor que a)\\x1b[0m\"); continue\n",
        "      break\n",
        "\n",
        "    except ValueError:\n",
        "      print(f\"\\n\\x1b[31mIngrese una entrada válida!\\x1b[0m\")\n",
        "\n",
        "  print(f\"\\n\\x1b[33mEntrada válida\\x1b[0m\")\n",
        "  return a,b\n",
        "\n",
        "#------------------------------------------------------------------------------\n",
        "def cadenas():\n",
        "  entrada = input(f\"\\n\\x1b[32mIngrese una cadena de texto -> \\x1b[0m\")\n",
        "\n",
        "  #detecta si solamente tiene letras\n",
        "  #entrada.match(r'\\b[]')\n",
        "\n",
        "  if(entrada.isalpha()):\n",
        "    print(f\"\\n\\x1b[33mEntrada válida\\x1b[0m\")\n",
        "    return entrada\n",
        "  else:\n",
        "    print(f\"\\n\\x1b[31mEntrada no válida!\\x1b[0m\")\n",
        "    return cadenas()\n",
        "\n",
        "\n",
        "  print(f\"\\n\\x1b[33mEntrada válida\\x1b[0m\")\n",
        "  return entrada\n",
        "\n",
        "#----------------------------------------------------------------------------------\n",
        "def numcaracter():\n",
        "  entrada = input(f\"\\n\\x1b[32mIngrese una cadena de texto con numero y/o caracteres especiales-> \\x1b[0m\")\n",
        "\n",
        "  #declaro lista con algunos caracteres especiales y numeros muehehe\n",
        "  especiales = [\"@\", \"_\", \"!\", \"#\", \"$\", \"%\", \"^\", \"&\", \"*\", \"(\", \")\", \"<\", \">\", \"?\", \"/\", \"\\\\\", \"|\", \"}\", \"{\", \"~\", \":\", \"0\", \"1\", \"2\", \"3\", \"4\", \"5\", \"6\", \"7\", \"8\", \"9\"]\n",
        "  lista = []\n",
        "\n",
        "  #convierto cada caracter en elemnto de una lista =D\n",
        "  for caracter in entrada:\n",
        "    lista+=[caracter]\n",
        "\n",
        "\n",
        "  print(lista)\n",
        "  #ahora buscamos si esta un caracter especial en lista\n",
        "  #bandera\n",
        "  valido = True\n",
        "\n",
        "  for caracter in lista:\n",
        "    if(caracter not in especiales):\n",
        "      print(f\"\\n\\x1b[31mEntrada no válida!\\x1b[0m\")\n",
        "      valido = False\n",
        "      break\n",
        "\n",
        "\n",
        "  if valido:\n",
        "    print(f\"\\n\\x1b[33mEntrada válida\\x1b[0m\")\n",
        "    return entrada\n",
        "  else:\n",
        "    return numcaracter()\n",
        "\n",
        "#------------------------------------------------------\n",
        "#llamamos a las funciones\n",
        "enteros()\n",
        "flotantes()\n",
        "cadenas()\n",
        "numcaracter()"
      ]
    },
    {
      "cell_type": "markdown",
      "metadata": {
        "id": "9__Wuz_7yCJ7"
      },
      "source": [
        "#Ejercicio 63\n",
        "##Escribir un programa en lenguaje Python que permita codificar y decodificar una frase ingresada por el usuario mediante el método de cifrado Vigenère; el programa permitirá ingresar la frase y la palabra de cifrado mediante el teclado, mostrando la frase y preguntando si desea decodificar, si es así, el programa preguntará la palabra clave y si es correcta, el programa mostrará la frase original, en caso de no colocar la palabra correcta mostrará un mensaje de error"
      ]
    },
    {
      "cell_type": "code",
      "execution_count": null,
      "metadata": {
        "colab": {
          "base_uri": "https://localhost:8080/"
        },
        "id": "-Wc8Id8N2K2k",
        "outputId": "809f5e02-1165-4941-a7ee-a1d747709a06"
      },
      "outputs": [
        {
          "name": "stdout",
          "output_type": "stream",
          "text": [
            "\n",
            "\u001b[32mIngrese una frase -> \u001b[0mholis\n",
            "\n",
            "\u001b[32mIngrese una clave -> \u001b[0mloap\n",
            "\n",
            "\u001b[34mLa frase cifrada es -> \u001b[0msclxd\n",
            "\n",
            "\u001b[33mDesea descifrar? (s/n) -> \u001b[0ms\n",
            "\n",
            "\u001b[32mIngrese la clave para descifrar -> \u001b[0mloap\n",
            "\n",
            "\u001b[34mLa frase descifrada es -> \u001b[0mholis\n"
          ]
        }
      ],
      "source": [
        "abc = 'abcdefghijklmnopqrstuvwxyz'\n",
        "\n",
        "#Declaramos funciones para cifrar y descifrar\n",
        "#---------------------------------------------------------------------------\n",
        "def cifrar(cadena,clave):\n",
        "  textoCifrar = ''\n",
        "\n",
        "  i = 0\n",
        "  for letra in cadena:\n",
        "    #Buscamos la posicion que tiene la letra en el ciclo, si la clave es menor a la cadean\n",
        "    #regresa al principio si llega al final\n",
        "    suma = abc.find(letra) + abc.find(clave[i % len(clave)])\n",
        "    modulo = int(suma) % len(abc)\n",
        "    textoCifrar = textoCifrar + str(abc[modulo])\n",
        "    i += 1\n",
        "\n",
        "  return textoCifrar\n",
        "\n",
        "#--------------------------------------------------------------------------------------------\n",
        "def descifrar(cadena,clave):\n",
        "  textoCifrar = ''\n",
        "\n",
        "  i = 0\n",
        "  for letra in cadena:\n",
        "    #Buscamos la posicion que tiene la letra en el ciclo, si la clave es menor a la cadean\n",
        "    #regresa al principio si llega al final\n",
        "    suma = abc.find(letra) - abc.find(clave[i % len(clave)])\n",
        "    modulo = int(suma) % len(abc)\n",
        "    textoCifrar = textoCifrar + str(abc[modulo])\n",
        "    i += 1\n",
        "\n",
        "  return textoCifrar\n",
        "#----------------------------------------------------------------------------------\n",
        "\n",
        "\n",
        "\n",
        "entrada = str(input(f\"\\n\\x1b[32mIngrese una frase -> \\x1b[0m\")).lower()\n",
        "clave = str(input(f\"\\n\\x1b[32mIngrese una clave -> \\x1b[0m\")).lower()\n",
        "#llamando a las funciones\n",
        "fraseCifrada = cifrar(entrada,clave)\n",
        "print(f\"\\n\\x1b[34mLa frase cifrada es -> \\x1b[0m{cifrar(entrada,clave)}\")\n",
        "\n",
        "#pregunta si desea descifrar\n",
        "pregunta = input(f\"\\n\\x1b[33mDesea descifrar? (s/n) -> \\x1b[0m\")\n",
        "if(pregunta == 's'):\n",
        "  claveDescifrar = str(input(f\"\\n\\x1b[32mIngrese la clave para descifrar -> \\x1b[0m\")).lower()\n",
        "  #creamos bucle para repetir hasta que sea igual la clave\n",
        "  if(claveDescifrar != clave):\n",
        "    print(f\"\\n\\x1b[31mClave incorrecta!\\x1b[0m\")\n",
        "  else:\n",
        "    print(f\"\\n\\x1b[34mLa frase descifrada es -> \\x1b[0m{descifrar(fraseCifrada,claveDescifrar)}\")\n",
        "else:\n",
        "  print(f\"\\n\\x1b[34mFin del programa =D \\x1b[0m\")\n"
      ]
    },
    {
      "cell_type": "markdown",
      "metadata": {
        "id": "0Jq8k5C-MGLR"
      },
      "source": [
        "#Ejercicio 64\n",
        "##Escribir un programa en lenguaje Python que permita codificar y decodificar una frase ingresada por el usuario mediante el método de cifrado de cuaderno de un solo uso; el programa permitirá ingresar la frase y la clave de cifrado mediante el teclado, mostrando la frase y preguntando si desea decodificar, si es así, el programa preguntará la palabra clave y si es correcta, el programa mostrará la frase original, en caso de no colocar la palabra correcta mostrará un mensaje de error; hacer uso de operaciones a lógicas para aumentar la velocidad de codificación"
      ]
    },
    {
      "cell_type": "code",
      "execution_count": null,
      "metadata": {
        "colab": {
          "base_uri": "https://localhost:8080/"
        },
        "id": "AipdBAyYLvqx",
        "outputId": "0a4c04f3-003f-4108-d392-0c0c50285291"
      },
      "outputs": [
        {
          "name": "stdout",
          "output_type": "stream",
          "text": [
            "\n",
            "\u001b[32mIngrese una frase -> \u001b[0mhello\n",
            "5\n",
            "\n",
            "\u001b[33mIngrese una clave -> \u001b[0muBV,;\n",
            "5\n",
            "['h', 'e', 'l', 'l', 'o'] ['u', 'B', 'V', ',', ';']\n",
            "\n",
            "\u001b[34mLa frase cifrada es -> \u001b[0m\u001d':@T\n",
            "\n",
            "\u001b[34mDesea descifrar? (s/n) -> \u001b[0mS\n",
            "\n",
            "\u001b[31mIngrese una entrada válida!\u001b[0m\n",
            "\n",
            "\u001b[34mDesea descifrar? (s/n) -> \u001b[0ms\n",
            "\n",
            "\u001b[32mIngrese la clave para descifrar -> \u001b[0muBV,;\n",
            "\n",
            "\u001b[34mLa frase descifrada es -> \u001b[0mhello\n"
          ]
        }
      ],
      "source": [
        "#creamos funcion para ingresar datos\n",
        "def ingresar():\n",
        "  frase = input(f\"\\n\\x1b[32mIngrese una frase -> \\x1b[0m\")\n",
        "\n",
        "  print(len(frase))\n",
        "\n",
        "  clave = input(f\"\\n\\x1b[33mIngrese una clave -> \\x1b[0m\")\n",
        "\n",
        "  #verifican que sea de la misma longitud ambas palabras\n",
        "  while(len(clave) < len(frase) or len(clave) > len(frase)):\n",
        "    print(f\"\\n\\x1b[31mIngrese una clave válida!\\x1b[0m\")\n",
        "    clave = input(f\"\\n\\x1b[33mIngrese una clave -> \\x1b[0m\")\n",
        "\n",
        "  print(len(clave))\n",
        "\n",
        "  return frase,clave\n",
        "#----------------------------------------------------------------------------------\n",
        "\n",
        "def cifrar(frase,clave):\n",
        "  #ciframos, separamos elementos de frase y clave en listas\n",
        "  listaFrase = []; listaClave = []; fraseCifrada = []\n",
        "\n",
        "  for letra in frase:\n",
        "      listaFrase+=[letra]\n",
        "\n",
        "  for letra in clave:\n",
        "      listaClave+=[letra]\n",
        "\n",
        "  #declaramos tamaño de la frase a cifrar\n",
        "  fraseCifrada = [0]*len(listaFrase)\n",
        "\n",
        "  print(f\"{listaFrase} {listaClave}\")\n",
        "\n",
        "  #ciframos texto\n",
        "  for i in range(len(listaFrase)):\n",
        "    #aqui utiliza la operacion binaria 'XOR' para obtener el nuevo caracter cifrado\n",
        "    #pasando de caracter a codigo ASCCI con la func. 'ord()'\n",
        "    fraseCifrada[i] =  ord(listaFrase[i]) ^ ord(listaClave[i])\n",
        "    fraseCifrada[i] = chr(fraseCifrada[i])\n",
        "\n",
        "  #convierto de lista a string\n",
        "  fraseCifrada = ''.join(fraseCifrada)\n",
        "  print(f\"\\n\\x1b[34mLa frase cifrada es -> \\x1b[0m{fraseCifrada}\")\n",
        "\n",
        "  #pregunta si desea descifrar\n",
        "  pregunta = '_'\n",
        "\n",
        "  while(pregunta != 's' or pregunta != 'n'):\n",
        "    pregunta = str(input(f\"\\n\\x1b[34mDesea descifrar? (s/n) -> \\x1b[0m\"))\n",
        "\n",
        "    if(pregunta == 's'):\n",
        "\n",
        "      #comprueba si la clave ingresada es la misma\n",
        "      claveDescifrar = '_'\n",
        "      while(claveDescifrar != clave):\n",
        "        claveDescifrar = str(input(f\"\\n\\x1b[32mIngrese la clave para descifrar -> \\x1b[0m\"))\n",
        "\n",
        "        if(claveDescifrar == clave):\n",
        "          #comienza el descifrado\n",
        "\n",
        "          #realizando el procesoInverso\n",
        "          fraseDescifrada = [0]*len(listaFrase)\n",
        "          for i in range(len(listaFrase)):\n",
        "            fraseDescifrada[i] =  ord(fraseCifrada[i]) ^ ord(claveDescifrar[i])\n",
        "            fraseDescifrada[i] = chr(fraseDescifrada[i])\n",
        "\n",
        "          #convierto de lista a string\n",
        "          fraseDescifrada = ''.join(fraseDescifrada)\n",
        "          print(f\"\\n\\x1b[34mLa frase descifrada es -> \\x1b[0m{fraseDescifrada}\")\n",
        "\n",
        "          #termina bucle\n",
        "          break\n",
        "        else:\n",
        "          print(f\"\\n\\x1b[31mIngrese la calve correcta!\\x1b[0m\")\n",
        "      #termina bucle\n",
        "      break\n",
        "\n",
        "    #sale del script\n",
        "    elif(pregunta == 'n'):\n",
        "      print(\"Fin del programa =D\")\n",
        "      break\n",
        "\n",
        "    print(f\"\\n\\x1b[31mIngrese una entrada válida!\\x1b[0m\")\n",
        "\n",
        "#llamando a las funciones\n",
        "frase, clave = ingresar()\n",
        "cifrar(frase,clave)"
      ]
    },
    {
      "cell_type": "markdown",
      "metadata": {
        "id": "8fQ0nI4_0_83"
      },
      "source": [
        "#Ejercicio 65\n",
        "##Desarrolle una función en lenguaje Python llamada “palabras_inversas” que reciba una cadena de texto como entrada y regrese una cadena de texto con las palabras invertidas. Por ejemplo, si se ingresa “Hola a todos”, la función regresará “todos a Hola”"
      ]
    },
    {
      "cell_type": "code",
      "execution_count": null,
      "metadata": {
        "colab": {
          "base_uri": "https://localhost:8080/"
        },
        "id": "y9zoXpf21EHj",
        "outputId": "634a849c-4e50-4c9f-bbce-354b07d0f628"
      },
      "outputs": [
        {
          "output_type": "stream",
          "name": "stdout",
          "text": [
            "\u001b[33mIngresa una cadena de texto -> \u001b[0mhola a todos\n",
            "\n",
            "\u001b[34mLa cadena invertida es -> \u001b[0m todos a hola\n"
          ]
        }
      ],
      "source": [
        "#creamos funcion para almacenar entrada\n",
        "def ingresar():\n",
        "  entrada = str(input(f\"\\x1b[33mIngresa una cadena de texto -> \\x1b[0m\"))\n",
        "  return entrada\n",
        "#------------------------------------------------------------------------------------\n",
        "\n",
        "#funciona para invertir\n",
        "def palabras_inversas(cadena):\n",
        "\n",
        "  palabras = cadena.split() #separa en palabras la cadena\n",
        "  palabras.reverse() #invierte orden la lista \"palabras\"\n",
        "  cadena = ' '.join(palabras) #convertimos esa lista a un string\n",
        "  print(f\"\\n\\x1b[34mLa cadena invertida es -> \\x1b[0m {cadena}\") #imprime :D\n",
        "\n",
        "\n",
        "#llamando a las funciones\n",
        "palabras_inversas(ingresar())"
      ]
    },
    {
      "cell_type": "markdown",
      "source": [
        "#Ejercicio 66\n",
        "##Desarrolle una función en lenguaje Python llamada “potenciaA2” que tome un entero como entrada y regrese un booleano True si es una potencia de 2 y Falso en otro caso. Evite utilizar ciclos o recursión de funciones en la solución"
      ],
      "metadata": {
        "id": "47l28puMhKJs"
      }
    },
    {
      "cell_type": "code",
      "execution_count": null,
      "metadata": {
        "id": "pJW5LRjY2LPB",
        "colab": {
          "base_uri": "https://localhost:8080/"
        },
        "outputId": "61db16db-b9d2-42f5-a72e-3b929c1c24de"
      },
      "outputs": [
        {
          "output_type": "stream",
          "name": "stdout",
          "text": [
            "\n",
            "\u001b[32mIngrese un número entero -> \u001b[0m8\n",
            "\n",
            "\u001b[33mEl número 8 es una potencia de 2 :D\u001b[0m\n"
          ]
        },
        {
          "output_type": "execute_result",
          "data": {
            "text/plain": [
              "True"
            ]
          },
          "metadata": {},
          "execution_count": 23
        }
      ],
      "source": [
        "#Creamos funcion para ingresar enteros\n",
        "def ingreso():\n",
        "  while True:\n",
        "    try:\n",
        "      n = int(input(f\"\\n\\x1b[32mIngrese un número entero -> \\x1b[0m\"))\n",
        "      if(n <= 0): print(f\"\\n\\x1b[31mIngrese una entrada válida!\\x1b\");continue\n",
        "      break\n",
        "    except:\n",
        "      print(f\"\\n\\x1b[31mIngrese una entrada válida!\\x1b[0m\")\n",
        "  return n\n",
        "\n",
        "#------------------------------------------------------------------------\n",
        "#creamos funcion para verificar si es potencia de '2'\n",
        "def potenciaA2(n):\n",
        "  #utilizando operaciones a nivel de bits\n",
        "  if(n & (n-1) == 0):\n",
        "    print(f\"\\n\\x1b[33mEl número {n} es una potencia de 2 :D\\x1b[0m\")\n",
        "    return True\n",
        "  else:\n",
        "    print(f\"\\n\\x1b[31mEl número {n} no es una potencia de 2 T_T\\x1b[0m\")\n",
        "    return False\n",
        "\n",
        "#llamando a las funciones\n",
        "potenciaA2(ingreso())\n"
      ]
    },
    {
      "cell_type": "markdown",
      "source": [
        "#Ejercicio 67\n",
        "##Escribir una función llamada “encontrarPalindromo” que tome una lista de palabras como entrada y regrese una nueva lista la cual contenga solamente las palabras que son palíndromos. Por ejemplo, [lista, roma, narran, sagas, rapar, elíseo, nieve], regresará solamente [narran, sagas, rapar]"
      ],
      "metadata": {
        "id": "TKIbEj6YqAm7"
      }
    },
    {
      "cell_type": "code",
      "source": [
        "#creamos funcion para ingresar palabras\n",
        "def ingresoPalabras():\n",
        "  #declaramos la lista\n",
        "  lista = []\n",
        "  #pregunta cuantos elementos desea ingresar\n",
        "  while True:\n",
        "    try:\n",
        "      n = int(input(f\"\\n\\x1b[32mIngrese la cantidad de palabras a almacenar -> \\x1b[0m\"))\n",
        "      if(n <= 0): print(f\"\\n\\x1b[33mIngrese una entrada válida!\\x1b\");continue\n",
        "      break\n",
        "    except:\n",
        "      print(f\"\\n\\x1b[31mIngrese una entrada válida!\\x1b[0m\")\n",
        "\n",
        "  for i in range(n):\n",
        "    lista+=[str(input(f\"\\n\\x1b[33mIngrese una palabra -> \\x1b[0m\"))]\n",
        "  return lista\n",
        "\n",
        "#-----------------------------------------------------------------------------------\n",
        "#creamos funcion\n",
        "def encontrarPalindromo(lista):\n",
        " #declaramos lista de palindromos\n",
        " palindromos = []\n",
        "\n",
        " #encontramos palindromos\n",
        " for i in range(len(lista)):\n",
        "   if(str(lista[i]) == str(lista[i][::-1])):\n",
        "    palindromos+=[lista[i]]\n",
        "\n",
        "\n",
        " print(f\"\\n\\x1b[34mLa lista de palindromos es -> \\x1b[0m\")\n",
        " return palindromos\n",
        "\n",
        "#llamando a las funciones\n",
        "print(f\"{encontrarPalindromo(ingresoPalabras())}\")\n"
      ],
      "metadata": {
        "id": "BdhZeSTtpr5w",
        "colab": {
          "base_uri": "https://localhost:8080/"
        },
        "outputId": "62078a11-d280-4a3d-9227-416613d5f561"
      },
      "execution_count": null,
      "outputs": [
        {
          "output_type": "stream",
          "name": "stdout",
          "text": [
            "\n",
            "\u001b[32mIngrese la cantidad de palabras a almacenar -> \u001b[0m5\n",
            "\n",
            "\u001b[33mIngrese una palabra -> \u001b[0mniño\n",
            "\n",
            "\u001b[33mIngrese una palabra -> \u001b[0mhola\n",
            "\n",
            "\u001b[33mIngrese una palabra -> \u001b[0mrapar\n",
            "\n",
            "\u001b[33mIngrese una palabra -> \u001b[0msagas\n",
            "\n",
            "\u001b[33mIngrese una palabra -> \u001b[0mlol\n",
            "\n",
            "\u001b[34mLa lista de palindromos es -> \u001b[0m\n",
            "['rapar', 'sagas', 'lol']\n"
          ]
        }
      ]
    },
    {
      "cell_type": "markdown",
      "source": [
        "#Ejercicio 68\n",
        "##Resolver el problema de que se impriman los N números de la Serie de Padovan, donde N es un número entero positivo que el usuario debe ingresar para obtener los valores de la serie, utilizando el paradigma de Programación Funcional (no debe utilizarse ningún otro paradigma)"
      ],
      "metadata": {
        "id": "pAsH9Yvr2sH0"
      }
    },
    {
      "cell_type": "code",
      "source": [
        "#creamos función para ingresar el parámetro 'N'\n",
        "def ingreso():\n",
        "  while True:\n",
        "    try:\n",
        "      n = int(input(f\"\\n\\x1b[32mIngrese un número entero positivo -> \\x1b[0m\"))\n",
        "      if(n <= 0): print(f\"\\n\\x1b[31mIngrese una entrada válida!\\x1b\");continue\n",
        "      break\n",
        "    except:\n",
        "      print(f\"\\n\\x1b[31mIngrese una entrada válida!\\x1b[0m\")\n",
        "\n",
        "  return n\n",
        "#-------------------------------------------------------------------------------------------\n",
        "#creamos funcion para la serie\n",
        "def padovan(n):\n",
        "  if n == 0 or n == 1 or n == 2:\n",
        "    return 1\n",
        "  else:\n",
        "    return (padovan(n-2) + padovan(n-3))\n",
        "\n",
        "#llamando a las funciones\n",
        "print(f\"\\n\\x1b[34mLa serie de Padovan es -> \\n\\x1b[0m\")\n",
        "for i in range(ingreso()):\n",
        "  print(padovan(i),end = ', ')"
      ],
      "metadata": {
        "id": "KCEs-drPswIL",
        "colab": {
          "base_uri": "https://localhost:8080/"
        },
        "outputId": "03d6be75-14cf-48a5-c4fe-ce94fe76c404"
      },
      "execution_count": null,
      "outputs": [
        {
          "output_type": "stream",
          "name": "stdout",
          "text": [
            "\n",
            "\u001b[34mLa serie de Padovan es -> \n",
            "\u001b[0m\n",
            "\n",
            "\u001b[32mIngrese un número entero positivo -> \u001b[0m12\n",
            "1, 1, 1, 2, 2, 3, 4, 5, 7, 9, 12, 16, "
          ]
        }
      ]
    },
    {
      "cell_type": "markdown",
      "source": [
        "#Ejercicio 69\n",
        "##Utilizando recursividad (del paradigma de programación funcional), generar un programa que calcule la suma harmónica de un número entero positivo N ingresado por el usuario"
      ],
      "metadata": {
        "id": "Ot7Eebsf4fKJ"
      }
    },
    {
      "cell_type": "code",
      "source": [
        "#creamos funcion para ingresar un número\n",
        "def ingresar():\n",
        "  while True:\n",
        "    try:\n",
        "      n = int(input(f\"\\n\\x1b[32mIngrese un número entero positivo -> \\x1b[0m\"))\n",
        "      if(n <= 0): print(f\"\\n\\x1b[31mIngrese una entrada válida!\\x1b\");continue\n",
        "      break\n",
        "    except:\n",
        "      print(f\"\\n\\x1b[31mIngrese una entrada válida!\\x1b[0m\")\n",
        "\n",
        "  return n\n",
        "#-----------------------------------------------------------------------------------------\n",
        "def armonica(n):\n",
        "  #utilizamos recursividad\n",
        "  if n == 1:\n",
        "    return 1\n",
        "  else:\n",
        "    return 1/n + armonica(n-1)\n",
        "\n",
        "#------------------------------------------------------------------------------------------------\n",
        "#llamando a las funciones\n",
        "n = ingresar()\n",
        "print(f\"\\n\\x1b[33mLa serie armónica de {n} elementos es -> \\x1b[0m {armonica(n)}\")"
      ],
      "metadata": {
        "id": "1NMfL6go8Gl_",
        "colab": {
          "base_uri": "https://localhost:8080/"
        },
        "outputId": "dae370a8-fff7-4ef0-ee6f-8c8681e8cf1c"
      },
      "execution_count": null,
      "outputs": [
        {
          "output_type": "stream",
          "name": "stdout",
          "text": [
            "\n",
            "\u001b[32mIngrese un número entero positivo -> \u001b[0m8\n",
            "\n",
            "\u001b[33mLa serie armónica de 8 elementos es -> \u001b[0m 2.7178571428571425\n"
          ]
        }
      ]
    },
    {
      "cell_type": "markdown",
      "source": [
        "#Ejercicio 70\n",
        "##Cree una clase llamada CuentaBancaria con los siguientes atributos: numeroCuenta (una cadena),nombreTitular (una cadena), saldo (un número de coma flotante) y transacciones (una lista de tuplas que representan transacciones). Implementar métodos dentro de la clase para depositar y retirar fondos de la cuenta. Además, implemente un método getStatement que devuelva una cadena formateada que contenga el nombre del titular de la cuenta, el número de cuenta, el saldo actual y el historial de transacciones"
      ],
      "metadata": {
        "id": "V-yiqiExFs4r"
      }
    },
    {
      "cell_type": "code",
      "source": [
        "#creamos la clase\n",
        "class CuentaBancaria:\n",
        "  #metodo que se encarga de instanciar a la clase (constructor)\n",
        "  def __init__(self,numeroCuenta,nombreTitular,saldo,transacciones):\n",
        "    self.numeroCuenta = str(numeroCuenta)\n",
        "    self.nombreTitular = str(nombreTitular)\n",
        "    self.saldo = float(saldo)\n",
        "    self.transacciones = transacciones\n",
        "\n",
        "\n",
        "  #método para depositar fondos\n",
        "  def depositar(self):\n",
        "\n",
        "    print(f\"\\n\\x1b[34mBienvenid@, {self.nombreTitular}\\x1b[0m\")\n",
        "\n",
        "    #creamos filtro para que ingrese una cantidad válida\n",
        "    while True:\n",
        "      try:\n",
        "        n = float(input(f\"\\n\\x1b[32mIngrese el monto a depositar-> \\x1b[0m\"))\n",
        "        if(n <= 0): print(f\"\\n\\x1b[31mIngrese una entrada válida!\\x1b\");continue\n",
        "        break\n",
        "      except:\n",
        "        print(f\"\\n\\x1b[31mIngrese una entrada válida!\\x1b[0m\")\n",
        "\n",
        "    #ahora abonamos la cantidad \"n\"\n",
        "    self.saldo += n\n",
        "\n",
        "\n",
        "  #método para retirar fondos\n",
        "  def retirar(self):\n",
        "    print(f\"\\n\\x1b[34mBienvenid@, {self.nombreTitular}\\x1b[0m\")\n",
        "    #filtro\n",
        "    while True:\n",
        "      try:\n",
        "        n = float(input(f\"\\n\\x1b[32mIngrese el monto a retirar-> \\x1b[0m\"))\n",
        "        if(n <= 0 or n > self.saldo): print(f\"\\n\\x1b[31mIngrese un monto válido!\\x1b\");continue\n",
        "        break\n",
        "      except:\n",
        "        print(f\"\\n\\x1b[31mIngrese una entrada válida!\\x1b[0m\")\n",
        "\n",
        "    #actualiza el saldo\n",
        "    self.saldo -= n\n",
        "\n",
        "  #metodo para imprimi cadena con formato\n",
        "  def getStatement(self):\n",
        "    print(f\"\\n\\x1b[33mNombre del titular de la cuenta ->\\x1b[0m {self.nombreTitular}\")\n",
        "    print(f\"\\n\\x1b[33mNúmero de cuenta ->\\x1b[0m {self.numeroCuenta}\")\n",
        "    print(f\"\\n\\x1b[33mSaldo actual ->\\x1b[0m {self.saldo}\")\n",
        "    print(f\"\\n\\x1b[33mHistorial de transacciones -> \\x1b[0m {self.transacciones}\")\n",
        "#-----------------------------------------------------------------------------------\n",
        "\n",
        "#ejemplos para mostrar su funcionamiento\n",
        "tarjetaOro = CuentaBancaria(8701826112198806479323,\"Diego Ricardo Delgadillo Gómez\",4500,(100,2500,800,727))\n",
        "tarjetaPlatino = CuentaBancaria(4101526972191646479324,\"Sofía Rodriguez Martínez\",12000,(780,450,67,100,4800))\n",
        "\n",
        "print(f\"\\n----------------Método para depositar----------------------\\n\")\n",
        "tarjetaOro.depositar(); tarjetaPlatino.depositar()\n",
        "print(f\"\\n----------------Método para retirar-------------------------\\n\")\n",
        "tarjetaOro.retirar();tarjetaPlatino.retirar()\n",
        "print(f\"\\n----------------Método get statement----------------------\\n\")\n",
        "tarjetaOro.getStatement(), tarjetaPlatino.getStatement()\n"
      ],
      "metadata": {
        "colab": {
          "base_uri": "https://localhost:8080/"
        },
        "id": "nhS1CjYM9VAh",
        "outputId": "11fcb013-d1d6-4814-8931-6e6d791d0c6b"
      },
      "execution_count": null,
      "outputs": [
        {
          "output_type": "stream",
          "name": "stdout",
          "text": [
            "\n",
            "----------------Método para depositar----------------------\n",
            "\n",
            "\n",
            "\u001b[34mBienvenid@, Diego Ricardo Delgadillo Gómez\u001b[0m\n",
            "\n",
            "\u001b[32mIngrese el monto a depositar-> \u001b[0m1508.7\n",
            "\n",
            "\u001b[34mBienvenid@, Sofía Rodriguez Martínez\u001b[0m\n",
            "\n",
            "\u001b[32mIngrese el monto a depositar-> \u001b[0m2500.45\n",
            "\n",
            "----------------Método para retirar-------------------------\n",
            "\n",
            "\n",
            "\u001b[34mBienvenid@, Diego Ricardo Delgadillo Gómez\u001b[0m\n",
            "\n",
            "\u001b[32mIngrese el monto a retirar-> \u001b[0m8900\n",
            "\n",
            "\u001b[31mIngrese un monto válido!\u001b\n",
            "\n",
            "\u001b[32mIngrese el monto a retirar-> \u001b[0m147.5\n",
            "\n",
            "\u001b[34mBienvenid@, Sofía Rodriguez Martínez\u001b[0m\n",
            "\n",
            "\u001b[32mIngrese el monto a retirar-> \u001b[0m12000\n",
            "\n",
            "----------------Método get statement----------------------\n",
            "\n",
            "\n",
            "\u001b[33mNombre del titular de la cuenta ->\u001b[0m Diego Ricardo Delgadillo Gómez\n",
            "\n",
            "\u001b[33mNúmero de cuenta ->\u001b[0m 8701826112198806479323\n",
            "\n",
            "\u001b[33mSaldo actual ->\u001b[0m 5861.2\n",
            "\n",
            "\u001b[33mHistorial de transacciones -> \u001b[0m (100, 2500, 800, 727)\n",
            "\n",
            "\u001b[33mNombre del titular de la cuenta ->\u001b[0m Sofía Rodriguez Martínez\n",
            "\n",
            "\u001b[33mNúmero de cuenta ->\u001b[0m 4101526972191646479324\n",
            "\n",
            "\u001b[33mSaldo actual ->\u001b[0m 2500.4500000000007\n",
            "\n",
            "\u001b[33mHistorial de transacciones -> \u001b[0m (780, 450, 67, 100, 4800)\n"
          ]
        },
        {
          "output_type": "execute_result",
          "data": {
            "text/plain": [
              "(None, None)"
            ]
          },
          "metadata": {},
          "execution_count": 26
        }
      ]
    },
    {
      "cell_type": "markdown",
      "source": [
        "#Ejercicio 71\n",
        "##Generar un programa que acepte una cadena de texto que representan una contraseña; el programadebe revisar que la contraseña sea válida, tomando en cuenta los siguientes criterios:\n",
        "1. Debe contener al menos una letra minúscula [a-z]\n",
        "2. Debe contener al menos un número [0-9]\n",
        "3. Debe contener al menos una letra mayúscula [A-Z], no en la primera posición\n",
        "4. Debe contener al menos un caracter especial [$, #, @, _]\n",
        "5. Longitud mínima - máxima de la contraseña, 6-12 caracteres\n",
        "\n",
        "##Sólo hasta que se ingresa la contraseña correcta, el programa debe permitir continuar. Una vez que se ingrese una contraseña válida, el programa guardará la contraseña cifrada mediante el algoritmo César, seleccionando de manera aleatoria entre [0,20], el número de posiciones a mover, y guardando primero dicho número seguido de la contraseña en el archivo de texto (.txt). Este archivo debe irse actualizando con todas las contraseñas que se vayan ingresando en el programa. Utilizar la programación orientada a objetos para resolver este programa [Sugerencia, generar la clase Contraseña que contenga como atributo la cadena de texto de la contraseña, y métodos para la validación, almacenamiento y cifrado de la misma]"
      ],
      "metadata": {
        "id": "Um9jEmPrPINx"
      }
    },
    {
      "cell_type": "code",
      "source": [
        "#importamos librerías\n",
        "import re\n",
        "import numpy as np\n",
        "\n",
        "\n",
        "#creamos archivo donde se guardarán contraseñas\n",
        "passwords = open(\"passwords\",\"w\")\n",
        "passwords.write(f\"-----------Contraseñas--------------\")\n",
        "\n",
        "\n",
        "#creamos la clase password\n",
        "class password:\n",
        "\n",
        "  #metodo que se encarga de instanciar a la clase (constructor)\n",
        "  def __init__(self,password):\n",
        "    self.password = str(password)\n",
        "\n",
        "  #método para ingresar contraseña\n",
        "  def ingresar(self):\n",
        "    self.password = str(input(f\"\\n\\x1b[33mIngrese una contraseña -> \\x1b[0m\"))\n",
        "    passwords.write(f\"\\n{self.password}\")\n",
        "\n",
        "  #método para validar\n",
        "  def validar(self):\n",
        "\n",
        "    #Inicializo condicion\n",
        "    condicion = False\n",
        "    while not condicion:  #Bucle de control\n",
        "      self.ingresar()\n",
        "      condicion = bool(re.match(r\"^(?=[^A-Z])(?=.*?[A-Z])(?=.*?[a-z])(?=.*?[0-9])(?=.*?[#?!@$%^&*-]).{6,12}$\", self.password))\n",
        "      if not condicion:\n",
        "        print(f\"\\x1b[31mIntente nuevamente por favor\\x1b[0m\")\n",
        "\n",
        "\n",
        "  #método para cifrado\n",
        "  def cifrar(self):\n",
        "    print(f\"\\n\\x1b[32mLa contraseña \\x1b[0m {self.password} \\x1b[32mes válida!\\x1b[0m\")\n",
        "    #ciframos la contraseña\n",
        "\n",
        "    n = np.random.randint(0,20)\n",
        "\n",
        "    passwordCifrada = []\n",
        "\n",
        "    for caracter in self.password:\n",
        "      codigoAscci = ord(caracter)\n",
        "\n",
        "      #revisamos si es imprimible el caracter\n",
        "      if(32 <= codigoAscci <= 126):\n",
        "        nuevo_codigo = 32 + (codigoAscci - 32 + n) % 95\n",
        "        passwordCifrada.append(chr(nuevo_codigo))\n",
        "\n",
        "      else:\n",
        "        passwordCifrada.append(codigoAscci)\n",
        "\n",
        "    #une caracter en string\n",
        "    passwordCifrada = ''.join(passwordCifrada)\n",
        "    passwords.write(f\"\\n-------------Contraseña cifrada------------------\\n\")\n",
        "    passwords.write(f\"\\nLa contraseña cifrada con {n} posiciones es: /n{passwordCifrada}\")\n",
        "    #cerramos archivo.txt\n",
        "    passwords.close()\n",
        "    print(f\"\\n\\x1b[33mContraseñas guardadas correctamente!\\x1b[0m (Revise el archivo 'passwords')\")\n",
        "    print(f\"\\n\\x1b[34mLa contraseña cifrada es -> \\x1b[0m \\n {passwordCifrada}\")\n",
        "#------------------------------------------------------------------------------------------------------------------------------\n",
        "\n",
        "#llamamos a la clase y sus métodos\n",
        "userPassword = password(\"\")\n",
        "userPassword.validar()\n",
        "userPassword.cifrar()"
      ],
      "metadata": {
        "id": "268_yFOHLSL8",
        "colab": {
          "base_uri": "https://localhost:8080/"
        },
        "outputId": "73620e05-62a8-408c-c4f5-9bd412bd87b9"
      },
      "execution_count": null,
      "outputs": [
        {
          "output_type": "stream",
          "name": "stdout",
          "text": [
            "\n",
            "\u001b[33mIngrese una contraseña -> \u001b[0mDeg6800=5\n",
            "\u001b[31mIntente nuevamente por favor\u001b[0m\n",
            "\n",
            "\u001b[33mIngrese una contraseña -> \u001b[0mdieGuin23\n",
            "\u001b[31mIntente nuevamente por favor\u001b[0m\n",
            "\n",
            "\u001b[33mIngrese una contraseña -> \u001b[0msOyMuYPro21\n",
            "\u001b[31mIntente nuevamente por favor\u001b[0m\n",
            "\n",
            "\u001b[33mIngrese una contraseña -> \u001b[0meLMaSch1d0\n",
            "\u001b[31mIntente nuevamente por favor\u001b[0m\n",
            "\n",
            "\u001b[33mIngrese una contraseña -> \u001b[0momG341q\n",
            "\u001b[31mIntente nuevamente por favor\u001b[0m\n",
            "\n",
            "\u001b[33mIngrese una contraseña -> \u001b[0mdieGOAT123#\n",
            "\n",
            "\u001b[32mLa contraseña \u001b[0m dieGOAT123# \u001b[32mes válida!\u001b[0m\n",
            "\n",
            "\u001b[33mContraseñas guardadas correctamente!\u001b[0m (Revise el archivo 'passwords')\n",
            "\n",
            "\u001b[34mLa contraseña cifrada es -> \u001b[0m \n",
            "sxtV^Pc@AB2\n"
          ]
        }
      ]
    },
    {
      "cell_type": "markdown",
      "source": [
        "#Ejercicio 72\n",
        "##Generar un programa que simule la entrega de una mano de cartas de la baraja inglesa (5 cartas en total) a dos jugadores (debe mostrarse las dos manos en la consola). Utilizar la programación orientada a objetos para resolver este programa [Sugerencia, generar la clase Baraja que contenga como atributo, una lista con la mano generada y métodos para generar la mano para cada jugador]"
      ],
      "metadata": {
        "id": "ze7gkxjAeWIe"
      }
    },
    {
      "cell_type": "code",
      "source": [
        "import numpy as np\n",
        "\n",
        "\n",
        "#creamos la clase 'baraja'\n",
        "class baraja:\n",
        "  #método que instancia a la clase(constructor)\n",
        "  def __init__(self,manoGenerada,cartas):\n",
        "    self.manoGenerada = list(manoGenerada)\n",
        "    self.cartas = list(cartas)\n",
        "\n",
        "  #generamos la baraja\n",
        "  def generarBaraja(self):\n",
        "    #creamos lista de listas con los 4 palos\n",
        "    letras = ['A','J','Q','K']\n",
        "    #palo1 (picas)\n",
        "    palo1 = [str(a)+\"♠\" for a in range(2,11)]\n",
        "    palo1 += [str(a)+\"♠\" for a in letras]\n",
        "\n",
        "    #palo2 (diamantes)\n",
        "    palo2 = [str(a)+\"♦\" for a in range(2,11)]\n",
        "    palo2 += [str(a)+\"♦\" for a in letras]\n",
        "\n",
        "    #palo3(corazones)\n",
        "    palo3 = [str(a)+\"♥\" for a in range(2,11)]\n",
        "    palo3 += [str(a)+\"♥\" for a in letras]\n",
        "\n",
        "    #palo4(tréboles)\n",
        "    palo4 = [str(a)+\"♣\" for a in range(2,11)]\n",
        "    palo4 += [str(a)+\"♣\" for a in letras]\n",
        "\n",
        "    #agrupamos los palos en una sola lista\n",
        "    self.cartas = palo1 + palo2 + palo3 + palo4\n",
        "\n",
        "  def generarMano(self):\n",
        "    #para cada jugador elige 5 cartas de baraja al azar\n",
        "    for i in range(5):\n",
        "      self.manoGenerada+=[str(np.random.choice(self.cartas))]\n",
        "\n",
        "    #imprime las cartas del jugador\n",
        "\n",
        "    print(f\"\\n\\x1b[34mLa mano del jugador  es -> \\x1b[0m {self.manoGenerada}\")\n",
        "\n",
        "#----------------------------------------------------------------------------------------------------\n",
        "#probamos el código\n",
        "mano1 = baraja([],[])\n",
        "mano2 = baraja([],[])\n",
        "\n",
        "mano1.generarBaraja()\n",
        "mano2.generarBaraja()\n",
        "mano1.generarMano()\n",
        "mano2.generarMano()"
      ],
      "metadata": {
        "id": "m-Uqw8csadln",
        "colab": {
          "base_uri": "https://localhost:8080/"
        },
        "outputId": "98ff44a9-e3a0-4484-d796-1c4e945598b2"
      },
      "execution_count": null,
      "outputs": [
        {
          "output_type": "stream",
          "name": "stdout",
          "text": [
            "\n",
            "\u001b[34mLa mano del jugador  es -> \u001b[0m ['5♠', 'A♣', '8♥', 'A♥', 'J♣']\n",
            "\n",
            "\u001b[34mLa mano del jugador  es -> \u001b[0m ['Q♠', '9♦', '2♥', '2♦', '7♠']\n"
          ]
        }
      ]
    },
    {
      "cell_type": "markdown",
      "source": [
        "#Ejercicio 73\n",
        "##Programa que permita cifrar un texto ingresado por medio del algoritmo RSA. Así funciona el algoritmo RSA y Ejemplo algoritmo RSA, otro ejemplo, otro más. Para este programa se debe de generar una función de cifrado y otra de descifrado, en donde la primera reciba una cadena de texto y almacene un archivo (.txt) con la cadena cifrada y lo necesario para descifrar, mientras que la función de descifrado debe recibir el archivo cifrado y obtener la cadena original; utilizar los paradigmas de programación orientada a objetos y funcional, para resolver este ejercicio"
      ],
      "metadata": {
        "id": "dG_2jVJF56wp"
      }
    },
    {
      "cell_type": "code",
      "source": [
        "import numpy as np\n",
        "\n",
        "#creamos el archivo para guardar el cifrado\n",
        "archivotxt = open(\"cifrado_RSA\",\"w\")\n",
        "archivotxt.write(f\"------------------Documento con cadena cifrada y parámetros----------------------\")\n",
        "\n",
        "#creamos la clase\n",
        "class RSA:\n",
        "  #metodo que se encarga de instanciar a la clase (constructor)\n",
        "  def __init__(self,cadena,n,j):\n",
        "    self.cadena = str(cadena)\n",
        "    self.cifrado = list()\n",
        "    self.descifrado = list()\n",
        "    self.n = n\n",
        "    self.j = j\n",
        "\n",
        "  #método para cifrar\n",
        "  def cifrar(self):\n",
        "    self.cadena = str(input(f\"\\n\\x1b[34mIngrese la cadena a cifrar -> \\x1b[0m\"))\n",
        "    print(f\"\\n\\x1b[33mla cadena a cifrar es -> \\x1b[0m{self.cadena.upper()}\")\n",
        "    archivotxt.write(f\"\\n\\nLa cadena a cifrar es -> {self.cadena.upper()}\\n\")\n",
        "\n",
        "    #generamos lista con numeros primos\n",
        "    primos = [2,3,5,7,11,13,17,19,23,29,31,37,41,43,47,53,5]\n",
        "\n",
        "    #escoge un numero de la lista*\n",
        "    p = np.random.choice(primos)\n",
        "    q = np.random.choice(primos)\n",
        "\n",
        "\n",
        "    #caso donde q es igual a p\n",
        "    if(q == p):\n",
        "      q = np.random.choice(primos)\n",
        "\n",
        "    #---------Clave pública---------------------\n",
        "    self.n = p*q\n",
        "    z = (p-1)*(q-1)\n",
        "\n",
        "\n",
        "    #funcion para el máximo comun divisor\n",
        "    def mcd(a,b):\n",
        "      while b != 0:\n",
        "        a,b = b,a%b\n",
        "      return a\n",
        "\n",
        "    k,j = 0,0\n",
        "    #encontramos un numero 'k', tal que: mcd(z,k) = 1; 1<k<z\n",
        "    #for i in range(1,z):\n",
        "      #if(mcd(z,i) == 1):\n",
        "        #k = i\n",
        "        #break\n",
        "\n",
        "    for i in range(0,53):\n",
        "      tmp = mcd(z,i)\n",
        "      if tmp == 1 and 1 < i < z:\n",
        "        k = i\n",
        "        break\n",
        "\n",
        "\n",
        "    #-----------Clave privada----------------------------\n",
        "    #luego encontramos un número 'j' tal que: k*j = 1 (mod z)\n",
        "\n",
        "    x = [1,2,3,4,5,6,7,8,9]\n",
        "    self.j = (1 + np.random.choice(x)*z)//k\n",
        "\n",
        "    #-----------Proceso cifrado--------------------------\n",
        "    #creamos diccionario con letra y asignamos un numero\n",
        "    diccionario = {'A':0,'B':1,'C':2,'D':3,'E':4,'F':5,'G':6,'H':7,'I':8,'J':9,'K':10,'L':11,'M':12,'N':13,'O':14,'P':15,'Q':16,'R':17,'S':18,\n",
        "                  'T':19,'U':20,'V':21,'W':22,'X':23,'Y':24,'Z':25}\n",
        "\n",
        "    #asignamos una letra de la cadena de acuerdo al diccionario\n",
        "    for i in range(len(self.cadena)):\n",
        "      self.cifrado+=[diccionario[self.cadena[i].upper()]]\n",
        "\n",
        "    #cifrando\n",
        "    for i in range(len(self.cifrado)):\n",
        "      self.cifrado[i] = int((self.cifrado[i]**k)%self.n)\n",
        "    print(f\"\\n\\x1b[31mEl cifrado con clave pública es ->\\x1b[0m {self.cifrado}\\n\")\n",
        "\n",
        "    archivotxt.write(f\"\\nLos parámetros de la clave pública son -> n = {self.n} y k = {k}\\n\")\n",
        "    archivotxt.write(f\"\\np = {p} y q = {q}\")\n",
        "    archivotxt.write(f\"\\nLos parámetros de la clave privada son -> j = {self.j}\\n\")\n",
        "    archivotxt.write(f\"\\nLa cadena cifrada es -> {self.cifrado}\\n\")\n",
        "    archivotxt.close()\n",
        "\n",
        "\n",
        "#---------------Método para descifrar----------------------------------------\n",
        "  def descifrar(self):\n",
        "    #desciframos\n",
        "    for i in range(len(self.cifrado)):\n",
        "      self.descifrado+=[int((self.cifrado[i]**self.j)%self.n)]\n",
        "\n",
        "    print(f\"\\n\\x1b[35mEl descifrado con clave privada es ->\\x1b[0m {self.descifrado}\\n\")\n",
        "    print(f\"\\n\\x1b[32mCorresponde a la cadena ->\\x1b[0m {self.cadena}\\n\")\n",
        "\n",
        "    #guarda en archivo .txt\n",
        "    archivotxt = open(\"cifrado_RSA\",\"a\")\n",
        "    archivotxt.write(f\"\\n\\nEl descifrado con clave privada es -> {self.descifrado}\\n\")\n",
        "    archivotxt.write(f\"\\nCorresponde a la cadena -> {self.cadena}\")\n",
        "    archivotxt.close()\n",
        "\n",
        "\n",
        "#---------------------------------------------------------------------------------------------------\n",
        "#probamos el código\n",
        "cadena = RSA(\"\",\"\",\"\")\n",
        "cadena.cifrar()\n",
        "cadena.descifrar()"
      ],
      "metadata": {
        "colab": {
          "base_uri": "https://localhost:8080/"
        },
        "id": "GqIX6-wIwbUw",
        "outputId": "64407d41-03ce-4e97-c8f9-1352d3a6d8db"
      },
      "execution_count": null,
      "outputs": [
        {
          "output_type": "stream",
          "name": "stdout",
          "text": [
            "\n",
            "\u001b[34mIngrese la cadena a cifrar -> \u001b[0moMgSoYmUyPrO\n",
            "\n",
            "\u001b[33mla cadena a cifrar es -> \u001b[0mOMGSOYMUYPRO\n",
            "\n",
            "\u001b[31mEl cifrado con clave pública es ->\u001b[0m [19, 706, 440, 443, 19, 530, 706, 297, 530, 333, 43, 19]\n",
            "\n",
            "\n",
            "\u001b[35mEl descifrado con clave privada es ->\u001b[0m [254, 0, 0, 343, 254, 0, 0, 238, 0, 545, 93, 254]\n",
            "\n",
            "\n",
            "\u001b[32mCorresponde a la cadena ->\u001b[0m oMgSoYmUyPrO\n",
            "\n"
          ]
        }
      ]
    },
    {
      "cell_type": "markdown",
      "source": [
        "#Ejercicio 74\n",
        "##Programa que permita obtener el RFC con homoclave de una persona, solicitando los datos necesarios (Nombre, Apellidos, Fecha de Nacimiento), siguiendo para ello las instrucciones proporcionadas por la SHCP ¿Cómo generar el RFC? Utilizar el paradigma de programación orientado a objetos para la solución del ejercicio."
      ],
      "metadata": {
        "id": "VNbffrTG_mD-"
      }
    },
    {
      "cell_type": "code",
      "source": [
        "#creamos la clase RFC\n",
        "\n",
        "class RFC:\n",
        "    #método que instancia  a a la clase(constructor)\n",
        "    def __init__(self,nombres,apellido1,apellido2,nacimiento):\n",
        "        self.nombres = str(nombres)\n",
        "        self.apellido1 = str(apellido1)\n",
        "        self.apellido2 = str(apellido2)\n",
        "        self.nacimiento = str(nacimiento)\n",
        "\n",
        "\n",
        "    #metodo para ingresar datos\n",
        "    def ingresar(self):\n",
        "        self.nombres = str(input(f\"\\n\\x1b[33mIngrese sus nombres -> \\x1b[0m\"))\n",
        "        self.apellido1 = str(input(f\"\\n\\x1b[33mIngrese su primer apellido -> \\x1b[0m\"))\n",
        "        self.apellido2 = str(input(f\"\\n\\x1b[33mIngrese su segundo apellido -> \\x1b[0m\"))\n",
        "        self.nacimiento = str(input(f\"\\n\\x1b[33mIngrese su fecha de nacimiento ej.(13/08/05) ->\\x1b[0m\"))\n",
        "\n",
        "        #filtro par a ingresar una fecha válida\n",
        "        while(len(self.nacimiento) < 8 or  len(self.nacimiento) > 8):\n",
        "            print(f\"\\nIngresa una fecha con formato válido!\")\n",
        "            self.nacimiento = str(input(f\"\\n\\x1b[33mIngrese su fecha de nacimiento ej.(13/08/05) ->\\x1b[0m\"))\n",
        "\n",
        "    def generar(self):\n",
        "        rfc = []\n",
        "\n",
        "\n",
        "        #quitamos palabras como 'de', 'de la'\n",
        "        palabras1 = self.apellido1.split(); palabras2 = self.apellido2.split()\n",
        "        palabrasFiltradas1 = []; palabrasFiltradas2 = []\n",
        "\n",
        "        for palabra in palabras1:\n",
        "          if(palabra.lower() != 'de' and palabra.lower() != 'la' and palabra.lower() != 'del' and palabra.lower() != 'y' and palabra.lower() != 'los'):\n",
        "            palabrasFiltradas1.append(palabra)\n",
        "\n",
        "        self.apellido1 = ' '.join(palabrasFiltradas1)\n",
        "\n",
        "        for palabra in palabras2:\n",
        "          if(palabra.lower() != 'de' and palabra.lower() != 'la' and palabra.lower() != 'del'):\n",
        "            palabrasFiltradas2.append(palabra)\n",
        "\n",
        "        self.apellido2 = ' '.join(palabrasFiltradas2)\n",
        "\n",
        "        #funcion para verificar si tiene Maria o Jose:\n",
        "        def ContieneMariaJose():\n",
        "            palabras_del_nombre = self.nombres.split() # Dividimos el nombre en palabras\n",
        "            contiene_maria_jose = False\n",
        "\n",
        "            for palabra in palabras_del_nombre:\n",
        "                if palabra.lower() in ['maria', 'maría', 'josé', 'jose']:\n",
        "                    contiene_maria_jose = True\n",
        "                    break # Salimos del bucle una vez que encontramos una de las palabras\n",
        "\n",
        "            if contiene_maria_jose:\n",
        "                palabras_a_eliminar = ['maria','maría','Maria','maría','José','josé','jose','Jose']\n",
        "                nueva_lista_nombres = []\n",
        "\n",
        "                for palabra in palabras_del_nombre:\n",
        "                    if palabra.lower() not in palabras_a_eliminar: # Verificamos si la palabra (en minúsculas) NO está en la lista a eliminar\n",
        "                        nueva_lista_nombres.append(palabra)\n",
        "\n",
        "                self.nombres = ' '.join(nueva_lista_nombres) # Unimos las palabras restantes en una cadena\n",
        "                return True\n",
        "            else:\n",
        "                return False\n",
        "\n",
        "\n",
        "        #condicion si tiene apellido de una o dos letras\n",
        "        if(len(self.apellido1) == 1 or len(self.apellido1) == 2):\n",
        "            rfc += self.apellido1[0].upper()\n",
        "            rfc += self.apellido2[0].upper()\n",
        "\n",
        "            #verifica si es maria o jose\n",
        "            if(ContieneMariaJose(self.nombres)):\n",
        "                rfc += self.nombres[0].upper()\n",
        "                rfc += self.nombres[1].upper()\n",
        "            else:\n",
        "              rfc += self.nombres[0].upper()\n",
        "              rfc += self.nombres[1].upper()\n",
        "\n",
        "        else:\n",
        "            #escogemos la primera letra y vocal de apellido\n",
        "            vocales = ['A', 'E', 'I', 'O', 'U']\n",
        "            rfc += self.apellido1[0].upper()\n",
        "\n",
        "            #buscamos del primer apellido\n",
        "            for letra in self.apellido1[1:]:\n",
        "                if letra.upper() in vocales:\n",
        "                    rfc += letra.upper(); break\n",
        "\n",
        "            #primera letra apellido materno\n",
        "            rfc += self.apellido2[0].upper()\n",
        "\n",
        "            #verifica si tiene maria o jose\n",
        "            if(ContieneMariaJose()):\n",
        "                rfc += self.nombres[0].upper()\n",
        "\n",
        "            else:\n",
        "              #primera letra del nombre\n",
        "              rfc += self.nombres[0].upper()\n",
        "\n",
        "        #año de nacimeinto\n",
        "        rfc.append(self.nacimiento[6] + self.nacimiento[7])\n",
        "        #mes de nacimiento\n",
        "        rfc.append(self.nacimiento[3] + self.nacimiento[4])\n",
        "        #dia nacimiento\n",
        "        rfc.append(self.nacimiento[0] + self.nacimiento[1])\n",
        "\n",
        "        #lista con palabras que son obscenas y se reemplazan por una 'X' al final de las primeras letras del RFC\n",
        "        excepciones = ['BUEI','BUEY','CACA','CACO','CAGA','CAGO','CAKA','COGE','COJA','COJE','COJI','CULO'\n",
        "        ,'FETO','GUEY','JOTO','KACA','KACO','KOGE','KOJO','KAKA','KULO','MAME MAX','MAMO','MEAR','MEON','MION'\n",
        "        ,'MOCO','MULA','PEDA','PEDO','PENE','PUTA','PUTO','QULO','RATA','KAGA','KAGO','RUIN']\n",
        "\n",
        "        #detecta si 'rfc' tiene alguna de las palabras en la lista excepciones y le agrega una 'x en la posicion '3'\n",
        "        excepRfc = []\n",
        "        for i in range(0,4):excepRfc.append(rfc[i])\n",
        "        excepRfc = ''.join(excepRfc)\n",
        "        print(excepRfc)\n",
        "\n",
        "        if excepRfc in excepciones:\n",
        "            #rfc.split()\n",
        "            print('TRUE')\n",
        "            rfc[3] = 'X'\n",
        "\n",
        "        #proceso para la homoclave\n",
        "        #creamos dicccionario con la tabla del anexo '1'\n",
        "        diccionario = {' ':'00','1':'01','2':'02','3':'03','4':'04','5':'05','6':'06','7':'07','8':'08','9':'09',\n",
        "        '&':'10','A':'11','B':'12','C':'13','D':'14','E':'15','F':'16','G':'17','H':'18','I':'19','J':'21'\n",
        "        ,'K':'22','L':'23','M':'24','N':'25','O':'26','P':'27','Q':'28','R':'29','S':'32','T':'33','U':'34'\n",
        "        ,'V':'35','W':'36','X':'37','Y':'38','Z':'39','Ñ':'40'}\n",
        "\n",
        "        #guardamos valores de cada no. de letra de acuerdo al diccionario en una lista\n",
        "        homoclave =[]\n",
        "        nombre = self.apellido1 + ' ' + self.apellido2 + ' ' + self.nombres\n",
        "        nombre = nombre.upper(); nombre.split()\n",
        "\n",
        "        for i in range(len(nombre)):\n",
        "          if i == 0:\n",
        "            homoclave.append('0' + diccionario[nombre[i]])\n",
        "          else:\n",
        "            homoclave.append(diccionario[nombre[i]])\n",
        "\n",
        "\n",
        "        #de la homoclave, multiplicamos los digitos de la forma: 01*1 = 1*1 = 1, por cada elemento y lo sumamos\n",
        "\n",
        "        cadena_completa = \"\".join(homoclave) # Concatenamos todos los elementos en una sola cadena\n",
        "        suma = 0\n",
        "\n",
        "        # Iteramos a lo largo de la cadena completa, tomando pares de dos dígitos\n",
        "        for i in range(len(cadena_completa) - 1):\n",
        "            par_str = cadena_completa[i:i+2]  # Obtiene el par de dos dígitos como cadena\n",
        "            digito_str = par_str[1]     # Obtiene el segundo dígito del par como cadena\n",
        "\n",
        "            try:\n",
        "                par_int = int(par_str)\n",
        "                digito_int = int(digito_str)\n",
        "                mult = par_int * digito_int\n",
        "                suma += mult\n",
        "            except ValueError:\n",
        "                # Manejo de error si algún carácter no es un dígito\n",
        "                print(f\"Advertencia: Saltando operación con par '{par_str}' debido a caracteres no numéricos.\")\n",
        "                continue # Salta a la siguiente iteración del bucle interno\n",
        "\n",
        "\n",
        "        #dividimos entre 34 el resultado\n",
        "        suma = str(suma)\n",
        "        div = int(suma[1:4]) // 34\n",
        "        #obtenemos residuo de estas últimas tres cifras con '34':\n",
        "        residuo = int(suma[1:4]) % 34\n",
        "\n",
        "        #creamos diccionario de acurdo con la tabla 2\n",
        "        anexo2 = {'0':'1','1':'2','3':'4','4':'5','5':'6','6':'7','7':'8','8':'9','9':'A','10':'B','11':'C'\n",
        "        ,'12':'D','13':'E','14':'F','15':'G','16':'H','17':'I','18':'J','19':'K','20':'L','21':'M','22':'N','23':'O'\n",
        "        ,'24':'P','25':'Q','26':'R','27':'S','28':'T','29':'U','30':'V','31':'W','32':'X','33':'Y','34':'Z'}\n",
        "\n",
        "        #finalmente, asignamos de acuerdo al anexo2 los valores de div y residuo a 'rfc'\n",
        "        rfc.append(anexo2[str(div)])\n",
        "        rfc.append(anexo2[str(residuo)])\n",
        "\n",
        "        print(f\"\\n\\x1b[32mSu RFC es -> \\x1b[0m \\x1b[34m{''.join(rfc)}\\x1b[0m\")\n",
        "\n",
        "#---------------------------------------------------------------------------------------------------\n",
        "#probamos el código\n",
        "persona1 = RFC(\"\",\"\",\"\",\"\")\n",
        "persona1.ingresar()\n",
        "persona1.generar()\n",
        "print(persona1.nombres,persona1.apellido1,persona1.apellido2,persona1.nacimiento)"
      ],
      "metadata": {
        "colab": {
          "base_uri": "https://localhost:8080/"
        },
        "id": "BJO2mBuR_f_Z",
        "outputId": "15dd2b3e-38d2-4ed0-a99c-f489ca74e3d2"
      },
      "execution_count": null,
      "outputs": [
        {
          "output_type": "stream",
          "name": "stdout",
          "text": [
            "\n",
            "\u001b[33mIngrese sus nombres -> \u001b[0mbrenda\n",
            "\n",
            "\u001b[33mIngrese su primer apellido -> \u001b[0mgomez\n",
            "\n",
            "\u001b[33mIngrese su segundo apellido -> \u001b[0mfierro\n",
            "\n",
            "\u001b[33mIngrese su fecha de nacimiento ej.(13/08/05) ->\u001b[0m08/05/05\n",
            "GOFB\n",
            "\n",
            "\u001b[33mSu RFC es -> \u001b[0m \u001b[34mGOFB050508OE\u001b[0m\n",
            "brenda gomez fierro 08/05/05\n"
          ]
        }
      ]
    },
    {
      "cell_type": "markdown",
      "source": [
        "#Ejercicio 75\n",
        "##Programa que permita obtener el CURP completo de una persona, solicitando los datos necesarios (Nombre, Apellidos, Fecha de Nacimiento, lugar de nacimiento), siguiendo para ello las instrucciones proporcionadas en el DOF Normativa para generar el CURP, DOF utilizar el paradigma de programación orientado a objetos. Nota: Omitir los dos últimos dígitos asignados por el RENAPO, ya que es complicado de calcular"
      ],
      "metadata": {
        "id": "2FeazxWrioqe"
      }
    },
    {
      "cell_type": "code",
      "source": [],
      "metadata": {
        "id": "YpAioSiFz04p"
      },
      "execution_count": null,
      "outputs": []
    },
    {
      "cell_type": "markdown",
      "source": [
        "#Ejercicio 76\n",
        "##Programa que permita obtener diversas soluciones d’el problema de las 8 reinas. El programa debe permitirle al usuario seleccionar la posición inicial de una de las reinas y de ahí mostrarle la(s) posible(s) solución(es)"
      ],
      "metadata": {
        "id": "evWniHUyiwct"
      }
    },
    {
      "cell_type": "code",
      "source": [],
      "metadata": {
        "id": "y12mLzT8z1gZ"
      },
      "execution_count": null,
      "outputs": []
    },
    {
      "cell_type": "markdown",
      "source": [
        "#Ejercicio 77\n",
        "##Programa que permita calcular n números de la serie de Fibonacci, con valores de n en el intervalo [1, 1 000 000 000 000]"
      ],
      "metadata": {
        "id": "JQXBO8Eti2Uf"
      }
    },
    {
      "cell_type": "code",
      "source": [
        "from functools import lru_cache\n",
        "@lru_cache(maxsize=None)\n",
        "def fbr(n):\n",
        "    if n > 2: return fbr(n//2+1)*fbr(n-n//2) + fbr(n//2)*fbr(n-n//2-1)\n",
        "    return [0,1,1][n]\n",
        "\n",
        "fbr(1000000000000)"
      ],
      "metadata": {
        "colab": {
          "base_uri": "https://localhost:8080/"
        },
        "id": "LVFxiRhmz2CE",
        "outputId": "7fbea04f-34cd-46e2-e6c9-bdb29fe8680d"
      },
      "execution_count": null,
      "outputs": [
        {
          "output_type": "stream",
          "name": "stderr",
          "text": [
            "ERROR:root:Internal Python error in the inspect module.\n",
            "Below is the traceback from this internal error.\n",
            "\n",
            "\n",
            "KeyboardInterrupt\n",
            "\n"
          ]
        }
      ]
    },
    {
      "cell_type": "code",
      "source": [
        "from functools import lru_cache\n",
        "\n",
        "@lru_cache(maxsize=None)\n",
        "def fbr(n):\n",
        "    if n > 2: return fbr(n//2+1)*fbr(n-n//2) + fbr(n//2)*fbr(n-n//2-1)\n",
        "    return [0,1,1][n]\n",
        "\n",
        "# Puedes probar con un número grande, por ejemplo 100\n",
        "n_grande = 100\n",
        "print(f\"El número de Fibonacci en la posición {n_grande} es: {fbr(n_grande)}\")\n",
        "\n",
        "# Para el número 10^12, simplemente llama a la función:\n",
        "numero_fib_trillon = fbr(1000000000000)\n",
        "print(f\"El número de Fibonacci en la posición 1,000,000,000,000 es: {numero_fib_trillon}\")"
      ],
      "metadata": {
        "colab": {
          "base_uri": "https://localhost:8080/",
          "height": 356
        },
        "id": "Ypsa4XAmJIPC",
        "outputId": "37d90404-0f6c-493d-bf52-c97125f8f471"
      },
      "execution_count": 3,
      "outputs": [
        {
          "output_type": "stream",
          "name": "stdout",
          "text": [
            "El número de Fibonacci en la posición 100 es: 354224848179261915075\n"
          ]
        },
        {
          "output_type": "error",
          "ename": "KeyboardInterrupt",
          "evalue": "",
          "traceback": [
            "\u001b[0;31m---------------------------------------------------------------------------\u001b[0m",
            "\u001b[0;31mKeyboardInterrupt\u001b[0m                         Traceback (most recent call last)",
            "\u001b[0;32m<ipython-input-3-7da1306f6102>\u001b[0m in \u001b[0;36m<cell line: 0>\u001b[0;34m()\u001b[0m\n\u001b[1;32m     11\u001b[0m \u001b[0;34m\u001b[0m\u001b[0m\n\u001b[1;32m     12\u001b[0m \u001b[0;31m# Para el número 10^12, simplemente llama a la función:\u001b[0m\u001b[0;34m\u001b[0m\u001b[0;34m\u001b[0m\u001b[0m\n\u001b[0;32m---> 13\u001b[0;31m \u001b[0mnumero_fib_trillon\u001b[0m \u001b[0;34m=\u001b[0m \u001b[0mfbr\u001b[0m\u001b[0;34m(\u001b[0m\u001b[0;36m1000000000000\u001b[0m\u001b[0;34m)\u001b[0m\u001b[0;34m\u001b[0m\u001b[0;34m\u001b[0m\u001b[0m\n\u001b[0m\u001b[1;32m     14\u001b[0m \u001b[0mprint\u001b[0m\u001b[0;34m(\u001b[0m\u001b[0;34mf\"El número de Fibonacci en la posición 1,000,000,000,000 es: {numero_fib_trillon}\"\u001b[0m\u001b[0;34m)\u001b[0m\u001b[0;34m\u001b[0m\u001b[0;34m\u001b[0m\u001b[0m\n",
            "\u001b[0;32m<ipython-input-3-7da1306f6102>\u001b[0m in \u001b[0;36mfbr\u001b[0;34m(n)\u001b[0m\n\u001b[1;32m      3\u001b[0m \u001b[0;34m@\u001b[0m\u001b[0mlru_cache\u001b[0m\u001b[0;34m(\u001b[0m\u001b[0mmaxsize\u001b[0m\u001b[0;34m=\u001b[0m\u001b[0;32mNone\u001b[0m\u001b[0;34m)\u001b[0m\u001b[0;34m\u001b[0m\u001b[0;34m\u001b[0m\u001b[0m\n\u001b[1;32m      4\u001b[0m \u001b[0;32mdef\u001b[0m \u001b[0mfbr\u001b[0m\u001b[0;34m(\u001b[0m\u001b[0mn\u001b[0m\u001b[0;34m)\u001b[0m\u001b[0;34m:\u001b[0m\u001b[0;34m\u001b[0m\u001b[0;34m\u001b[0m\u001b[0m\n\u001b[0;32m----> 5\u001b[0;31m     \u001b[0;32mif\u001b[0m \u001b[0mn\u001b[0m \u001b[0;34m>\u001b[0m \u001b[0;36m2\u001b[0m\u001b[0;34m:\u001b[0m \u001b[0;32mreturn\u001b[0m \u001b[0mfbr\u001b[0m\u001b[0;34m(\u001b[0m\u001b[0mn\u001b[0m\u001b[0;34m//\u001b[0m\u001b[0;36m2\u001b[0m\u001b[0;34m+\u001b[0m\u001b[0;36m1\u001b[0m\u001b[0;34m)\u001b[0m\u001b[0;34m*\u001b[0m\u001b[0mfbr\u001b[0m\u001b[0;34m(\u001b[0m\u001b[0mn\u001b[0m\u001b[0;34m-\u001b[0m\u001b[0mn\u001b[0m\u001b[0;34m//\u001b[0m\u001b[0;36m2\u001b[0m\u001b[0;34m)\u001b[0m \u001b[0;34m+\u001b[0m \u001b[0mfbr\u001b[0m\u001b[0;34m(\u001b[0m\u001b[0mn\u001b[0m\u001b[0;34m//\u001b[0m\u001b[0;36m2\u001b[0m\u001b[0;34m)\u001b[0m\u001b[0;34m*\u001b[0m\u001b[0mfbr\u001b[0m\u001b[0;34m(\u001b[0m\u001b[0mn\u001b[0m\u001b[0;34m-\u001b[0m\u001b[0mn\u001b[0m\u001b[0;34m//\u001b[0m\u001b[0;36m2\u001b[0m\u001b[0;34m-\u001b[0m\u001b[0;36m1\u001b[0m\u001b[0;34m)\u001b[0m\u001b[0;34m\u001b[0m\u001b[0;34m\u001b[0m\u001b[0m\n\u001b[0m\u001b[1;32m      6\u001b[0m     \u001b[0;32mreturn\u001b[0m \u001b[0;34m[\u001b[0m\u001b[0;36m0\u001b[0m\u001b[0;34m,\u001b[0m\u001b[0;36m1\u001b[0m\u001b[0;34m,\u001b[0m\u001b[0;36m1\u001b[0m\u001b[0;34m]\u001b[0m\u001b[0;34m[\u001b[0m\u001b[0mn\u001b[0m\u001b[0;34m]\u001b[0m\u001b[0;34m\u001b[0m\u001b[0;34m\u001b[0m\u001b[0m\n\u001b[1;32m      7\u001b[0m \u001b[0;34m\u001b[0m\u001b[0m\n",
            "\u001b[0;32m<ipython-input-3-7da1306f6102>\u001b[0m in \u001b[0;36mfbr\u001b[0;34m(n)\u001b[0m\n\u001b[1;32m      3\u001b[0m \u001b[0;34m@\u001b[0m\u001b[0mlru_cache\u001b[0m\u001b[0;34m(\u001b[0m\u001b[0mmaxsize\u001b[0m\u001b[0;34m=\u001b[0m\u001b[0;32mNone\u001b[0m\u001b[0;34m)\u001b[0m\u001b[0;34m\u001b[0m\u001b[0;34m\u001b[0m\u001b[0m\n\u001b[1;32m      4\u001b[0m \u001b[0;32mdef\u001b[0m \u001b[0mfbr\u001b[0m\u001b[0;34m(\u001b[0m\u001b[0mn\u001b[0m\u001b[0;34m)\u001b[0m\u001b[0;34m:\u001b[0m\u001b[0;34m\u001b[0m\u001b[0;34m\u001b[0m\u001b[0m\n\u001b[0;32m----> 5\u001b[0;31m     \u001b[0;32mif\u001b[0m \u001b[0mn\u001b[0m \u001b[0;34m>\u001b[0m \u001b[0;36m2\u001b[0m\u001b[0;34m:\u001b[0m \u001b[0;32mreturn\u001b[0m \u001b[0mfbr\u001b[0m\u001b[0;34m(\u001b[0m\u001b[0mn\u001b[0m\u001b[0;34m//\u001b[0m\u001b[0;36m2\u001b[0m\u001b[0;34m+\u001b[0m\u001b[0;36m1\u001b[0m\u001b[0;34m)\u001b[0m\u001b[0;34m*\u001b[0m\u001b[0mfbr\u001b[0m\u001b[0;34m(\u001b[0m\u001b[0mn\u001b[0m\u001b[0;34m-\u001b[0m\u001b[0mn\u001b[0m\u001b[0;34m//\u001b[0m\u001b[0;36m2\u001b[0m\u001b[0;34m)\u001b[0m \u001b[0;34m+\u001b[0m \u001b[0mfbr\u001b[0m\u001b[0;34m(\u001b[0m\u001b[0mn\u001b[0m\u001b[0;34m//\u001b[0m\u001b[0;36m2\u001b[0m\u001b[0;34m)\u001b[0m\u001b[0;34m*\u001b[0m\u001b[0mfbr\u001b[0m\u001b[0;34m(\u001b[0m\u001b[0mn\u001b[0m\u001b[0;34m-\u001b[0m\u001b[0mn\u001b[0m\u001b[0;34m//\u001b[0m\u001b[0;36m2\u001b[0m\u001b[0;34m-\u001b[0m\u001b[0;36m1\u001b[0m\u001b[0;34m)\u001b[0m\u001b[0;34m\u001b[0m\u001b[0;34m\u001b[0m\u001b[0m\n\u001b[0m\u001b[1;32m      6\u001b[0m     \u001b[0;32mreturn\u001b[0m \u001b[0;34m[\u001b[0m\u001b[0;36m0\u001b[0m\u001b[0;34m,\u001b[0m\u001b[0;36m1\u001b[0m\u001b[0;34m,\u001b[0m\u001b[0;36m1\u001b[0m\u001b[0;34m]\u001b[0m\u001b[0;34m[\u001b[0m\u001b[0mn\u001b[0m\u001b[0;34m]\u001b[0m\u001b[0;34m\u001b[0m\u001b[0;34m\u001b[0m\u001b[0m\n\u001b[1;32m      7\u001b[0m \u001b[0;34m\u001b[0m\u001b[0m\n",
            "\u001b[0;32m<ipython-input-3-7da1306f6102>\u001b[0m in \u001b[0;36mfbr\u001b[0;34m(n)\u001b[0m\n\u001b[1;32m      3\u001b[0m \u001b[0;34m@\u001b[0m\u001b[0mlru_cache\u001b[0m\u001b[0;34m(\u001b[0m\u001b[0mmaxsize\u001b[0m\u001b[0;34m=\u001b[0m\u001b[0;32mNone\u001b[0m\u001b[0;34m)\u001b[0m\u001b[0;34m\u001b[0m\u001b[0;34m\u001b[0m\u001b[0m\n\u001b[1;32m      4\u001b[0m \u001b[0;32mdef\u001b[0m \u001b[0mfbr\u001b[0m\u001b[0;34m(\u001b[0m\u001b[0mn\u001b[0m\u001b[0;34m)\u001b[0m\u001b[0;34m:\u001b[0m\u001b[0;34m\u001b[0m\u001b[0;34m\u001b[0m\u001b[0m\n\u001b[0;32m----> 5\u001b[0;31m     \u001b[0;32mif\u001b[0m \u001b[0mn\u001b[0m \u001b[0;34m>\u001b[0m \u001b[0;36m2\u001b[0m\u001b[0;34m:\u001b[0m \u001b[0;32mreturn\u001b[0m \u001b[0mfbr\u001b[0m\u001b[0;34m(\u001b[0m\u001b[0mn\u001b[0m\u001b[0;34m//\u001b[0m\u001b[0;36m2\u001b[0m\u001b[0;34m+\u001b[0m\u001b[0;36m1\u001b[0m\u001b[0;34m)\u001b[0m\u001b[0;34m*\u001b[0m\u001b[0mfbr\u001b[0m\u001b[0;34m(\u001b[0m\u001b[0mn\u001b[0m\u001b[0;34m-\u001b[0m\u001b[0mn\u001b[0m\u001b[0;34m//\u001b[0m\u001b[0;36m2\u001b[0m\u001b[0;34m)\u001b[0m \u001b[0;34m+\u001b[0m \u001b[0mfbr\u001b[0m\u001b[0;34m(\u001b[0m\u001b[0mn\u001b[0m\u001b[0;34m//\u001b[0m\u001b[0;36m2\u001b[0m\u001b[0;34m)\u001b[0m\u001b[0;34m*\u001b[0m\u001b[0mfbr\u001b[0m\u001b[0;34m(\u001b[0m\u001b[0mn\u001b[0m\u001b[0;34m-\u001b[0m\u001b[0mn\u001b[0m\u001b[0;34m//\u001b[0m\u001b[0;36m2\u001b[0m\u001b[0;34m-\u001b[0m\u001b[0;36m1\u001b[0m\u001b[0;34m)\u001b[0m\u001b[0;34m\u001b[0m\u001b[0;34m\u001b[0m\u001b[0m\n\u001b[0m\u001b[1;32m      6\u001b[0m     \u001b[0;32mreturn\u001b[0m \u001b[0;34m[\u001b[0m\u001b[0;36m0\u001b[0m\u001b[0;34m,\u001b[0m\u001b[0;36m1\u001b[0m\u001b[0;34m,\u001b[0m\u001b[0;36m1\u001b[0m\u001b[0;34m]\u001b[0m\u001b[0;34m[\u001b[0m\u001b[0mn\u001b[0m\u001b[0;34m]\u001b[0m\u001b[0;34m\u001b[0m\u001b[0;34m\u001b[0m\u001b[0m\n\u001b[1;32m      7\u001b[0m \u001b[0;34m\u001b[0m\u001b[0m\n",
            "\u001b[0;32m<ipython-input-3-7da1306f6102>\u001b[0m in \u001b[0;36mfbr\u001b[0;34m(n)\u001b[0m\n\u001b[1;32m      3\u001b[0m \u001b[0;34m@\u001b[0m\u001b[0mlru_cache\u001b[0m\u001b[0;34m(\u001b[0m\u001b[0mmaxsize\u001b[0m\u001b[0;34m=\u001b[0m\u001b[0;32mNone\u001b[0m\u001b[0;34m)\u001b[0m\u001b[0;34m\u001b[0m\u001b[0;34m\u001b[0m\u001b[0m\n\u001b[1;32m      4\u001b[0m \u001b[0;32mdef\u001b[0m \u001b[0mfbr\u001b[0m\u001b[0;34m(\u001b[0m\u001b[0mn\u001b[0m\u001b[0;34m)\u001b[0m\u001b[0;34m:\u001b[0m\u001b[0;34m\u001b[0m\u001b[0;34m\u001b[0m\u001b[0m\n\u001b[0;32m----> 5\u001b[0;31m     \u001b[0;32mif\u001b[0m \u001b[0mn\u001b[0m \u001b[0;34m>\u001b[0m \u001b[0;36m2\u001b[0m\u001b[0;34m:\u001b[0m \u001b[0;32mreturn\u001b[0m \u001b[0mfbr\u001b[0m\u001b[0;34m(\u001b[0m\u001b[0mn\u001b[0m\u001b[0;34m//\u001b[0m\u001b[0;36m2\u001b[0m\u001b[0;34m+\u001b[0m\u001b[0;36m1\u001b[0m\u001b[0;34m)\u001b[0m\u001b[0;34m*\u001b[0m\u001b[0mfbr\u001b[0m\u001b[0;34m(\u001b[0m\u001b[0mn\u001b[0m\u001b[0;34m-\u001b[0m\u001b[0mn\u001b[0m\u001b[0;34m//\u001b[0m\u001b[0;36m2\u001b[0m\u001b[0;34m)\u001b[0m \u001b[0;34m+\u001b[0m \u001b[0mfbr\u001b[0m\u001b[0;34m(\u001b[0m\u001b[0mn\u001b[0m\u001b[0;34m//\u001b[0m\u001b[0;36m2\u001b[0m\u001b[0;34m)\u001b[0m\u001b[0;34m*\u001b[0m\u001b[0mfbr\u001b[0m\u001b[0;34m(\u001b[0m\u001b[0mn\u001b[0m\u001b[0;34m-\u001b[0m\u001b[0mn\u001b[0m\u001b[0;34m//\u001b[0m\u001b[0;36m2\u001b[0m\u001b[0;34m-\u001b[0m\u001b[0;36m1\u001b[0m\u001b[0;34m)\u001b[0m\u001b[0;34m\u001b[0m\u001b[0;34m\u001b[0m\u001b[0m\n\u001b[0m\u001b[1;32m      6\u001b[0m     \u001b[0;32mreturn\u001b[0m \u001b[0;34m[\u001b[0m\u001b[0;36m0\u001b[0m\u001b[0;34m,\u001b[0m\u001b[0;36m1\u001b[0m\u001b[0;34m,\u001b[0m\u001b[0;36m1\u001b[0m\u001b[0;34m]\u001b[0m\u001b[0;34m[\u001b[0m\u001b[0mn\u001b[0m\u001b[0;34m]\u001b[0m\u001b[0;34m\u001b[0m\u001b[0;34m\u001b[0m\u001b[0m\n\u001b[1;32m      7\u001b[0m \u001b[0;34m\u001b[0m\u001b[0m\n",
            "\u001b[0;32m<ipython-input-3-7da1306f6102>\u001b[0m in \u001b[0;36mfbr\u001b[0;34m(n)\u001b[0m\n\u001b[1;32m      3\u001b[0m \u001b[0;34m@\u001b[0m\u001b[0mlru_cache\u001b[0m\u001b[0;34m(\u001b[0m\u001b[0mmaxsize\u001b[0m\u001b[0;34m=\u001b[0m\u001b[0;32mNone\u001b[0m\u001b[0;34m)\u001b[0m\u001b[0;34m\u001b[0m\u001b[0;34m\u001b[0m\u001b[0m\n\u001b[1;32m      4\u001b[0m \u001b[0;32mdef\u001b[0m \u001b[0mfbr\u001b[0m\u001b[0;34m(\u001b[0m\u001b[0mn\u001b[0m\u001b[0;34m)\u001b[0m\u001b[0;34m:\u001b[0m\u001b[0;34m\u001b[0m\u001b[0;34m\u001b[0m\u001b[0m\n\u001b[0;32m----> 5\u001b[0;31m     \u001b[0;32mif\u001b[0m \u001b[0mn\u001b[0m \u001b[0;34m>\u001b[0m \u001b[0;36m2\u001b[0m\u001b[0;34m:\u001b[0m \u001b[0;32mreturn\u001b[0m \u001b[0mfbr\u001b[0m\u001b[0;34m(\u001b[0m\u001b[0mn\u001b[0m\u001b[0;34m//\u001b[0m\u001b[0;36m2\u001b[0m\u001b[0;34m+\u001b[0m\u001b[0;36m1\u001b[0m\u001b[0;34m)\u001b[0m\u001b[0;34m*\u001b[0m\u001b[0mfbr\u001b[0m\u001b[0;34m(\u001b[0m\u001b[0mn\u001b[0m\u001b[0;34m-\u001b[0m\u001b[0mn\u001b[0m\u001b[0;34m//\u001b[0m\u001b[0;36m2\u001b[0m\u001b[0;34m)\u001b[0m \u001b[0;34m+\u001b[0m \u001b[0mfbr\u001b[0m\u001b[0;34m(\u001b[0m\u001b[0mn\u001b[0m\u001b[0;34m//\u001b[0m\u001b[0;36m2\u001b[0m\u001b[0;34m)\u001b[0m\u001b[0;34m*\u001b[0m\u001b[0mfbr\u001b[0m\u001b[0;34m(\u001b[0m\u001b[0mn\u001b[0m\u001b[0;34m-\u001b[0m\u001b[0mn\u001b[0m\u001b[0;34m//\u001b[0m\u001b[0;36m2\u001b[0m\u001b[0;34m-\u001b[0m\u001b[0;36m1\u001b[0m\u001b[0;34m)\u001b[0m\u001b[0;34m\u001b[0m\u001b[0;34m\u001b[0m\u001b[0m\n\u001b[0m\u001b[1;32m      6\u001b[0m     \u001b[0;32mreturn\u001b[0m \u001b[0;34m[\u001b[0m\u001b[0;36m0\u001b[0m\u001b[0;34m,\u001b[0m\u001b[0;36m1\u001b[0m\u001b[0;34m,\u001b[0m\u001b[0;36m1\u001b[0m\u001b[0;34m]\u001b[0m\u001b[0;34m[\u001b[0m\u001b[0mn\u001b[0m\u001b[0;34m]\u001b[0m\u001b[0;34m\u001b[0m\u001b[0;34m\u001b[0m\u001b[0m\n\u001b[1;32m      7\u001b[0m \u001b[0;34m\u001b[0m\u001b[0m\n",
            "\u001b[0;32m<ipython-input-3-7da1306f6102>\u001b[0m in \u001b[0;36mfbr\u001b[0;34m(n)\u001b[0m\n\u001b[1;32m      3\u001b[0m \u001b[0;34m@\u001b[0m\u001b[0mlru_cache\u001b[0m\u001b[0;34m(\u001b[0m\u001b[0mmaxsize\u001b[0m\u001b[0;34m=\u001b[0m\u001b[0;32mNone\u001b[0m\u001b[0;34m)\u001b[0m\u001b[0;34m\u001b[0m\u001b[0;34m\u001b[0m\u001b[0m\n\u001b[1;32m      4\u001b[0m \u001b[0;32mdef\u001b[0m \u001b[0mfbr\u001b[0m\u001b[0;34m(\u001b[0m\u001b[0mn\u001b[0m\u001b[0;34m)\u001b[0m\u001b[0;34m:\u001b[0m\u001b[0;34m\u001b[0m\u001b[0;34m\u001b[0m\u001b[0m\n\u001b[0;32m----> 5\u001b[0;31m     \u001b[0;32mif\u001b[0m \u001b[0mn\u001b[0m \u001b[0;34m>\u001b[0m \u001b[0;36m2\u001b[0m\u001b[0;34m:\u001b[0m \u001b[0;32mreturn\u001b[0m \u001b[0mfbr\u001b[0m\u001b[0;34m(\u001b[0m\u001b[0mn\u001b[0m\u001b[0;34m//\u001b[0m\u001b[0;36m2\u001b[0m\u001b[0;34m+\u001b[0m\u001b[0;36m1\u001b[0m\u001b[0;34m)\u001b[0m\u001b[0;34m*\u001b[0m\u001b[0mfbr\u001b[0m\u001b[0;34m(\u001b[0m\u001b[0mn\u001b[0m\u001b[0;34m-\u001b[0m\u001b[0mn\u001b[0m\u001b[0;34m//\u001b[0m\u001b[0;36m2\u001b[0m\u001b[0;34m)\u001b[0m \u001b[0;34m+\u001b[0m \u001b[0mfbr\u001b[0m\u001b[0;34m(\u001b[0m\u001b[0mn\u001b[0m\u001b[0;34m//\u001b[0m\u001b[0;36m2\u001b[0m\u001b[0;34m)\u001b[0m\u001b[0;34m*\u001b[0m\u001b[0mfbr\u001b[0m\u001b[0;34m(\u001b[0m\u001b[0mn\u001b[0m\u001b[0;34m-\u001b[0m\u001b[0mn\u001b[0m\u001b[0;34m//\u001b[0m\u001b[0;36m2\u001b[0m\u001b[0;34m-\u001b[0m\u001b[0;36m1\u001b[0m\u001b[0;34m)\u001b[0m\u001b[0;34m\u001b[0m\u001b[0;34m\u001b[0m\u001b[0m\n\u001b[0m\u001b[1;32m      6\u001b[0m     \u001b[0;32mreturn\u001b[0m \u001b[0;34m[\u001b[0m\u001b[0;36m0\u001b[0m\u001b[0;34m,\u001b[0m\u001b[0;36m1\u001b[0m\u001b[0;34m,\u001b[0m\u001b[0;36m1\u001b[0m\u001b[0;34m]\u001b[0m\u001b[0;34m[\u001b[0m\u001b[0mn\u001b[0m\u001b[0;34m]\u001b[0m\u001b[0;34m\u001b[0m\u001b[0;34m\u001b[0m\u001b[0m\n\u001b[1;32m      7\u001b[0m \u001b[0;34m\u001b[0m\u001b[0m\n",
            "\u001b[0;32m<ipython-input-3-7da1306f6102>\u001b[0m in \u001b[0;36mfbr\u001b[0;34m(n)\u001b[0m\n\u001b[1;32m      3\u001b[0m \u001b[0;34m@\u001b[0m\u001b[0mlru_cache\u001b[0m\u001b[0;34m(\u001b[0m\u001b[0mmaxsize\u001b[0m\u001b[0;34m=\u001b[0m\u001b[0;32mNone\u001b[0m\u001b[0;34m)\u001b[0m\u001b[0;34m\u001b[0m\u001b[0;34m\u001b[0m\u001b[0m\n\u001b[1;32m      4\u001b[0m \u001b[0;32mdef\u001b[0m \u001b[0mfbr\u001b[0m\u001b[0;34m(\u001b[0m\u001b[0mn\u001b[0m\u001b[0;34m)\u001b[0m\u001b[0;34m:\u001b[0m\u001b[0;34m\u001b[0m\u001b[0;34m\u001b[0m\u001b[0m\n\u001b[0;32m----> 5\u001b[0;31m     \u001b[0;32mif\u001b[0m \u001b[0mn\u001b[0m \u001b[0;34m>\u001b[0m \u001b[0;36m2\u001b[0m\u001b[0;34m:\u001b[0m \u001b[0;32mreturn\u001b[0m \u001b[0mfbr\u001b[0m\u001b[0;34m(\u001b[0m\u001b[0mn\u001b[0m\u001b[0;34m//\u001b[0m\u001b[0;36m2\u001b[0m\u001b[0;34m+\u001b[0m\u001b[0;36m1\u001b[0m\u001b[0;34m)\u001b[0m\u001b[0;34m*\u001b[0m\u001b[0mfbr\u001b[0m\u001b[0;34m(\u001b[0m\u001b[0mn\u001b[0m\u001b[0;34m-\u001b[0m\u001b[0mn\u001b[0m\u001b[0;34m//\u001b[0m\u001b[0;36m2\u001b[0m\u001b[0;34m)\u001b[0m \u001b[0;34m+\u001b[0m \u001b[0mfbr\u001b[0m\u001b[0;34m(\u001b[0m\u001b[0mn\u001b[0m\u001b[0;34m//\u001b[0m\u001b[0;36m2\u001b[0m\u001b[0;34m)\u001b[0m\u001b[0;34m*\u001b[0m\u001b[0mfbr\u001b[0m\u001b[0;34m(\u001b[0m\u001b[0mn\u001b[0m\u001b[0;34m-\u001b[0m\u001b[0mn\u001b[0m\u001b[0;34m//\u001b[0m\u001b[0;36m2\u001b[0m\u001b[0;34m-\u001b[0m\u001b[0;36m1\u001b[0m\u001b[0;34m)\u001b[0m\u001b[0;34m\u001b[0m\u001b[0;34m\u001b[0m\u001b[0m\n\u001b[0m\u001b[1;32m      6\u001b[0m     \u001b[0;32mreturn\u001b[0m \u001b[0;34m[\u001b[0m\u001b[0;36m0\u001b[0m\u001b[0;34m,\u001b[0m\u001b[0;36m1\u001b[0m\u001b[0;34m,\u001b[0m\u001b[0;36m1\u001b[0m\u001b[0;34m]\u001b[0m\u001b[0;34m[\u001b[0m\u001b[0mn\u001b[0m\u001b[0;34m]\u001b[0m\u001b[0;34m\u001b[0m\u001b[0;34m\u001b[0m\u001b[0m\n\u001b[1;32m      7\u001b[0m \u001b[0;34m\u001b[0m\u001b[0m\n",
            "\u001b[0;32m<ipython-input-3-7da1306f6102>\u001b[0m in \u001b[0;36mfbr\u001b[0;34m(n)\u001b[0m\n\u001b[1;32m      3\u001b[0m \u001b[0;34m@\u001b[0m\u001b[0mlru_cache\u001b[0m\u001b[0;34m(\u001b[0m\u001b[0mmaxsize\u001b[0m\u001b[0;34m=\u001b[0m\u001b[0;32mNone\u001b[0m\u001b[0;34m)\u001b[0m\u001b[0;34m\u001b[0m\u001b[0;34m\u001b[0m\u001b[0m\n\u001b[1;32m      4\u001b[0m \u001b[0;32mdef\u001b[0m \u001b[0mfbr\u001b[0m\u001b[0;34m(\u001b[0m\u001b[0mn\u001b[0m\u001b[0;34m)\u001b[0m\u001b[0;34m:\u001b[0m\u001b[0;34m\u001b[0m\u001b[0;34m\u001b[0m\u001b[0m\n\u001b[0;32m----> 5\u001b[0;31m     \u001b[0;32mif\u001b[0m \u001b[0mn\u001b[0m \u001b[0;34m>\u001b[0m \u001b[0;36m2\u001b[0m\u001b[0;34m:\u001b[0m \u001b[0;32mreturn\u001b[0m \u001b[0mfbr\u001b[0m\u001b[0;34m(\u001b[0m\u001b[0mn\u001b[0m\u001b[0;34m//\u001b[0m\u001b[0;36m2\u001b[0m\u001b[0;34m+\u001b[0m\u001b[0;36m1\u001b[0m\u001b[0;34m)\u001b[0m\u001b[0;34m*\u001b[0m\u001b[0mfbr\u001b[0m\u001b[0;34m(\u001b[0m\u001b[0mn\u001b[0m\u001b[0;34m-\u001b[0m\u001b[0mn\u001b[0m\u001b[0;34m//\u001b[0m\u001b[0;36m2\u001b[0m\u001b[0;34m)\u001b[0m \u001b[0;34m+\u001b[0m \u001b[0mfbr\u001b[0m\u001b[0;34m(\u001b[0m\u001b[0mn\u001b[0m\u001b[0;34m//\u001b[0m\u001b[0;36m2\u001b[0m\u001b[0;34m)\u001b[0m\u001b[0;34m*\u001b[0m\u001b[0mfbr\u001b[0m\u001b[0;34m(\u001b[0m\u001b[0mn\u001b[0m\u001b[0;34m-\u001b[0m\u001b[0mn\u001b[0m\u001b[0;34m//\u001b[0m\u001b[0;36m2\u001b[0m\u001b[0;34m-\u001b[0m\u001b[0;36m1\u001b[0m\u001b[0;34m)\u001b[0m\u001b[0;34m\u001b[0m\u001b[0;34m\u001b[0m\u001b[0m\n\u001b[0m\u001b[1;32m      6\u001b[0m     \u001b[0;32mreturn\u001b[0m \u001b[0;34m[\u001b[0m\u001b[0;36m0\u001b[0m\u001b[0;34m,\u001b[0m\u001b[0;36m1\u001b[0m\u001b[0;34m,\u001b[0m\u001b[0;36m1\u001b[0m\u001b[0;34m]\u001b[0m\u001b[0;34m[\u001b[0m\u001b[0mn\u001b[0m\u001b[0;34m]\u001b[0m\u001b[0;34m\u001b[0m\u001b[0;34m\u001b[0m\u001b[0m\n\u001b[1;32m      7\u001b[0m \u001b[0;34m\u001b[0m\u001b[0m\n",
            "\u001b[0;32m<ipython-input-3-7da1306f6102>\u001b[0m in \u001b[0;36mfbr\u001b[0;34m(n)\u001b[0m\n\u001b[1;32m      3\u001b[0m \u001b[0;34m@\u001b[0m\u001b[0mlru_cache\u001b[0m\u001b[0;34m(\u001b[0m\u001b[0mmaxsize\u001b[0m\u001b[0;34m=\u001b[0m\u001b[0;32mNone\u001b[0m\u001b[0;34m)\u001b[0m\u001b[0;34m\u001b[0m\u001b[0;34m\u001b[0m\u001b[0m\n\u001b[1;32m      4\u001b[0m \u001b[0;32mdef\u001b[0m \u001b[0mfbr\u001b[0m\u001b[0;34m(\u001b[0m\u001b[0mn\u001b[0m\u001b[0;34m)\u001b[0m\u001b[0;34m:\u001b[0m\u001b[0;34m\u001b[0m\u001b[0;34m\u001b[0m\u001b[0m\n\u001b[0;32m----> 5\u001b[0;31m     \u001b[0;32mif\u001b[0m \u001b[0mn\u001b[0m \u001b[0;34m>\u001b[0m \u001b[0;36m2\u001b[0m\u001b[0;34m:\u001b[0m \u001b[0;32mreturn\u001b[0m \u001b[0mfbr\u001b[0m\u001b[0;34m(\u001b[0m\u001b[0mn\u001b[0m\u001b[0;34m//\u001b[0m\u001b[0;36m2\u001b[0m\u001b[0;34m+\u001b[0m\u001b[0;36m1\u001b[0m\u001b[0;34m)\u001b[0m\u001b[0;34m*\u001b[0m\u001b[0mfbr\u001b[0m\u001b[0;34m(\u001b[0m\u001b[0mn\u001b[0m\u001b[0;34m-\u001b[0m\u001b[0mn\u001b[0m\u001b[0;34m//\u001b[0m\u001b[0;36m2\u001b[0m\u001b[0;34m)\u001b[0m \u001b[0;34m+\u001b[0m \u001b[0mfbr\u001b[0m\u001b[0;34m(\u001b[0m\u001b[0mn\u001b[0m\u001b[0;34m//\u001b[0m\u001b[0;36m2\u001b[0m\u001b[0;34m)\u001b[0m\u001b[0;34m*\u001b[0m\u001b[0mfbr\u001b[0m\u001b[0;34m(\u001b[0m\u001b[0mn\u001b[0m\u001b[0;34m-\u001b[0m\u001b[0mn\u001b[0m\u001b[0;34m//\u001b[0m\u001b[0;36m2\u001b[0m\u001b[0;34m-\u001b[0m\u001b[0;36m1\u001b[0m\u001b[0;34m)\u001b[0m\u001b[0;34m\u001b[0m\u001b[0;34m\u001b[0m\u001b[0m\n\u001b[0m\u001b[1;32m      6\u001b[0m     \u001b[0;32mreturn\u001b[0m \u001b[0;34m[\u001b[0m\u001b[0;36m0\u001b[0m\u001b[0;34m,\u001b[0m\u001b[0;36m1\u001b[0m\u001b[0;34m,\u001b[0m\u001b[0;36m1\u001b[0m\u001b[0;34m]\u001b[0m\u001b[0;34m[\u001b[0m\u001b[0mn\u001b[0m\u001b[0;34m]\u001b[0m\u001b[0;34m\u001b[0m\u001b[0;34m\u001b[0m\u001b[0m\n\u001b[1;32m      7\u001b[0m \u001b[0;34m\u001b[0m\u001b[0m\n",
            "\u001b[0;32m<ipython-input-3-7da1306f6102>\u001b[0m in \u001b[0;36mfbr\u001b[0;34m(n)\u001b[0m\n\u001b[1;32m      3\u001b[0m \u001b[0;34m@\u001b[0m\u001b[0mlru_cache\u001b[0m\u001b[0;34m(\u001b[0m\u001b[0mmaxsize\u001b[0m\u001b[0;34m=\u001b[0m\u001b[0;32mNone\u001b[0m\u001b[0;34m)\u001b[0m\u001b[0;34m\u001b[0m\u001b[0;34m\u001b[0m\u001b[0m\n\u001b[1;32m      4\u001b[0m \u001b[0;32mdef\u001b[0m \u001b[0mfbr\u001b[0m\u001b[0;34m(\u001b[0m\u001b[0mn\u001b[0m\u001b[0;34m)\u001b[0m\u001b[0;34m:\u001b[0m\u001b[0;34m\u001b[0m\u001b[0;34m\u001b[0m\u001b[0m\n\u001b[0;32m----> 5\u001b[0;31m     \u001b[0;32mif\u001b[0m \u001b[0mn\u001b[0m \u001b[0;34m>\u001b[0m \u001b[0;36m2\u001b[0m\u001b[0;34m:\u001b[0m \u001b[0;32mreturn\u001b[0m \u001b[0mfbr\u001b[0m\u001b[0;34m(\u001b[0m\u001b[0mn\u001b[0m\u001b[0;34m//\u001b[0m\u001b[0;36m2\u001b[0m\u001b[0;34m+\u001b[0m\u001b[0;36m1\u001b[0m\u001b[0;34m)\u001b[0m\u001b[0;34m*\u001b[0m\u001b[0mfbr\u001b[0m\u001b[0;34m(\u001b[0m\u001b[0mn\u001b[0m\u001b[0;34m-\u001b[0m\u001b[0mn\u001b[0m\u001b[0;34m//\u001b[0m\u001b[0;36m2\u001b[0m\u001b[0;34m)\u001b[0m \u001b[0;34m+\u001b[0m \u001b[0mfbr\u001b[0m\u001b[0;34m(\u001b[0m\u001b[0mn\u001b[0m\u001b[0;34m//\u001b[0m\u001b[0;36m2\u001b[0m\u001b[0;34m)\u001b[0m\u001b[0;34m*\u001b[0m\u001b[0mfbr\u001b[0m\u001b[0;34m(\u001b[0m\u001b[0mn\u001b[0m\u001b[0;34m-\u001b[0m\u001b[0mn\u001b[0m\u001b[0;34m//\u001b[0m\u001b[0;36m2\u001b[0m\u001b[0;34m-\u001b[0m\u001b[0;36m1\u001b[0m\u001b[0;34m)\u001b[0m\u001b[0;34m\u001b[0m\u001b[0;34m\u001b[0m\u001b[0m\n\u001b[0m\u001b[1;32m      6\u001b[0m     \u001b[0;32mreturn\u001b[0m \u001b[0;34m[\u001b[0m\u001b[0;36m0\u001b[0m\u001b[0;34m,\u001b[0m\u001b[0;36m1\u001b[0m\u001b[0;34m,\u001b[0m\u001b[0;36m1\u001b[0m\u001b[0;34m]\u001b[0m\u001b[0;34m[\u001b[0m\u001b[0mn\u001b[0m\u001b[0;34m]\u001b[0m\u001b[0;34m\u001b[0m\u001b[0;34m\u001b[0m\u001b[0m\n\u001b[1;32m      7\u001b[0m \u001b[0;34m\u001b[0m\u001b[0m\n",
            "\u001b[0;32m<ipython-input-3-7da1306f6102>\u001b[0m in \u001b[0;36mfbr\u001b[0;34m(n)\u001b[0m\n\u001b[1;32m      3\u001b[0m \u001b[0;34m@\u001b[0m\u001b[0mlru_cache\u001b[0m\u001b[0;34m(\u001b[0m\u001b[0mmaxsize\u001b[0m\u001b[0;34m=\u001b[0m\u001b[0;32mNone\u001b[0m\u001b[0;34m)\u001b[0m\u001b[0;34m\u001b[0m\u001b[0;34m\u001b[0m\u001b[0m\n\u001b[1;32m      4\u001b[0m \u001b[0;32mdef\u001b[0m \u001b[0mfbr\u001b[0m\u001b[0;34m(\u001b[0m\u001b[0mn\u001b[0m\u001b[0;34m)\u001b[0m\u001b[0;34m:\u001b[0m\u001b[0;34m\u001b[0m\u001b[0;34m\u001b[0m\u001b[0m\n\u001b[0;32m----> 5\u001b[0;31m     \u001b[0;32mif\u001b[0m \u001b[0mn\u001b[0m \u001b[0;34m>\u001b[0m \u001b[0;36m2\u001b[0m\u001b[0;34m:\u001b[0m \u001b[0;32mreturn\u001b[0m \u001b[0mfbr\u001b[0m\u001b[0;34m(\u001b[0m\u001b[0mn\u001b[0m\u001b[0;34m//\u001b[0m\u001b[0;36m2\u001b[0m\u001b[0;34m+\u001b[0m\u001b[0;36m1\u001b[0m\u001b[0;34m)\u001b[0m\u001b[0;34m*\u001b[0m\u001b[0mfbr\u001b[0m\u001b[0;34m(\u001b[0m\u001b[0mn\u001b[0m\u001b[0;34m-\u001b[0m\u001b[0mn\u001b[0m\u001b[0;34m//\u001b[0m\u001b[0;36m2\u001b[0m\u001b[0;34m)\u001b[0m \u001b[0;34m+\u001b[0m \u001b[0mfbr\u001b[0m\u001b[0;34m(\u001b[0m\u001b[0mn\u001b[0m\u001b[0;34m//\u001b[0m\u001b[0;36m2\u001b[0m\u001b[0;34m)\u001b[0m\u001b[0;34m*\u001b[0m\u001b[0mfbr\u001b[0m\u001b[0;34m(\u001b[0m\u001b[0mn\u001b[0m\u001b[0;34m-\u001b[0m\u001b[0mn\u001b[0m\u001b[0;34m//\u001b[0m\u001b[0;36m2\u001b[0m\u001b[0;34m-\u001b[0m\u001b[0;36m1\u001b[0m\u001b[0;34m)\u001b[0m\u001b[0;34m\u001b[0m\u001b[0;34m\u001b[0m\u001b[0m\n\u001b[0m\u001b[1;32m      6\u001b[0m     \u001b[0;32mreturn\u001b[0m \u001b[0;34m[\u001b[0m\u001b[0;36m0\u001b[0m\u001b[0;34m,\u001b[0m\u001b[0;36m1\u001b[0m\u001b[0;34m,\u001b[0m\u001b[0;36m1\u001b[0m\u001b[0;34m]\u001b[0m\u001b[0;34m[\u001b[0m\u001b[0mn\u001b[0m\u001b[0;34m]\u001b[0m\u001b[0;34m\u001b[0m\u001b[0;34m\u001b[0m\u001b[0m\n\u001b[1;32m      7\u001b[0m \u001b[0;34m\u001b[0m\u001b[0m\n",
            "\u001b[0;32m<ipython-input-3-7da1306f6102>\u001b[0m in \u001b[0;36mfbr\u001b[0;34m(n)\u001b[0m\n\u001b[1;32m      3\u001b[0m \u001b[0;34m@\u001b[0m\u001b[0mlru_cache\u001b[0m\u001b[0;34m(\u001b[0m\u001b[0mmaxsize\u001b[0m\u001b[0;34m=\u001b[0m\u001b[0;32mNone\u001b[0m\u001b[0;34m)\u001b[0m\u001b[0;34m\u001b[0m\u001b[0;34m\u001b[0m\u001b[0m\n\u001b[1;32m      4\u001b[0m \u001b[0;32mdef\u001b[0m \u001b[0mfbr\u001b[0m\u001b[0;34m(\u001b[0m\u001b[0mn\u001b[0m\u001b[0;34m)\u001b[0m\u001b[0;34m:\u001b[0m\u001b[0;34m\u001b[0m\u001b[0;34m\u001b[0m\u001b[0m\n\u001b[0;32m----> 5\u001b[0;31m     \u001b[0;32mif\u001b[0m \u001b[0mn\u001b[0m \u001b[0;34m>\u001b[0m \u001b[0;36m2\u001b[0m\u001b[0;34m:\u001b[0m \u001b[0;32mreturn\u001b[0m \u001b[0mfbr\u001b[0m\u001b[0;34m(\u001b[0m\u001b[0mn\u001b[0m\u001b[0;34m//\u001b[0m\u001b[0;36m2\u001b[0m\u001b[0;34m+\u001b[0m\u001b[0;36m1\u001b[0m\u001b[0;34m)\u001b[0m\u001b[0;34m*\u001b[0m\u001b[0mfbr\u001b[0m\u001b[0;34m(\u001b[0m\u001b[0mn\u001b[0m\u001b[0;34m-\u001b[0m\u001b[0mn\u001b[0m\u001b[0;34m//\u001b[0m\u001b[0;36m2\u001b[0m\u001b[0;34m)\u001b[0m \u001b[0;34m+\u001b[0m \u001b[0mfbr\u001b[0m\u001b[0;34m(\u001b[0m\u001b[0mn\u001b[0m\u001b[0;34m//\u001b[0m\u001b[0;36m2\u001b[0m\u001b[0;34m)\u001b[0m\u001b[0;34m*\u001b[0m\u001b[0mfbr\u001b[0m\u001b[0;34m(\u001b[0m\u001b[0mn\u001b[0m\u001b[0;34m-\u001b[0m\u001b[0mn\u001b[0m\u001b[0;34m//\u001b[0m\u001b[0;36m2\u001b[0m\u001b[0;34m-\u001b[0m\u001b[0;36m1\u001b[0m\u001b[0;34m)\u001b[0m\u001b[0;34m\u001b[0m\u001b[0;34m\u001b[0m\u001b[0m\n\u001b[0m\u001b[1;32m      6\u001b[0m     \u001b[0;32mreturn\u001b[0m \u001b[0;34m[\u001b[0m\u001b[0;36m0\u001b[0m\u001b[0;34m,\u001b[0m\u001b[0;36m1\u001b[0m\u001b[0;34m,\u001b[0m\u001b[0;36m1\u001b[0m\u001b[0;34m]\u001b[0m\u001b[0;34m[\u001b[0m\u001b[0mn\u001b[0m\u001b[0;34m]\u001b[0m\u001b[0;34m\u001b[0m\u001b[0;34m\u001b[0m\u001b[0m\n\u001b[1;32m      7\u001b[0m \u001b[0;34m\u001b[0m\u001b[0m\n",
            "\u001b[0;32m<ipython-input-3-7da1306f6102>\u001b[0m in \u001b[0;36mfbr\u001b[0;34m(n)\u001b[0m\n\u001b[1;32m      3\u001b[0m \u001b[0;34m@\u001b[0m\u001b[0mlru_cache\u001b[0m\u001b[0;34m(\u001b[0m\u001b[0mmaxsize\u001b[0m\u001b[0;34m=\u001b[0m\u001b[0;32mNone\u001b[0m\u001b[0;34m)\u001b[0m\u001b[0;34m\u001b[0m\u001b[0;34m\u001b[0m\u001b[0m\n\u001b[1;32m      4\u001b[0m \u001b[0;32mdef\u001b[0m \u001b[0mfbr\u001b[0m\u001b[0;34m(\u001b[0m\u001b[0mn\u001b[0m\u001b[0;34m)\u001b[0m\u001b[0;34m:\u001b[0m\u001b[0;34m\u001b[0m\u001b[0;34m\u001b[0m\u001b[0m\n\u001b[0;32m----> 5\u001b[0;31m     \u001b[0;32mif\u001b[0m \u001b[0mn\u001b[0m \u001b[0;34m>\u001b[0m \u001b[0;36m2\u001b[0m\u001b[0;34m:\u001b[0m \u001b[0;32mreturn\u001b[0m \u001b[0mfbr\u001b[0m\u001b[0;34m(\u001b[0m\u001b[0mn\u001b[0m\u001b[0;34m//\u001b[0m\u001b[0;36m2\u001b[0m\u001b[0;34m+\u001b[0m\u001b[0;36m1\u001b[0m\u001b[0;34m)\u001b[0m\u001b[0;34m*\u001b[0m\u001b[0mfbr\u001b[0m\u001b[0;34m(\u001b[0m\u001b[0mn\u001b[0m\u001b[0;34m-\u001b[0m\u001b[0mn\u001b[0m\u001b[0;34m//\u001b[0m\u001b[0;36m2\u001b[0m\u001b[0;34m)\u001b[0m \u001b[0;34m+\u001b[0m \u001b[0mfbr\u001b[0m\u001b[0;34m(\u001b[0m\u001b[0mn\u001b[0m\u001b[0;34m//\u001b[0m\u001b[0;36m2\u001b[0m\u001b[0;34m)\u001b[0m\u001b[0;34m*\u001b[0m\u001b[0mfbr\u001b[0m\u001b[0;34m(\u001b[0m\u001b[0mn\u001b[0m\u001b[0;34m-\u001b[0m\u001b[0mn\u001b[0m\u001b[0;34m//\u001b[0m\u001b[0;36m2\u001b[0m\u001b[0;34m-\u001b[0m\u001b[0;36m1\u001b[0m\u001b[0;34m)\u001b[0m\u001b[0;34m\u001b[0m\u001b[0;34m\u001b[0m\u001b[0m\n\u001b[0m\u001b[1;32m      6\u001b[0m     \u001b[0;32mreturn\u001b[0m \u001b[0;34m[\u001b[0m\u001b[0;36m0\u001b[0m\u001b[0;34m,\u001b[0m\u001b[0;36m1\u001b[0m\u001b[0;34m,\u001b[0m\u001b[0;36m1\u001b[0m\u001b[0;34m]\u001b[0m\u001b[0;34m[\u001b[0m\u001b[0mn\u001b[0m\u001b[0;34m]\u001b[0m\u001b[0;34m\u001b[0m\u001b[0;34m\u001b[0m\u001b[0m\n\u001b[1;32m      7\u001b[0m \u001b[0;34m\u001b[0m\u001b[0m\n",
            "\u001b[0;31mKeyboardInterrupt\u001b[0m: "
          ]
        }
      ]
    },
    {
      "cell_type": "markdown",
      "source": [
        "#Ejercicio 78\n",
        "##Los números feos son aquellos números cuyos factores primos están limitados a 2, 3 y 5. Desarrollar un programa que le permita ingresar un número entero positivo al usuario y este le contestará si se trata de un número feo; por ejemplo, el 6 se trata de un número feo, dado que es producto de 2*3"
      ],
      "metadata": {
        "id": "dbjWxwm9i7zv"
      }
    },
    {
      "cell_type": "code",
      "source": [
        "#creamos funcion para ingresar números\n",
        "def ingresar():\n",
        "  while True:\n",
        "    try:\n",
        "      n = int(input(f\"\\n\\x1b[33mIngrese un número entero positivo -> \\x1b[0m\"))\n",
        "      if(n <= 0):\n",
        "        print(f\"\\x1b[31Ingrese un número entero positivo!\\x1b[0m\")\n",
        "      else:\n",
        "        return n\n",
        "    except ValueError:\n",
        "      print(f\"\\x1b[31mIngrese una entrada válida!\\x1b[0m\")\n",
        "  return n\n",
        "\n",
        "\n",
        "#creamos funcion para comprobar si es un número feo\n",
        "def numerofeo(n):\n",
        "  #definimos una lista con los factores primos\n",
        "\n",
        "  while(n % 2 == 0):\n",
        "    n = n // 2\n",
        "  while(n % 3 == 0):\n",
        "    n = n // 3\n",
        "  while(n % 5 == 0):\n",
        "    n = n // 5\n",
        "  return n == 1\n",
        "\n",
        "\n",
        "#---------------------------------------------------------------\n",
        "#llamamos a las funciones\n",
        "if(numerofeo(ingresar())):\n",
        "  print(f\"\\n\\x1b[32mEl número ingresado es un número feo\\x1b[0m\")\n",
        "else:\n",
        "  print(f\"\\n\\x1b[31mEl número ingresado no es un número feo\\x1b[0m\")"
      ],
      "metadata": {
        "id": "_DGAB0ZFz2hn",
        "colab": {
          "base_uri": "https://localhost:8080/"
        },
        "outputId": "5ad9afbe-28e1-4b99-b2bd-777fbb63521b"
      },
      "execution_count": 17,
      "outputs": [
        {
          "output_type": "stream",
          "name": "stdout",
          "text": [
            "\n",
            "\u001b[33mIngrese un número entero positivo -> \u001b[0m6\n",
            "\n",
            "\u001b[32mEl número ingresado es un número feo\u001b[0m\n"
          ]
        }
      ]
    },
    {
      "cell_type": "markdown",
      "source": [
        "#Ejercicio 79\n",
        "##Desarrollar una función que permita ingresar solamente una combinación de N letras y números y mostrarlos en formato de licencia de k términos, en el formato funcion(str, k); por ejemplo, si se manda a llamar la función print(funcion(\"2-4A0r7-4k\", 3)), esta imprima 24-A0R-74K"
      ],
      "metadata": {
        "id": "59Q4jkxAjCbm"
      }
    },
    {
      "cell_type": "code",
      "source": [
        "#creamos funcion para ingresar términos y 'k'\n",
        "def ingresar():\n",
        "  while True:\n",
        "    try:\n",
        "      n = int(input(f\"\\n\\x1b[33mIngrese el número de términos -> \\x1b[0m\"))\n",
        "      if(n <= 0):\n",
        "        print(f\"\\x1b[31Ingrese un número entero positivo!\\x1b[0m\");break\n",
        "    except ValueError:\n",
        "      print(f\"\\x1b[31mIngrese una entrada válida!\\x1b[0m\")\n",
        "\n",
        "  #ingresa letras y números\n",
        "  combinacion = str(input(f\"\\x1b[32mIngresa la combinanción de letras y números ->\\x1b[0m\"))\n",
        "\n",
        "\n",
        "  return n,combinacion\n",
        "#------------------------------------------------------------------------------------------------------\n",
        "def formatoTerm(n,combinacion):\n",
        "  #convertimos la cadena en letras mayúsculas\n",
        "  combinacion.upper()\n",
        "  print(combinacion)\n",
        "#--------------------------------------------------------------------------------------------------------------\n",
        "#llamamos a las funciones\n",
        "n,combinacion = ingresar()\n",
        "formatoTerm(n,combinacion)"
      ],
      "metadata": {
        "id": "oXhzk_hNz3DY",
        "colab": {
          "base_uri": "https://localhost:8080/"
        },
        "outputId": "4ec209a1-2b12-4df9-d00b-af503912f3c7"
      },
      "execution_count": null,
      "outputs": [
        {
          "output_type": "stream",
          "name": "stdout",
          "text": [
            "\n",
            "\u001b[33mIngrese el número de términos -> \u001b[0m3\n",
            "\n",
            "\u001b[33mIngrese el número de términos -> \u001b[0m3\n",
            "\n",
            "\u001b[33mIngrese el número de términos -> \u001b[0m3\n",
            "\n",
            "\u001b[33mIngrese el número de términos -> \u001b[0m3\n",
            "\n",
            "\u001b[33mIngrese el número de términos -> \u001b[0m3\n",
            "\n",
            "\u001b[33mIngrese el número de términos -> \u001b[0m3\n",
            "\n",
            "\u001b[33mIngrese el número de términos -> \u001b[0m3\n",
            "\n",
            "\u001b[33mIngrese el número de términos -> \u001b[0m3\n",
            "\n",
            "\u001b[33mIngrese el número de términos -> \u001b[0m3\n",
            "\n",
            "\u001b[33mIngrese el número de términos -> \u001b[0m3\n",
            "\n",
            "\u001b[33mIngrese el número de términos -> \u001b[0m3\n",
            "\n",
            "\u001b[33mIngrese el número de términos -> \u001b[0m3\n",
            "\n",
            "\u001b[33mIngrese el número de términos -> \u001b[0m3\n",
            "\n",
            "\u001b[33mIngrese el número de términos -> \u001b[0m3\n",
            "\n",
            "\u001b[33mIngrese el número de términos -> \u001b[0m3-9\n",
            "\u001b[31mIngrese una entrada válida!\u001b[0m\n",
            "\n",
            "\u001b[33mIngrese el número de términos -> \u001b[0m-5\n",
            "\u001b[31Ingrese un número entero positivo!\u001b[0m\n"
          ]
        }
      ]
    },
    {
      "cell_type": "markdown",
      "source": [
        "#Ejercicio 80\n",
        "##Sin el uso de librerías de terceros, desarrollar el método de ordenación Quicksort para la ordenación de un vector de números enteros ingresado por el usuario"
      ],
      "metadata": {
        "id": "PGa8GRcMjJFe"
      }
    },
    {
      "cell_type": "code",
      "source": [
        "def fib(n, startIterative=10**4):\n",
        "    m = n\n",
        "    timesDivided = 0\n",
        "    while m > startIterative:\n",
        "        m = m // 2 + 1\n",
        "        timesDivided += 1\n",
        "    a, b = 1, 0\n",
        "    smallFibs = []\n",
        "    offset = max(m - timesDivided, 0)\n",
        "    for i in range(m + 1):\n",
        "        a, b = a+b, a\n",
        "        if i >= offset - 2:\n",
        "            smallFibs.append(a)\n",
        "    return _fib(n, smallFibs, offset, start=m + 1)\n",
        "\n",
        "def _fib(n, smallFibs, offset, start=10**5):\n",
        "    if n <= start:\n",
        "        return smallFibs[n - offset]\n",
        "    else:\n",
        "        if n % 2 == 0:\n",
        "            half = n // 2\n",
        "            fibn = _fib(half, smallFibs, offset, start=start)\n",
        "            return (2 * _fib(half - 1, smallFibs, offset, start=start) + fibn) * fibn\n",
        "        else:\n",
        "            half = (n + 1) // 2\n",
        "            return _fib(half - 1, smallFibs, offset, start=start) ** 2 + _fib(half, smallFibs, offset, start=start) ** 2\n",
        "\n",
        "fib(1000000000000)"
      ],
      "metadata": {
        "id": "_xVJFXm5kHNV",
        "colab": {
          "base_uri": "https://localhost:8080/",
          "height": 321
        },
        "outputId": "18035fcd-86a3-4d7a-dab3-0c83fe88adc0"
      },
      "execution_count": 2,
      "outputs": [
        {
          "output_type": "error",
          "ename": "KeyboardInterrupt",
          "evalue": "",
          "traceback": [
            "\u001b[0;31m---------------------------------------------------------------------------\u001b[0m",
            "\u001b[0;31mKeyboardInterrupt\u001b[0m                         Traceback (most recent call last)",
            "\u001b[0;32m<ipython-input-2-5a9dfd941b08>\u001b[0m in \u001b[0;36m<cell line: 0>\u001b[0;34m()\u001b[0m\n\u001b[1;32m     26\u001b[0m             \u001b[0;32mreturn\u001b[0m \u001b[0m_fib\u001b[0m\u001b[0;34m(\u001b[0m\u001b[0mhalf\u001b[0m \u001b[0;34m-\u001b[0m \u001b[0;36m1\u001b[0m\u001b[0;34m,\u001b[0m \u001b[0msmallFibs\u001b[0m\u001b[0;34m,\u001b[0m \u001b[0moffset\u001b[0m\u001b[0;34m,\u001b[0m \u001b[0mstart\u001b[0m\u001b[0;34m=\u001b[0m\u001b[0mstart\u001b[0m\u001b[0;34m)\u001b[0m \u001b[0;34m**\u001b[0m \u001b[0;36m2\u001b[0m \u001b[0;34m+\u001b[0m \u001b[0m_fib\u001b[0m\u001b[0;34m(\u001b[0m\u001b[0mhalf\u001b[0m\u001b[0;34m,\u001b[0m \u001b[0msmallFibs\u001b[0m\u001b[0;34m,\u001b[0m \u001b[0moffset\u001b[0m\u001b[0;34m,\u001b[0m \u001b[0mstart\u001b[0m\u001b[0;34m=\u001b[0m\u001b[0mstart\u001b[0m\u001b[0;34m)\u001b[0m \u001b[0;34m**\u001b[0m \u001b[0;36m2\u001b[0m\u001b[0;34m\u001b[0m\u001b[0;34m\u001b[0m\u001b[0m\n\u001b[1;32m     27\u001b[0m \u001b[0;34m\u001b[0m\u001b[0m\n\u001b[0;32m---> 28\u001b[0;31m \u001b[0mfib\u001b[0m\u001b[0;34m(\u001b[0m\u001b[0;36m1000000000000\u001b[0m\u001b[0;34m)\u001b[0m\u001b[0;34m\u001b[0m\u001b[0;34m\u001b[0m\u001b[0m\n\u001b[0m",
            "\u001b[0;32m<ipython-input-2-5a9dfd941b08>\u001b[0m in \u001b[0;36mfib\u001b[0;34m(n, startIterative)\u001b[0m\n\u001b[1;32m     12\u001b[0m         \u001b[0;32mif\u001b[0m \u001b[0mi\u001b[0m \u001b[0;34m>=\u001b[0m \u001b[0moffset\u001b[0m \u001b[0;34m-\u001b[0m \u001b[0;36m2\u001b[0m\u001b[0;34m:\u001b[0m\u001b[0;34m\u001b[0m\u001b[0;34m\u001b[0m\u001b[0m\n\u001b[1;32m     13\u001b[0m             \u001b[0msmallFibs\u001b[0m\u001b[0;34m.\u001b[0m\u001b[0mappend\u001b[0m\u001b[0;34m(\u001b[0m\u001b[0ma\u001b[0m\u001b[0;34m)\u001b[0m\u001b[0;34m\u001b[0m\u001b[0;34m\u001b[0m\u001b[0m\n\u001b[0;32m---> 14\u001b[0;31m     \u001b[0;32mreturn\u001b[0m \u001b[0m_fib\u001b[0m\u001b[0;34m(\u001b[0m\u001b[0mn\u001b[0m\u001b[0;34m,\u001b[0m \u001b[0msmallFibs\u001b[0m\u001b[0;34m,\u001b[0m \u001b[0moffset\u001b[0m\u001b[0;34m,\u001b[0m \u001b[0mstart\u001b[0m\u001b[0;34m=\u001b[0m\u001b[0mm\u001b[0m \u001b[0;34m+\u001b[0m \u001b[0;36m1\u001b[0m\u001b[0;34m)\u001b[0m\u001b[0;34m\u001b[0m\u001b[0;34m\u001b[0m\u001b[0m\n\u001b[0m\u001b[1;32m     15\u001b[0m \u001b[0;34m\u001b[0m\u001b[0m\n\u001b[1;32m     16\u001b[0m \u001b[0;32mdef\u001b[0m \u001b[0m_fib\u001b[0m\u001b[0;34m(\u001b[0m\u001b[0mn\u001b[0m\u001b[0;34m,\u001b[0m \u001b[0msmallFibs\u001b[0m\u001b[0;34m,\u001b[0m \u001b[0moffset\u001b[0m\u001b[0;34m,\u001b[0m \u001b[0mstart\u001b[0m\u001b[0;34m=\u001b[0m\u001b[0;36m10\u001b[0m\u001b[0;34m**\u001b[0m\u001b[0;36m5\u001b[0m\u001b[0;34m)\u001b[0m\u001b[0;34m:\u001b[0m\u001b[0;34m\u001b[0m\u001b[0;34m\u001b[0m\u001b[0m\n",
            "\u001b[0;32m<ipython-input-2-5a9dfd941b08>\u001b[0m in \u001b[0;36m_fib\u001b[0;34m(n, smallFibs, offset, start)\u001b[0m\n\u001b[1;32m     20\u001b[0m         \u001b[0;32mif\u001b[0m \u001b[0mn\u001b[0m \u001b[0;34m%\u001b[0m \u001b[0;36m2\u001b[0m \u001b[0;34m==\u001b[0m \u001b[0;36m0\u001b[0m\u001b[0;34m:\u001b[0m\u001b[0;34m\u001b[0m\u001b[0;34m\u001b[0m\u001b[0m\n\u001b[1;32m     21\u001b[0m             \u001b[0mhalf\u001b[0m \u001b[0;34m=\u001b[0m \u001b[0mn\u001b[0m \u001b[0;34m//\u001b[0m \u001b[0;36m2\u001b[0m\u001b[0;34m\u001b[0m\u001b[0;34m\u001b[0m\u001b[0m\n\u001b[0;32m---> 22\u001b[0;31m             \u001b[0mfibn\u001b[0m \u001b[0;34m=\u001b[0m \u001b[0m_fib\u001b[0m\u001b[0;34m(\u001b[0m\u001b[0mhalf\u001b[0m\u001b[0;34m,\u001b[0m \u001b[0msmallFibs\u001b[0m\u001b[0;34m,\u001b[0m \u001b[0moffset\u001b[0m\u001b[0;34m,\u001b[0m \u001b[0mstart\u001b[0m\u001b[0;34m=\u001b[0m\u001b[0mstart\u001b[0m\u001b[0;34m)\u001b[0m\u001b[0;34m\u001b[0m\u001b[0;34m\u001b[0m\u001b[0m\n\u001b[0m\u001b[1;32m     23\u001b[0m             \u001b[0;32mreturn\u001b[0m \u001b[0;34m(\u001b[0m\u001b[0;36m2\u001b[0m \u001b[0;34m*\u001b[0m \u001b[0m_fib\u001b[0m\u001b[0;34m(\u001b[0m\u001b[0mhalf\u001b[0m \u001b[0;34m-\u001b[0m \u001b[0;36m1\u001b[0m\u001b[0;34m,\u001b[0m \u001b[0msmallFibs\u001b[0m\u001b[0;34m,\u001b[0m \u001b[0moffset\u001b[0m\u001b[0;34m,\u001b[0m \u001b[0mstart\u001b[0m\u001b[0;34m=\u001b[0m\u001b[0mstart\u001b[0m\u001b[0;34m)\u001b[0m \u001b[0;34m+\u001b[0m \u001b[0mfibn\u001b[0m\u001b[0;34m)\u001b[0m \u001b[0;34m*\u001b[0m \u001b[0mfibn\u001b[0m\u001b[0;34m\u001b[0m\u001b[0;34m\u001b[0m\u001b[0m\n\u001b[1;32m     24\u001b[0m         \u001b[0;32melse\u001b[0m\u001b[0;34m:\u001b[0m\u001b[0;34m\u001b[0m\u001b[0;34m\u001b[0m\u001b[0m\n",
            "\u001b[0;32m<ipython-input-2-5a9dfd941b08>\u001b[0m in \u001b[0;36m_fib\u001b[0;34m(n, smallFibs, offset, start)\u001b[0m\n\u001b[1;32m     20\u001b[0m         \u001b[0;32mif\u001b[0m \u001b[0mn\u001b[0m \u001b[0;34m%\u001b[0m \u001b[0;36m2\u001b[0m \u001b[0;34m==\u001b[0m \u001b[0;36m0\u001b[0m\u001b[0;34m:\u001b[0m\u001b[0;34m\u001b[0m\u001b[0;34m\u001b[0m\u001b[0m\n\u001b[1;32m     21\u001b[0m             \u001b[0mhalf\u001b[0m \u001b[0;34m=\u001b[0m \u001b[0mn\u001b[0m \u001b[0;34m//\u001b[0m \u001b[0;36m2\u001b[0m\u001b[0;34m\u001b[0m\u001b[0;34m\u001b[0m\u001b[0m\n\u001b[0;32m---> 22\u001b[0;31m             \u001b[0mfibn\u001b[0m \u001b[0;34m=\u001b[0m \u001b[0m_fib\u001b[0m\u001b[0;34m(\u001b[0m\u001b[0mhalf\u001b[0m\u001b[0;34m,\u001b[0m \u001b[0msmallFibs\u001b[0m\u001b[0;34m,\u001b[0m \u001b[0moffset\u001b[0m\u001b[0;34m,\u001b[0m \u001b[0mstart\u001b[0m\u001b[0;34m=\u001b[0m\u001b[0mstart\u001b[0m\u001b[0;34m)\u001b[0m\u001b[0;34m\u001b[0m\u001b[0;34m\u001b[0m\u001b[0m\n\u001b[0m\u001b[1;32m     23\u001b[0m             \u001b[0;32mreturn\u001b[0m \u001b[0;34m(\u001b[0m\u001b[0;36m2\u001b[0m \u001b[0;34m*\u001b[0m \u001b[0m_fib\u001b[0m\u001b[0;34m(\u001b[0m\u001b[0mhalf\u001b[0m \u001b[0;34m-\u001b[0m \u001b[0;36m1\u001b[0m\u001b[0;34m,\u001b[0m \u001b[0msmallFibs\u001b[0m\u001b[0;34m,\u001b[0m \u001b[0moffset\u001b[0m\u001b[0;34m,\u001b[0m \u001b[0mstart\u001b[0m\u001b[0;34m=\u001b[0m\u001b[0mstart\u001b[0m\u001b[0;34m)\u001b[0m \u001b[0;34m+\u001b[0m \u001b[0mfibn\u001b[0m\u001b[0;34m)\u001b[0m \u001b[0;34m*\u001b[0m \u001b[0mfibn\u001b[0m\u001b[0;34m\u001b[0m\u001b[0;34m\u001b[0m\u001b[0m\n\u001b[1;32m     24\u001b[0m         \u001b[0;32melse\u001b[0m\u001b[0;34m:\u001b[0m\u001b[0;34m\u001b[0m\u001b[0;34m\u001b[0m\u001b[0m\n",
            "\u001b[0;32m<ipython-input-2-5a9dfd941b08>\u001b[0m in \u001b[0;36m_fib\u001b[0;34m(n, smallFibs, offset, start)\u001b[0m\n\u001b[1;32m     20\u001b[0m         \u001b[0;32mif\u001b[0m \u001b[0mn\u001b[0m \u001b[0;34m%\u001b[0m \u001b[0;36m2\u001b[0m \u001b[0;34m==\u001b[0m \u001b[0;36m0\u001b[0m\u001b[0;34m:\u001b[0m\u001b[0;34m\u001b[0m\u001b[0;34m\u001b[0m\u001b[0m\n\u001b[1;32m     21\u001b[0m             \u001b[0mhalf\u001b[0m \u001b[0;34m=\u001b[0m \u001b[0mn\u001b[0m \u001b[0;34m//\u001b[0m \u001b[0;36m2\u001b[0m\u001b[0;34m\u001b[0m\u001b[0;34m\u001b[0m\u001b[0m\n\u001b[0;32m---> 22\u001b[0;31m             \u001b[0mfibn\u001b[0m \u001b[0;34m=\u001b[0m \u001b[0m_fib\u001b[0m\u001b[0;34m(\u001b[0m\u001b[0mhalf\u001b[0m\u001b[0;34m,\u001b[0m \u001b[0msmallFibs\u001b[0m\u001b[0;34m,\u001b[0m \u001b[0moffset\u001b[0m\u001b[0;34m,\u001b[0m \u001b[0mstart\u001b[0m\u001b[0;34m=\u001b[0m\u001b[0mstart\u001b[0m\u001b[0;34m)\u001b[0m\u001b[0;34m\u001b[0m\u001b[0;34m\u001b[0m\u001b[0m\n\u001b[0m\u001b[1;32m     23\u001b[0m             \u001b[0;32mreturn\u001b[0m \u001b[0;34m(\u001b[0m\u001b[0;36m2\u001b[0m \u001b[0;34m*\u001b[0m \u001b[0m_fib\u001b[0m\u001b[0;34m(\u001b[0m\u001b[0mhalf\u001b[0m \u001b[0;34m-\u001b[0m \u001b[0;36m1\u001b[0m\u001b[0;34m,\u001b[0m \u001b[0msmallFibs\u001b[0m\u001b[0;34m,\u001b[0m \u001b[0moffset\u001b[0m\u001b[0;34m,\u001b[0m \u001b[0mstart\u001b[0m\u001b[0;34m=\u001b[0m\u001b[0mstart\u001b[0m\u001b[0;34m)\u001b[0m \u001b[0;34m+\u001b[0m \u001b[0mfibn\u001b[0m\u001b[0;34m)\u001b[0m \u001b[0;34m*\u001b[0m \u001b[0mfibn\u001b[0m\u001b[0;34m\u001b[0m\u001b[0;34m\u001b[0m\u001b[0m\n\u001b[1;32m     24\u001b[0m         \u001b[0;32melse\u001b[0m\u001b[0;34m:\u001b[0m\u001b[0;34m\u001b[0m\u001b[0;34m\u001b[0m\u001b[0m\n",
            "\u001b[0;32m<ipython-input-2-5a9dfd941b08>\u001b[0m in \u001b[0;36m_fib\u001b[0;34m(n, smallFibs, offset, start)\u001b[0m\n\u001b[1;32m     20\u001b[0m         \u001b[0;32mif\u001b[0m \u001b[0mn\u001b[0m \u001b[0;34m%\u001b[0m \u001b[0;36m2\u001b[0m \u001b[0;34m==\u001b[0m \u001b[0;36m0\u001b[0m\u001b[0;34m:\u001b[0m\u001b[0;34m\u001b[0m\u001b[0;34m\u001b[0m\u001b[0m\n\u001b[1;32m     21\u001b[0m             \u001b[0mhalf\u001b[0m \u001b[0;34m=\u001b[0m \u001b[0mn\u001b[0m \u001b[0;34m//\u001b[0m \u001b[0;36m2\u001b[0m\u001b[0;34m\u001b[0m\u001b[0;34m\u001b[0m\u001b[0m\n\u001b[0;32m---> 22\u001b[0;31m             \u001b[0mfibn\u001b[0m \u001b[0;34m=\u001b[0m \u001b[0m_fib\u001b[0m\u001b[0;34m(\u001b[0m\u001b[0mhalf\u001b[0m\u001b[0;34m,\u001b[0m \u001b[0msmallFibs\u001b[0m\u001b[0;34m,\u001b[0m \u001b[0moffset\u001b[0m\u001b[0;34m,\u001b[0m \u001b[0mstart\u001b[0m\u001b[0;34m=\u001b[0m\u001b[0mstart\u001b[0m\u001b[0;34m)\u001b[0m\u001b[0;34m\u001b[0m\u001b[0;34m\u001b[0m\u001b[0m\n\u001b[0m\u001b[1;32m     23\u001b[0m             \u001b[0;32mreturn\u001b[0m \u001b[0;34m(\u001b[0m\u001b[0;36m2\u001b[0m \u001b[0;34m*\u001b[0m \u001b[0m_fib\u001b[0m\u001b[0;34m(\u001b[0m\u001b[0mhalf\u001b[0m \u001b[0;34m-\u001b[0m \u001b[0;36m1\u001b[0m\u001b[0;34m,\u001b[0m \u001b[0msmallFibs\u001b[0m\u001b[0;34m,\u001b[0m \u001b[0moffset\u001b[0m\u001b[0;34m,\u001b[0m \u001b[0mstart\u001b[0m\u001b[0;34m=\u001b[0m\u001b[0mstart\u001b[0m\u001b[0;34m)\u001b[0m \u001b[0;34m+\u001b[0m \u001b[0mfibn\u001b[0m\u001b[0;34m)\u001b[0m \u001b[0;34m*\u001b[0m \u001b[0mfibn\u001b[0m\u001b[0;34m\u001b[0m\u001b[0;34m\u001b[0m\u001b[0m\n\u001b[1;32m     24\u001b[0m         \u001b[0;32melse\u001b[0m\u001b[0;34m:\u001b[0m\u001b[0;34m\u001b[0m\u001b[0;34m\u001b[0m\u001b[0m\n",
            "\u001b[0;32m<ipython-input-2-5a9dfd941b08>\u001b[0m in \u001b[0;36m_fib\u001b[0;34m(n, smallFibs, offset, start)\u001b[0m\n\u001b[1;32m     20\u001b[0m         \u001b[0;32mif\u001b[0m \u001b[0mn\u001b[0m \u001b[0;34m%\u001b[0m \u001b[0;36m2\u001b[0m \u001b[0;34m==\u001b[0m \u001b[0;36m0\u001b[0m\u001b[0;34m:\u001b[0m\u001b[0;34m\u001b[0m\u001b[0;34m\u001b[0m\u001b[0m\n\u001b[1;32m     21\u001b[0m             \u001b[0mhalf\u001b[0m \u001b[0;34m=\u001b[0m \u001b[0mn\u001b[0m \u001b[0;34m//\u001b[0m \u001b[0;36m2\u001b[0m\u001b[0;34m\u001b[0m\u001b[0;34m\u001b[0m\u001b[0m\n\u001b[0;32m---> 22\u001b[0;31m             \u001b[0mfibn\u001b[0m \u001b[0;34m=\u001b[0m \u001b[0m_fib\u001b[0m\u001b[0;34m(\u001b[0m\u001b[0mhalf\u001b[0m\u001b[0;34m,\u001b[0m \u001b[0msmallFibs\u001b[0m\u001b[0;34m,\u001b[0m \u001b[0moffset\u001b[0m\u001b[0;34m,\u001b[0m \u001b[0mstart\u001b[0m\u001b[0;34m=\u001b[0m\u001b[0mstart\u001b[0m\u001b[0;34m)\u001b[0m\u001b[0;34m\u001b[0m\u001b[0;34m\u001b[0m\u001b[0m\n\u001b[0m\u001b[1;32m     23\u001b[0m             \u001b[0;32mreturn\u001b[0m \u001b[0;34m(\u001b[0m\u001b[0;36m2\u001b[0m \u001b[0;34m*\u001b[0m \u001b[0m_fib\u001b[0m\u001b[0;34m(\u001b[0m\u001b[0mhalf\u001b[0m \u001b[0;34m-\u001b[0m \u001b[0;36m1\u001b[0m\u001b[0;34m,\u001b[0m \u001b[0msmallFibs\u001b[0m\u001b[0;34m,\u001b[0m \u001b[0moffset\u001b[0m\u001b[0;34m,\u001b[0m \u001b[0mstart\u001b[0m\u001b[0;34m=\u001b[0m\u001b[0mstart\u001b[0m\u001b[0;34m)\u001b[0m \u001b[0;34m+\u001b[0m \u001b[0mfibn\u001b[0m\u001b[0;34m)\u001b[0m \u001b[0;34m*\u001b[0m \u001b[0mfibn\u001b[0m\u001b[0;34m\u001b[0m\u001b[0;34m\u001b[0m\u001b[0m\n\u001b[1;32m     24\u001b[0m         \u001b[0;32melse\u001b[0m\u001b[0;34m:\u001b[0m\u001b[0;34m\u001b[0m\u001b[0;34m\u001b[0m\u001b[0m\n",
            "\u001b[0;32m<ipython-input-2-5a9dfd941b08>\u001b[0m in \u001b[0;36m_fib\u001b[0;34m(n, smallFibs, offset, start)\u001b[0m\n\u001b[1;32m     20\u001b[0m         \u001b[0;32mif\u001b[0m \u001b[0mn\u001b[0m \u001b[0;34m%\u001b[0m \u001b[0;36m2\u001b[0m \u001b[0;34m==\u001b[0m \u001b[0;36m0\u001b[0m\u001b[0;34m:\u001b[0m\u001b[0;34m\u001b[0m\u001b[0;34m\u001b[0m\u001b[0m\n\u001b[1;32m     21\u001b[0m             \u001b[0mhalf\u001b[0m \u001b[0;34m=\u001b[0m \u001b[0mn\u001b[0m \u001b[0;34m//\u001b[0m \u001b[0;36m2\u001b[0m\u001b[0;34m\u001b[0m\u001b[0;34m\u001b[0m\u001b[0m\n\u001b[0;32m---> 22\u001b[0;31m             \u001b[0mfibn\u001b[0m \u001b[0;34m=\u001b[0m \u001b[0m_fib\u001b[0m\u001b[0;34m(\u001b[0m\u001b[0mhalf\u001b[0m\u001b[0;34m,\u001b[0m \u001b[0msmallFibs\u001b[0m\u001b[0;34m,\u001b[0m \u001b[0moffset\u001b[0m\u001b[0;34m,\u001b[0m \u001b[0mstart\u001b[0m\u001b[0;34m=\u001b[0m\u001b[0mstart\u001b[0m\u001b[0;34m)\u001b[0m\u001b[0;34m\u001b[0m\u001b[0;34m\u001b[0m\u001b[0m\n\u001b[0m\u001b[1;32m     23\u001b[0m             \u001b[0;32mreturn\u001b[0m \u001b[0;34m(\u001b[0m\u001b[0;36m2\u001b[0m \u001b[0;34m*\u001b[0m \u001b[0m_fib\u001b[0m\u001b[0;34m(\u001b[0m\u001b[0mhalf\u001b[0m \u001b[0;34m-\u001b[0m \u001b[0;36m1\u001b[0m\u001b[0;34m,\u001b[0m \u001b[0msmallFibs\u001b[0m\u001b[0;34m,\u001b[0m \u001b[0moffset\u001b[0m\u001b[0;34m,\u001b[0m \u001b[0mstart\u001b[0m\u001b[0;34m=\u001b[0m\u001b[0mstart\u001b[0m\u001b[0;34m)\u001b[0m \u001b[0;34m+\u001b[0m \u001b[0mfibn\u001b[0m\u001b[0;34m)\u001b[0m \u001b[0;34m*\u001b[0m \u001b[0mfibn\u001b[0m\u001b[0;34m\u001b[0m\u001b[0;34m\u001b[0m\u001b[0m\n\u001b[1;32m     24\u001b[0m         \u001b[0;32melse\u001b[0m\u001b[0;34m:\u001b[0m\u001b[0;34m\u001b[0m\u001b[0;34m\u001b[0m\u001b[0m\n",
            "\u001b[0;32m<ipython-input-2-5a9dfd941b08>\u001b[0m in \u001b[0;36m_fib\u001b[0;34m(n, smallFibs, offset, start)\u001b[0m\n\u001b[1;32m     20\u001b[0m         \u001b[0;32mif\u001b[0m \u001b[0mn\u001b[0m \u001b[0;34m%\u001b[0m \u001b[0;36m2\u001b[0m \u001b[0;34m==\u001b[0m \u001b[0;36m0\u001b[0m\u001b[0;34m:\u001b[0m\u001b[0;34m\u001b[0m\u001b[0;34m\u001b[0m\u001b[0m\n\u001b[1;32m     21\u001b[0m             \u001b[0mhalf\u001b[0m \u001b[0;34m=\u001b[0m \u001b[0mn\u001b[0m \u001b[0;34m//\u001b[0m \u001b[0;36m2\u001b[0m\u001b[0;34m\u001b[0m\u001b[0;34m\u001b[0m\u001b[0m\n\u001b[0;32m---> 22\u001b[0;31m             \u001b[0mfibn\u001b[0m \u001b[0;34m=\u001b[0m \u001b[0m_fib\u001b[0m\u001b[0;34m(\u001b[0m\u001b[0mhalf\u001b[0m\u001b[0;34m,\u001b[0m \u001b[0msmallFibs\u001b[0m\u001b[0;34m,\u001b[0m \u001b[0moffset\u001b[0m\u001b[0;34m,\u001b[0m \u001b[0mstart\u001b[0m\u001b[0;34m=\u001b[0m\u001b[0mstart\u001b[0m\u001b[0;34m)\u001b[0m\u001b[0;34m\u001b[0m\u001b[0;34m\u001b[0m\u001b[0m\n\u001b[0m\u001b[1;32m     23\u001b[0m             \u001b[0;32mreturn\u001b[0m \u001b[0;34m(\u001b[0m\u001b[0;36m2\u001b[0m \u001b[0;34m*\u001b[0m \u001b[0m_fib\u001b[0m\u001b[0;34m(\u001b[0m\u001b[0mhalf\u001b[0m \u001b[0;34m-\u001b[0m \u001b[0;36m1\u001b[0m\u001b[0;34m,\u001b[0m \u001b[0msmallFibs\u001b[0m\u001b[0;34m,\u001b[0m \u001b[0moffset\u001b[0m\u001b[0;34m,\u001b[0m \u001b[0mstart\u001b[0m\u001b[0;34m=\u001b[0m\u001b[0mstart\u001b[0m\u001b[0;34m)\u001b[0m \u001b[0;34m+\u001b[0m \u001b[0mfibn\u001b[0m\u001b[0;34m)\u001b[0m \u001b[0;34m*\u001b[0m \u001b[0mfibn\u001b[0m\u001b[0;34m\u001b[0m\u001b[0;34m\u001b[0m\u001b[0m\n\u001b[1;32m     24\u001b[0m         \u001b[0;32melse\u001b[0m\u001b[0;34m:\u001b[0m\u001b[0;34m\u001b[0m\u001b[0;34m\u001b[0m\u001b[0m\n",
            "\u001b[0;32m<ipython-input-2-5a9dfd941b08>\u001b[0m in \u001b[0;36m_fib\u001b[0;34m(n, smallFibs, offset, start)\u001b[0m\n\u001b[1;32m     20\u001b[0m         \u001b[0;32mif\u001b[0m \u001b[0mn\u001b[0m \u001b[0;34m%\u001b[0m \u001b[0;36m2\u001b[0m \u001b[0;34m==\u001b[0m \u001b[0;36m0\u001b[0m\u001b[0;34m:\u001b[0m\u001b[0;34m\u001b[0m\u001b[0;34m\u001b[0m\u001b[0m\n\u001b[1;32m     21\u001b[0m             \u001b[0mhalf\u001b[0m \u001b[0;34m=\u001b[0m \u001b[0mn\u001b[0m \u001b[0;34m//\u001b[0m \u001b[0;36m2\u001b[0m\u001b[0;34m\u001b[0m\u001b[0;34m\u001b[0m\u001b[0m\n\u001b[0;32m---> 22\u001b[0;31m             \u001b[0mfibn\u001b[0m \u001b[0;34m=\u001b[0m \u001b[0m_fib\u001b[0m\u001b[0;34m(\u001b[0m\u001b[0mhalf\u001b[0m\u001b[0;34m,\u001b[0m \u001b[0msmallFibs\u001b[0m\u001b[0;34m,\u001b[0m \u001b[0moffset\u001b[0m\u001b[0;34m,\u001b[0m \u001b[0mstart\u001b[0m\u001b[0;34m=\u001b[0m\u001b[0mstart\u001b[0m\u001b[0;34m)\u001b[0m\u001b[0;34m\u001b[0m\u001b[0;34m\u001b[0m\u001b[0m\n\u001b[0m\u001b[1;32m     23\u001b[0m             \u001b[0;32mreturn\u001b[0m \u001b[0;34m(\u001b[0m\u001b[0;36m2\u001b[0m \u001b[0;34m*\u001b[0m \u001b[0m_fib\u001b[0m\u001b[0;34m(\u001b[0m\u001b[0mhalf\u001b[0m \u001b[0;34m-\u001b[0m \u001b[0;36m1\u001b[0m\u001b[0;34m,\u001b[0m \u001b[0msmallFibs\u001b[0m\u001b[0;34m,\u001b[0m \u001b[0moffset\u001b[0m\u001b[0;34m,\u001b[0m \u001b[0mstart\u001b[0m\u001b[0;34m=\u001b[0m\u001b[0mstart\u001b[0m\u001b[0;34m)\u001b[0m \u001b[0;34m+\u001b[0m \u001b[0mfibn\u001b[0m\u001b[0;34m)\u001b[0m \u001b[0;34m*\u001b[0m \u001b[0mfibn\u001b[0m\u001b[0;34m\u001b[0m\u001b[0;34m\u001b[0m\u001b[0m\n\u001b[1;32m     24\u001b[0m         \u001b[0;32melse\u001b[0m\u001b[0;34m:\u001b[0m\u001b[0;34m\u001b[0m\u001b[0;34m\u001b[0m\u001b[0m\n",
            "\u001b[0;32m<ipython-input-2-5a9dfd941b08>\u001b[0m in \u001b[0;36m_fib\u001b[0;34m(n, smallFibs, offset, start)\u001b[0m\n\u001b[1;32m     20\u001b[0m         \u001b[0;32mif\u001b[0m \u001b[0mn\u001b[0m \u001b[0;34m%\u001b[0m \u001b[0;36m2\u001b[0m \u001b[0;34m==\u001b[0m \u001b[0;36m0\u001b[0m\u001b[0;34m:\u001b[0m\u001b[0;34m\u001b[0m\u001b[0;34m\u001b[0m\u001b[0m\n\u001b[1;32m     21\u001b[0m             \u001b[0mhalf\u001b[0m \u001b[0;34m=\u001b[0m \u001b[0mn\u001b[0m \u001b[0;34m//\u001b[0m \u001b[0;36m2\u001b[0m\u001b[0;34m\u001b[0m\u001b[0;34m\u001b[0m\u001b[0m\n\u001b[0;32m---> 22\u001b[0;31m             \u001b[0mfibn\u001b[0m \u001b[0;34m=\u001b[0m \u001b[0m_fib\u001b[0m\u001b[0;34m(\u001b[0m\u001b[0mhalf\u001b[0m\u001b[0;34m,\u001b[0m \u001b[0msmallFibs\u001b[0m\u001b[0;34m,\u001b[0m \u001b[0moffset\u001b[0m\u001b[0;34m,\u001b[0m \u001b[0mstart\u001b[0m\u001b[0;34m=\u001b[0m\u001b[0mstart\u001b[0m\u001b[0;34m)\u001b[0m\u001b[0;34m\u001b[0m\u001b[0;34m\u001b[0m\u001b[0m\n\u001b[0m\u001b[1;32m     23\u001b[0m             \u001b[0;32mreturn\u001b[0m \u001b[0;34m(\u001b[0m\u001b[0;36m2\u001b[0m \u001b[0;34m*\u001b[0m \u001b[0m_fib\u001b[0m\u001b[0;34m(\u001b[0m\u001b[0mhalf\u001b[0m \u001b[0;34m-\u001b[0m \u001b[0;36m1\u001b[0m\u001b[0;34m,\u001b[0m \u001b[0msmallFibs\u001b[0m\u001b[0;34m,\u001b[0m \u001b[0moffset\u001b[0m\u001b[0;34m,\u001b[0m \u001b[0mstart\u001b[0m\u001b[0;34m=\u001b[0m\u001b[0mstart\u001b[0m\u001b[0;34m)\u001b[0m \u001b[0;34m+\u001b[0m \u001b[0mfibn\u001b[0m\u001b[0;34m)\u001b[0m \u001b[0;34m*\u001b[0m \u001b[0mfibn\u001b[0m\u001b[0;34m\u001b[0m\u001b[0;34m\u001b[0m\u001b[0m\n\u001b[1;32m     24\u001b[0m         \u001b[0;32melse\u001b[0m\u001b[0;34m:\u001b[0m\u001b[0;34m\u001b[0m\u001b[0;34m\u001b[0m\u001b[0m\n",
            "\u001b[0;32m<ipython-input-2-5a9dfd941b08>\u001b[0m in \u001b[0;36m_fib\u001b[0;34m(n, smallFibs, offset, start)\u001b[0m\n\u001b[1;32m     20\u001b[0m         \u001b[0;32mif\u001b[0m \u001b[0mn\u001b[0m \u001b[0;34m%\u001b[0m \u001b[0;36m2\u001b[0m \u001b[0;34m==\u001b[0m \u001b[0;36m0\u001b[0m\u001b[0;34m:\u001b[0m\u001b[0;34m\u001b[0m\u001b[0;34m\u001b[0m\u001b[0m\n\u001b[1;32m     21\u001b[0m             \u001b[0mhalf\u001b[0m \u001b[0;34m=\u001b[0m \u001b[0mn\u001b[0m \u001b[0;34m//\u001b[0m \u001b[0;36m2\u001b[0m\u001b[0;34m\u001b[0m\u001b[0;34m\u001b[0m\u001b[0m\n\u001b[0;32m---> 22\u001b[0;31m             \u001b[0mfibn\u001b[0m \u001b[0;34m=\u001b[0m \u001b[0m_fib\u001b[0m\u001b[0;34m(\u001b[0m\u001b[0mhalf\u001b[0m\u001b[0;34m,\u001b[0m \u001b[0msmallFibs\u001b[0m\u001b[0;34m,\u001b[0m \u001b[0moffset\u001b[0m\u001b[0;34m,\u001b[0m \u001b[0mstart\u001b[0m\u001b[0;34m=\u001b[0m\u001b[0mstart\u001b[0m\u001b[0;34m)\u001b[0m\u001b[0;34m\u001b[0m\u001b[0;34m\u001b[0m\u001b[0m\n\u001b[0m\u001b[1;32m     23\u001b[0m             \u001b[0;32mreturn\u001b[0m \u001b[0;34m(\u001b[0m\u001b[0;36m2\u001b[0m \u001b[0;34m*\u001b[0m \u001b[0m_fib\u001b[0m\u001b[0;34m(\u001b[0m\u001b[0mhalf\u001b[0m \u001b[0;34m-\u001b[0m \u001b[0;36m1\u001b[0m\u001b[0;34m,\u001b[0m \u001b[0msmallFibs\u001b[0m\u001b[0;34m,\u001b[0m \u001b[0moffset\u001b[0m\u001b[0;34m,\u001b[0m \u001b[0mstart\u001b[0m\u001b[0;34m=\u001b[0m\u001b[0mstart\u001b[0m\u001b[0;34m)\u001b[0m \u001b[0;34m+\u001b[0m \u001b[0mfibn\u001b[0m\u001b[0;34m)\u001b[0m \u001b[0;34m*\u001b[0m \u001b[0mfibn\u001b[0m\u001b[0;34m\u001b[0m\u001b[0;34m\u001b[0m\u001b[0m\n\u001b[1;32m     24\u001b[0m         \u001b[0;32melse\u001b[0m\u001b[0;34m:\u001b[0m\u001b[0;34m\u001b[0m\u001b[0;34m\u001b[0m\u001b[0m\n",
            "\u001b[0;32m<ipython-input-2-5a9dfd941b08>\u001b[0m in \u001b[0;36m_fib\u001b[0;34m(n, smallFibs, offset, start)\u001b[0m\n\u001b[1;32m     20\u001b[0m         \u001b[0;32mif\u001b[0m \u001b[0mn\u001b[0m \u001b[0;34m%\u001b[0m \u001b[0;36m2\u001b[0m \u001b[0;34m==\u001b[0m \u001b[0;36m0\u001b[0m\u001b[0;34m:\u001b[0m\u001b[0;34m\u001b[0m\u001b[0;34m\u001b[0m\u001b[0m\n\u001b[1;32m     21\u001b[0m             \u001b[0mhalf\u001b[0m \u001b[0;34m=\u001b[0m \u001b[0mn\u001b[0m \u001b[0;34m//\u001b[0m \u001b[0;36m2\u001b[0m\u001b[0;34m\u001b[0m\u001b[0;34m\u001b[0m\u001b[0m\n\u001b[0;32m---> 22\u001b[0;31m             \u001b[0mfibn\u001b[0m \u001b[0;34m=\u001b[0m \u001b[0m_fib\u001b[0m\u001b[0;34m(\u001b[0m\u001b[0mhalf\u001b[0m\u001b[0;34m,\u001b[0m \u001b[0msmallFibs\u001b[0m\u001b[0;34m,\u001b[0m \u001b[0moffset\u001b[0m\u001b[0;34m,\u001b[0m \u001b[0mstart\u001b[0m\u001b[0;34m=\u001b[0m\u001b[0mstart\u001b[0m\u001b[0;34m)\u001b[0m\u001b[0;34m\u001b[0m\u001b[0;34m\u001b[0m\u001b[0m\n\u001b[0m\u001b[1;32m     23\u001b[0m             \u001b[0;32mreturn\u001b[0m \u001b[0;34m(\u001b[0m\u001b[0;36m2\u001b[0m \u001b[0;34m*\u001b[0m \u001b[0m_fib\u001b[0m\u001b[0;34m(\u001b[0m\u001b[0mhalf\u001b[0m \u001b[0;34m-\u001b[0m \u001b[0;36m1\u001b[0m\u001b[0;34m,\u001b[0m \u001b[0msmallFibs\u001b[0m\u001b[0;34m,\u001b[0m \u001b[0moffset\u001b[0m\u001b[0;34m,\u001b[0m \u001b[0mstart\u001b[0m\u001b[0;34m=\u001b[0m\u001b[0mstart\u001b[0m\u001b[0;34m)\u001b[0m \u001b[0;34m+\u001b[0m \u001b[0mfibn\u001b[0m\u001b[0;34m)\u001b[0m \u001b[0;34m*\u001b[0m \u001b[0mfibn\u001b[0m\u001b[0;34m\u001b[0m\u001b[0;34m\u001b[0m\u001b[0m\n\u001b[1;32m     24\u001b[0m         \u001b[0;32melse\u001b[0m\u001b[0;34m:\u001b[0m\u001b[0;34m\u001b[0m\u001b[0;34m\u001b[0m\u001b[0m\n",
            "\u001b[0;32m<ipython-input-2-5a9dfd941b08>\u001b[0m in \u001b[0;36m_fib\u001b[0;34m(n, smallFibs, offset, start)\u001b[0m\n\u001b[1;32m     21\u001b[0m             \u001b[0mhalf\u001b[0m \u001b[0;34m=\u001b[0m \u001b[0mn\u001b[0m \u001b[0;34m//\u001b[0m \u001b[0;36m2\u001b[0m\u001b[0;34m\u001b[0m\u001b[0;34m\u001b[0m\u001b[0m\n\u001b[1;32m     22\u001b[0m             \u001b[0mfibn\u001b[0m \u001b[0;34m=\u001b[0m \u001b[0m_fib\u001b[0m\u001b[0;34m(\u001b[0m\u001b[0mhalf\u001b[0m\u001b[0;34m,\u001b[0m \u001b[0msmallFibs\u001b[0m\u001b[0;34m,\u001b[0m \u001b[0moffset\u001b[0m\u001b[0;34m,\u001b[0m \u001b[0mstart\u001b[0m\u001b[0;34m=\u001b[0m\u001b[0mstart\u001b[0m\u001b[0;34m)\u001b[0m\u001b[0;34m\u001b[0m\u001b[0;34m\u001b[0m\u001b[0m\n\u001b[0;32m---> 23\u001b[0;31m             \u001b[0;32mreturn\u001b[0m \u001b[0;34m(\u001b[0m\u001b[0;36m2\u001b[0m \u001b[0;34m*\u001b[0m \u001b[0m_fib\u001b[0m\u001b[0;34m(\u001b[0m\u001b[0mhalf\u001b[0m \u001b[0;34m-\u001b[0m \u001b[0;36m1\u001b[0m\u001b[0;34m,\u001b[0m \u001b[0msmallFibs\u001b[0m\u001b[0;34m,\u001b[0m \u001b[0moffset\u001b[0m\u001b[0;34m,\u001b[0m \u001b[0mstart\u001b[0m\u001b[0;34m=\u001b[0m\u001b[0mstart\u001b[0m\u001b[0;34m)\u001b[0m \u001b[0;34m+\u001b[0m \u001b[0mfibn\u001b[0m\u001b[0;34m)\u001b[0m \u001b[0;34m*\u001b[0m \u001b[0mfibn\u001b[0m\u001b[0;34m\u001b[0m\u001b[0;34m\u001b[0m\u001b[0m\n\u001b[0m\u001b[1;32m     24\u001b[0m         \u001b[0;32melse\u001b[0m\u001b[0;34m:\u001b[0m\u001b[0;34m\u001b[0m\u001b[0;34m\u001b[0m\u001b[0m\n\u001b[1;32m     25\u001b[0m             \u001b[0mhalf\u001b[0m \u001b[0;34m=\u001b[0m \u001b[0;34m(\u001b[0m\u001b[0mn\u001b[0m \u001b[0;34m+\u001b[0m \u001b[0;36m1\u001b[0m\u001b[0;34m)\u001b[0m \u001b[0;34m//\u001b[0m \u001b[0;36m2\u001b[0m\u001b[0;34m\u001b[0m\u001b[0;34m\u001b[0m\u001b[0m\n",
            "\u001b[0;31mKeyboardInterrupt\u001b[0m: "
          ]
        }
      ]
    },
    {
      "cell_type": "code",
      "source": [
        "import numpy as np\n",
        "\n",
        "def multiplicar_matrices(A, B, modulo=None):\n",
        "    \"\"\"Multiplica dos matrices 2x2.\"\"\"\n",
        "    C = np.zeros((2, 2), dtype=object) # Usamos dtype=object para manejar números grandes\n",
        "    for i in range(2):\n",
        "        for j in range(2):\n",
        "            for k in range(2):\n",
        "                C[i][j] += A[i][k] * B[k][j]\n",
        "                if modulo is not None:\n",
        "                    C[i][j] %= modulo\n",
        "    return C\n",
        "\n",
        "def potencia_matriz(A, n, modulo=None):\n",
        "    \"\"\"Calcula la potencia n de una matriz 2x2 usando exponenciación binaria.\"\"\"\n",
        "    if n == 0:\n",
        "        return np.array([[1, 0], [0, 1]], dtype=object) # Matriz identidad\n",
        "    elif n == 1:\n",
        "        return A\n",
        "    elif n % 2 == 0:\n",
        "        half_pow = potencia_matriz(A, n // 2, modulo)\n",
        "        return multiplicar_matrices(half_pow, half_pow, modulo)\n",
        "    else:\n",
        "        half_pow = potencia_matriz(A, (n - 1) // 2, modulo)\n",
        "        temp = multiplicar_matrices(half_pow, half_pow, modulo)\n",
        "        return multiplicar_matrices(temp, A, modulo)\n",
        "\n",
        "def fibonacci_exponenciacion_matricial(n):\n",
        "    \"\"\"Calcula el n-ésimo número de Fibonacci usando exponenciación matricial.\"\"\"\n",
        "    if n < 0:\n",
        "        return \"El número de Fibonacci no está definido para números negativos\"\n",
        "    elif n == 0:\n",
        "        return 0\n",
        "    elif n == 1:\n",
        "        return 1\n",
        "    else:\n",
        "        # Matriz base para la relación de Fibonacci\n",
        "        matriz_base = np.array([[1, 1], [1, 0]], dtype=object)\n",
        "        # Elevamos la matriz base a la potencia n-1\n",
        "        resultado_matriz = potencia_matriz(matriz_base, n - 1)\n",
        "        # El n-ésimo número de Fibonacci es el elemento en la posición [0][0] de la matriz resultante\n",
        "        return resultado_matriz[0][0]\n",
        "\n",
        "# Para calcular el número de Fibonacci en la posición 10^12:\n",
        "n_objetivo = 1000000000000\n",
        "resultado_fib = fibonacci_exponenciacion_matricial(n_objetivo)\n",
        "print(f\"El número de Fibonacci en la posición {n_objetivo} es: {resultado_fib}\")\n",
        "\n",
        "# Puedes probar con un número más pequeño para verificar\n",
        "n_pequeño = 100\n",
        "resultado_fib_pequeño = fibonacci_exponenciacion_matricial(n_pequeño)\n",
        "print(f\"El número de Fibonacci en la posición {n_pequeño} es: {resultado_fib_pequeño}\")"
      ],
      "metadata": {
        "colab": {
          "base_uri": "https://localhost:8080/",
          "height": 356
        },
        "id": "49PKY0eNLMES",
        "outputId": "e11e11db-7ad0-43ae-fe09-34d8ea1e66bd"
      },
      "execution_count": 6,
      "outputs": [
        {
          "output_type": "error",
          "ename": "KeyboardInterrupt",
          "evalue": "",
          "traceback": [
            "\u001b[0;31m---------------------------------------------------------------------------\u001b[0m",
            "\u001b[0;31mKeyboardInterrupt\u001b[0m                         Traceback (most recent call last)",
            "\u001b[0;32m<ipython-input-6-dddf2c78e748>\u001b[0m in \u001b[0;36m<cell line: 0>\u001b[0;34m()\u001b[0m\n\u001b[1;32m     44\u001b[0m \u001b[0;31m# Para calcular el número de Fibonacci en la posición 10^12:\u001b[0m\u001b[0;34m\u001b[0m\u001b[0;34m\u001b[0m\u001b[0m\n\u001b[1;32m     45\u001b[0m \u001b[0mn_objetivo\u001b[0m \u001b[0;34m=\u001b[0m \u001b[0;36m1000000000000\u001b[0m\u001b[0;34m\u001b[0m\u001b[0;34m\u001b[0m\u001b[0m\n\u001b[0;32m---> 46\u001b[0;31m \u001b[0mresultado_fib\u001b[0m \u001b[0;34m=\u001b[0m \u001b[0mfibonacci_exponenciacion_matricial\u001b[0m\u001b[0;34m(\u001b[0m\u001b[0mn_objetivo\u001b[0m\u001b[0;34m)\u001b[0m\u001b[0;34m\u001b[0m\u001b[0;34m\u001b[0m\u001b[0m\n\u001b[0m\u001b[1;32m     47\u001b[0m \u001b[0mprint\u001b[0m\u001b[0;34m(\u001b[0m\u001b[0;34mf\"El número de Fibonacci en la posición {n_objetivo} es: {resultado_fib}\"\u001b[0m\u001b[0;34m)\u001b[0m\u001b[0;34m\u001b[0m\u001b[0;34m\u001b[0m\u001b[0m\n\u001b[1;32m     48\u001b[0m \u001b[0;34m\u001b[0m\u001b[0m\n",
            "\u001b[0;32m<ipython-input-6-dddf2c78e748>\u001b[0m in \u001b[0;36mfibonacci_exponenciacion_matricial\u001b[0;34m(n)\u001b[0m\n\u001b[1;32m     38\u001b[0m         \u001b[0mmatriz_base\u001b[0m \u001b[0;34m=\u001b[0m \u001b[0mnp\u001b[0m\u001b[0;34m.\u001b[0m\u001b[0marray\u001b[0m\u001b[0;34m(\u001b[0m\u001b[0;34m[\u001b[0m\u001b[0;34m[\u001b[0m\u001b[0;36m1\u001b[0m\u001b[0;34m,\u001b[0m \u001b[0;36m1\u001b[0m\u001b[0;34m]\u001b[0m\u001b[0;34m,\u001b[0m \u001b[0;34m[\u001b[0m\u001b[0;36m1\u001b[0m\u001b[0;34m,\u001b[0m \u001b[0;36m0\u001b[0m\u001b[0;34m]\u001b[0m\u001b[0;34m]\u001b[0m\u001b[0;34m,\u001b[0m \u001b[0mdtype\u001b[0m\u001b[0;34m=\u001b[0m\u001b[0mobject\u001b[0m\u001b[0;34m)\u001b[0m\u001b[0;34m\u001b[0m\u001b[0;34m\u001b[0m\u001b[0m\n\u001b[1;32m     39\u001b[0m         \u001b[0;31m# Elevamos la matriz base a la potencia n-1\u001b[0m\u001b[0;34m\u001b[0m\u001b[0;34m\u001b[0m\u001b[0m\n\u001b[0;32m---> 40\u001b[0;31m         \u001b[0mresultado_matriz\u001b[0m \u001b[0;34m=\u001b[0m \u001b[0mpotencia_matriz\u001b[0m\u001b[0;34m(\u001b[0m\u001b[0mmatriz_base\u001b[0m\u001b[0;34m,\u001b[0m \u001b[0mn\u001b[0m \u001b[0;34m-\u001b[0m \u001b[0;36m1\u001b[0m\u001b[0;34m)\u001b[0m\u001b[0;34m\u001b[0m\u001b[0;34m\u001b[0m\u001b[0m\n\u001b[0m\u001b[1;32m     41\u001b[0m         \u001b[0;31m# El n-ésimo número de Fibonacci es el elemento en la posición [0][0] de la matriz resultante\u001b[0m\u001b[0;34m\u001b[0m\u001b[0;34m\u001b[0m\u001b[0m\n\u001b[1;32m     42\u001b[0m         \u001b[0;32mreturn\u001b[0m \u001b[0mresultado_matriz\u001b[0m\u001b[0;34m[\u001b[0m\u001b[0;36m0\u001b[0m\u001b[0;34m]\u001b[0m\u001b[0;34m[\u001b[0m\u001b[0;36m0\u001b[0m\u001b[0;34m]\u001b[0m\u001b[0;34m\u001b[0m\u001b[0;34m\u001b[0m\u001b[0m\n",
            "\u001b[0;32m<ipython-input-6-dddf2c78e748>\u001b[0m in \u001b[0;36mpotencia_matriz\u001b[0;34m(A, n, modulo)\u001b[0m\n\u001b[1;32m     22\u001b[0m         \u001b[0;32mreturn\u001b[0m \u001b[0mmultiplicar_matrices\u001b[0m\u001b[0;34m(\u001b[0m\u001b[0mhalf_pow\u001b[0m\u001b[0;34m,\u001b[0m \u001b[0mhalf_pow\u001b[0m\u001b[0;34m,\u001b[0m \u001b[0mmodulo\u001b[0m\u001b[0;34m)\u001b[0m\u001b[0;34m\u001b[0m\u001b[0;34m\u001b[0m\u001b[0m\n\u001b[1;32m     23\u001b[0m     \u001b[0;32melse\u001b[0m\u001b[0;34m:\u001b[0m\u001b[0;34m\u001b[0m\u001b[0;34m\u001b[0m\u001b[0m\n\u001b[0;32m---> 24\u001b[0;31m         \u001b[0mhalf_pow\u001b[0m \u001b[0;34m=\u001b[0m \u001b[0mpotencia_matriz\u001b[0m\u001b[0;34m(\u001b[0m\u001b[0mA\u001b[0m\u001b[0;34m,\u001b[0m \u001b[0;34m(\u001b[0m\u001b[0mn\u001b[0m \u001b[0;34m-\u001b[0m \u001b[0;36m1\u001b[0m\u001b[0;34m)\u001b[0m \u001b[0;34m//\u001b[0m \u001b[0;36m2\u001b[0m\u001b[0;34m,\u001b[0m \u001b[0mmodulo\u001b[0m\u001b[0;34m)\u001b[0m\u001b[0;34m\u001b[0m\u001b[0;34m\u001b[0m\u001b[0m\n\u001b[0m\u001b[1;32m     25\u001b[0m         \u001b[0mtemp\u001b[0m \u001b[0;34m=\u001b[0m \u001b[0mmultiplicar_matrices\u001b[0m\u001b[0;34m(\u001b[0m\u001b[0mhalf_pow\u001b[0m\u001b[0;34m,\u001b[0m \u001b[0mhalf_pow\u001b[0m\u001b[0;34m,\u001b[0m \u001b[0mmodulo\u001b[0m\u001b[0;34m)\u001b[0m\u001b[0;34m\u001b[0m\u001b[0;34m\u001b[0m\u001b[0m\n\u001b[1;32m     26\u001b[0m         \u001b[0;32mreturn\u001b[0m \u001b[0mmultiplicar_matrices\u001b[0m\u001b[0;34m(\u001b[0m\u001b[0mtemp\u001b[0m\u001b[0;34m,\u001b[0m \u001b[0mA\u001b[0m\u001b[0;34m,\u001b[0m \u001b[0mmodulo\u001b[0m\u001b[0;34m)\u001b[0m\u001b[0;34m\u001b[0m\u001b[0;34m\u001b[0m\u001b[0m\n",
            "\u001b[0;32m<ipython-input-6-dddf2c78e748>\u001b[0m in \u001b[0;36mpotencia_matriz\u001b[0;34m(A, n, modulo)\u001b[0m\n\u001b[1;32m     22\u001b[0m         \u001b[0;32mreturn\u001b[0m \u001b[0mmultiplicar_matrices\u001b[0m\u001b[0;34m(\u001b[0m\u001b[0mhalf_pow\u001b[0m\u001b[0;34m,\u001b[0m \u001b[0mhalf_pow\u001b[0m\u001b[0;34m,\u001b[0m \u001b[0mmodulo\u001b[0m\u001b[0;34m)\u001b[0m\u001b[0;34m\u001b[0m\u001b[0;34m\u001b[0m\u001b[0m\n\u001b[1;32m     23\u001b[0m     \u001b[0;32melse\u001b[0m\u001b[0;34m:\u001b[0m\u001b[0;34m\u001b[0m\u001b[0;34m\u001b[0m\u001b[0m\n\u001b[0;32m---> 24\u001b[0;31m         \u001b[0mhalf_pow\u001b[0m \u001b[0;34m=\u001b[0m \u001b[0mpotencia_matriz\u001b[0m\u001b[0;34m(\u001b[0m\u001b[0mA\u001b[0m\u001b[0;34m,\u001b[0m \u001b[0;34m(\u001b[0m\u001b[0mn\u001b[0m \u001b[0;34m-\u001b[0m \u001b[0;36m1\u001b[0m\u001b[0;34m)\u001b[0m \u001b[0;34m//\u001b[0m \u001b[0;36m2\u001b[0m\u001b[0;34m,\u001b[0m \u001b[0mmodulo\u001b[0m\u001b[0;34m)\u001b[0m\u001b[0;34m\u001b[0m\u001b[0;34m\u001b[0m\u001b[0m\n\u001b[0m\u001b[1;32m     25\u001b[0m         \u001b[0mtemp\u001b[0m \u001b[0;34m=\u001b[0m \u001b[0mmultiplicar_matrices\u001b[0m\u001b[0;34m(\u001b[0m\u001b[0mhalf_pow\u001b[0m\u001b[0;34m,\u001b[0m \u001b[0mhalf_pow\u001b[0m\u001b[0;34m,\u001b[0m \u001b[0mmodulo\u001b[0m\u001b[0;34m)\u001b[0m\u001b[0;34m\u001b[0m\u001b[0;34m\u001b[0m\u001b[0m\n\u001b[1;32m     26\u001b[0m         \u001b[0;32mreturn\u001b[0m \u001b[0mmultiplicar_matrices\u001b[0m\u001b[0;34m(\u001b[0m\u001b[0mtemp\u001b[0m\u001b[0;34m,\u001b[0m \u001b[0mA\u001b[0m\u001b[0;34m,\u001b[0m \u001b[0mmodulo\u001b[0m\u001b[0;34m)\u001b[0m\u001b[0;34m\u001b[0m\u001b[0;34m\u001b[0m\u001b[0m\n",
            "\u001b[0;32m<ipython-input-6-dddf2c78e748>\u001b[0m in \u001b[0;36mpotencia_matriz\u001b[0;34m(A, n, modulo)\u001b[0m\n\u001b[1;32m     22\u001b[0m         \u001b[0;32mreturn\u001b[0m \u001b[0mmultiplicar_matrices\u001b[0m\u001b[0;34m(\u001b[0m\u001b[0mhalf_pow\u001b[0m\u001b[0;34m,\u001b[0m \u001b[0mhalf_pow\u001b[0m\u001b[0;34m,\u001b[0m \u001b[0mmodulo\u001b[0m\u001b[0;34m)\u001b[0m\u001b[0;34m\u001b[0m\u001b[0;34m\u001b[0m\u001b[0m\n\u001b[1;32m     23\u001b[0m     \u001b[0;32melse\u001b[0m\u001b[0;34m:\u001b[0m\u001b[0;34m\u001b[0m\u001b[0;34m\u001b[0m\u001b[0m\n\u001b[0;32m---> 24\u001b[0;31m         \u001b[0mhalf_pow\u001b[0m \u001b[0;34m=\u001b[0m \u001b[0mpotencia_matriz\u001b[0m\u001b[0;34m(\u001b[0m\u001b[0mA\u001b[0m\u001b[0;34m,\u001b[0m \u001b[0;34m(\u001b[0m\u001b[0mn\u001b[0m \u001b[0;34m-\u001b[0m \u001b[0;36m1\u001b[0m\u001b[0;34m)\u001b[0m \u001b[0;34m//\u001b[0m \u001b[0;36m2\u001b[0m\u001b[0;34m,\u001b[0m \u001b[0mmodulo\u001b[0m\u001b[0;34m)\u001b[0m\u001b[0;34m\u001b[0m\u001b[0;34m\u001b[0m\u001b[0m\n\u001b[0m\u001b[1;32m     25\u001b[0m         \u001b[0mtemp\u001b[0m \u001b[0;34m=\u001b[0m \u001b[0mmultiplicar_matrices\u001b[0m\u001b[0;34m(\u001b[0m\u001b[0mhalf_pow\u001b[0m\u001b[0;34m,\u001b[0m \u001b[0mhalf_pow\u001b[0m\u001b[0;34m,\u001b[0m \u001b[0mmodulo\u001b[0m\u001b[0;34m)\u001b[0m\u001b[0;34m\u001b[0m\u001b[0;34m\u001b[0m\u001b[0m\n\u001b[1;32m     26\u001b[0m         \u001b[0;32mreturn\u001b[0m \u001b[0mmultiplicar_matrices\u001b[0m\u001b[0;34m(\u001b[0m\u001b[0mtemp\u001b[0m\u001b[0;34m,\u001b[0m \u001b[0mA\u001b[0m\u001b[0;34m,\u001b[0m \u001b[0mmodulo\u001b[0m\u001b[0;34m)\u001b[0m\u001b[0;34m\u001b[0m\u001b[0;34m\u001b[0m\u001b[0m\n",
            "\u001b[0;32m<ipython-input-6-dddf2c78e748>\u001b[0m in \u001b[0;36mpotencia_matriz\u001b[0;34m(A, n, modulo)\u001b[0m\n\u001b[1;32m     22\u001b[0m         \u001b[0;32mreturn\u001b[0m \u001b[0mmultiplicar_matrices\u001b[0m\u001b[0;34m(\u001b[0m\u001b[0mhalf_pow\u001b[0m\u001b[0;34m,\u001b[0m \u001b[0mhalf_pow\u001b[0m\u001b[0;34m,\u001b[0m \u001b[0mmodulo\u001b[0m\u001b[0;34m)\u001b[0m\u001b[0;34m\u001b[0m\u001b[0;34m\u001b[0m\u001b[0m\n\u001b[1;32m     23\u001b[0m     \u001b[0;32melse\u001b[0m\u001b[0;34m:\u001b[0m\u001b[0;34m\u001b[0m\u001b[0;34m\u001b[0m\u001b[0m\n\u001b[0;32m---> 24\u001b[0;31m         \u001b[0mhalf_pow\u001b[0m \u001b[0;34m=\u001b[0m \u001b[0mpotencia_matriz\u001b[0m\u001b[0;34m(\u001b[0m\u001b[0mA\u001b[0m\u001b[0;34m,\u001b[0m \u001b[0;34m(\u001b[0m\u001b[0mn\u001b[0m \u001b[0;34m-\u001b[0m \u001b[0;36m1\u001b[0m\u001b[0;34m)\u001b[0m \u001b[0;34m//\u001b[0m \u001b[0;36m2\u001b[0m\u001b[0;34m,\u001b[0m \u001b[0mmodulo\u001b[0m\u001b[0;34m)\u001b[0m\u001b[0;34m\u001b[0m\u001b[0;34m\u001b[0m\u001b[0m\n\u001b[0m\u001b[1;32m     25\u001b[0m         \u001b[0mtemp\u001b[0m \u001b[0;34m=\u001b[0m \u001b[0mmultiplicar_matrices\u001b[0m\u001b[0;34m(\u001b[0m\u001b[0mhalf_pow\u001b[0m\u001b[0;34m,\u001b[0m \u001b[0mhalf_pow\u001b[0m\u001b[0;34m,\u001b[0m \u001b[0mmodulo\u001b[0m\u001b[0;34m)\u001b[0m\u001b[0;34m\u001b[0m\u001b[0;34m\u001b[0m\u001b[0m\n\u001b[1;32m     26\u001b[0m         \u001b[0;32mreturn\u001b[0m \u001b[0mmultiplicar_matrices\u001b[0m\u001b[0;34m(\u001b[0m\u001b[0mtemp\u001b[0m\u001b[0;34m,\u001b[0m \u001b[0mA\u001b[0m\u001b[0;34m,\u001b[0m \u001b[0mmodulo\u001b[0m\u001b[0;34m)\u001b[0m\u001b[0;34m\u001b[0m\u001b[0;34m\u001b[0m\u001b[0m\n",
            "\u001b[0;32m<ipython-input-6-dddf2c78e748>\u001b[0m in \u001b[0;36mpotencia_matriz\u001b[0;34m(A, n, modulo)\u001b[0m\n\u001b[1;32m     22\u001b[0m         \u001b[0;32mreturn\u001b[0m \u001b[0mmultiplicar_matrices\u001b[0m\u001b[0;34m(\u001b[0m\u001b[0mhalf_pow\u001b[0m\u001b[0;34m,\u001b[0m \u001b[0mhalf_pow\u001b[0m\u001b[0;34m,\u001b[0m \u001b[0mmodulo\u001b[0m\u001b[0;34m)\u001b[0m\u001b[0;34m\u001b[0m\u001b[0;34m\u001b[0m\u001b[0m\n\u001b[1;32m     23\u001b[0m     \u001b[0;32melse\u001b[0m\u001b[0;34m:\u001b[0m\u001b[0;34m\u001b[0m\u001b[0;34m\u001b[0m\u001b[0m\n\u001b[0;32m---> 24\u001b[0;31m         \u001b[0mhalf_pow\u001b[0m \u001b[0;34m=\u001b[0m \u001b[0mpotencia_matriz\u001b[0m\u001b[0;34m(\u001b[0m\u001b[0mA\u001b[0m\u001b[0;34m,\u001b[0m \u001b[0;34m(\u001b[0m\u001b[0mn\u001b[0m \u001b[0;34m-\u001b[0m \u001b[0;36m1\u001b[0m\u001b[0;34m)\u001b[0m \u001b[0;34m//\u001b[0m \u001b[0;36m2\u001b[0m\u001b[0;34m,\u001b[0m \u001b[0mmodulo\u001b[0m\u001b[0;34m)\u001b[0m\u001b[0;34m\u001b[0m\u001b[0;34m\u001b[0m\u001b[0m\n\u001b[0m\u001b[1;32m     25\u001b[0m         \u001b[0mtemp\u001b[0m \u001b[0;34m=\u001b[0m \u001b[0mmultiplicar_matrices\u001b[0m\u001b[0;34m(\u001b[0m\u001b[0mhalf_pow\u001b[0m\u001b[0;34m,\u001b[0m \u001b[0mhalf_pow\u001b[0m\u001b[0;34m,\u001b[0m \u001b[0mmodulo\u001b[0m\u001b[0;34m)\u001b[0m\u001b[0;34m\u001b[0m\u001b[0;34m\u001b[0m\u001b[0m\n\u001b[1;32m     26\u001b[0m         \u001b[0;32mreturn\u001b[0m \u001b[0mmultiplicar_matrices\u001b[0m\u001b[0;34m(\u001b[0m\u001b[0mtemp\u001b[0m\u001b[0;34m,\u001b[0m \u001b[0mA\u001b[0m\u001b[0;34m,\u001b[0m \u001b[0mmodulo\u001b[0m\u001b[0;34m)\u001b[0m\u001b[0;34m\u001b[0m\u001b[0;34m\u001b[0m\u001b[0m\n",
            "\u001b[0;32m<ipython-input-6-dddf2c78e748>\u001b[0m in \u001b[0;36mpotencia_matriz\u001b[0;34m(A, n, modulo)\u001b[0m\n\u001b[1;32m     22\u001b[0m         \u001b[0;32mreturn\u001b[0m \u001b[0mmultiplicar_matrices\u001b[0m\u001b[0;34m(\u001b[0m\u001b[0mhalf_pow\u001b[0m\u001b[0;34m,\u001b[0m \u001b[0mhalf_pow\u001b[0m\u001b[0;34m,\u001b[0m \u001b[0mmodulo\u001b[0m\u001b[0;34m)\u001b[0m\u001b[0;34m\u001b[0m\u001b[0;34m\u001b[0m\u001b[0m\n\u001b[1;32m     23\u001b[0m     \u001b[0;32melse\u001b[0m\u001b[0;34m:\u001b[0m\u001b[0;34m\u001b[0m\u001b[0;34m\u001b[0m\u001b[0m\n\u001b[0;32m---> 24\u001b[0;31m         \u001b[0mhalf_pow\u001b[0m \u001b[0;34m=\u001b[0m \u001b[0mpotencia_matriz\u001b[0m\u001b[0;34m(\u001b[0m\u001b[0mA\u001b[0m\u001b[0;34m,\u001b[0m \u001b[0;34m(\u001b[0m\u001b[0mn\u001b[0m \u001b[0;34m-\u001b[0m \u001b[0;36m1\u001b[0m\u001b[0;34m)\u001b[0m \u001b[0;34m//\u001b[0m \u001b[0;36m2\u001b[0m\u001b[0;34m,\u001b[0m \u001b[0mmodulo\u001b[0m\u001b[0;34m)\u001b[0m\u001b[0;34m\u001b[0m\u001b[0;34m\u001b[0m\u001b[0m\n\u001b[0m\u001b[1;32m     25\u001b[0m         \u001b[0mtemp\u001b[0m \u001b[0;34m=\u001b[0m \u001b[0mmultiplicar_matrices\u001b[0m\u001b[0;34m(\u001b[0m\u001b[0mhalf_pow\u001b[0m\u001b[0;34m,\u001b[0m \u001b[0mhalf_pow\u001b[0m\u001b[0;34m,\u001b[0m \u001b[0mmodulo\u001b[0m\u001b[0;34m)\u001b[0m\u001b[0;34m\u001b[0m\u001b[0;34m\u001b[0m\u001b[0m\n\u001b[1;32m     26\u001b[0m         \u001b[0;32mreturn\u001b[0m \u001b[0mmultiplicar_matrices\u001b[0m\u001b[0;34m(\u001b[0m\u001b[0mtemp\u001b[0m\u001b[0;34m,\u001b[0m \u001b[0mA\u001b[0m\u001b[0;34m,\u001b[0m \u001b[0mmodulo\u001b[0m\u001b[0;34m)\u001b[0m\u001b[0;34m\u001b[0m\u001b[0;34m\u001b[0m\u001b[0m\n",
            "\u001b[0;32m<ipython-input-6-dddf2c78e748>\u001b[0m in \u001b[0;36mpotencia_matriz\u001b[0;34m(A, n, modulo)\u001b[0m\n\u001b[1;32m     22\u001b[0m         \u001b[0;32mreturn\u001b[0m \u001b[0mmultiplicar_matrices\u001b[0m\u001b[0;34m(\u001b[0m\u001b[0mhalf_pow\u001b[0m\u001b[0;34m,\u001b[0m \u001b[0mhalf_pow\u001b[0m\u001b[0;34m,\u001b[0m \u001b[0mmodulo\u001b[0m\u001b[0;34m)\u001b[0m\u001b[0;34m\u001b[0m\u001b[0;34m\u001b[0m\u001b[0m\n\u001b[1;32m     23\u001b[0m     \u001b[0;32melse\u001b[0m\u001b[0;34m:\u001b[0m\u001b[0;34m\u001b[0m\u001b[0;34m\u001b[0m\u001b[0m\n\u001b[0;32m---> 24\u001b[0;31m         \u001b[0mhalf_pow\u001b[0m \u001b[0;34m=\u001b[0m \u001b[0mpotencia_matriz\u001b[0m\u001b[0;34m(\u001b[0m\u001b[0mA\u001b[0m\u001b[0;34m,\u001b[0m \u001b[0;34m(\u001b[0m\u001b[0mn\u001b[0m \u001b[0;34m-\u001b[0m \u001b[0;36m1\u001b[0m\u001b[0;34m)\u001b[0m \u001b[0;34m//\u001b[0m \u001b[0;36m2\u001b[0m\u001b[0;34m,\u001b[0m \u001b[0mmodulo\u001b[0m\u001b[0;34m)\u001b[0m\u001b[0;34m\u001b[0m\u001b[0;34m\u001b[0m\u001b[0m\n\u001b[0m\u001b[1;32m     25\u001b[0m         \u001b[0mtemp\u001b[0m \u001b[0;34m=\u001b[0m \u001b[0mmultiplicar_matrices\u001b[0m\u001b[0;34m(\u001b[0m\u001b[0mhalf_pow\u001b[0m\u001b[0;34m,\u001b[0m \u001b[0mhalf_pow\u001b[0m\u001b[0;34m,\u001b[0m \u001b[0mmodulo\u001b[0m\u001b[0;34m)\u001b[0m\u001b[0;34m\u001b[0m\u001b[0;34m\u001b[0m\u001b[0m\n\u001b[1;32m     26\u001b[0m         \u001b[0;32mreturn\u001b[0m \u001b[0mmultiplicar_matrices\u001b[0m\u001b[0;34m(\u001b[0m\u001b[0mtemp\u001b[0m\u001b[0;34m,\u001b[0m \u001b[0mA\u001b[0m\u001b[0;34m,\u001b[0m \u001b[0mmodulo\u001b[0m\u001b[0;34m)\u001b[0m\u001b[0;34m\u001b[0m\u001b[0;34m\u001b[0m\u001b[0m\n",
            "\u001b[0;32m<ipython-input-6-dddf2c78e748>\u001b[0m in \u001b[0;36mpotencia_matriz\u001b[0;34m(A, n, modulo)\u001b[0m\n\u001b[1;32m     22\u001b[0m         \u001b[0;32mreturn\u001b[0m \u001b[0mmultiplicar_matrices\u001b[0m\u001b[0;34m(\u001b[0m\u001b[0mhalf_pow\u001b[0m\u001b[0;34m,\u001b[0m \u001b[0mhalf_pow\u001b[0m\u001b[0;34m,\u001b[0m \u001b[0mmodulo\u001b[0m\u001b[0;34m)\u001b[0m\u001b[0;34m\u001b[0m\u001b[0;34m\u001b[0m\u001b[0m\n\u001b[1;32m     23\u001b[0m     \u001b[0;32melse\u001b[0m\u001b[0;34m:\u001b[0m\u001b[0;34m\u001b[0m\u001b[0;34m\u001b[0m\u001b[0m\n\u001b[0;32m---> 24\u001b[0;31m         \u001b[0mhalf_pow\u001b[0m \u001b[0;34m=\u001b[0m \u001b[0mpotencia_matriz\u001b[0m\u001b[0;34m(\u001b[0m\u001b[0mA\u001b[0m\u001b[0;34m,\u001b[0m \u001b[0;34m(\u001b[0m\u001b[0mn\u001b[0m \u001b[0;34m-\u001b[0m \u001b[0;36m1\u001b[0m\u001b[0;34m)\u001b[0m \u001b[0;34m//\u001b[0m \u001b[0;36m2\u001b[0m\u001b[0;34m,\u001b[0m \u001b[0mmodulo\u001b[0m\u001b[0;34m)\u001b[0m\u001b[0;34m\u001b[0m\u001b[0;34m\u001b[0m\u001b[0m\n\u001b[0m\u001b[1;32m     25\u001b[0m         \u001b[0mtemp\u001b[0m \u001b[0;34m=\u001b[0m \u001b[0mmultiplicar_matrices\u001b[0m\u001b[0;34m(\u001b[0m\u001b[0mhalf_pow\u001b[0m\u001b[0;34m,\u001b[0m \u001b[0mhalf_pow\u001b[0m\u001b[0;34m,\u001b[0m \u001b[0mmodulo\u001b[0m\u001b[0;34m)\u001b[0m\u001b[0;34m\u001b[0m\u001b[0;34m\u001b[0m\u001b[0m\n\u001b[1;32m     26\u001b[0m         \u001b[0;32mreturn\u001b[0m \u001b[0mmultiplicar_matrices\u001b[0m\u001b[0;34m(\u001b[0m\u001b[0mtemp\u001b[0m\u001b[0;34m,\u001b[0m \u001b[0mA\u001b[0m\u001b[0;34m,\u001b[0m \u001b[0mmodulo\u001b[0m\u001b[0;34m)\u001b[0m\u001b[0;34m\u001b[0m\u001b[0;34m\u001b[0m\u001b[0m\n",
            "\u001b[0;32m<ipython-input-6-dddf2c78e748>\u001b[0m in \u001b[0;36mpotencia_matriz\u001b[0;34m(A, n, modulo)\u001b[0m\n\u001b[1;32m     22\u001b[0m         \u001b[0;32mreturn\u001b[0m \u001b[0mmultiplicar_matrices\u001b[0m\u001b[0;34m(\u001b[0m\u001b[0mhalf_pow\u001b[0m\u001b[0;34m,\u001b[0m \u001b[0mhalf_pow\u001b[0m\u001b[0;34m,\u001b[0m \u001b[0mmodulo\u001b[0m\u001b[0;34m)\u001b[0m\u001b[0;34m\u001b[0m\u001b[0;34m\u001b[0m\u001b[0m\n\u001b[1;32m     23\u001b[0m     \u001b[0;32melse\u001b[0m\u001b[0;34m:\u001b[0m\u001b[0;34m\u001b[0m\u001b[0;34m\u001b[0m\u001b[0m\n\u001b[0;32m---> 24\u001b[0;31m         \u001b[0mhalf_pow\u001b[0m \u001b[0;34m=\u001b[0m \u001b[0mpotencia_matriz\u001b[0m\u001b[0;34m(\u001b[0m\u001b[0mA\u001b[0m\u001b[0;34m,\u001b[0m \u001b[0;34m(\u001b[0m\u001b[0mn\u001b[0m \u001b[0;34m-\u001b[0m \u001b[0;36m1\u001b[0m\u001b[0;34m)\u001b[0m \u001b[0;34m//\u001b[0m \u001b[0;36m2\u001b[0m\u001b[0;34m,\u001b[0m \u001b[0mmodulo\u001b[0m\u001b[0;34m)\u001b[0m\u001b[0;34m\u001b[0m\u001b[0;34m\u001b[0m\u001b[0m\n\u001b[0m\u001b[1;32m     25\u001b[0m         \u001b[0mtemp\u001b[0m \u001b[0;34m=\u001b[0m \u001b[0mmultiplicar_matrices\u001b[0m\u001b[0;34m(\u001b[0m\u001b[0mhalf_pow\u001b[0m\u001b[0;34m,\u001b[0m \u001b[0mhalf_pow\u001b[0m\u001b[0;34m,\u001b[0m \u001b[0mmodulo\u001b[0m\u001b[0;34m)\u001b[0m\u001b[0;34m\u001b[0m\u001b[0;34m\u001b[0m\u001b[0m\n\u001b[1;32m     26\u001b[0m         \u001b[0;32mreturn\u001b[0m \u001b[0mmultiplicar_matrices\u001b[0m\u001b[0;34m(\u001b[0m\u001b[0mtemp\u001b[0m\u001b[0;34m,\u001b[0m \u001b[0mA\u001b[0m\u001b[0;34m,\u001b[0m \u001b[0mmodulo\u001b[0m\u001b[0;34m)\u001b[0m\u001b[0;34m\u001b[0m\u001b[0;34m\u001b[0m\u001b[0m\n",
            "\u001b[0;32m<ipython-input-6-dddf2c78e748>\u001b[0m in \u001b[0;36mpotencia_matriz\u001b[0;34m(A, n, modulo)\u001b[0m\n\u001b[1;32m     22\u001b[0m         \u001b[0;32mreturn\u001b[0m \u001b[0mmultiplicar_matrices\u001b[0m\u001b[0;34m(\u001b[0m\u001b[0mhalf_pow\u001b[0m\u001b[0;34m,\u001b[0m \u001b[0mhalf_pow\u001b[0m\u001b[0;34m,\u001b[0m \u001b[0mmodulo\u001b[0m\u001b[0;34m)\u001b[0m\u001b[0;34m\u001b[0m\u001b[0;34m\u001b[0m\u001b[0m\n\u001b[1;32m     23\u001b[0m     \u001b[0;32melse\u001b[0m\u001b[0;34m:\u001b[0m\u001b[0;34m\u001b[0m\u001b[0;34m\u001b[0m\u001b[0m\n\u001b[0;32m---> 24\u001b[0;31m         \u001b[0mhalf_pow\u001b[0m \u001b[0;34m=\u001b[0m \u001b[0mpotencia_matriz\u001b[0m\u001b[0;34m(\u001b[0m\u001b[0mA\u001b[0m\u001b[0;34m,\u001b[0m \u001b[0;34m(\u001b[0m\u001b[0mn\u001b[0m \u001b[0;34m-\u001b[0m \u001b[0;36m1\u001b[0m\u001b[0;34m)\u001b[0m \u001b[0;34m//\u001b[0m \u001b[0;36m2\u001b[0m\u001b[0;34m,\u001b[0m \u001b[0mmodulo\u001b[0m\u001b[0;34m)\u001b[0m\u001b[0;34m\u001b[0m\u001b[0;34m\u001b[0m\u001b[0m\n\u001b[0m\u001b[1;32m     25\u001b[0m         \u001b[0mtemp\u001b[0m \u001b[0;34m=\u001b[0m \u001b[0mmultiplicar_matrices\u001b[0m\u001b[0;34m(\u001b[0m\u001b[0mhalf_pow\u001b[0m\u001b[0;34m,\u001b[0m \u001b[0mhalf_pow\u001b[0m\u001b[0;34m,\u001b[0m \u001b[0mmodulo\u001b[0m\u001b[0;34m)\u001b[0m\u001b[0;34m\u001b[0m\u001b[0;34m\u001b[0m\u001b[0m\n\u001b[1;32m     26\u001b[0m         \u001b[0;32mreturn\u001b[0m \u001b[0mmultiplicar_matrices\u001b[0m\u001b[0;34m(\u001b[0m\u001b[0mtemp\u001b[0m\u001b[0;34m,\u001b[0m \u001b[0mA\u001b[0m\u001b[0;34m,\u001b[0m \u001b[0mmodulo\u001b[0m\u001b[0;34m)\u001b[0m\u001b[0;34m\u001b[0m\u001b[0;34m\u001b[0m\u001b[0m\n",
            "\u001b[0;32m<ipython-input-6-dddf2c78e748>\u001b[0m in \u001b[0;36mpotencia_matriz\u001b[0;34m(A, n, modulo)\u001b[0m\n\u001b[1;32m     22\u001b[0m         \u001b[0;32mreturn\u001b[0m \u001b[0mmultiplicar_matrices\u001b[0m\u001b[0;34m(\u001b[0m\u001b[0mhalf_pow\u001b[0m\u001b[0;34m,\u001b[0m \u001b[0mhalf_pow\u001b[0m\u001b[0;34m,\u001b[0m \u001b[0mmodulo\u001b[0m\u001b[0;34m)\u001b[0m\u001b[0;34m\u001b[0m\u001b[0;34m\u001b[0m\u001b[0m\n\u001b[1;32m     23\u001b[0m     \u001b[0;32melse\u001b[0m\u001b[0;34m:\u001b[0m\u001b[0;34m\u001b[0m\u001b[0;34m\u001b[0m\u001b[0m\n\u001b[0;32m---> 24\u001b[0;31m         \u001b[0mhalf_pow\u001b[0m \u001b[0;34m=\u001b[0m \u001b[0mpotencia_matriz\u001b[0m\u001b[0;34m(\u001b[0m\u001b[0mA\u001b[0m\u001b[0;34m,\u001b[0m \u001b[0;34m(\u001b[0m\u001b[0mn\u001b[0m \u001b[0;34m-\u001b[0m \u001b[0;36m1\u001b[0m\u001b[0;34m)\u001b[0m \u001b[0;34m//\u001b[0m \u001b[0;36m2\u001b[0m\u001b[0;34m,\u001b[0m \u001b[0mmodulo\u001b[0m\u001b[0;34m)\u001b[0m\u001b[0;34m\u001b[0m\u001b[0;34m\u001b[0m\u001b[0m\n\u001b[0m\u001b[1;32m     25\u001b[0m         \u001b[0mtemp\u001b[0m \u001b[0;34m=\u001b[0m \u001b[0mmultiplicar_matrices\u001b[0m\u001b[0;34m(\u001b[0m\u001b[0mhalf_pow\u001b[0m\u001b[0;34m,\u001b[0m \u001b[0mhalf_pow\u001b[0m\u001b[0;34m,\u001b[0m \u001b[0mmodulo\u001b[0m\u001b[0;34m)\u001b[0m\u001b[0;34m\u001b[0m\u001b[0;34m\u001b[0m\u001b[0m\n\u001b[1;32m     26\u001b[0m         \u001b[0;32mreturn\u001b[0m \u001b[0mmultiplicar_matrices\u001b[0m\u001b[0;34m(\u001b[0m\u001b[0mtemp\u001b[0m\u001b[0;34m,\u001b[0m \u001b[0mA\u001b[0m\u001b[0;34m,\u001b[0m \u001b[0mmodulo\u001b[0m\u001b[0;34m)\u001b[0m\u001b[0;34m\u001b[0m\u001b[0;34m\u001b[0m\u001b[0m\n",
            "\u001b[0;32m<ipython-input-6-dddf2c78e748>\u001b[0m in \u001b[0;36mpotencia_matriz\u001b[0;34m(A, n, modulo)\u001b[0m\n\u001b[1;32m     22\u001b[0m         \u001b[0;32mreturn\u001b[0m \u001b[0mmultiplicar_matrices\u001b[0m\u001b[0;34m(\u001b[0m\u001b[0mhalf_pow\u001b[0m\u001b[0;34m,\u001b[0m \u001b[0mhalf_pow\u001b[0m\u001b[0;34m,\u001b[0m \u001b[0mmodulo\u001b[0m\u001b[0;34m)\u001b[0m\u001b[0;34m\u001b[0m\u001b[0;34m\u001b[0m\u001b[0m\n\u001b[1;32m     23\u001b[0m     \u001b[0;32melse\u001b[0m\u001b[0;34m:\u001b[0m\u001b[0;34m\u001b[0m\u001b[0;34m\u001b[0m\u001b[0m\n\u001b[0;32m---> 24\u001b[0;31m         \u001b[0mhalf_pow\u001b[0m \u001b[0;34m=\u001b[0m \u001b[0mpotencia_matriz\u001b[0m\u001b[0;34m(\u001b[0m\u001b[0mA\u001b[0m\u001b[0;34m,\u001b[0m \u001b[0;34m(\u001b[0m\u001b[0mn\u001b[0m \u001b[0;34m-\u001b[0m \u001b[0;36m1\u001b[0m\u001b[0;34m)\u001b[0m \u001b[0;34m//\u001b[0m \u001b[0;36m2\u001b[0m\u001b[0;34m,\u001b[0m \u001b[0mmodulo\u001b[0m\u001b[0;34m)\u001b[0m\u001b[0;34m\u001b[0m\u001b[0;34m\u001b[0m\u001b[0m\n\u001b[0m\u001b[1;32m     25\u001b[0m         \u001b[0mtemp\u001b[0m \u001b[0;34m=\u001b[0m \u001b[0mmultiplicar_matrices\u001b[0m\u001b[0;34m(\u001b[0m\u001b[0mhalf_pow\u001b[0m\u001b[0;34m,\u001b[0m \u001b[0mhalf_pow\u001b[0m\u001b[0;34m,\u001b[0m \u001b[0mmodulo\u001b[0m\u001b[0;34m)\u001b[0m\u001b[0;34m\u001b[0m\u001b[0;34m\u001b[0m\u001b[0m\n\u001b[1;32m     26\u001b[0m         \u001b[0;32mreturn\u001b[0m \u001b[0mmultiplicar_matrices\u001b[0m\u001b[0;34m(\u001b[0m\u001b[0mtemp\u001b[0m\u001b[0;34m,\u001b[0m \u001b[0mA\u001b[0m\u001b[0;34m,\u001b[0m \u001b[0mmodulo\u001b[0m\u001b[0;34m)\u001b[0m\u001b[0;34m\u001b[0m\u001b[0;34m\u001b[0m\u001b[0m\n",
            "\u001b[0;32m<ipython-input-6-dddf2c78e748>\u001b[0m in \u001b[0;36mpotencia_matriz\u001b[0;34m(A, n, modulo)\u001b[0m\n\u001b[1;32m     19\u001b[0m         \u001b[0;32mreturn\u001b[0m \u001b[0mA\u001b[0m\u001b[0;34m\u001b[0m\u001b[0;34m\u001b[0m\u001b[0m\n\u001b[1;32m     20\u001b[0m     \u001b[0;32melif\u001b[0m \u001b[0mn\u001b[0m \u001b[0;34m%\u001b[0m \u001b[0;36m2\u001b[0m \u001b[0;34m==\u001b[0m \u001b[0;36m0\u001b[0m\u001b[0;34m:\u001b[0m\u001b[0;34m\u001b[0m\u001b[0;34m\u001b[0m\u001b[0m\n\u001b[0;32m---> 21\u001b[0;31m         \u001b[0mhalf_pow\u001b[0m \u001b[0;34m=\u001b[0m \u001b[0mpotencia_matriz\u001b[0m\u001b[0;34m(\u001b[0m\u001b[0mA\u001b[0m\u001b[0;34m,\u001b[0m \u001b[0mn\u001b[0m \u001b[0;34m//\u001b[0m \u001b[0;36m2\u001b[0m\u001b[0;34m,\u001b[0m \u001b[0mmodulo\u001b[0m\u001b[0;34m)\u001b[0m\u001b[0;34m\u001b[0m\u001b[0;34m\u001b[0m\u001b[0m\n\u001b[0m\u001b[1;32m     22\u001b[0m         \u001b[0;32mreturn\u001b[0m \u001b[0mmultiplicar_matrices\u001b[0m\u001b[0;34m(\u001b[0m\u001b[0mhalf_pow\u001b[0m\u001b[0;34m,\u001b[0m \u001b[0mhalf_pow\u001b[0m\u001b[0;34m,\u001b[0m \u001b[0mmodulo\u001b[0m\u001b[0;34m)\u001b[0m\u001b[0;34m\u001b[0m\u001b[0;34m\u001b[0m\u001b[0m\n\u001b[1;32m     23\u001b[0m     \u001b[0;32melse\u001b[0m\u001b[0;34m:\u001b[0m\u001b[0;34m\u001b[0m\u001b[0;34m\u001b[0m\u001b[0m\n",
            "\u001b[0;32m<ipython-input-6-dddf2c78e748>\u001b[0m in \u001b[0;36mpotencia_matriz\u001b[0;34m(A, n, modulo)\u001b[0m\n\u001b[1;32m     19\u001b[0m         \u001b[0;32mreturn\u001b[0m \u001b[0mA\u001b[0m\u001b[0;34m\u001b[0m\u001b[0;34m\u001b[0m\u001b[0m\n\u001b[1;32m     20\u001b[0m     \u001b[0;32melif\u001b[0m \u001b[0mn\u001b[0m \u001b[0;34m%\u001b[0m \u001b[0;36m2\u001b[0m \u001b[0;34m==\u001b[0m \u001b[0;36m0\u001b[0m\u001b[0;34m:\u001b[0m\u001b[0;34m\u001b[0m\u001b[0;34m\u001b[0m\u001b[0m\n\u001b[0;32m---> 21\u001b[0;31m         \u001b[0mhalf_pow\u001b[0m \u001b[0;34m=\u001b[0m \u001b[0mpotencia_matriz\u001b[0m\u001b[0;34m(\u001b[0m\u001b[0mA\u001b[0m\u001b[0;34m,\u001b[0m \u001b[0mn\u001b[0m \u001b[0;34m//\u001b[0m \u001b[0;36m2\u001b[0m\u001b[0;34m,\u001b[0m \u001b[0mmodulo\u001b[0m\u001b[0;34m)\u001b[0m\u001b[0;34m\u001b[0m\u001b[0;34m\u001b[0m\u001b[0m\n\u001b[0m\u001b[1;32m     22\u001b[0m         \u001b[0;32mreturn\u001b[0m \u001b[0mmultiplicar_matrices\u001b[0m\u001b[0;34m(\u001b[0m\u001b[0mhalf_pow\u001b[0m\u001b[0;34m,\u001b[0m \u001b[0mhalf_pow\u001b[0m\u001b[0;34m,\u001b[0m \u001b[0mmodulo\u001b[0m\u001b[0;34m)\u001b[0m\u001b[0;34m\u001b[0m\u001b[0;34m\u001b[0m\u001b[0m\n\u001b[1;32m     23\u001b[0m     \u001b[0;32melse\u001b[0m\u001b[0;34m:\u001b[0m\u001b[0;34m\u001b[0m\u001b[0;34m\u001b[0m\u001b[0m\n",
            "\u001b[0;32m<ipython-input-6-dddf2c78e748>\u001b[0m in \u001b[0;36mpotencia_matriz\u001b[0;34m(A, n, modulo)\u001b[0m\n\u001b[1;32m     19\u001b[0m         \u001b[0;32mreturn\u001b[0m \u001b[0mA\u001b[0m\u001b[0;34m\u001b[0m\u001b[0;34m\u001b[0m\u001b[0m\n\u001b[1;32m     20\u001b[0m     \u001b[0;32melif\u001b[0m \u001b[0mn\u001b[0m \u001b[0;34m%\u001b[0m \u001b[0;36m2\u001b[0m \u001b[0;34m==\u001b[0m \u001b[0;36m0\u001b[0m\u001b[0;34m:\u001b[0m\u001b[0;34m\u001b[0m\u001b[0;34m\u001b[0m\u001b[0m\n\u001b[0;32m---> 21\u001b[0;31m         \u001b[0mhalf_pow\u001b[0m \u001b[0;34m=\u001b[0m \u001b[0mpotencia_matriz\u001b[0m\u001b[0;34m(\u001b[0m\u001b[0mA\u001b[0m\u001b[0;34m,\u001b[0m \u001b[0mn\u001b[0m \u001b[0;34m//\u001b[0m \u001b[0;36m2\u001b[0m\u001b[0;34m,\u001b[0m \u001b[0mmodulo\u001b[0m\u001b[0;34m)\u001b[0m\u001b[0;34m\u001b[0m\u001b[0;34m\u001b[0m\u001b[0m\n\u001b[0m\u001b[1;32m     22\u001b[0m         \u001b[0;32mreturn\u001b[0m \u001b[0mmultiplicar_matrices\u001b[0m\u001b[0;34m(\u001b[0m\u001b[0mhalf_pow\u001b[0m\u001b[0;34m,\u001b[0m \u001b[0mhalf_pow\u001b[0m\u001b[0;34m,\u001b[0m \u001b[0mmodulo\u001b[0m\u001b[0;34m)\u001b[0m\u001b[0;34m\u001b[0m\u001b[0;34m\u001b[0m\u001b[0m\n\u001b[1;32m     23\u001b[0m     \u001b[0;32melse\u001b[0m\u001b[0;34m:\u001b[0m\u001b[0;34m\u001b[0m\u001b[0;34m\u001b[0m\u001b[0m\n",
            "\u001b[0;32m<ipython-input-6-dddf2c78e748>\u001b[0m in \u001b[0;36mpotencia_matriz\u001b[0;34m(A, n, modulo)\u001b[0m\n\u001b[1;32m     19\u001b[0m         \u001b[0;32mreturn\u001b[0m \u001b[0mA\u001b[0m\u001b[0;34m\u001b[0m\u001b[0;34m\u001b[0m\u001b[0m\n\u001b[1;32m     20\u001b[0m     \u001b[0;32melif\u001b[0m \u001b[0mn\u001b[0m \u001b[0;34m%\u001b[0m \u001b[0;36m2\u001b[0m \u001b[0;34m==\u001b[0m \u001b[0;36m0\u001b[0m\u001b[0;34m:\u001b[0m\u001b[0;34m\u001b[0m\u001b[0;34m\u001b[0m\u001b[0m\n\u001b[0;32m---> 21\u001b[0;31m         \u001b[0mhalf_pow\u001b[0m \u001b[0;34m=\u001b[0m \u001b[0mpotencia_matriz\u001b[0m\u001b[0;34m(\u001b[0m\u001b[0mA\u001b[0m\u001b[0;34m,\u001b[0m \u001b[0mn\u001b[0m \u001b[0;34m//\u001b[0m \u001b[0;36m2\u001b[0m\u001b[0;34m,\u001b[0m \u001b[0mmodulo\u001b[0m\u001b[0;34m)\u001b[0m\u001b[0;34m\u001b[0m\u001b[0;34m\u001b[0m\u001b[0m\n\u001b[0m\u001b[1;32m     22\u001b[0m         \u001b[0;32mreturn\u001b[0m \u001b[0mmultiplicar_matrices\u001b[0m\u001b[0;34m(\u001b[0m\u001b[0mhalf_pow\u001b[0m\u001b[0;34m,\u001b[0m \u001b[0mhalf_pow\u001b[0m\u001b[0;34m,\u001b[0m \u001b[0mmodulo\u001b[0m\u001b[0;34m)\u001b[0m\u001b[0;34m\u001b[0m\u001b[0;34m\u001b[0m\u001b[0m\n\u001b[1;32m     23\u001b[0m     \u001b[0;32melse\u001b[0m\u001b[0;34m:\u001b[0m\u001b[0;34m\u001b[0m\u001b[0;34m\u001b[0m\u001b[0m\n",
            "\u001b[0;32m<ipython-input-6-dddf2c78e748>\u001b[0m in \u001b[0;36mpotencia_matriz\u001b[0;34m(A, n, modulo)\u001b[0m\n\u001b[1;32m     22\u001b[0m         \u001b[0;32mreturn\u001b[0m \u001b[0mmultiplicar_matrices\u001b[0m\u001b[0;34m(\u001b[0m\u001b[0mhalf_pow\u001b[0m\u001b[0;34m,\u001b[0m \u001b[0mhalf_pow\u001b[0m\u001b[0;34m,\u001b[0m \u001b[0mmodulo\u001b[0m\u001b[0;34m)\u001b[0m\u001b[0;34m\u001b[0m\u001b[0;34m\u001b[0m\u001b[0m\n\u001b[1;32m     23\u001b[0m     \u001b[0;32melse\u001b[0m\u001b[0;34m:\u001b[0m\u001b[0;34m\u001b[0m\u001b[0;34m\u001b[0m\u001b[0m\n\u001b[0;32m---> 24\u001b[0;31m         \u001b[0mhalf_pow\u001b[0m \u001b[0;34m=\u001b[0m \u001b[0mpotencia_matriz\u001b[0m\u001b[0;34m(\u001b[0m\u001b[0mA\u001b[0m\u001b[0;34m,\u001b[0m \u001b[0;34m(\u001b[0m\u001b[0mn\u001b[0m \u001b[0;34m-\u001b[0m \u001b[0;36m1\u001b[0m\u001b[0;34m)\u001b[0m \u001b[0;34m//\u001b[0m \u001b[0;36m2\u001b[0m\u001b[0;34m,\u001b[0m \u001b[0mmodulo\u001b[0m\u001b[0;34m)\u001b[0m\u001b[0;34m\u001b[0m\u001b[0;34m\u001b[0m\u001b[0m\n\u001b[0m\u001b[1;32m     25\u001b[0m         \u001b[0mtemp\u001b[0m \u001b[0;34m=\u001b[0m \u001b[0mmultiplicar_matrices\u001b[0m\u001b[0;34m(\u001b[0m\u001b[0mhalf_pow\u001b[0m\u001b[0;34m,\u001b[0m \u001b[0mhalf_pow\u001b[0m\u001b[0;34m,\u001b[0m \u001b[0mmodulo\u001b[0m\u001b[0;34m)\u001b[0m\u001b[0;34m\u001b[0m\u001b[0;34m\u001b[0m\u001b[0m\n\u001b[1;32m     26\u001b[0m         \u001b[0;32mreturn\u001b[0m \u001b[0mmultiplicar_matrices\u001b[0m\u001b[0;34m(\u001b[0m\u001b[0mtemp\u001b[0m\u001b[0;34m,\u001b[0m \u001b[0mA\u001b[0m\u001b[0;34m,\u001b[0m \u001b[0mmodulo\u001b[0m\u001b[0;34m)\u001b[0m\u001b[0;34m\u001b[0m\u001b[0;34m\u001b[0m\u001b[0m\n",
            "\u001b[0;32m<ipython-input-6-dddf2c78e748>\u001b[0m in \u001b[0;36mpotencia_matriz\u001b[0;34m(A, n, modulo)\u001b[0m\n\u001b[1;32m     19\u001b[0m         \u001b[0;32mreturn\u001b[0m \u001b[0mA\u001b[0m\u001b[0;34m\u001b[0m\u001b[0;34m\u001b[0m\u001b[0m\n\u001b[1;32m     20\u001b[0m     \u001b[0;32melif\u001b[0m \u001b[0mn\u001b[0m \u001b[0;34m%\u001b[0m \u001b[0;36m2\u001b[0m \u001b[0;34m==\u001b[0m \u001b[0;36m0\u001b[0m\u001b[0;34m:\u001b[0m\u001b[0;34m\u001b[0m\u001b[0;34m\u001b[0m\u001b[0m\n\u001b[0;32m---> 21\u001b[0;31m         \u001b[0mhalf_pow\u001b[0m \u001b[0;34m=\u001b[0m \u001b[0mpotencia_matriz\u001b[0m\u001b[0;34m(\u001b[0m\u001b[0mA\u001b[0m\u001b[0;34m,\u001b[0m \u001b[0mn\u001b[0m \u001b[0;34m//\u001b[0m \u001b[0;36m2\u001b[0m\u001b[0;34m,\u001b[0m \u001b[0mmodulo\u001b[0m\u001b[0;34m)\u001b[0m\u001b[0;34m\u001b[0m\u001b[0;34m\u001b[0m\u001b[0m\n\u001b[0m\u001b[1;32m     22\u001b[0m         \u001b[0;32mreturn\u001b[0m \u001b[0mmultiplicar_matrices\u001b[0m\u001b[0;34m(\u001b[0m\u001b[0mhalf_pow\u001b[0m\u001b[0;34m,\u001b[0m \u001b[0mhalf_pow\u001b[0m\u001b[0;34m,\u001b[0m \u001b[0mmodulo\u001b[0m\u001b[0;34m)\u001b[0m\u001b[0;34m\u001b[0m\u001b[0;34m\u001b[0m\u001b[0m\n\u001b[1;32m     23\u001b[0m     \u001b[0;32melse\u001b[0m\u001b[0;34m:\u001b[0m\u001b[0;34m\u001b[0m\u001b[0;34m\u001b[0m\u001b[0m\n",
            "\u001b[0;32m<ipython-input-6-dddf2c78e748>\u001b[0m in \u001b[0;36mpotencia_matriz\u001b[0;34m(A, n, modulo)\u001b[0m\n\u001b[1;32m     23\u001b[0m     \u001b[0;32melse\u001b[0m\u001b[0;34m:\u001b[0m\u001b[0;34m\u001b[0m\u001b[0;34m\u001b[0m\u001b[0m\n\u001b[1;32m     24\u001b[0m         \u001b[0mhalf_pow\u001b[0m \u001b[0;34m=\u001b[0m \u001b[0mpotencia_matriz\u001b[0m\u001b[0;34m(\u001b[0m\u001b[0mA\u001b[0m\u001b[0;34m,\u001b[0m \u001b[0;34m(\u001b[0m\u001b[0mn\u001b[0m \u001b[0;34m-\u001b[0m \u001b[0;36m1\u001b[0m\u001b[0;34m)\u001b[0m \u001b[0;34m//\u001b[0m \u001b[0;36m2\u001b[0m\u001b[0;34m,\u001b[0m \u001b[0mmodulo\u001b[0m\u001b[0;34m)\u001b[0m\u001b[0;34m\u001b[0m\u001b[0;34m\u001b[0m\u001b[0m\n\u001b[0;32m---> 25\u001b[0;31m         \u001b[0mtemp\u001b[0m \u001b[0;34m=\u001b[0m \u001b[0mmultiplicar_matrices\u001b[0m\u001b[0;34m(\u001b[0m\u001b[0mhalf_pow\u001b[0m\u001b[0;34m,\u001b[0m \u001b[0mhalf_pow\u001b[0m\u001b[0;34m,\u001b[0m \u001b[0mmodulo\u001b[0m\u001b[0;34m)\u001b[0m\u001b[0;34m\u001b[0m\u001b[0;34m\u001b[0m\u001b[0m\n\u001b[0m\u001b[1;32m     26\u001b[0m         \u001b[0;32mreturn\u001b[0m \u001b[0mmultiplicar_matrices\u001b[0m\u001b[0;34m(\u001b[0m\u001b[0mtemp\u001b[0m\u001b[0;34m,\u001b[0m \u001b[0mA\u001b[0m\u001b[0;34m,\u001b[0m \u001b[0mmodulo\u001b[0m\u001b[0;34m)\u001b[0m\u001b[0;34m\u001b[0m\u001b[0;34m\u001b[0m\u001b[0m\n\u001b[1;32m     27\u001b[0m \u001b[0;34m\u001b[0m\u001b[0m\n",
            "\u001b[0;32m<ipython-input-6-dddf2c78e748>\u001b[0m in \u001b[0;36mmultiplicar_matrices\u001b[0;34m(A, B, modulo)\u001b[0m\n\u001b[1;32m      7\u001b[0m         \u001b[0;32mfor\u001b[0m \u001b[0mj\u001b[0m \u001b[0;32min\u001b[0m \u001b[0mrange\u001b[0m\u001b[0;34m(\u001b[0m\u001b[0;36m2\u001b[0m\u001b[0;34m)\u001b[0m\u001b[0;34m:\u001b[0m\u001b[0;34m\u001b[0m\u001b[0;34m\u001b[0m\u001b[0m\n\u001b[1;32m      8\u001b[0m             \u001b[0;32mfor\u001b[0m \u001b[0mk\u001b[0m \u001b[0;32min\u001b[0m \u001b[0mrange\u001b[0m\u001b[0;34m(\u001b[0m\u001b[0;36m2\u001b[0m\u001b[0;34m)\u001b[0m\u001b[0;34m:\u001b[0m\u001b[0;34m\u001b[0m\u001b[0;34m\u001b[0m\u001b[0m\n\u001b[0;32m----> 9\u001b[0;31m                 \u001b[0mC\u001b[0m\u001b[0;34m[\u001b[0m\u001b[0mi\u001b[0m\u001b[0;34m]\u001b[0m\u001b[0;34m[\u001b[0m\u001b[0mj\u001b[0m\u001b[0;34m]\u001b[0m \u001b[0;34m+=\u001b[0m \u001b[0mA\u001b[0m\u001b[0;34m[\u001b[0m\u001b[0mi\u001b[0m\u001b[0;34m]\u001b[0m\u001b[0;34m[\u001b[0m\u001b[0mk\u001b[0m\u001b[0;34m]\u001b[0m \u001b[0;34m*\u001b[0m \u001b[0mB\u001b[0m\u001b[0;34m[\u001b[0m\u001b[0mk\u001b[0m\u001b[0;34m]\u001b[0m\u001b[0;34m[\u001b[0m\u001b[0mj\u001b[0m\u001b[0;34m]\u001b[0m\u001b[0;34m\u001b[0m\u001b[0;34m\u001b[0m\u001b[0m\n\u001b[0m\u001b[1;32m     10\u001b[0m                 \u001b[0;32mif\u001b[0m \u001b[0mmodulo\u001b[0m \u001b[0;32mis\u001b[0m \u001b[0;32mnot\u001b[0m \u001b[0;32mNone\u001b[0m\u001b[0;34m:\u001b[0m\u001b[0;34m\u001b[0m\u001b[0;34m\u001b[0m\u001b[0m\n\u001b[1;32m     11\u001b[0m                     \u001b[0mC\u001b[0m\u001b[0;34m[\u001b[0m\u001b[0mi\u001b[0m\u001b[0;34m]\u001b[0m\u001b[0;34m[\u001b[0m\u001b[0mj\u001b[0m\u001b[0;34m]\u001b[0m \u001b[0;34m%=\u001b[0m \u001b[0mmodulo\u001b[0m\u001b[0;34m\u001b[0m\u001b[0;34m\u001b[0m\u001b[0m\n",
            "\u001b[0;31mKeyboardInterrupt\u001b[0m: "
          ]
        }
      ]
    },
    {
      "cell_type": "code",
      "source": [],
      "metadata": {
        "id": "ChhyRDhILQEO"
      },
      "execution_count": null,
      "outputs": []
    }
  ],
  "metadata": {
    "colab": {
      "provenance": [],
      "include_colab_link": true
    },
    "kernelspec": {
      "display_name": "Python 3",
      "name": "python3"
    },
    "language_info": {
      "name": "python"
    }
  },
  "nbformat": 4,
  "nbformat_minor": 0
}