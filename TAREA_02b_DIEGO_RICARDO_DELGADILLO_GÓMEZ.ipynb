{
  "nbformat": 4,
  "nbformat_minor": 0,
  "metadata": {
    "colab": {
      "provenance": [],
      "authorship_tag": "ABX9TyMYcPq74oVSYd5yJ/PVcK0+",
      "include_colab_link": true
    },
    "kernelspec": {
      "name": "python3",
      "display_name": "Python 3"
    },
    "language_info": {
      "name": "python"
    }
  },
  "cells": [
    {
      "cell_type": "markdown",
      "metadata": {
        "id": "view-in-github",
        "colab_type": "text"
      },
      "source": [
        "<a href=\"https://colab.research.google.com/github/Diego-Delgadillo/Diego-Delgadillo/blob/main/TAREA_02b_DIEGO_RICARDO_DELGADILLO_G%C3%93MEZ.ipynb\" target=\"_parent\"><img src=\"https://colab.research.google.com/assets/colab-badge.svg\" alt=\"Open In Colab\"/></a>"
      ]
    },
    {
      "cell_type": "markdown",
      "source": [
        "#TAREA_02b_DIEGO_RICARDO_DELGADILLO_GÓMEZ\n",
        "#**Gracias por sus clases profe, lo queremos :D**"
      ],
      "metadata": {
        "id": "oCPbKOM4TBce"
      }
    },
    {
      "cell_type": "markdown",
      "source": [
        "#Ejercicio 61\n",
        "##Generar un programa de Python que efectué el algoritmo de Chudnovsy para el cálculo rápido de las cifras de pi. Solicitar al usuario un número entero positivo mayor o igual a 1 de cifras a calcular."
      ],
      "metadata": {
        "id": "wzmxby1CTMZn"
      }
    },
    {
      "cell_type": "code",
      "execution_count": null,
      "metadata": {
        "colab": {
          "base_uri": "https://localhost:8080/"
        },
        "id": "nXKKQ4bwSUp_",
        "outputId": "8595239a-f826-48f6-f7c4-ec9d99e00f0c"
      },
      "outputs": [
        {
          "output_type": "stream",
          "name": "stdout",
          "text": [
            "\n",
            "\u001b[32mIngrese un número entero positivo -> \u001b[0m7\n",
            "\n",
            "\u001b[34mLa aproximación de π es -> \u001b[0m3.1415926535897936\n"
          ]
        }
      ],
      "source": [
        "import math\n",
        "\n",
        "#creamos una funcion para pedir n elementos\n",
        "def ingresoN():\n",
        "  while True:\n",
        "    try:\n",
        "      n = int(input(f\"\\n\\x1b[32mIngrese un número entero positivo -> \\x1b[0m\"))\n",
        "      if(n <= 0): print(f\"\\n\\x1b[31mIngrese una entrada válida!\\x1b[0m\"); continue\n",
        "      break\n",
        "\n",
        "    except ValueError:\n",
        "      print(f\"\\n\\x1b[31mIngrese una entrada válida!\\x1b[0m\")\n",
        "\n",
        "  return n\n",
        "\n",
        "#funcion para aproximacion al número 'pi'\n",
        "def chudnovsy(n):\n",
        "  #declaro variables\n",
        "  aprox = 0\n",
        "  sum = 0\n",
        "\n",
        "  #bucle para sumar\n",
        "  for i in range(n):\n",
        "    sum+=  ((-1)**i * (math.factorial(6*i)) * (13591409 + 545140134*i)) / ((math.factorial(3*i)) * (math.factorial(i)**3) * (640320**(3*i + 3/2)))\n",
        "\n",
        "  #finalmente calculo la aproximacion\n",
        "  aprox = sum*12\n",
        "  aprox = 1/aprox\n",
        "\n",
        "  print(f\"\\n\\x1b[34mLa aproximación de π es -> \\x1b[0m{aprox}\")\n",
        "\n",
        "#llamando a las funciones\n",
        "chudnovsy(ingresoN())"
      ]
    },
    {
      "cell_type": "markdown",
      "source": [
        "#Ejercicio 62\n",
        "##Generar un programa de Python que incluya funciones para restringir el ingreso de datos del usuario; las funciones restringirán el ingreso de números enteros, flotantes en un intervalo [a,b], cadenas de texto con solamente letras, números caracteres especiales o combinaciones de las mismas."
      ],
      "metadata": {
        "id": "AZ3fhfGdYyau"
      }
    },
    {
      "cell_type": "code",
      "source": [
        "#creamos funciones\n",
        "\n",
        "def enteros():\n",
        "  while True:\n",
        "    try:\n",
        "      a = int(input(f\"\\n\\x1b[32mIngrese un número entero -> \\x1b[0m\"))\n",
        "      break\n",
        "\n",
        "    except ValueError:\n",
        "      print(f\"\\n\\x1b[31mIngrese una entrada válida!\\x1b[0m\")\n",
        "\n",
        "  print(f\"\\n\\x1b[33mEntrada válida\\x1b[0m\")\n",
        "  return a\n",
        "\n",
        "#----------------------------------------------------------------------------\n",
        "def flotantes():\n",
        "  while True:\n",
        "    try:\n",
        "      a = float(input(f\"\\n\\x1b[32mIngrese un número decimal (a) -> \\x1b[0m\"))\n",
        "      if(a <= 0): print(f\"\\n\\x1b[31mIngrese una entrada válida!\\x1b[0m\"); continue\n",
        "      break\n",
        "\n",
        "    except ValueError:\n",
        "      print(f\"\\n\\x1b[31mIngrese una entrada válida!\\x1b[0m\")\n",
        "\n",
        "  print(f\"\\n\\x1b[33mEntrada válida\\x1b[0m\")\n",
        "\n",
        "  while True:\n",
        "    try:\n",
        "      b = float(input(f\"\\n\\x1b[32mIngrese un número decimal (b) -> \\x1b[0m\"))\n",
        "      if(b <= 0 or b < a): print(f\"\\n\\x1b[31mIngrese una entrada válida! (b mayor que a)\\x1b[0m\"); continue\n",
        "      break\n",
        "\n",
        "    except ValueError:\n",
        "      print(f\"\\n\\x1b[31mIngrese una entrada válida!\\x1b[0m\")\n",
        "\n",
        "  print(f\"\\n\\x1b[33mEntrada válida\\x1b[0m\")\n",
        "  return a,b\n",
        "\n",
        "#------------------------------------------------------------------------------\n",
        "def cadenas():\n",
        "  entrada = input(f\"\\n\\x1b[32mIngrese una cadena de texto -> \\x1b[0m\")\n",
        "\n",
        "  #detecta si solamente tiene letras\n",
        "  #entrada.match(r'\\b[]')\n",
        "\n",
        "  if(entrada.isalpha()):\n",
        "    print(f\"\\n\\x1b[33mEntrada válida\\x1b[0m\")\n",
        "    return entrada\n",
        "  else:\n",
        "    print(f\"\\n\\x1b[31mEntrada no válida!\\x1b[0m\")\n",
        "    return cadenas()\n",
        "\n",
        "\n",
        "  print(f\"\\n\\x1b[33mEntrada válida\\x1b[0m\")\n",
        "  return entrada\n",
        "\n",
        "#----------------------------------------------------------------------------------\n",
        "def numcaracter():\n",
        "  entrada = input(f\"\\n\\x1b[32mIngrese una cadena de texto con numero y/o caracteres especiales-> \\x1b[0m\")\n",
        "\n",
        "  #declaro lista con algunos caracteres especiales y numeros muehehe\n",
        "  especiales = [\"@\", \"_\", \"!\", \"#\", \"$\", \"%\", \"^\", \"&\", \"*\", \"(\", \")\", \"<\", \">\", \"?\", \"/\", \"\\\\\", \"|\", \"}\", \"{\", \"~\", \":\", \"0\", \"1\", \"2\", \"3\", \"4\", \"5\", \"6\", \"7\", \"8\", \"9\"]\n",
        "  lista = []\n",
        "\n",
        "  #convierto cada caracter en elemnto de una lista =D\n",
        "  for caracter in entrada:\n",
        "    lista+=[caracter]\n",
        "\n",
        "\n",
        "  print(lista)\n",
        "  #ahora buscamos si esta un caracter especial en lista\n",
        "  #bandera\n",
        "  valido = True\n",
        "\n",
        "  for caracter in lista:\n",
        "    if(caracter not in especiales):\n",
        "      print(f\"\\n\\x1b[31mEntrada no válida!\\x1b[0m\")\n",
        "      valido = False\n",
        "      break\n",
        "\n",
        "\n",
        "  if valido:\n",
        "    print(f\"\\n\\x1b[33mEntrada válida\\x1b[0m\")\n",
        "    return entrada\n",
        "  else:\n",
        "    return numcaracter()\n",
        "\n",
        "#------------------------------------------------------\n",
        "#llamamos a las funciones\n",
        "enteros()\n",
        "flotantes()\n",
        "cadenas()\n",
        "numcaracter()"
      ],
      "metadata": {
        "colab": {
          "base_uri": "https://localhost:8080/",
          "height": 695
        },
        "id": "ycTYd5WIWJxe",
        "outputId": "0f2e2f52-8627-47b7-b01e-be04e8980877"
      },
      "execution_count": null,
      "outputs": [
        {
          "output_type": "stream",
          "name": "stdout",
          "text": [
            "\n",
            "\u001b[32mIngrese un número entero -> \u001b[0m8.6\n",
            "\n",
            "\u001b[31mIngrese una entrada válida!\u001b[0m\n",
            "\n",
            "\u001b[32mIngrese un número entero -> \u001b[0m9\n",
            "\n",
            "\u001b[33mEntrada válida\u001b[0m\n",
            "\n",
            "\u001b[32mIngrese un número decimal (a) -> \u001b[0m5.6\n",
            "\n",
            "\u001b[33mEntrada válida\u001b[0m\n",
            "\n",
            "\u001b[32mIngrese un número decimal (b) -> \u001b[0m3.1\n",
            "\n",
            "\u001b[31mIngrese una entrada válida! (b mayor que a)\u001b[0m\n",
            "\n",
            "\u001b[32mIngrese un número decimal (b) -> \u001b[0m6.9\n",
            "\n",
            "\u001b[33mEntrada válida\u001b[0m\n",
            "\n",
            "\u001b[32mIngrese una cadena de texto -> \u001b[0mhola8)\n",
            "\n",
            "\u001b[31mEntrada no válida!\u001b[0m\n",
            "\n",
            "\u001b[32mIngrese una cadena de texto -> \u001b[0mholis\n",
            "\n",
            "\u001b[33mEntrada válida\u001b[0m\n",
            "\n",
            "\u001b[32mIngrese una cadena de texto con numero y/o caracteres especiales-> \u001b[0mjijia\n",
            "['j', 'i', 'j', 'i', 'a']\n",
            "\n",
            "\u001b[31mEntrada no válida!\u001b[0m\n",
            "\n",
            "\u001b[32mIngrese una cadena de texto con numero y/o caracteres especiales-> \u001b[0m0$1\n",
            "['0', '$', '1']\n",
            "\n",
            "\u001b[33mEntrada válida\u001b[0m\n"
          ]
        },
        {
          "output_type": "execute_result",
          "data": {
            "text/plain": [
              "'0$1'"
            ],
            "application/vnd.google.colaboratory.intrinsic+json": {
              "type": "string"
            }
          },
          "metadata": {},
          "execution_count": 20
        }
      ]
    },
    {
      "cell_type": "markdown",
      "source": [
        "#Ejercicio 63\n",
        "##Escribir un programa en lenguaje Python que permita codificar y decodificar una frase ingresada por el usuario mediante el método de cifrado Vigenère; el programa permitirá ingresar la frase y la palabra de cifrado mediante el teclado, mostrando la frase y preguntando si desea decodificar, si es así, el programa preguntará la palabra clave y si es correcta, el programa mostrará la frase original, en caso de no colocar la palabra correcta mostrará un mensaje de error"
      ],
      "metadata": {
        "id": "9__Wuz_7yCJ7"
      }
    },
    {
      "cell_type": "code",
      "source": [
        "abc = 'abcdefghijklmnopqrstuvwxyz'\n",
        "\n",
        "#Declaramos funciones para cifrar y descifrar\n",
        "#---------------------------------------------------------------------------\n",
        "def cifrar(cadena,clave):\n",
        "  textoCifrar = ''\n",
        "\n",
        "  i = 0\n",
        "  for letra in cadena:\n",
        "    #Buscamos la posicion que tiene la letra en el ciclo, si la clave es menor a la cadean\n",
        "    #regresa al principio si llega al final\n",
        "    suma = abc.find(letra) + abc.find(clave[i % len(clave)])\n",
        "    modulo = int(suma) % len(abc)\n",
        "    textoCifrar = textoCifrar + str(abc[modulo])\n",
        "    i += 1\n",
        "\n",
        "  return textoCifrar\n",
        "\n",
        "#--------------------------------------------------------------------------------------------\n",
        "def descifrar(cadena,clave):\n",
        "  textoCifrar = ''\n",
        "\n",
        "  i = 0\n",
        "  for letra in cadena:\n",
        "    #Buscamos la posicion que tiene la letra en el ciclo, si la clave es menor a la cadean\n",
        "    #regresa al principio si llega al final\n",
        "    suma = abc.find(letra) - abc.find(clave[i % len(clave)])\n",
        "    modulo = int(suma) % len(abc)\n",
        "    textoCifrar = textoCifrar + str(abc[modulo])\n",
        "    i += 1\n",
        "\n",
        "  return textoCifrar\n",
        "#----------------------------------------------------------------------------------\n",
        "\n",
        "\n",
        "\n",
        "entrada = str(input(f\"\\n\\x1b[32mIngrese una frase -> \\x1b[0m\")).lower()\n",
        "clave = str(input(f\"\\n\\x1b[32mIngrese una clave -> \\x1b[0m\")).lower()\n",
        "#llamando a las funciones\n",
        "fraseCifrada = cifrar(entrada,clave)\n",
        "print(f\"\\n\\x1b[34mLa frase cifrada es -> \\x1b[0m{cifrar(entrada,clave)}\")\n",
        "\n",
        "#pregunta si desea descifrar\n",
        "pregunta = input(f\"\\n\\x1b[33mDesea descifrar? (s/n) -> \\x1b[0m\")\n",
        "if(pregunta == 's'):\n",
        "  claveDescifrar = str(input(f\"\\n\\x1b[32mIngrese la clave para descifrar -> \\x1b[0m\")).lower()\n",
        "  #creamos bucle para repetir hasta que sea igual la clave\n",
        "  if(claveDescifrar != clave):\n",
        "    print(f\"\\n\\x1b[31mClave incorrecta!\\x1b[0m\")\n",
        "  else:\n",
        "    print(f\"\\n\\x1b[34mLa frase descifrada es -> \\x1b[0m{descifrar(fraseCifrada,claveDescifrar)}\")\n",
        "else:\n",
        "  print(f\"\\n\\x1b[34mFin del programa =D \\x1b[0m\")\n"
      ],
      "metadata": {
        "id": "-Wc8Id8N2K2k",
        "colab": {
          "base_uri": "https://localhost:8080/"
        },
        "outputId": "809f5e02-1165-4941-a7ee-a1d747709a06"
      },
      "execution_count": null,
      "outputs": [
        {
          "output_type": "stream",
          "name": "stdout",
          "text": [
            "\n",
            "\u001b[32mIngrese una frase -> \u001b[0mholis\n",
            "\n",
            "\u001b[32mIngrese una clave -> \u001b[0mloap\n",
            "\n",
            "\u001b[34mLa frase cifrada es -> \u001b[0msclxd\n",
            "\n",
            "\u001b[33mDesea descifrar? (s/n) -> \u001b[0ms\n",
            "\n",
            "\u001b[32mIngrese la clave para descifrar -> \u001b[0mloap\n",
            "\n",
            "\u001b[34mLa frase descifrada es -> \u001b[0mholis\n"
          ]
        }
      ]
    },
    {
      "cell_type": "markdown",
      "source": [
        "#Ejercicio 64\n",
        "##Escribir un programa en lenguaje Python que permita codificar y decodificar una frase ingresada por el usuario mediante el método de cifrado de cuaderno de un solo uso; el programa permitirá ingresar la frase y la clave de cifrado mediante el teclado, mostrando la frase y preguntando si desea decodificar, si es así, el programa preguntará la palabra clave y si es correcta, el programa mostrará la frase original, en caso de no colocar la palabra correcta mostrará un mensaje de error; hacer uso de operaciones a lógicas para aumentar la velocidad de codificación"
      ],
      "metadata": {
        "id": "0Jq8k5C-MGLR"
      }
    },
    {
      "cell_type": "code",
      "source": [
        "#creamos funcion para ingresar datos\n",
        "def ingresar():\n",
        "  frase = input(f\"\\n\\x1b[32mIngrese una frase -> \\x1b[0m\")\n",
        "\n",
        "  print(len(frase))\n",
        "\n",
        "  clave = input(f\"\\n\\x1b[33mIngrese una clave -> \\x1b[0m\")\n",
        "\n",
        "  #verifican que sea de la misma longitud ambas palabras\n",
        "  while(len(clave) < len(frase) or len(clave) > len(frase)):\n",
        "    print(f\"\\n\\x1b[31mIngrese una clave válida!\\x1b[0m\")\n",
        "    clave = input(f\"\\n\\x1b[33mIngrese una clave -> \\x1b[0m\")\n",
        "\n",
        "  print(len(clave))\n",
        "\n",
        "  return frase,clave\n",
        "#----------------------------------------------------------------------------------\n",
        "\n",
        "def cifrar(frase,clave):\n",
        "  #pregunta si desea cifrar\n",
        "  pregunta = str(input(f\"\\n\\x1b[33mDesea descifrar? (s/n) -> \\x1b[0m\"))\n",
        "\n",
        "  if(pregunta == 's'):\n",
        "    print(\"Hola!\")\n",
        "  elif(pregunta == 'n'):\n",
        "    print(\"Fin del programa =D\")\n",
        "\n",
        "  while(pregunta != 's' or pregunta != 'n'):\n",
        "    print(f\"\\n\\x1b[31mIngrese una entrada válida!\\x1b[0m\")\n",
        "\n",
        "    pregunta = str(input(f\"\\n\\x1b[34mDesea descifrar? (s/n) -> \\x1b[0m\"))\n",
        "\n",
        "    if(pregunta == 's'):\n",
        "      #comienza el cifrado\n",
        "      print(\"Hola!\")\n",
        "      break\n",
        "\n",
        "    elif(pregunta == 'n'):\n",
        "      print(\"Fin del programa =D\")\n",
        "      break\n",
        "\n",
        "\n",
        "\n",
        "\n",
        "ingresar()\n",
        "cifrar(\"Hola\",\"clave\")"
      ],
      "metadata": {
        "id": "AipdBAyYLvqx",
        "colab": {
          "base_uri": "https://localhost:8080/"
        },
        "outputId": "329ae65c-f16e-4a77-ea6e-4435591d9e72"
      },
      "execution_count": 18,
      "outputs": [
        {
          "output_type": "stream",
          "name": "stdout",
          "text": [
            "\n",
            "\u001b[32mIngrese una frase -> \u001b[0mhols\n",
            "4\n",
            "\n",
            "\u001b[33mIngrese una clave -> \u001b[0mlolaa\n",
            "\n",
            "\u001b[31mIngrese una clave válida!\u001b[0m\n",
            "\n",
            "\u001b[33mIngrese una clave -> \u001b[0mlola\n",
            "4\n",
            "\n",
            "\u001b[33mDesea descifrar? (s/n) -> \u001b[0ms\n",
            "Hola!\n",
            "\n",
            "\u001b[31mIngrese una entrada válida!\u001b[0m\n",
            "\n",
            "\u001b[34mDesea descifrar? (s/n) -> \u001b[0ms\n",
            "Hola!\n"
          ]
        }
      ]
    },
    {
      "cell_type": "code",
      "source": [],
      "metadata": {
        "id": "2RS7BzjeDJnD"
      },
      "execution_count": null,
      "outputs": []
    }
  ]
}