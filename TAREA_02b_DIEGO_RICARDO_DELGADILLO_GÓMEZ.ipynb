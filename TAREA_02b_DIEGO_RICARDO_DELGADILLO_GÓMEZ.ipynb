{
  "cells": [
    {
      "cell_type": "markdown",
      "metadata": {
        "id": "view-in-github",
        "colab_type": "text"
      },
      "source": [
        "<a href=\"https://colab.research.google.com/github/Diego-Delgadillo/Diego-Delgadillo/blob/main/TAREA_02b_DIEGO_RICARDO_DELGADILLO_G%C3%93MEZ.ipynb\" target=\"_parent\"><img src=\"https://colab.research.google.com/assets/colab-badge.svg\" alt=\"Open In Colab\"/></a>"
      ]
    },
    {
      "cell_type": "markdown",
      "metadata": {
        "id": "oCPbKOM4TBce"
      },
      "source": [
        "#TAREA_02b_DIEGO_RICARDO_DELGADILLO_GÓMEZ\n",
        "#**Gracias por sus clases profe, lo queremos :D**"
      ]
    },
    {
      "cell_type": "markdown",
      "metadata": {
        "id": "wzmxby1CTMZn"
      },
      "source": [
        "#Ejercicio 61\n",
        "##Generar un programa de Python que efectué el algoritmo de Chudnovsy para el cálculo rápido de las cifras de pi. Solicitar al usuario un número entero positivo mayor o igual a 1 de cifras a calcular."
      ]
    },
    {
      "cell_type": "code",
      "execution_count": null,
      "metadata": {
        "colab": {
          "base_uri": "https://localhost:8080/"
        },
        "id": "nXKKQ4bwSUp_",
        "outputId": "8595239a-f826-48f6-f7c4-ec9d99e00f0c"
      },
      "outputs": [
        {
          "name": "stdout",
          "output_type": "stream",
          "text": [
            "\n",
            "\u001b[32mIngrese un número entero positivo -> \u001b[0m7\n",
            "\n",
            "\u001b[34mLa aproximación de π es -> \u001b[0m3.1415926535897936\n"
          ]
        }
      ],
      "source": [
        "import math\n",
        "\n",
        "#creamos una funcion para pedir n elementos\n",
        "def ingresoN():\n",
        "  while True:\n",
        "    try:\n",
        "      n = int(input(f\"\\n\\x1b[32mIngrese un número entero positivo -> \\x1b[0m\"))\n",
        "      if(n <= 0): print(f\"\\n\\x1b[31mIngrese una entrada válida!\\x1b[0m\"); continue\n",
        "      break\n",
        "\n",
        "    except ValueError:\n",
        "      print(f\"\\n\\x1b[31mIngrese una entrada válida!\\x1b[0m\")\n",
        "\n",
        "  return n\n",
        "\n",
        "#funcion para aproximacion al número 'pi'\n",
        "def chudnovsy(n):\n",
        "  #declaro variables\n",
        "  aprox = 0\n",
        "  sum = 0\n",
        "\n",
        "  #bucle para sumar\n",
        "  for i in range(n):\n",
        "    sum+=  ((-1)**i * (math.factorial(6*i)) * (13591409 + 545140134*i)) / ((math.factorial(3*i)) * (math.factorial(i)**3) * (640320**(3*i + 3/2)))\n",
        "\n",
        "  #finalmente calculo la aproximacion\n",
        "  aprox = sum*12\n",
        "  aprox = 1/aprox\n",
        "\n",
        "  print(f\"\\n\\x1b[34mLa aproximación de π es -> \\x1b[0m{aprox}\")\n",
        "\n",
        "#llamando a las funciones\n",
        "chudnovsy(ingresoN())"
      ]
    },
    {
      "cell_type": "markdown",
      "metadata": {
        "id": "AZ3fhfGdYyau"
      },
      "source": [
        "#Ejercicio 62\n",
        "##Generar un programa de Python que incluya funciones para restringir el ingreso de datos del usuario; las funciones restringirán el ingreso de números enteros, flotantes en un intervalo [a,b], cadenas de texto con solamente letras, números caracteres especiales o combinaciones de las mismas."
      ]
    },
    {
      "cell_type": "code",
      "execution_count": null,
      "metadata": {
        "colab": {
          "base_uri": "https://localhost:8080/",
          "height": 695
        },
        "id": "ycTYd5WIWJxe",
        "outputId": "0f2e2f52-8627-47b7-b01e-be04e8980877"
      },
      "outputs": [
        {
          "name": "stdout",
          "output_type": "stream",
          "text": [
            "\n",
            "\u001b[32mIngrese un número entero -> \u001b[0m8.6\n",
            "\n",
            "\u001b[31mIngrese una entrada válida!\u001b[0m\n",
            "\n",
            "\u001b[32mIngrese un número entero -> \u001b[0m9\n",
            "\n",
            "\u001b[33mEntrada válida\u001b[0m\n",
            "\n",
            "\u001b[32mIngrese un número decimal (a) -> \u001b[0m5.6\n",
            "\n",
            "\u001b[33mEntrada válida\u001b[0m\n",
            "\n",
            "\u001b[32mIngrese un número decimal (b) -> \u001b[0m3.1\n",
            "\n",
            "\u001b[31mIngrese una entrada válida! (b mayor que a)\u001b[0m\n",
            "\n",
            "\u001b[32mIngrese un número decimal (b) -> \u001b[0m6.9\n",
            "\n",
            "\u001b[33mEntrada válida\u001b[0m\n",
            "\n",
            "\u001b[32mIngrese una cadena de texto -> \u001b[0mhola8)\n",
            "\n",
            "\u001b[31mEntrada no válida!\u001b[0m\n",
            "\n",
            "\u001b[32mIngrese una cadena de texto -> \u001b[0mholis\n",
            "\n",
            "\u001b[33mEntrada válida\u001b[0m\n",
            "\n",
            "\u001b[32mIngrese una cadena de texto con numero y/o caracteres especiales-> \u001b[0mjijia\n",
            "['j', 'i', 'j', 'i', 'a']\n",
            "\n",
            "\u001b[31mEntrada no válida!\u001b[0m\n",
            "\n",
            "\u001b[32mIngrese una cadena de texto con numero y/o caracteres especiales-> \u001b[0m0$1\n",
            "['0', '$', '1']\n",
            "\n",
            "\u001b[33mEntrada válida\u001b[0m\n"
          ]
        },
        {
          "data": {
            "application/vnd.google.colaboratory.intrinsic+json": {
              "type": "string"
            },
            "text/plain": [
              "'0$1'"
            ]
          },
          "execution_count": 20,
          "metadata": {},
          "output_type": "execute_result"
        }
      ],
      "source": [
        "#creamos funciones\n",
        "\n",
        "def enteros():\n",
        "  while True:\n",
        "    try:\n",
        "      a = int(input(f\"\\n\\x1b[32mIngrese un número entero -> \\x1b[0m\"))\n",
        "      break\n",
        "\n",
        "    except ValueError:\n",
        "      print(f\"\\n\\x1b[31mIngrese una entrada válida!\\x1b[0m\")\n",
        "\n",
        "  print(f\"\\n\\x1b[33mEntrada válida\\x1b[0m\")\n",
        "  return a\n",
        "\n",
        "#----------------------------------------------------------------------------\n",
        "def flotantes():\n",
        "  while True:\n",
        "    try:\n",
        "      a = float(input(f\"\\n\\x1b[32mIngrese un número decimal (a) -> \\x1b[0m\"))\n",
        "      if(a <= 0): print(f\"\\n\\x1b[31mIngrese una entrada válida!\\x1b[0m\"); continue\n",
        "      break\n",
        "\n",
        "    except ValueError:\n",
        "      print(f\"\\n\\x1b[31mIngrese una entrada válida!\\x1b[0m\")\n",
        "\n",
        "  print(f\"\\n\\x1b[33mEntrada válida\\x1b[0m\")\n",
        "\n",
        "  while True:\n",
        "    try:\n",
        "      b = float(input(f\"\\n\\x1b[32mIngrese un número decimal (b) -> \\x1b[0m\"))\n",
        "      if(b <= 0 or b < a): print(f\"\\n\\x1b[31mIngrese una entrada válida! (b mayor que a)\\x1b[0m\"); continue\n",
        "      break\n",
        "\n",
        "    except ValueError:\n",
        "      print(f\"\\n\\x1b[31mIngrese una entrada válida!\\x1b[0m\")\n",
        "\n",
        "  print(f\"\\n\\x1b[33mEntrada válida\\x1b[0m\")\n",
        "  return a,b\n",
        "\n",
        "#------------------------------------------------------------------------------\n",
        "def cadenas():\n",
        "  entrada = input(f\"\\n\\x1b[32mIngrese una cadena de texto -> \\x1b[0m\")\n",
        "\n",
        "  #detecta si solamente tiene letras\n",
        "  #entrada.match(r'\\b[]')\n",
        "\n",
        "  if(entrada.isalpha()):\n",
        "    print(f\"\\n\\x1b[33mEntrada válida\\x1b[0m\")\n",
        "    return entrada\n",
        "  else:\n",
        "    print(f\"\\n\\x1b[31mEntrada no válida!\\x1b[0m\")\n",
        "    return cadenas()\n",
        "\n",
        "\n",
        "  print(f\"\\n\\x1b[33mEntrada válida\\x1b[0m\")\n",
        "  return entrada\n",
        "\n",
        "#----------------------------------------------------------------------------------\n",
        "def numcaracter():\n",
        "  entrada = input(f\"\\n\\x1b[32mIngrese una cadena de texto con numero y/o caracteres especiales-> \\x1b[0m\")\n",
        "\n",
        "  #declaro lista con algunos caracteres especiales y numeros muehehe\n",
        "  especiales = [\"@\", \"_\", \"!\", \"#\", \"$\", \"%\", \"^\", \"&\", \"*\", \"(\", \")\", \"<\", \">\", \"?\", \"/\", \"\\\\\", \"|\", \"}\", \"{\", \"~\", \":\", \"0\", \"1\", \"2\", \"3\", \"4\", \"5\", \"6\", \"7\", \"8\", \"9\"]\n",
        "  lista = []\n",
        "\n",
        "  #convierto cada caracter en elemnto de una lista =D\n",
        "  for caracter in entrada:\n",
        "    lista+=[caracter]\n",
        "\n",
        "\n",
        "  print(lista)\n",
        "  #ahora buscamos si esta un caracter especial en lista\n",
        "  #bandera\n",
        "  valido = True\n",
        "\n",
        "  for caracter in lista:\n",
        "    if(caracter not in especiales):\n",
        "      print(f\"\\n\\x1b[31mEntrada no válida!\\x1b[0m\")\n",
        "      valido = False\n",
        "      break\n",
        "\n",
        "\n",
        "  if valido:\n",
        "    print(f\"\\n\\x1b[33mEntrada válida\\x1b[0m\")\n",
        "    return entrada\n",
        "  else:\n",
        "    return numcaracter()\n",
        "\n",
        "#------------------------------------------------------\n",
        "#llamamos a las funciones\n",
        "enteros()\n",
        "flotantes()\n",
        "cadenas()\n",
        "numcaracter()"
      ]
    },
    {
      "cell_type": "markdown",
      "metadata": {
        "id": "9__Wuz_7yCJ7"
      },
      "source": [
        "#Ejercicio 63\n",
        "##Escribir un programa en lenguaje Python que permita codificar y decodificar una frase ingresada por el usuario mediante el método de cifrado Vigenère; el programa permitirá ingresar la frase y la palabra de cifrado mediante el teclado, mostrando la frase y preguntando si desea decodificar, si es así, el programa preguntará la palabra clave y si es correcta, el programa mostrará la frase original, en caso de no colocar la palabra correcta mostrará un mensaje de error"
      ]
    },
    {
      "cell_type": "code",
      "execution_count": null,
      "metadata": {
        "colab": {
          "base_uri": "https://localhost:8080/"
        },
        "id": "-Wc8Id8N2K2k",
        "outputId": "809f5e02-1165-4941-a7ee-a1d747709a06"
      },
      "outputs": [
        {
          "name": "stdout",
          "output_type": "stream",
          "text": [
            "\n",
            "\u001b[32mIngrese una frase -> \u001b[0mholis\n",
            "\n",
            "\u001b[32mIngrese una clave -> \u001b[0mloap\n",
            "\n",
            "\u001b[34mLa frase cifrada es -> \u001b[0msclxd\n",
            "\n",
            "\u001b[33mDesea descifrar? (s/n) -> \u001b[0ms\n",
            "\n",
            "\u001b[32mIngrese la clave para descifrar -> \u001b[0mloap\n",
            "\n",
            "\u001b[34mLa frase descifrada es -> \u001b[0mholis\n"
          ]
        }
      ],
      "source": [
        "abc = 'abcdefghijklmnopqrstuvwxyz'\n",
        "\n",
        "#Declaramos funciones para cifrar y descifrar\n",
        "#---------------------------------------------------------------------------\n",
        "def cifrar(cadena,clave):\n",
        "  textoCifrar = ''\n",
        "\n",
        "  i = 0\n",
        "  for letra in cadena:\n",
        "    #Buscamos la posicion que tiene la letra en el ciclo, si la clave es menor a la cadean\n",
        "    #regresa al principio si llega al final\n",
        "    suma = abc.find(letra) + abc.find(clave[i % len(clave)])\n",
        "    modulo = int(suma) % len(abc)\n",
        "    textoCifrar = textoCifrar + str(abc[modulo])\n",
        "    i += 1\n",
        "\n",
        "  return textoCifrar\n",
        "\n",
        "#--------------------------------------------------------------------------------------------\n",
        "def descifrar(cadena,clave):\n",
        "  textoCifrar = ''\n",
        "\n",
        "  i = 0\n",
        "  for letra in cadena:\n",
        "    #Buscamos la posicion que tiene la letra en el ciclo, si la clave es menor a la cadean\n",
        "    #regresa al principio si llega al final\n",
        "    suma = abc.find(letra) - abc.find(clave[i % len(clave)])\n",
        "    modulo = int(suma) % len(abc)\n",
        "    textoCifrar = textoCifrar + str(abc[modulo])\n",
        "    i += 1\n",
        "\n",
        "  return textoCifrar\n",
        "#----------------------------------------------------------------------------------\n",
        "\n",
        "\n",
        "\n",
        "entrada = str(input(f\"\\n\\x1b[32mIngrese una frase -> \\x1b[0m\")).lower()\n",
        "clave = str(input(f\"\\n\\x1b[32mIngrese una clave -> \\x1b[0m\")).lower()\n",
        "#llamando a las funciones\n",
        "fraseCifrada = cifrar(entrada,clave)\n",
        "print(f\"\\n\\x1b[34mLa frase cifrada es -> \\x1b[0m{cifrar(entrada,clave)}\")\n",
        "\n",
        "#pregunta si desea descifrar\n",
        "pregunta = input(f\"\\n\\x1b[33mDesea descifrar? (s/n) -> \\x1b[0m\")\n",
        "if(pregunta == 's'):\n",
        "  claveDescifrar = str(input(f\"\\n\\x1b[32mIngrese la clave para descifrar -> \\x1b[0m\")).lower()\n",
        "  #creamos bucle para repetir hasta que sea igual la clave\n",
        "  if(claveDescifrar != clave):\n",
        "    print(f\"\\n\\x1b[31mClave incorrecta!\\x1b[0m\")\n",
        "  else:\n",
        "    print(f\"\\n\\x1b[34mLa frase descifrada es -> \\x1b[0m{descifrar(fraseCifrada,claveDescifrar)}\")\n",
        "else:\n",
        "  print(f\"\\n\\x1b[34mFin del programa =D \\x1b[0m\")\n"
      ]
    },
    {
      "cell_type": "markdown",
      "metadata": {
        "id": "0Jq8k5C-MGLR"
      },
      "source": [
        "#Ejercicio 64\n",
        "##Escribir un programa en lenguaje Python que permita codificar y decodificar una frase ingresada por el usuario mediante el método de cifrado de cuaderno de un solo uso; el programa permitirá ingresar la frase y la clave de cifrado mediante el teclado, mostrando la frase y preguntando si desea decodificar, si es así, el programa preguntará la palabra clave y si es correcta, el programa mostrará la frase original, en caso de no colocar la palabra correcta mostrará un mensaje de error; hacer uso de operaciones a lógicas para aumentar la velocidad de codificación"
      ]
    },
    {
      "cell_type": "code",
      "execution_count": null,
      "metadata": {
        "colab": {
          "base_uri": "https://localhost:8080/"
        },
        "id": "AipdBAyYLvqx",
        "outputId": "0a4c04f3-003f-4108-d392-0c0c50285291"
      },
      "outputs": [
        {
          "name": "stdout",
          "output_type": "stream",
          "text": [
            "\n",
            "\u001b[32mIngrese una frase -> \u001b[0mhello\n",
            "5\n",
            "\n",
            "\u001b[33mIngrese una clave -> \u001b[0muBV,;\n",
            "5\n",
            "['h', 'e', 'l', 'l', 'o'] ['u', 'B', 'V', ',', ';']\n",
            "\n",
            "\u001b[34mLa frase cifrada es -> \u001b[0m\u001d':@T\n",
            "\n",
            "\u001b[34mDesea descifrar? (s/n) -> \u001b[0mS\n",
            "\n",
            "\u001b[31mIngrese una entrada válida!\u001b[0m\n",
            "\n",
            "\u001b[34mDesea descifrar? (s/n) -> \u001b[0ms\n",
            "\n",
            "\u001b[32mIngrese la clave para descifrar -> \u001b[0muBV,;\n",
            "\n",
            "\u001b[34mLa frase descifrada es -> \u001b[0mhello\n"
          ]
        }
      ],
      "source": [
        "#creamos funcion para ingresar datos\n",
        "def ingresar():\n",
        "  frase = input(f\"\\n\\x1b[32mIngrese una frase -> \\x1b[0m\")\n",
        "\n",
        "  print(len(frase))\n",
        "\n",
        "  clave = input(f\"\\n\\x1b[33mIngrese una clave -> \\x1b[0m\")\n",
        "\n",
        "  #verifican que sea de la misma longitud ambas palabras\n",
        "  while(len(clave) < len(frase) or len(clave) > len(frase)):\n",
        "    print(f\"\\n\\x1b[31mIngrese una clave válida!\\x1b[0m\")\n",
        "    clave = input(f\"\\n\\x1b[33mIngrese una clave -> \\x1b[0m\")\n",
        "\n",
        "  print(len(clave))\n",
        "\n",
        "  return frase,clave\n",
        "#----------------------------------------------------------------------------------\n",
        "\n",
        "def cifrar(frase,clave):\n",
        "  #ciframos, separamos elementos de frase y clave en listas\n",
        "  listaFrase = []; listaClave = []; fraseCifrada = []\n",
        "\n",
        "  for letra in frase:\n",
        "      listaFrase+=[letra]\n",
        "\n",
        "  for letra in clave:\n",
        "      listaClave+=[letra]\n",
        "\n",
        "  #declaramos tamaño de la frase a cifrar\n",
        "  fraseCifrada = [0]*len(listaFrase)\n",
        "\n",
        "  print(f\"{listaFrase} {listaClave}\")\n",
        "\n",
        "  #ciframos texto\n",
        "  for i in range(len(listaFrase)):\n",
        "    #aqui utiliza la operacion binaria 'XOR' para obtener el nuevo caracter cifrado\n",
        "    #pasando de caracter a codigo ASCCI con la func. 'ord()'\n",
        "    fraseCifrada[i] =  ord(listaFrase[i]) ^ ord(listaClave[i])\n",
        "    fraseCifrada[i] = chr(fraseCifrada[i])\n",
        "\n",
        "  #convierto de lista a string\n",
        "  fraseCifrada = ''.join(fraseCifrada)\n",
        "  print(f\"\\n\\x1b[34mLa frase cifrada es -> \\x1b[0m{fraseCifrada}\")\n",
        "\n",
        "  #pregunta si desea descifrar\n",
        "  pregunta = '_'\n",
        "\n",
        "  while(pregunta != 's' or pregunta != 'n'):\n",
        "    pregunta = str(input(f\"\\n\\x1b[34mDesea descifrar? (s/n) -> \\x1b[0m\"))\n",
        "\n",
        "    if(pregunta == 's'):\n",
        "\n",
        "      #comprueba si la clave ingresada es la misma\n",
        "      claveDescifrar = '_'\n",
        "      while(claveDescifrar != clave):\n",
        "        claveDescifrar = str(input(f\"\\n\\x1b[32mIngrese la clave para descifrar -> \\x1b[0m\"))\n",
        "\n",
        "        if(claveDescifrar == clave):\n",
        "          #comienza el descifrado\n",
        "\n",
        "          #realizando el procesoInverso\n",
        "          fraseDescifrada = [0]*len(listaFrase)\n",
        "          for i in range(len(listaFrase)):\n",
        "            fraseDescifrada[i] =  ord(fraseCifrada[i]) ^ ord(claveDescifrar[i])\n",
        "            fraseDescifrada[i] = chr(fraseDescifrada[i])\n",
        "\n",
        "          #convierto de lista a string\n",
        "          fraseDescifrada = ''.join(fraseDescifrada)\n",
        "          print(f\"\\n\\x1b[34mLa frase descifrada es -> \\x1b[0m{fraseDescifrada}\")\n",
        "\n",
        "          #termina bucle\n",
        "          break\n",
        "        else:\n",
        "          print(f\"\\n\\x1b[31mIngrese la calve correcta!\\x1b[0m\")\n",
        "      #termina bucle\n",
        "      break\n",
        "\n",
        "    #sale del script\n",
        "    elif(pregunta == 'n'):\n",
        "      print(\"Fin del programa =D\")\n",
        "      break\n",
        "\n",
        "    print(f\"\\n\\x1b[31mIngrese una entrada válida!\\x1b[0m\")\n",
        "\n",
        "#llamando a las funciones\n",
        "frase, clave = ingresar()\n",
        "cifrar(frase,clave)"
      ]
    },
    {
      "cell_type": "markdown",
      "metadata": {
        "id": "8fQ0nI4_0_83"
      },
      "source": [
        "#Ejercicio 65\n",
        "##Desarrolle una función en lenguaje Python llamada “palabras_inversas” que reciba una cadena de texto como entrada y regrese una cadena de texto con las palabras invertidas. Por ejemplo, si se ingresa “Hola a todos”, la función regresará “todos a Hola”"
      ]
    },
    {
      "cell_type": "code",
      "execution_count": null,
      "metadata": {
        "colab": {
          "base_uri": "https://localhost:8080/"
        },
        "id": "y9zoXpf21EHj",
        "outputId": "634a849c-4e50-4c9f-bbce-354b07d0f628"
      },
      "outputs": [
        {
          "output_type": "stream",
          "name": "stdout",
          "text": [
            "\u001b[33mIngresa una cadena de texto -> \u001b[0mhola a todos\n",
            "\n",
            "\u001b[34mLa cadena invertida es -> \u001b[0m todos a hola\n"
          ]
        }
      ],
      "source": [
        "#creamos funcion para almacenar entrada\n",
        "def ingresar():\n",
        "  entrada = str(input(f\"\\x1b[33mIngresa una cadena de texto -> \\x1b[0m\"))\n",
        "  return entrada\n",
        "#------------------------------------------------------------------------------------\n",
        "\n",
        "#funciona para invertir\n",
        "def palabras_inversas(cadena):\n",
        "\n",
        "  palabras = cadena.split() #separa en palabras la cadena\n",
        "  palabras.reverse() #invierte orden la lista \"palabras\"\n",
        "  cadena = ' '.join(palabras) #convertimos esa lista a un string\n",
        "  print(f\"\\n\\x1b[34mLa cadena invertida es -> \\x1b[0m {cadena}\") #imprime :D\n",
        "\n",
        "\n",
        "#llamando a las funciones\n",
        "palabras_inversas(ingresar())"
      ]
    },
    {
      "cell_type": "markdown",
      "source": [
        "#Ejercicio 66\n",
        "##Desarrolle una función en lenguaje Python llamada “potenciaA2” que tome un entero como entrada y regrese un booleano True si es una potencia de 2 y Falso en otro caso. Evite utilizar ciclos o recursión de funciones en la solución"
      ],
      "metadata": {
        "id": "47l28puMhKJs"
      }
    },
    {
      "cell_type": "code",
      "execution_count": null,
      "metadata": {
        "id": "pJW5LRjY2LPB",
        "colab": {
          "base_uri": "https://localhost:8080/"
        },
        "outputId": "61db16db-b9d2-42f5-a72e-3b929c1c24de"
      },
      "outputs": [
        {
          "output_type": "stream",
          "name": "stdout",
          "text": [
            "\n",
            "\u001b[32mIngrese un número entero -> \u001b[0m8\n",
            "\n",
            "\u001b[33mEl número 8 es una potencia de 2 :D\u001b[0m\n"
          ]
        },
        {
          "output_type": "execute_result",
          "data": {
            "text/plain": [
              "True"
            ]
          },
          "metadata": {},
          "execution_count": 23
        }
      ],
      "source": [
        "#Creamos funcion para ingresar enteros\n",
        "def ingreso():\n",
        "  while True:\n",
        "    try:\n",
        "      n = int(input(f\"\\n\\x1b[32mIngrese un número entero -> \\x1b[0m\"))\n",
        "      if(n <= 0): print(f\"\\n\\x1b[31mIngrese una entrada válida!\\x1b\");continue\n",
        "      break\n",
        "    except:\n",
        "      print(f\"\\n\\x1b[31mIngrese una entrada válida!\\x1b[0m\")\n",
        "  return n\n",
        "\n",
        "#------------------------------------------------------------------------\n",
        "#creamos funcion para verificar si es potencia de '2'\n",
        "def potenciaA2(n):\n",
        "  #utilizando operaciones a nivel de bits\n",
        "  if(n & (n-1) == 0):\n",
        "    print(f\"\\n\\x1b[33mEl número {n} es una potencia de 2 :D\\x1b[0m\")\n",
        "    return True\n",
        "  else:\n",
        "    print(f\"\\n\\x1b[31mEl número {n} no es una potencia de 2 T_T\\x1b[0m\")\n",
        "    return False\n",
        "\n",
        "#llamando a las funciones\n",
        "potenciaA2(ingreso())\n"
      ]
    },
    {
      "cell_type": "markdown",
      "source": [
        "#Ejercicio 67\n",
        "##Escribir una función llamada “encontrarPalindromo” que tome una lista de palabras como entrada y regrese una nueva lista la cual contenga solamente las palabras que son palíndromos. Por ejemplo, [lista, roma, narran, sagas, rapar, elíseo, nieve], regresará solamente [narran, sagas, rapar]"
      ],
      "metadata": {
        "id": "TKIbEj6YqAm7"
      }
    },
    {
      "cell_type": "code",
      "source": [
        "#creamos funcion para ingresar palabras\n",
        "def ingresoPalabras():\n",
        "  #declaramos la lista\n",
        "  lista = []\n",
        "  #pregunta cuantos elementos desea ingresar\n",
        "  while True:\n",
        "    try:\n",
        "      n = int(input(f\"\\n\\x1b[32mIngrese la cantidad de palabras a almacenar -> \\x1b[0m\"))\n",
        "      if(n <= 0): print(f\"\\n\\x1b[33mIngrese una entrada válida!\\x1b\");continue\n",
        "      break\n",
        "    except:\n",
        "      print(f\"\\n\\x1b[31mIngrese una entrada válida!\\x1b[0m\")\n",
        "\n",
        "  for i in range(n):\n",
        "    lista+=[str(input(f\"\\n\\x1b[33mIngrese una palabra -> \\x1b[0m\"))]\n",
        "  return lista\n",
        "\n",
        "#-----------------------------------------------------------------------------------\n",
        "#creamos funcion\n",
        "def encontrarPalindromo(lista):\n",
        " #declaramos lista de palindromos\n",
        " palindromos = []\n",
        "\n",
        " #encontramos palindromos\n",
        " for i in range(len(lista)):\n",
        "   if(str(lista[i]) == str(lista[i][::-1])):\n",
        "    palindromos+=[lista[i]]\n",
        "\n",
        "\n",
        " print(f\"\\n\\x1b[34mLa lista de palindromos es -> \\x1b[0m\")\n",
        " return palindromos\n",
        "\n",
        "#llamando a las funciones\n",
        "print(f\"{encontrarPalindromo(ingresoPalabras())}\")\n"
      ],
      "metadata": {
        "id": "BdhZeSTtpr5w",
        "colab": {
          "base_uri": "https://localhost:8080/"
        },
        "outputId": "62078a11-d280-4a3d-9227-416613d5f561"
      },
      "execution_count": null,
      "outputs": [
        {
          "output_type": "stream",
          "name": "stdout",
          "text": [
            "\n",
            "\u001b[32mIngrese la cantidad de palabras a almacenar -> \u001b[0m5\n",
            "\n",
            "\u001b[33mIngrese una palabra -> \u001b[0mniño\n",
            "\n",
            "\u001b[33mIngrese una palabra -> \u001b[0mhola\n",
            "\n",
            "\u001b[33mIngrese una palabra -> \u001b[0mrapar\n",
            "\n",
            "\u001b[33mIngrese una palabra -> \u001b[0msagas\n",
            "\n",
            "\u001b[33mIngrese una palabra -> \u001b[0mlol\n",
            "\n",
            "\u001b[34mLa lista de palindromos es -> \u001b[0m\n",
            "['rapar', 'sagas', 'lol']\n"
          ]
        }
      ]
    },
    {
      "cell_type": "markdown",
      "source": [
        "#Ejercicio 68\n",
        "##Resolver el problema de que se impriman los N números de la Serie de Padovan, donde N es un número entero positivo que el usuario debe ingresar para obtener los valores de la serie, utilizando el paradigma de Programación Funcional (no debe utilizarse ningún otro paradigma)"
      ],
      "metadata": {
        "id": "pAsH9Yvr2sH0"
      }
    },
    {
      "cell_type": "code",
      "source": [
        "#creamos función para ingresar el parámetro 'N'\n",
        "def ingreso():\n",
        "  while True:\n",
        "    try:\n",
        "      n = int(input(f\"\\n\\x1b[32mIngrese un número entero positivo -> \\x1b[0m\"))\n",
        "      if(n <= 0): print(f\"\\n\\x1b[31mIngrese una entrada válida!\\x1b\");continue\n",
        "      break\n",
        "    except:\n",
        "      print(f\"\\n\\x1b[31mIngrese una entrada válida!\\x1b[0m\")\n",
        "\n",
        "  return n\n",
        "\n",
        "#creamos funcion para la serie\n",
        "def padovan(n):\n",
        "  if n == 0 or n == 1 or n == 2:\n",
        "    return 1\n",
        "  else:\n",
        "    return (padovan(n-2) + padovan(n-3))\n",
        "\n",
        "#llamando a las funciones\n",
        "print(f\"\\n\\x1b[34mLa serie de Padovan es -> \\n\\x1b[0m\")\n",
        "for i in range(ingreso()):\n",
        "  print(padovan(i),end = ', ')"
      ],
      "metadata": {
        "id": "KCEs-drPswIL",
        "colab": {
          "base_uri": "https://localhost:8080/"
        },
        "outputId": "03d6be75-14cf-48a5-c4fe-ce94fe76c404"
      },
      "execution_count": 8,
      "outputs": [
        {
          "output_type": "stream",
          "name": "stdout",
          "text": [
            "\n",
            "\u001b[34mLa serie de Padovan es -> \n",
            "\u001b[0m\n",
            "\n",
            "\u001b[32mIngrese un número entero positivo -> \u001b[0m12\n",
            "1, 1, 1, 2, 2, 3, 4, 5, 7, 9, 12, 16, "
          ]
        }
      ]
    },
    {
      "cell_type": "code",
      "source": [],
      "metadata": {
        "id": "1NMfL6go8Gl_"
      },
      "execution_count": null,
      "outputs": []
    }
  ],
  "metadata": {
    "colab": {
      "provenance": [],
      "authorship_tag": "ABX9TyMpObcdzkrdQ11D0zF7LlA9",
      "include_colab_link": true
    },
    "kernelspec": {
      "display_name": "Python 3",
      "name": "python3"
    },
    "language_info": {
      "name": "python"
    }
  },
  "nbformat": 4,
  "nbformat_minor": 0
}